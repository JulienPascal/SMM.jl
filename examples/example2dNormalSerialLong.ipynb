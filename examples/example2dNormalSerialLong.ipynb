{
 "cells": [
  {
   "cell_type": "markdown",
   "metadata": {},
   "source": [
    "# Example Notebook\n",
    "\n",
    "This notebook describes an easy 2d problem, serially estimated.\n",
    "\n",
    "\n",
    "The difference with the notebook `example2dNormalSerial.ipynb` is that I make the evaluation of simulated moments longer by increasing the number of draws from the multivariate normal."
   ]
  },
  {
   "cell_type": "code",
   "execution_count": 1,
   "metadata": {
    "scrolled": true
   },
   "outputs": [],
   "source": [
    "using SMM\n",
    "using Distributions\n",
    "using DataStructures"
   ]
  },
  {
   "cell_type": "markdown",
   "metadata": {},
   "source": [
    "## Step 1: Initializing a SMMProblem"
   ]
  },
  {
   "cell_type": "markdown",
   "metadata": {},
   "source": [
    "Let's initialize a SMMProblem. Options are to be passsed via `SMMOptions()`. Here we specify the we want to run the optimizer for 1000 iterations and that we want to save the optimization every 1000 steps (that is, only once; when the estimation is complete)."
   ]
  },
  {
   "cell_type": "code",
   "execution_count": 2,
   "metadata": {
    "scrolled": false
   },
   "outputs": [],
   "source": [
    "myProblem = SMMProblem(options = SMMOptions(maxFuncEvals=1000, saveSteps = 1000, bbOptimizer = :dxnes));"
   ]
  },
  {
   "cell_type": "markdown",
   "metadata": {},
   "source": [
    "## Options\n",
    "\n",
    "[TOBECOMPLETED]"
   ]
  },
  {
   "cell_type": "markdown",
   "metadata": {},
   "source": [
    "## Step 2: Set emprical moments"
   ]
  },
  {
   "cell_type": "markdown",
   "metadata": {},
   "source": [
    "Empirical moments can be loaded from a .csv file using the function `read_empirical_moments(path::String)`.\n",
    "The .csv file should should contain at least three columns:\n",
    "* `name`: empirical moments' names\n",
    "* `value`: empirical moments' values\n",
    "* `weights`: weight associated with each parameter value\n",
    "\n",
    "If, for each moment, `weight` is set to be equal to `value`, the objective funtion to be minimized will be \n",
    "the mean percentage deviation of simulated moments from their empirical counterparts. "
   ]
  },
  {
   "cell_type": "code",
   "execution_count": 3,
   "metadata": {
    "scrolled": true
   },
   "outputs": [
    {
     "name": "stderr",
     "output_type": "stream",
     "text": [
      "\u001b[1m\u001b[36mINFO: \u001b[39m\u001b[22m\u001b[36m2 moment(s) found.\n",
      "\u001b[39m"
     ]
    },
    {
     "data": {
      "text/plain": [
       "DataStructures.OrderedDict{String,Array{Float64,1}} with 2 entries:\n",
       "  \"mean1\" => [1.0, 1.0]\n",
       "  \"mean2\" => [-1.0, -1.0]"
      ]
     },
     "execution_count": 3,
     "metadata": {},
     "output_type": "execute_result"
    }
   ],
   "source": [
    "dictEmpiricalMoments = read_empirical_moments(joinpath(Pkg.dir(\"SMM\"), \"test/empiricalMomentsTest2d.csv\"))"
   ]
  },
  {
   "cell_type": "markdown",
   "metadata": {},
   "source": [
    "Alternatively, one may construct \"manually\" empirically directly from Julia:"
   ]
  },
  {
   "cell_type": "code",
   "execution_count": 4,
   "metadata": {
    "scrolled": true
   },
   "outputs": [
    {
     "data": {
      "text/plain": [
       "2-element Array{Float64,1}:\n",
       " -1.0\n",
       " -1.0"
      ]
     },
     "execution_count": 4,
     "metadata": {},
     "output_type": "execute_result"
    }
   ],
   "source": [
    "dictEmpiricalMoments = OrderedDict{String,Array{Float64,1}}()\n",
    "dictEmpiricalMoments[\"mean1\"] = [1.0; 1.0]\n",
    "dictEmpiricalMoments[\"mean2\"] = [-1.0; -1.0]"
   ]
  },
  {
   "cell_type": "markdown",
   "metadata": {},
   "source": [
    "One has to let SMM.jl know that we are going to use the empirical moments stored in `dictEmpiricalMoments`.\n",
    "Use the function `set_empirical_moments!()` for that purpose:"
   ]
  },
  {
   "cell_type": "code",
   "execution_count": 5,
   "metadata": {
    "scrolled": true
   },
   "outputs": [
    {
     "data": {
      "text/plain": [
       "DataStructures.OrderedDict{String,Array{Float64,1}} with 2 entries:\n",
       "  \"mean1\" => [1.0, 1.0]\n",
       "  \"mean2\" => [-1.0, -1.0]"
      ]
     },
     "execution_count": 5,
     "metadata": {},
     "output_type": "execute_result"
    }
   ],
   "source": [
    "set_empirical_moments!(myProblem, dictEmpiricalMoments)"
   ]
  },
  {
   "cell_type": "markdown",
   "metadata": {},
   "source": [
    "## Step 3. Set priors"
   ]
  },
  {
   "cell_type": "markdown",
   "metadata": {},
   "source": [
    "Priors for parameter values can be loaded from a .csv file using the function `read_priors(path::String)`. The .csv file should contain at least four columns:\n",
    "* `name` : name for each parameter\n",
    "* `value` : initial guess\n",
    "* `lower_bound` : lower bound for this parameter\n",
    "* `upper_bound`: upper bound for this parameter"
   ]
  },
  {
   "cell_type": "code",
   "execution_count": 6,
   "metadata": {
    "scrolled": true
   },
   "outputs": [
    {
     "name": "stderr",
     "output_type": "stream",
     "text": [
      "\u001b[1m\u001b[36mINFO: \u001b[39m\u001b[22m\u001b[36m2 prior(s) values found\n",
      "\u001b[39m"
     ]
    },
    {
     "data": {
      "text/plain": [
       "DataStructures.OrderedDict{String,Array{Float64,1}} with 2 entries:\n",
       "  \"mu1\" => [0.5, -5.0, 5.0]\n",
       "  \"mu2\" => [0.1, -5.0, 5.0]"
      ]
     },
     "execution_count": 6,
     "metadata": {},
     "output_type": "execute_result"
    }
   ],
   "source": [
    "read_priors(joinpath(Pkg.dir(\"SMM\"), \"test/priorsTest2d.csv\"))"
   ]
  },
  {
   "cell_type": "markdown",
   "metadata": {},
   "source": [
    "It is also possible to specify priors manually:"
   ]
  },
  {
   "cell_type": "code",
   "execution_count": 7,
   "metadata": {
    "scrolled": true
   },
   "outputs": [
    {
     "data": {
      "text/plain": [
       "3-element Array{Float64,1}:\n",
       "  0.0\n",
       " -5.0\n",
       "  5.0"
      ]
     },
     "execution_count": 7,
     "metadata": {},
     "output_type": "execute_result"
    }
   ],
   "source": [
    "dictPriors = OrderedDict{String,Array{Float64,1}}()\n",
    "dictPriors[\"mu1\"] = [0., -5.0, 5.0]\n",
    "dictPriors[\"mu2\"] = [0., -5.0, 5.0]"
   ]
  },
  {
   "cell_type": "markdown",
   "metadata": {},
   "source": [
    "One has to attach priors values the `SMMProblem` we are going to use.\n",
    "This is achieved using the function  `set_priors!()`"
   ]
  },
  {
   "cell_type": "code",
   "execution_count": 8,
   "metadata": {
    "scrolled": true
   },
   "outputs": [
    {
     "data": {
      "text/plain": [
       "DataStructures.OrderedDict{String,Array{Float64,1}} with 2 entries:\n",
       "  \"mu1\" => [0.0, -5.0, 5.0]\n",
       "  \"mu2\" => [0.0, -5.0, 5.0]"
      ]
     },
     "execution_count": 8,
     "metadata": {},
     "output_type": "execute_result"
    }
   ],
   "source": [
    "set_priors!(myProblem, dictPriors)"
   ]
  },
  {
   "cell_type": "markdown",
   "metadata": {},
   "source": [
    "## Step 3: Specifying the function that generate simulated moments using parameter values\n",
    "\n",
    "This function has two constraints:\n",
    "* it should take as an argument a vector (the vector of parameters)\n",
    "* it should return an OrderedDict containing the same moments as the ones contained in the OrderedDict \n",
    "containing empirical moments (`dictEmpiricalMoments`)\n",
    "\n",
    "In this example, we simulate draws from a mutlivariate normal with unit variance:"
   ]
  },
  {
   "cell_type": "code",
   "execution_count": 9,
   "metadata": {},
   "outputs": [
    {
     "data": {
      "text/plain": [
       "functionTest2d (generic function with 1 method)"
      ]
     },
     "execution_count": 9,
     "metadata": {},
     "output_type": "execute_result"
    }
   ],
   "source": [
    "function functionTest2d(x)\n",
    "\n",
    "    d = MvNormal([x[1]; x[2]], eye(2))\n",
    "    output = OrderedDict{String,Float64}()\n",
    "\n",
    "    draws = rand(d, 10000000)\n",
    "    output[\"mean1\"] = mean(draws[1,:])\n",
    "    output[\"mean2\"] = mean(draws[2,:])\n",
    "\n",
    "    return output\n",
    "end"
   ]
  },
  {
   "cell_type": "markdown",
   "metadata": {},
   "source": [
    "Let's attach the function `functionTest2d(x)` to our SMMProblem using the function `set_simulate_empirical_moments!()`"
   ]
  },
  {
   "cell_type": "code",
   "execution_count": 10,
   "metadata": {},
   "outputs": [
    {
     "data": {
      "text/plain": [
       "functionTest2d (generic function with 1 method)"
      ]
     },
     "execution_count": 10,
     "metadata": {},
     "output_type": "execute_result"
    }
   ],
   "source": [
    "set_simulate_empirical_moments!(myProblem, functionTest2d)"
   ]
  },
  {
   "cell_type": "markdown",
   "metadata": {},
   "source": [
    "## Step 4. Constructing the objective function"
   ]
  },
  {
   "cell_type": "markdown",
   "metadata": {},
   "source": [
    "Having completed steps 1 - 3, it is now time to build the function that the solver will be \n",
    "minimizing. This is achieved with the function `construct_objective_function!`"
   ]
  },
  {
   "cell_type": "code",
   "execution_count": 11,
   "metadata": {},
   "outputs": [
    {
     "data": {
      "text/plain": [
       "(::objective_function_percent) (generic function with 1 method)"
      ]
     },
     "execution_count": 11,
     "metadata": {},
     "output_type": "execute_result"
    }
   ],
   "source": [
    "# Construct the objective function using: \n",
    "#* the function: parameter -> simulated moments\n",
    "#* emprical moments values\n",
    "#* emprical moments weights\n",
    "    \n",
    "construct_objective_function!(myProblem)"
   ]
  },
  {
   "cell_type": "markdown",
   "metadata": {},
   "source": [
    "## Step 5. Running the optimization"
   ]
  },
  {
   "cell_type": "markdown",
   "metadata": {},
   "source": [
    "It is now time to call the minimization algorithm using the function `smmoptimize!()`.\n",
    "The optimization is done by `BlackBoxOptim.jl`."
   ]
  },
  {
   "cell_type": "code",
   "execution_count": 12,
   "metadata": {},
   "outputs": [
    {
     "name": "stderr",
     "output_type": "stream",
     "text": [
      "\u001b[1m\u001b[36mINFO: \u001b[39m\u001b[22m\u001b[36m1 worker(s) detected\n",
      "\u001b[39m\u001b[1m\u001b[36mINFO: \u001b[39m\u001b[22m\u001b[36mStarting optimization in serial\n",
      "\u001b[39m"
     ]
    },
    {
     "name": "stdout",
     "output_type": "stream",
     "text": [
      "-------------------------------------\n",
      "Batch 1.0 / 1.0\n",
      "------------------------------------- \n",
      "\n",
      "Starting optimization with optimizer BlackBoxOptim.DXNESOpt{Float64,BlackBoxOptim.RandomBound{BlackBoxOptim.RangePerDimSearchSpace}}\n",
      "0.00 secs, 0 evals, 0 steps\n",
      "σ=1.0 η[x]=1.0 η[σ]=0.0 η[B]=0.0 |tr(ln_B)|=0.0 |path|=0.0 speed=0.0\n",
      "2.32 secs, 4 evals, 1 steps, fitness=0.842341815\n",
      "σ=1.1288593141032581 η[x]=1.0 η[σ]=0.75 η[B]=0.03571428571428571 |tr(ln_B)|=0.0 |path|=1.4595093067550045 speed=0.8035186962358655\n",
      "4.61 secs, 8 evals, 2 steps, fitness=0.088538295\n",
      "σ=1.116510262182695 η[x]=1.0 η[σ]=1.0 η[B]=0.07142857142857142 |tr(ln_B)|=0.0 |path|=1.8376049833955457 speed=1.011675604684838\n",
      "6.88 secs, 12 evals, 3 steps, fitness=0.087513994\n",
      "σ=1.0597912733548585 η[x]=1.0 η[σ]=0.75 η[B]=0.03571428571428571 |tr(ln_B)|=0.0 |path|=1.7662893184086814 speed=0.972413456861441\n",
      "9.15 secs, 16 evals, 4 steps, fitness=0.087513994\n",
      "σ=0.8187083206618726 η[x]=1.0 η[σ]=0.75 η[B]=0.03571428571428571 |tr(ln_B)|=1.734723475976807e-18 |path|=1.0859289079983594 speed=0.5978476302420378\n",
      "11.41 secs, 20 evals, 5 steps, fitness=0.087513994\n",
      "σ=0.7034236889243277 η[x]=1.0 η[σ]=0.75 η[B]=0.03571428571428571 |tr(ln_B)|=3.469446951953614e-18 |path|=1.3556789016678203 speed=0.7463558735397985\n",
      "13.69 secs, 24 evals, 6 steps, fitness=0.062046267\n",
      "σ=0.7168134921140102 η[x]=1.0 η[σ]=0.75 η[B]=0.03571428571428571 |tr(ln_B)|=3.469446951953614e-18 |path|=0.3417821994977576 speed=0.18816487573324137\n",
      "15.95 secs, 28 evals, 7 steps, fitness=0.062046267\n",
      "σ=0.6305338370427245 η[x]=1.0 η[σ]=0.75 η[B]=0.03571428571428571 |tr(ln_B)|=3.469446951953614e-18 |path|=0.6879955308544572 speed=0.37876926814353806\n",
      "18.22 secs, 32 evals, 8 steps, fitness=0.062046267\n",
      "σ=0.5506939871751514 η[x]=1.0 η[σ]=0.75 η[B]=0.03571428571428571 |tr(ln_B)|=2.6020852139652106e-18 |path|=0.7398203319663248 speed=0.407300909859942\n",
      "20.49 secs, 36 evals, 9 steps, fitness=0.002970565\n",
      "σ=0.4957468404281954 η[x]=1.0 η[σ]=0.75 η[B]=0.03571428571428571 |tr(ln_B)|=2.6020852139652106e-18 |path|=0.5167864976138481 speed=0.2845117950759889\n",
      "22.76 secs, 40 evals, 10 steps, fitness=0.002970565\n",
      "σ=0.4823565538938855 η[x]=1.0 η[σ]=0.75 η[B]=0.03571428571428571 |tr(ln_B)|=2.3852447794681098e-18 |path|=1.1609147231299486 speed=0.6391303436388304\n",
      "25.03 secs, 44 evals, 11 steps, fitness=0.002970565\n",
      "σ=0.47605948882310295 η[x]=1.0 η[σ]=0.75 η[B]=0.03571428571428571 |tr(ln_B)|=2.8189256484623115e-18 |path|=0.6224606009805504 speed=0.34268964798183543\n",
      "27.30 secs, 48 evals, 12 steps, fitness=0.002970565\n",
      "σ=0.35636062295368026 η[x]=1.0 η[σ]=0.75 η[B]=0.03571428571428571 |tr(ln_B)|=3.469446951953614e-18 |path|=0.2895459838340554 speed=0.15940673372473746\n",
      "29.59 secs, 52 evals, 13 steps, fitness=0.002179505\n",
      "σ=0.2872388159473355 η[x]=1.0 η[σ]=1.5 η[B]=0.03571428571428571 |tr(ln_B)|=3.469446951953614e-18 |path|=0.18158214533450898 speed=0.09996828934465156\n",
      "31.86 secs, 56 evals, 14 steps, fitness=0.002179505\n",
      "σ=0.2266229001123895 η[x]=1.0 η[σ]=0.75 η[B]=0.03571428571428571 |tr(ln_B)|=6.938893903907228e-18 |path|=0.6397253543095449 speed=0.35219459051391905\n",
      "34.13 secs, 60 evals, 15 steps, fitness=0.002179505\n",
      "σ=0.15474054982382057 η[x]=1.0 η[σ]=0.75 η[B]=0.03571428571428571 |tr(ln_B)|=6.938893903907228e-18 |path|=0.5756429851117024 speed=0.31691466354720516\n",
      "36.39 secs, 64 evals, 16 steps, fitness=0.002179505\n",
      "σ=0.1559357433655741 η[x]=1.0 η[σ]=0.75 η[B]=0.03571428571428571 |tr(ln_B)|=6.938893903907228e-18 |path|=0.5387467339755054 speed=0.29660179026045425\n",
      "38.66 secs, 68 evals, 17 steps, fitness=0.001728723\n",
      "σ=0.15946038845331995 η[x]=1.0 η[σ]=0.75 η[B]=0.03571428571428571 |tr(ln_B)|=6.938893903907228e-18 |path|=1.168133286739713 speed=0.6431044538370787\n",
      "40.93 secs, 72 evals, 18 steps, fitness=0.001728723\n",
      "σ=0.15342953843791254 η[x]=1.0 η[σ]=0.75 η[B]=0.03571428571428571 |tr(ln_B)|=6.938893903907228e-18 |path|=0.9523059136610654 speed=0.5242827864276791\n",
      "43.20 secs, 76 evals, 19 steps, fitness=0.001728723\n",
      "σ=0.14389619165395134 η[x]=1.0 η[σ]=0.75 η[B]=0.03571428571428571 |tr(ln_B)|=6.938893903907228e-18 |path|=0.5470048816445844 speed=0.30114823338189944\n",
      "45.47 secs, 80 evals, 20 steps, fitness=0.001728723\n",
      "σ=0.13808198588870635 η[x]=1.0 η[σ]=0.75 η[B]=0.03571428571428571 |tr(ln_B)|=6.938893903907228e-18 |path|=0.2757112790822545 speed=0.15179017117626636\n",
      "47.74 secs, 84 evals, 21 steps, fitness=0.001728723\n",
      "σ=0.11123656773745708 η[x]=1.0 η[σ]=0.75 η[B]=0.03571428571428571 |tr(ln_B)|=6.938893903907228e-18 |path|=0.4290006114863715 speed=0.23618212671238678\n",
      "50.01 secs, 88 evals, 22 steps, fitness=0.001728723\n",
      "σ=0.11271534303940273 η[x]=1.0 η[σ]=0.75 η[B]=0.03571428571428571 |tr(ln_B)|=6.938893903907228e-18 |path|=1.4529267682306684 speed=0.7998947434809792\n",
      "52.28 secs, 92 evals, 23 steps, fitness=0.001728723\n",
      "σ=0.10420243560534845 η[x]=1.0 η[σ]=0.75 η[B]=0.03571428571428571 |tr(ln_B)|=0.0 |path|=0.8108279878933753 speed=0.4463934862821669\n",
      "54.55 secs, 96 evals, 24 steps, fitness=0.001728723\n",
      "σ=0.09986105244801559 η[x]=1.0 η[σ]=0.75 η[B]=0.03571428571428571 |tr(ln_B)|=0.0 |path|=0.6391940395199366 speed=0.3519020803085637\n",
      "56.81 secs, 100 evals, 25 steps, fitness=0.001347927\n",
      "σ=0.09631784466037198 η[x]=1.0 η[σ]=0.75 η[B]=0.03571428571428571 |tr(ln_B)|=0.0 |path|=1.369040620282189 speed=0.7537120381567673\n",
      "59.09 secs, 104 evals, 26 steps, fitness=0.001347927\n",
      "σ=0.09359249626639153 η[x]=1.0 η[σ]=0.75 η[B]=0.03571428571428571 |tr(ln_B)|=6.938893903907228e-18 |path|=1.4317630309437066 speed=0.7882432531385799\n",
      "61.36 secs, 108 evals, 27 steps, fitness=0.001347927\n",
      "σ=0.0879069661173513 η[x]=1.0 η[σ]=0.75 η[B]=0.03571428571428571 |tr(ln_B)|=6.938893903907228e-18 |path|=0.493989723652646 speed=0.27196125222784817\n",
      "63.63 secs, 112 evals, 28 steps, fitness=0.001347927\n",
      "σ=0.0827167523228623 η[x]=1.0 η[σ]=0.75 η[B]=0.03571428571428571 |tr(ln_B)|=1.3877787807814457e-17 |path|=1.0529078159326888 speed=0.5796681882048477\n",
      "65.90 secs, 116 evals, 29 steps, fitness=0.000274891\n",
      "σ=0.07858468388384221 η[x]=1.0 η[σ]=0.75 η[B]=0.03571428571428571 |tr(ln_B)|=1.3877787807814457e-17 |path|=0.46619593055682196 speed=0.2566596489503332\n",
      "68.17 secs, 120 evals, 30 steps, fitness=0.000274891\n",
      "σ=0.04056364990097222 η[x]=1.0 η[σ]=0.75 η[B]=0.03571428571428571 |tr(ln_B)|=1.0408340855860843e-17 |path|=0.39663360515347434 speed=0.2183627852328239\n",
      "70.44 secs, 124 evals, 31 steps, fitness=0.000274891\n",
      "σ=0.0308088552972169 η[x]=1.0 η[σ]=0.75 η[B]=0.03571428571428571 |tr(ln_B)|=1.0408340855860843e-17 |path|=0.20988776737858517 speed=0.11555167508651386\n",
      "72.70 secs, 128 evals, 32 steps, fitness=0.000249349\n",
      "σ=0.03197809457745976 η[x]=1.0 η[σ]=0.75 η[B]=0.03571428571428571 |tr(ln_B)|=1.0408340855860843e-17 |path|=0.643646865802407 speed=0.3543535406401257\n",
      "74.97 secs, 132 evals, 33 steps, fitness=0.000180086\n",
      "σ=0.02589524617537534 η[x]=1.0 η[σ]=0.75 η[B]=0.03571428571428571 |tr(ln_B)|=8.673617379884035e-18 |path|=0.7301217099568671 speed=0.40196142755842074\n",
      "77.24 secs, 136 evals, 34 steps, fitness=0.000128606\n",
      "σ=0.01887231407802148 η[x]=1.0 η[σ]=0.75 η[B]=0.03571428571428571 |tr(ln_B)|=8.673617379884035e-18 |path|=0.1999702134820877 speed=0.11009166195752582\n",
      "79.51 secs, 140 evals, 35 steps, fitness=0.000073651\n",
      "σ=0.01860493396985814 η[x]=1.0 η[σ]=0.75 η[B]=0.03571428571428571 |tr(ln_B)|=8.673617379884035e-18 |path|=0.8149587298544246 speed=0.448667626213764\n",
      "81.78 secs, 144 evals, 36 steps, fitness=0.000073651\n",
      "σ=0.01621388304323248 η[x]=1.0 η[σ]=0.75 η[B]=0.03571428571428571 |tr(ln_B)|=6.938893903907228e-18 |path|=0.48354735615110245 speed=0.26621230805762475\n",
      "84.05 secs, 148 evals, 37 steps, fitness=0.000001289\n",
      "σ=0.003843625304581724 η[x]=1.0 η[σ]=1.5 η[B]=0.03571428571428571 |tr(ln_B)|=0.0 |path|=0.12129935544209028 speed=0.06678018392070456\n",
      "86.32 secs, 152 evals, 38 steps, fitness=0.000001289\n",
      "σ=0.0028759377007211736 η[x]=1.0 η[σ]=0.75 η[B]=0.03571428571428571 |tr(ln_B)|=0.0 |path|=1.3020097595927773 speed=0.7168088477903595\n",
      "88.60 secs, 156 evals, 39 steps, fitness=0.000001289\n",
      "σ=0.0031617533671820033 η[x]=1.0 η[σ]=0.75 η[B]=0.03571428571428571 |tr(ln_B)|=0.0 |path|=0.7011065689574223 speed=0.3859874230357574\n",
      "90.87 secs, 160 evals, 40 steps, fitness=0.000001289\n",
      "σ=0.003111868529149874 η[x]=1.0 η[σ]=0.75 η[B]=0.03571428571428571 |tr(ln_B)|=0.0 |path|=0.5045397621131036 speed=0.2777694736004359\n"
     ]
    },
    {
     "name": "stdout",
     "output_type": "stream",
     "text": [
      "93.15 secs, 164 evals, 41 steps, fitness=0.000001289\n",
      "σ=0.0026287161328924016 η[x]=1.0 η[σ]=0.75 η[B]=0.03571428571428571 |tr(ln_B)|=0.0 |path|=0.5641532250450711 speed=0.31058908755664916\n",
      "95.42 secs, 168 evals, 42 steps, fitness=0.000001289\n",
      "σ=0.0024191740217883715 η[x]=1.0 η[σ]=0.75 η[B]=0.03571428571428571 |tr(ln_B)|=0.0 |path|=0.2949165034721111 speed=0.16236342123451025\n",
      "97.69 secs, 172 evals, 43 steps, fitness=0.000001289\n",
      "σ=0.0016010555626809174 η[x]=1.0 η[σ]=0.75 η[B]=0.03571428571428571 |tr(ln_B)|=0.0 |path|=0.5827899314044079 speed=0.32084934552600697\n",
      "99.96 secs, 176 evals, 44 steps, fitness=0.000000010\n",
      "σ=0.0011831962652739671 η[x]=1.0 η[σ]=0.75 η[B]=0.03571428571428571 |tr(ln_B)|=0.0 |path|=0.310214727630843 speed=0.1707857102009839\n",
      "102.23 secs, 180 evals, 45 steps, fitness=0.000000010\n",
      "σ=0.0010714235727035878 η[x]=1.0 η[σ]=0.75 η[B]=0.03571428571428571 |tr(ln_B)|=0.0 |path|=0.30419994709553744 speed=0.16747433110151175\n",
      "104.51 secs, 184 evals, 46 steps, fitness=0.000000010\n",
      "σ=0.0009194689591727073 η[x]=1.0 η[σ]=0.75 η[B]=0.03571428571428571 |tr(ln_B)|=0.0 |path|=0.5306244786214095 speed=0.2921301613352997\n",
      "106.78 secs, 188 evals, 47 steps, fitness=0.000000010\n",
      "σ=0.0009144914714847549 η[x]=1.0 η[σ]=0.75 η[B]=0.03571428571428571 |tr(ln_B)|=0.0 |path|=0.7693845996795552 speed=0.42357723077009746\n",
      "109.05 secs, 192 evals, 48 steps, fitness=0.000000010\n",
      "σ=0.0009492562164776201 η[x]=1.0 η[σ]=0.75 η[B]=0.03571428571428571 |tr(ln_B)|=0.0 |path|=0.9635532246072982 speed=0.530474884405985\n",
      "111.32 secs, 196 evals, 49 steps, fitness=0.000000010\n",
      "σ=0.001012082702318897 η[x]=1.0 η[σ]=0.75 η[B]=0.03571428571428571 |tr(ln_B)|=0.0 |path|=0.601805995367186 speed=0.3313184551453773\n",
      "113.59 secs, 200 evals, 50 steps, fitness=0.000000010\n",
      "σ=0.0009882503820135967 η[x]=1.0 η[σ]=1.5 η[B]=0.03571428571428571 |tr(ln_B)|=0.0 |path|=0.15858843000276104 speed=0.08730932233466172\n",
      "115.87 secs, 204 evals, 51 steps, fitness=0.000000010\n",
      "σ=0.0006607803995434978 η[x]=1.0 η[σ]=0.75 η[B]=0.03571428571428571 |tr(ln_B)|=0.0 |path|=0.5326515292430575 speed=0.29324613439910424\n",
      "118.15 secs, 208 evals, 52 steps, fitness=0.000000010\n",
      "σ=0.0006419464305420988 η[x]=1.0 η[σ]=0.75 η[B]=0.03571428571428571 |tr(ln_B)|=0.0 |path|=1.2567090100531237 speed=0.6918689594044883\n",
      "120.42 secs, 212 evals, 53 steps, fitness=0.000000010\n",
      "σ=0.0006194633695408613 η[x]=1.0 η[σ]=0.75 η[B]=0.03571428571428571 |tr(ln_B)|=0.0 |path|=0.30526248036415454 speed=0.16805929848935572\n",
      "122.69 secs, 216 evals, 54 steps, fitness=0.000000010\n",
      "σ=0.0005726726670520127 η[x]=1.0 η[σ]=0.75 η[B]=0.03571428571428571 |tr(ln_B)|=0.0 |path|=0.3390872733658542 speed=0.18668121028353385\n",
      "124.96 secs, 220 evals, 55 steps, fitness=0.000000010\n",
      "σ=0.0005655826323348336 η[x]=1.0 η[σ]=0.75 η[B]=0.03571428571428571 |tr(ln_B)|=0.0 |path|=0.7106508024748085 speed=0.391241908250046\n",
      "127.23 secs, 224 evals, 56 steps, fitness=0.000000006\n",
      "σ=0.00045280657827277086 η[x]=1.0 η[σ]=1.5 η[B]=0.03571428571428571 |tr(ln_B)|=6.938893903907228e-18 |path|=0.14717529093184148 speed=0.08102592929031487\n",
      "129.52 secs, 228 evals, 57 steps, fitness=0.000000006\n",
      "σ=0.0004975845243513359 η[x]=1.0 η[σ]=0.75 η[B]=0.03571428571428571 |tr(ln_B)|=6.938893903907228e-18 |path|=1.0880687309020465 speed=0.5990256889921866\n",
      "131.80 secs, 232 evals, 58 steps, fitness=0.000000006\n",
      "σ=0.0004637899680945208 η[x]=1.0 η[σ]=0.75 η[B]=0.03571428571428571 |tr(ln_B)|=6.938893903907228e-18 |path|=0.875747192060235 speed=0.4821341246264357\n",
      "134.07 secs, 236 evals, 59 steps, fitness=0.000000006\n",
      "σ=0.00046662471278865466 η[x]=1.0 η[σ]=0.75 η[B]=0.03571428571428571 |tr(ln_B)|=6.938893903907228e-18 |path|=0.33724512764006986 speed=0.1856670348171576\n",
      "136.34 secs, 240 evals, 60 steps, fitness=0.000000006\n",
      "σ=0.0001533602193279088 η[x]=1.0 η[σ]=0.75 η[B]=0.03571428571428571 |tr(ln_B)|=1.3877787807814457e-17 |path|=0.3622567805260298 speed=0.1994369577800429\n",
      "138.61 secs, 244 evals, 61 steps, fitness=0.000000006\n",
      "σ=0.00015776413552319725 η[x]=1.0 η[σ]=0.75 η[B]=0.03571428571428571 |tr(ln_B)|=1.3877787807814457e-17 |path|=1.2062702843700335 speed=0.6641004080748747\n",
      "140.89 secs, 248 evals, 62 steps, fitness=0.000000006\n",
      "σ=0.00015268267272286313 η[x]=1.0 η[σ]=0.75 η[B]=0.03571428571428571 |tr(ln_B)|=1.3877787807814457e-17 |path|=1.0034082700466678 speed=0.5524166932054537\n",
      "143.16 secs, 252 evals, 63 steps, fitness=0.000000001\n",
      "σ=0.0001420920979324224 η[x]=1.0 η[σ]=0.75 η[B]=0.03571428571428571 |tr(ln_B)|=1.3877787807814457e-17 |path|=0.5734664355840793 speed=0.3157163853103798\n",
      "145.43 secs, 256 evals, 64 steps, fitness=0.000000001\n",
      "σ=0.000158746792686256 η[x]=1.0 η[σ]=0.75 η[B]=0.03571428571428571 |tr(ln_B)|=1.5612511283791264e-17 |path|=1.4471993200983813 speed=0.7967415524497785\n",
      "147.70 secs, 260 evals, 65 steps, fitness=0.000000001\n",
      "σ=0.0001389024478064599 η[x]=1.0 η[σ]=0.75 η[B]=0.03571428571428571 |tr(ln_B)|=1.5612511283791264e-17 |path|=0.28946972604817056 speed=0.15936475074017656\n",
      "149.98 secs, 264 evals, 66 steps, fitness=0.000000001\n",
      "σ=0.00013817609265316913 η[x]=1.0 η[σ]=0.75 η[B]=0.03571428571428571 |tr(ln_B)|=1.5612511283791264e-17 |path|=0.41302882677124897 speed=0.22738901551298735\n",
      "152.25 secs, 268 evals, 67 steps, fitness=0.000000001\n",
      "σ=0.00014702572885756814 η[x]=1.0 η[σ]=0.75 η[B]=0.03571428571428571 |tr(ln_B)|=1.5612511283791264e-17 |path|=1.4337969217273752 speed=0.7893629919872571\n",
      "154.52 secs, 272 evals, 68 steps, fitness=0.000000001\n",
      "σ=9.787024350292828e-5 η[x]=1.0 η[σ]=0.75 η[B]=0.03571428571428571 |tr(ln_B)|=1.3877787807814457e-17 |path|=0.5174431793158469 speed=0.2848733248193005\n",
      "156.79 secs, 276 evals, 69 steps, fitness=0.000000001\n",
      "σ=9.087148575235253e-5 η[x]=1.0 η[σ]=0.75 η[B]=0.03571428571428571 |tr(ln_B)|=1.3877787807814457e-17 |path|=0.4725258543939758 speed=0.26014452713875025\n",
      "159.08 secs, 280 evals, 70 steps, fitness=0.000000001\n",
      "σ=9.003971458053625e-5 η[x]=1.0 η[σ]=0.75 η[B]=0.03571428571428571 |tr(ln_B)|=1.3877787807814457e-17 |path|=0.36317388461769423 speed=0.19994186054471605\n",
      "161.35 secs, 284 evals, 71 steps, fitness=0.000000001\n",
      "σ=9.085751870203755e-5 η[x]=1.0 η[σ]=0.75 η[B]=0.03571428571428571 |tr(ln_B)|=1.3877787807814457e-17 |path|=1.0854681527606431 speed=0.5975939659137735\n",
      "163.62 secs, 288 evals, 72 steps, fitness=0.000000001\n",
      "σ=0.00016999096867455904 η[x]=1.0 η[σ]=1.0 η[B]=0.07142857142857142 |tr(ln_B)|=1.3877787807814457e-17 |path|=2.259175293863793 speed=1.2437670512219834\n",
      "165.90 secs, 292 evals, 73 steps, fitness=0.000000001\n",
      "σ=0.0001651601562323778 η[x]=1.0 η[σ]=0.75 η[B]=0.03571428571428571 |tr(ln_B)|=1.734723475976807e-17 |path|=1.4641350720539383 speed=0.806065366465983\n",
      "168.17 secs, 296 evals, 74 steps, fitness=0.000000001\n",
      "σ=0.0001707876559283936 η[x]=1.0 η[σ]=0.75 η[B]=0.03571428571428571 |tr(ln_B)|=1.734723475976807e-17 |path|=0.7465858234420389 speed=0.41102558558814767\n",
      "170.44 secs, 300 evals, 75 steps, fitness=0.000000001\n",
      "σ=0.00019174818258455993 η[x]=1.0 η[σ]=0.75 η[B]=0.03571428571428571 |tr(ln_B)|=2.0816681711721685e-17 |path|=0.9253107636466189 speed=0.5094208683543189\n",
      "172.71 secs, 304 evals, 76 steps, fitness=0.000000001\n",
      "σ=0.00020483723205097403 η[x]=1.0 η[σ]=0.75 η[B]=0.03571428571428571 |tr(ln_B)|=1.734723475976807e-17 |path|=1.3924692253000228 speed=0.7666104294663851\n",
      "174.98 secs, 308 evals, 77 steps, fitness=0.000000001\n",
      "σ=0.00023768088889194837 η[x]=1.0 η[σ]=0.75 η[B]=0.03571428571428571 |tr(ln_B)|=1.734723475976807e-17 |path|=0.5432133683071075 speed=0.2990608524795715\n",
      "177.26 secs, 312 evals, 78 steps, fitness=0.000000001\n",
      "σ=0.00022366044281635914 η[x]=1.0 η[σ]=0.75 η[B]=0.03571428571428571 |tr(ln_B)|=1.734723475976807e-17 |path|=0.3426666994515589 speed=0.1886518286059704\n",
      "179.53 secs, 316 evals, 79 steps, fitness=0.000000001\n",
      "σ=0.00019651765389816275 η[x]=1.0 η[σ]=0.75 η[B]=0.03571428571428571 |tr(ln_B)|=1.734723475976807e-17 |path|=1.1413627709469318 speed=0.628366205956219\n",
      "181.80 secs, 320 evals, 80 steps, fitness=0.000000001\n",
      "σ=0.0002066757297572713 η[x]=1.0 η[σ]=0.75 η[B]=0.03571428571428571 |tr(ln_B)|=1.734723475976807e-17 |path|=0.32434242933113583 speed=0.17856357937830875\n",
      "184.08 secs, 324 evals, 81 steps, fitness=0.000000001\n",
      "σ=0.00018728338537506514 η[x]=1.0 η[σ]=0.75 η[B]=0.03571428571428571 |tr(ln_B)|=1.8214596497756474e-17 |path|=0.46753115390031097 speed=0.25739474321467154\n"
     ]
    },
    {
     "name": "stdout",
     "output_type": "stream",
     "text": [
      "186.35 secs, 328 evals, 82 steps, fitness=0.000000001\n",
      "σ=0.00019921591328270926 η[x]=1.0 η[σ]=0.75 η[B]=0.03571428571428571 |tr(ln_B)|=1.734723475976807e-17 |path|=0.8304354673354127 speed=0.4571881939587944\n",
      "188.63 secs, 332 evals, 83 steps, fitness=0.000000001\n",
      "σ=0.000213577106553649 η[x]=1.0 η[σ]=0.75 η[B]=0.03571428571428571 |tr(ln_B)|=1.734723475976807e-17 |path|=1.3986919803830444 speed=0.7700363069364107\n",
      "190.91 secs, 336 evals, 84 steps, fitness=0.000000001\n",
      "σ=0.0002610440883533908 η[x]=1.0 η[σ]=1.0 η[B]=0.07142857142857142 |tr(ln_B)|=1.734723475976807e-17 |path|=1.9137239033560478 speed=1.0535821379576757\n",
      "193.18 secs, 340 evals, 85 steps, fitness=0.000000001\n",
      "σ=0.00027415643678785405 η[x]=1.0 η[σ]=1.0 η[B]=0.07142857142857142 |tr(ln_B)|=1.734723475976807e-17 |path|=2.239801167929867 speed=1.2331008140564599\n",
      "195.45 secs, 344 evals, 86 steps, fitness=0.000000001\n",
      "σ=0.0002811866122993139 η[x]=1.0 η[σ]=0.75 η[B]=0.03571428571428571 |tr(ln_B)|=1.734723475976807e-17 |path|=0.9620568728024239 speed=0.5296510824296646\n",
      "197.73 secs, 348 evals, 87 steps, fitness=0.000000001\n",
      "σ=0.0002506868100474994 η[x]=1.0 η[σ]=0.75 η[B]=0.03571428571428571 |tr(ln_B)|=1.734723475976807e-17 |path|=0.9160048893406012 speed=0.5042976094925229\n",
      "200.00 secs, 352 evals, 88 steps, fitness=0.000000001\n",
      "σ=0.00025019430344629833 η[x]=1.0 η[σ]=0.75 η[B]=0.03571428571428571 |tr(ln_B)|=1.734723475976807e-17 |path|=0.419470080918253 speed=0.2309351855239425\n",
      "202.27 secs, 356 evals, 89 steps, fitness=0.000000001\n",
      "σ=0.0002342708604718081 η[x]=1.0 η[σ]=0.75 η[B]=0.03571428571428571 |tr(ln_B)|=1.734723475976807e-17 |path|=0.41502499954199756 speed=0.2284879890753962\n",
      "204.55 secs, 360 evals, 90 steps, fitness=0.000000001\n",
      "σ=0.00022656373315639312 η[x]=1.0 η[σ]=0.75 η[B]=0.03571428571428571 |tr(ln_B)|=1.734723475976807e-17 |path|=0.6382002767321084 speed=0.35135497384206316\n",
      "206.82 secs, 364 evals, 91 steps, fitness=0.000000001\n",
      "σ=0.00023645789151267228 η[x]=1.0 η[σ]=0.75 η[B]=0.03571428571428571 |tr(ln_B)|=1.734723475976807e-17 |path|=1.3344483270990752 speed=0.7346675865800224\n",
      "209.10 secs, 368 evals, 92 steps, fitness=0.000000001\n",
      "σ=0.0002090345499803831 η[x]=1.0 η[σ]=0.75 η[B]=0.03571428571428571 |tr(ln_B)|=1.734723475976807e-17 |path|=0.6506848970699396 speed=0.3582282605079479\n",
      "211.37 secs, 372 evals, 93 steps, fitness=0.000000001\n",
      "σ=0.00021359364812821295 η[x]=1.0 η[σ]=0.75 η[B]=0.03571428571428571 |tr(ln_B)|=1.734723475976807e-17 |path|=1.088263735905593 speed=0.5991330471059608\n",
      "213.65 secs, 376 evals, 94 steps, fitness=0.000000001\n",
      "σ=0.0002881307147890975 η[x]=1.0 η[σ]=1.0 η[B]=0.07142857142857142 |tr(ln_B)|=1.734723475976807e-17 |path|=1.8687926060014313 speed=1.0288456478897658\n",
      "215.92 secs, 380 evals, 95 steps, fitness=0.000000001\n",
      "σ=0.00035402103168775896 η[x]=1.0 η[σ]=0.75 η[B]=0.03571428571428571 |tr(ln_B)|=1.9081958235744878e-17 |path|=1.2452158931110817 speed=0.685541535318726\n",
      "218.19 secs, 384 evals, 96 steps, fitness=0.000000001\n",
      "σ=0.00034842370886209434 η[x]=1.0 η[σ]=0.75 η[B]=0.03571428571428571 |tr(ln_B)|=1.9081958235744878e-17 |path|=0.6009558441206606 speed=0.33085041262036574\n",
      "220.46 secs, 388 evals, 97 steps, fitness=0.000000001\n",
      "σ=0.00042720897242855575 η[x]=1.0 η[σ]=0.75 η[B]=0.03571428571428571 |tr(ln_B)|=1.9081958235744878e-17 |path|=1.3316861636823074 speed=0.7331469042951205\n",
      "222.74 secs, 392 evals, 98 steps, fitness=0.000000001\n",
      "σ=0.0004472062003279292 η[x]=1.0 η[σ]=0.75 η[B]=0.03571428571428571 |tr(ln_B)|=1.9081958235744878e-17 |path|=1.4707227691390274 speed=0.8096921592164702\n",
      "225.01 secs, 396 evals, 99 steps, fitness=0.000000001\n",
      "σ=0.0004630989035349007 η[x]=1.0 η[σ]=0.75 η[B]=0.03571428571428571 |tr(ln_B)|=1.9081958235744878e-17 |path|=1.2222456924308114 speed=0.6728955140720898\n",
      "227.29 secs, 400 evals, 100 steps, fitness=0.000000001\n",
      "σ=0.00047281246539610395 η[x]=1.0 η[σ]=0.75 η[B]=0.03571428571428571 |tr(ln_B)|=1.9081958235744878e-17 |path|=0.8154161093369215 speed=0.44891943205272644\n",
      "229.57 secs, 404 evals, 101 steps, fitness=0.000000001\n",
      "σ=0.0005249864764317106 η[x]=1.0 η[σ]=0.75 η[B]=0.03571428571428571 |tr(ln_B)|=1.9081958235744878e-17 |path|=1.4474063982817824 speed=0.7968555573356503\n",
      "231.85 secs, 408 evals, 102 steps, fitness=0.000000001\n",
      "σ=0.0006167483183861663 η[x]=1.0 η[σ]=1.5 η[B]=0.03571428571428571 |tr(ln_B)|=1.9081958235744878e-17 |path|=0.17982522856856534 speed=0.0990010358556658\n",
      "234.12 secs, 412 evals, 103 steps, fitness=0.000000001\n",
      "σ=0.0006216994667813228 η[x]=1.0 η[σ]=0.75 η[B]=0.03571428571428571 |tr(ln_B)|=1.9081958235744878e-17 |path|=0.30230829793175445 speed=0.16643290199737126\n",
      "236.39 secs, 416 evals, 104 steps, fitness=0.000000001\n",
      "σ=0.00039673094449035244 η[x]=1.0 η[σ]=0.75 η[B]=0.03571428571428571 |tr(ln_B)|=2.42861286636753e-17 |path|=0.2226920998039587 speed=0.12260097614200471\n",
      "238.67 secs, 420 evals, 105 steps, fitness=0.000000001\n",
      "σ=0.0003573603737393598 η[x]=1.0 η[σ]=0.75 η[B]=0.03571428571428571 |tr(ln_B)|=2.42861286636753e-17 |path|=0.36987550423672805 speed=0.20363137224158026\n",
      "240.94 secs, 424 evals, 106 steps, fitness=0.000000001\n",
      "σ=0.0002797655497175985 η[x]=1.0 η[σ]=0.75 η[B]=0.03571428571428571 |tr(ln_B)|=2.0816681711721685e-17 |path|=0.23313941265993984 speed=0.12835264292915957\n",
      "243.21 secs, 428 evals, 107 steps, fitness=0.000000001\n",
      "σ=0.00023981793723590946 η[x]=1.0 η[σ]=0.75 η[B]=0.03571428571428571 |tr(ln_B)|=2.0816681711721685e-17 |path|=0.8416939709146267 speed=0.46338645393265515\n",
      "245.49 secs, 432 evals, 108 steps, fitness=0.000000001\n",
      "σ=0.00023953943730736535 η[x]=1.0 η[σ]=0.75 η[B]=0.03571428571428571 |tr(ln_B)|=2.0816681711721685e-17 |path|=0.40068244443409357 speed=0.2205918344379057\n",
      "247.76 secs, 436 evals, 109 steps, fitness=0.000000001\n",
      "σ=0.00019264641453359605 η[x]=1.0 η[σ]=0.75 η[B]=0.03571428571428571 |tr(ln_B)|=2.2551405187698492e-17 |path|=0.5534654109278937 speed=0.30470501513223996\n",
      "250.04 secs, 440 evals, 110 steps, fitness=0.000000001\n",
      "σ=0.00011397931324194523 η[x]=1.0 η[σ]=0.75 η[B]=0.03571428571428571 |tr(ln_B)|=2.7755575615628914e-17 |path|=0.4457878008520121 speed=0.24542415103529738\n",
      "252.31 secs, 444 evals, 111 steps, fitness=0.000000001\n",
      "σ=0.00012415217871404322 η[x]=1.0 η[σ]=0.75 η[B]=0.03571428571428571 |tr(ln_B)|=2.7755575615628914e-17 |path|=0.7361686257311263 speed=0.4052904984020892\n",
      "254.58 secs, 448 evals, 112 steps, fitness=0.000000001\n",
      "σ=0.00011347513575137094 η[x]=1.0 η[σ]=0.75 η[B]=0.03571428571428571 |tr(ln_B)|=2.7755575615628914e-17 |path|=0.5016638961853673 speed=0.2761861935006731\n",
      "256.85 secs, 452 evals, 113 steps, fitness=0.000000001\n",
      "σ=0.00011779435137419273 η[x]=1.0 η[σ]=0.75 η[B]=0.03571428571428571 |tr(ln_B)|=2.7755575615628914e-17 |path|=0.582084141426296 speed=0.3204607796974754\n",
      "259.14 secs, 456 evals, 114 steps, fitness=0.000000001\n",
      "σ=0.00011762112114825116 η[x]=1.0 η[σ]=0.75 η[B]=0.03571428571428571 |tr(ln_B)|=2.7755575615628914e-17 |path|=0.8515926900606071 speed=0.4688360977723832\n",
      "261.41 secs, 460 evals, 115 steps, fitness=0.000000001\n",
      "σ=0.00013480641845236042 η[x]=1.0 η[σ]=0.75 η[B]=0.03571428571428571 |tr(ln_B)|=2.7755575615628914e-17 |path|=0.23607149674816877 speed=0.12996687339204424\n",
      "263.68 secs, 464 evals, 116 steps, fitness=0.000000001\n",
      "σ=0.0001345595316551669 η[x]=1.0 η[σ]=0.75 η[B]=0.03571428571428571 |tr(ln_B)|=2.7755575615628914e-17 |path|=0.763105433859519 speed=0.4201202969158132\n",
      "265.96 secs, 468 evals, 117 steps, fitness=0.000000001\n",
      "σ=0.00010145148547582325 η[x]=1.0 η[σ]=1.5 η[B]=0.03571428571428571 |tr(ln_B)|=2.949029909160572e-17 |path|=0.16271955251314643 speed=0.08958367177400567\n",
      "268.23 secs, 472 evals, 118 steps, fitness=0.000000001\n",
      "σ=0.00011265895557693398 η[x]=1.0 η[σ]=0.75 η[B]=0.03571428571428571 |tr(ln_B)|=3.122502256758253e-17 |path|=1.1767051673719446 speed=0.6478236195991758\n",
      "270.50 secs, 476 evals, 119 steps, fitness=0.000000001\n",
      "σ=0.0001305637837559683 η[x]=1.0 η[σ]=0.75 η[B]=0.03571428571428571 |tr(ln_B)|=3.122502256758253e-17 |path|=0.6085769717979117 speed=0.33504615056237796\n",
      "272.78 secs, 480 evals, 120 steps, fitness=0.000000001\n",
      "σ=0.00013358280153580052 η[x]=1.0 η[σ]=0.75 η[B]=0.03571428571428571 |tr(ln_B)|=3.122502256758253e-17 |path|=0.889097121095314 speed=0.48948379860484814\n",
      "275.05 secs, 484 evals, 121 steps, fitness=0.000000001\n",
      "σ=0.00012027701743453748 η[x]=1.0 η[σ]=0.75 η[B]=0.03571428571428571 |tr(ln_B)|=3.209238430557093e-17 |path|=0.2117337964390015 speed=0.11656798848511575\n"
     ]
    },
    {
     "name": "stdout",
     "output_type": "stream",
     "text": [
      "277.32 secs, 488 evals, 122 steps, fitness=0.000000001\n",
      "σ=8.749034782850174e-5 η[x]=1.0 η[σ]=1.5 η[B]=0.03571428571428571 |tr(ln_B)|=3.209238430557093e-17 |path|=0.15657820442866666 speed=0.08620261213763833\n",
      "279.60 secs, 492 evals, 123 steps, fitness=0.000000001\n",
      "σ=0.00012655541906974623 η[x]=1.0 η[σ]=0.75 η[B]=0.03571428571428571 |tr(ln_B)|=3.2959746043559335e-17 |path|=0.833242701570574 speed=0.45873368954571914\n",
      "281.88 secs, 496 evals, 124 steps, fitness=0.000000001\n",
      "σ=0.0001029287849740316 η[x]=1.0 η[σ]=0.75 η[B]=0.03571428571428571 |tr(ln_B)|=3.469446951953614e-17 |path|=0.9537054868631729 speed=0.5250533078826909\n",
      "284.15 secs, 500 evals, 125 steps, fitness=0.000000001\n",
      "σ=9.699509910960735e-5 η[x]=1.0 η[σ]=0.75 η[B]=0.03571428571428571 |tr(ln_B)|=3.469446951953614e-17 |path|=1.077949921982663 speed=0.5934548768618821\n",
      "286.42 secs, 504 evals, 126 steps, fitness=0.000000001\n",
      "σ=9.585456663529269e-5 η[x]=1.0 η[σ]=0.75 η[B]=0.03571428571428571 |tr(ln_B)|=3.469446951953614e-17 |path|=0.6379225199122758 speed=0.351202057518262\n",
      "288.71 secs, 508 evals, 127 steps, fitness=0.000000001\n",
      "σ=9.921844794799654e-5 η[x]=1.0 η[σ]=0.75 η[B]=0.03571428571428571 |tr(ln_B)|=3.469446951953614e-17 |path|=1.2142853633475494 speed=0.6685130320851731\n",
      "290.99 secs, 512 evals, 128 steps, fitness=0.000000001\n",
      "σ=0.00010486964693417932 η[x]=1.0 η[σ]=0.75 η[B]=0.03571428571428571 |tr(ln_B)|=3.469446951953614e-17 |path|=0.2935298463202579 speed=0.16160001058572138\n",
      "293.26 secs, 516 evals, 129 steps, fitness=0.000000001\n",
      "σ=0.00010999860821445678 η[x]=1.0 η[σ]=0.75 η[B]=0.03571428571428571 |tr(ln_B)|=3.469446951953614e-17 |path|=1.1028211976915248 speed=0.6071475165311283\n",
      "295.53 secs, 520 evals, 130 steps, fitness=0.000000001\n",
      "σ=9.92098503408632e-5 η[x]=1.0 η[σ]=0.75 η[B]=0.03571428571428571 |tr(ln_B)|=3.469446951953614e-17 |path|=0.9512050573555804 speed=0.523676720663499\n",
      "297.81 secs, 524 evals, 131 steps, fitness=0.000000001\n",
      "σ=0.0001071252486883878 η[x]=1.0 η[σ]=0.75 η[B]=0.03571428571428571 |tr(ln_B)|=3.469446951953614e-17 |path|=0.7340160179380129 speed=0.4041054010550395\n",
      "300.08 secs, 528 evals, 132 steps, fitness=0.000000001\n",
      "σ=0.00010056348026751668 η[x]=1.0 η[σ]=0.75 η[B]=0.03571428571428571 |tr(ln_B)|=3.469446951953614e-17 |path|=1.040945022258637 speed=0.5730821881486478\n",
      "302.35 secs, 532 evals, 133 steps, fitness=0.000000001\n",
      "σ=8.263199343698501e-5 η[x]=1.0 η[σ]=0.75 η[B]=0.03571428571428571 |tr(ln_B)|=3.469446951953614e-17 |path|=0.5217662999622122 speed=0.28725337697063696\n",
      "304.63 secs, 536 evals, 134 steps, fitness=0.000000001\n",
      "σ=8.368742993859338e-5 η[x]=1.0 η[σ]=0.75 η[B]=0.03571428571428571 |tr(ln_B)|=3.469446951953614e-17 |path|=1.3680310091150414 speed=0.7531562065187114\n",
      "306.90 secs, 540 evals, 135 steps, fitness=0.000000001\n",
      "σ=7.998086343128634e-5 η[x]=1.0 η[σ]=0.75 η[B]=0.03571428571428571 |tr(ln_B)|=3.469446951953614e-17 |path|=0.8432273008729633 speed=0.46423061387279374\n",
      "309.19 secs, 544 evals, 136 steps, fitness=0.000000001\n",
      "σ=6.317845192982493e-5 η[x]=1.0 η[σ]=0.75 η[B]=0.03571428571428571 |tr(ln_B)|=3.469446951953614e-17 |path|=0.7620025350882125 speed=0.4195131066918806\n",
      "311.47 secs, 548 evals, 137 steps, fitness=0.000000001\n",
      "σ=5.8659436150863196e-5 η[x]=1.0 η[σ]=0.75 η[B]=0.03571428571428571 |tr(ln_B)|=4.163336342344337e-17 |path|=1.0593121536140242 speed=0.5831940342136013\n",
      "313.74 secs, 552 evals, 138 steps, fitness=0.000000001\n",
      "σ=5.795615441697925e-5 η[x]=1.0 η[σ]=0.75 η[B]=0.03571428571428571 |tr(ln_B)|=4.163336342344337e-17 |path|=1.0377369385818116 speed=0.5713160087885795\n",
      "316.02 secs, 556 evals, 139 steps, fitness=0.000000001\n",
      "σ=5.1522891988124746e-5 η[x]=1.0 η[σ]=0.75 η[B]=0.03571428571428571 |tr(ln_B)|=4.163336342344337e-17 |path|=0.51149291476601 speed=0.28159746437002825\n",
      "318.29 secs, 560 evals, 140 steps, fitness=0.000000001\n",
      "σ=5.136588325874942e-5 η[x]=1.0 η[σ]=0.75 η[B]=0.03571428571428571 |tr(ln_B)|=4.163336342344337e-17 |path|=0.3763464376457939 speed=0.2071938818824691\n",
      "320.57 secs, 564 evals, 141 steps, fitness=0.000000001\n",
      "σ=5.004129647766251e-5 η[x]=1.0 η[σ]=0.75 η[B]=0.03571428571428571 |tr(ln_B)|=4.163336342344337e-17 |path|=0.3841726286036899 speed=0.21150251542517873\n",
      "322.84 secs, 568 evals, 142 steps, fitness=0.000000001\n",
      "σ=4.8353128790683294e-5 η[x]=1.0 η[σ]=0.75 η[B]=0.03571428571428571 |tr(ln_B)|=4.163336342344337e-17 |path|=0.8523106380667271 speed=0.4692313570853405\n",
      "325.12 secs, 572 evals, 143 steps, fitness=0.000000001\n",
      "σ=5.1793044458558454e-5 η[x]=1.0 η[σ]=0.75 η[B]=0.03571428571428571 |tr(ln_B)|=4.163336342344337e-17 |path|=0.7921620016071715 speed=0.4361171085329946\n",
      "327.40 secs, 576 evals, 144 steps, fitness=0.000000001\n",
      "σ=4.0062425041855306e-5 η[x]=1.0 η[σ]=0.75 η[B]=0.03571428571428571 |tr(ln_B)|=4.163336342344337e-17 |path|=1.6686519928094898 speed=0.9186601740243152\n",
      "329.70 secs, 580 evals, 145 steps, fitness=0.000000001\n",
      "σ=3.953107761067644e-5 η[x]=1.0 η[σ]=0.75 η[B]=0.03571428571428571 |tr(ln_B)|=4.163336342344337e-17 |path|=1.3439636882871624 speed=0.7399061764133852\n",
      "331.97 secs, 584 evals, 146 steps, fitness=0.000000001\n",
      "σ=0.00010094617299882796 η[x]=1.0 η[σ]=1.5 η[B]=0.03571428571428571 |tr(ln_B)|=4.85722573273506e-17 |path|=0.14706691685736434 speed=0.0809662649944953\n",
      "334.25 secs, 588 evals, 147 steps, fitness=0.000000001\n",
      "σ=6.627250528750016e-5 η[x]=1.0 η[σ]=0.75 η[B]=0.03571428571428571 |tr(ln_B)|=5.204170427930421e-17 |path|=0.42324800965552867 speed=0.23301508755635708\n",
      "336.53 secs, 592 evals, 148 steps, fitness=0.000000001\n",
      "σ=0.00026274921131821943 η[x]=1.0 η[σ]=1.0 η[B]=0.07142857142857142 |tr(ln_B)|=5.551115123125783e-17 |path|=2.2224203133398497 speed=1.2235319531009332\n",
      "338.80 secs, 596 evals, 149 steps, fitness=0.000000001\n",
      "σ=0.00017283752937351303 η[x]=1.0 η[σ]=0.75 η[B]=0.03571428571428571 |tr(ln_B)|=5.551115123125783e-17 |path|=1.3461677382340622 speed=0.7411195947393767\n",
      "341.08 secs, 600 evals, 150 steps, fitness=0.000000001\n",
      "σ=7.815353844924711e-5 η[x]=1.0 η[σ]=0.75 η[B]=0.03571428571428571 |tr(ln_B)|=6.245004513516506e-17 |path|=1.223672751337129 speed=0.6736811675150306\n",
      "343.35 secs, 604 evals, 151 steps, fitness=0.000000001\n",
      "σ=0.00010376258795190429 η[x]=1.0 η[σ]=1.0 η[B]=0.07142857142857142 |tr(ln_B)|=6.245004513516506e-17 |path|=2.551647385824262 speed=1.404784725401776\n",
      "345.63 secs, 608 evals, 152 steps, fitness=0.000000001\n",
      "σ=0.00014885876377836117 η[x]=1.0 η[σ]=1.0 η[B]=0.07142857142857142 |tr(ln_B)|=6.591949208711867e-17 |path|=3.121770266322943 speed=1.7186603488817394\n",
      "347.90 secs, 612 evals, 153 steps, fitness=0.000000001\n",
      "σ=0.00014749129900146755 η[x]=1.0 η[σ]=0.75 η[B]=0.03571428571428571 |tr(ln_B)|=6.591949208711867e-17 |path|=1.718387684527394 speed=0.946041676821589\n",
      "350.18 secs, 616 evals, 154 steps, fitness=0.000000001\n",
      "σ=0.00014106702853764136 η[x]=1.0 η[σ]=0.75 η[B]=0.03571428571428571 |tr(ln_B)|=6.591949208711867e-17 |path|=1.5139329755525217 speed=0.8334811193558533\n",
      "352.46 secs, 620 evals, 155 steps, fitness=0.000000001\n",
      "σ=0.0001269143901518783 η[x]=1.0 η[σ]=0.75 η[B]=0.03571428571428571 |tr(ln_B)|=6.591949208711867e-17 |path|=0.7518811467874478 speed=0.4139408745081686\n",
      "354.73 secs, 624 evals, 156 steps, fitness=0.000000001\n",
      "σ=0.00011158656673477526 η[x]=1.0 η[σ]=0.75 η[B]=0.03571428571428571 |tr(ln_B)|=6.591949208711867e-17 |path|=0.4512828286793066 speed=0.24844938532132213\n",
      "357.01 secs, 628 evals, 157 steps, fitness=0.000000001\n",
      "σ=0.00011926319707795408 η[x]=1.0 η[σ]=0.75 η[B]=0.03571428571428571 |tr(ln_B)|=6.591949208711867e-17 |path|=0.39398444036106683 speed=0.21690431324483642\n",
      "359.29 secs, 632 evals, 158 steps, fitness=0.000000001\n",
      "σ=0.00011123297354712369 η[x]=1.0 η[σ]=0.75 η[B]=0.03571428571428571 |tr(ln_B)|=6.591949208711867e-17 |path|=0.37083518563855505 speed=0.20415971553149892\n",
      "361.56 secs, 636 evals, 159 steps, fitness=0.000000001\n",
      "σ=0.00010684765119449189 η[x]=1.0 η[σ]=0.75 η[B]=0.03571428571428571 |tr(ln_B)|=6.591949208711867e-17 |path|=0.4114354553699161 speed=0.22651180033861817\n",
      "363.84 secs, 640 evals, 160 steps, fitness=0.000000001\n",
      "σ=0.00011117010535672285 η[x]=1.0 η[σ]=0.75 η[B]=0.03571428571428571 |tr(ln_B)|=6.591949208711867e-17 |path|=0.8651511463449227 speed=0.4763005744058118\n",
      "366.12 secs, 644 evals, 161 steps, fitness=0.000000001\n",
      "σ=0.00015591840552812034 η[x]=1.0 η[σ]=0.75 η[B]=0.03571428571428571 |tr(ln_B)|=6.591949208711867e-17 |path|=0.7196610203739885 speed=0.3962023963439842\n"
     ]
    },
    {
     "name": "stdout",
     "output_type": "stream",
     "text": [
      "368.39 secs, 648 evals, 162 steps, fitness=0.000000001\n",
      "σ=0.00014953063400080242 η[x]=1.0 η[σ]=0.75 η[B]=0.03571428571428571 |tr(ln_B)|=6.591949208711867e-17 |path|=1.2750493322353218 speed=0.7019660459391063\n",
      "370.67 secs, 652 evals, 163 steps, fitness=0.000000001\n",
      "σ=0.0001474406170605008 η[x]=1.0 η[σ]=0.75 η[B]=0.03571428571428571 |tr(ln_B)|=6.591949208711867e-17 |path|=1.4094239902754113 speed=0.775944710916292\n",
      "372.94 secs, 656 evals, 164 steps, fitness=0.000000001\n",
      "σ=0.00012227366749663124 η[x]=1.0 η[σ]=0.75 η[B]=0.03571428571428571 |tr(ln_B)|=6.591949208711867e-17 |path|=0.4038038276128829 speed=0.22231028167949934\n",
      "375.22 secs, 660 evals, 165 steps, fitness=0.000000001\n",
      "σ=0.00012462349393910005 η[x]=1.0 η[σ]=0.75 η[B]=0.03571428571428571 |tr(ln_B)|=6.245004513516506e-17 |path|=0.7623807915633735 speed=0.4197213521263957\n",
      "377.50 secs, 664 evals, 166 steps, fitness=0.000000001\n",
      "σ=0.00011850111990026743 η[x]=1.0 η[σ]=0.75 η[B]=0.03571428571428571 |tr(ln_B)|=6.245004513516506e-17 |path|=0.21281997945614056 speed=0.11716597601268114\n",
      "379.77 secs, 668 evals, 167 steps, fitness=0.000000001\n",
      "σ=0.0001143917792123036 η[x]=1.0 η[σ]=0.75 η[B]=0.03571428571428571 |tr(ln_B)|=6.245004513516506e-17 |path|=0.3333486666752431 speed=0.18352187601625036\n",
      "382.05 secs, 672 evals, 168 steps, fitness=0.000000001\n",
      "σ=5.336575091090144e-5 η[x]=1.0 η[σ]=0.75 η[B]=0.03571428571428571 |tr(ln_B)|=6.938893903907228e-17 |path|=0.35241861067037056 speed=0.19402064876496564\n",
      "384.32 secs, 676 evals, 169 steps, fitness=0.000000001\n",
      "σ=4.864255242787493e-5 η[x]=1.0 η[σ]=1.5 η[B]=0.03571428571428571 |tr(ln_B)|=6.938893903907228e-17 |path|=0.17912136611943147 speed=0.09861353120952217\n",
      "386.60 secs, 680 evals, 170 steps, fitness=0.000000001\n",
      "σ=3.9066321829707356e-5 η[x]=1.0 η[σ]=0.75 η[B]=0.03571428571428571 |tr(ln_B)|=6.938893903907228e-17 |path|=0.3097156830306797 speed=0.17051096603550933\n",
      "388.89 secs, 684 evals, 171 steps, fitness=0.000000001\n",
      "σ=3.767309386654452e-5 η[x]=1.0 η[σ]=0.75 η[B]=0.03571428571428571 |tr(ln_B)|=6.938893903907228e-17 |path|=0.29927684769778923 speed=0.16476396646648703\n",
      "391.16 secs, 688 evals, 172 steps, fitness=0.000000001\n",
      "σ=3.792929866174665e-5 η[x]=1.0 η[σ]=0.75 η[B]=0.03571428571428571 |tr(ln_B)|=6.938893903907228e-17 |path|=0.504730604268745 speed=0.2778745398986624\n",
      "393.44 secs, 692 evals, 173 steps, fitness=0.000000001\n",
      "σ=1.713589363738205e-5 η[x]=1.0 η[σ]=0.75 η[B]=0.03571428571428571 |tr(ln_B)|=6.938893903907228e-17 |path|=1.1566256205556902 speed=0.6367690198072252\n",
      "395.72 secs, 696 evals, 174 steps, fitness=0.000000000\n",
      "σ=2.0542906922960004e-5 η[x]=1.0 η[σ]=0.75 η[B]=0.03571428571428571 |tr(ln_B)|=6.938893903907228e-17 |path|=1.0208457590491216 speed=0.5620167336875737\n",
      "397.99 secs, 700 evals, 175 steps, fitness=0.000000000\n",
      "σ=1.97794055897332e-5 η[x]=1.0 η[σ]=0.75 η[B]=0.03571428571428571 |tr(ln_B)|=6.938893903907228e-17 |path|=0.9858214221030044 speed=0.5427344246065574\n",
      "400.27 secs, 704 evals, 176 steps, fitness=0.000000000\n",
      "σ=1.975414654729538e-5 η[x]=1.0 η[σ]=1.0 η[B]=0.07142857142857142 |tr(ln_B)|=6.938893903907228e-17 |path|=1.9541353791561866 speed=1.0758302840966614\n",
      "402.54 secs, 708 evals, 177 steps, fitness=0.000000000\n",
      "σ=2.5823119455499044e-5 η[x]=1.0 η[σ]=0.75 η[B]=0.03571428571428571 |tr(ln_B)|=6.938893903907228e-17 |path|=0.6583397395548253 speed=0.36244255981037693\n",
      "404.82 secs, 712 evals, 178 steps, fitness=0.000000000\n",
      "σ=3.110263041698172e-5 η[x]=1.0 η[σ]=0.75 η[B]=0.03571428571428571 |tr(ln_B)|=6.938893903907228e-17 |path|=1.1056712220349463 speed=0.6087165697972278\n",
      "407.10 secs, 716 evals, 179 steps, fitness=0.000000000\n",
      "σ=3.738219777969169e-5 η[x]=1.0 η[σ]=0.75 η[B]=0.03571428571428571 |tr(ln_B)|=6.938893903907228e-17 |path|=1.0322446575586155 speed=0.5682922867289159\n",
      "409.37 secs, 720 evals, 180 steps, fitness=0.000000000\n",
      "σ=3.6784838142267e-5 η[x]=1.0 η[σ]=1.0 η[B]=0.07142857142857142 |tr(ln_B)|=6.938893903907228e-17 |path|=2.41288481387572 speed=1.3283903369711005\n",
      "411.65 secs, 724 evals, 181 steps, fitness=0.000000000\n",
      "σ=3.201678699047776e-5 η[x]=1.0 η[σ]=0.75 η[B]=0.03571428571428571 |tr(ln_B)|=6.938893903907228e-17 |path|=1.7412863855835943 speed=0.9586483346435123\n",
      "413.93 secs, 728 evals, 182 steps, fitness=0.000000000\n",
      "σ=4.041190076400218e-5 η[x]=1.0 η[σ]=1.0 η[B]=0.07142857142857142 |tr(ln_B)|=6.938893903907228e-17 |path|=1.9878975007786874 speed=1.0944176927707345\n",
      "416.21 secs, 732 evals, 183 steps, fitness=0.000000000\n",
      "σ=4.445060743084471e-5 η[x]=1.0 η[σ]=0.75 η[B]=0.03571428571428571 |tr(ln_B)|=6.938893903907228e-17 |path|=1.0043517122796322 speed=0.5529360961784233\n",
      "418.49 secs, 736 evals, 184 steps, fitness=0.000000000\n",
      "σ=4.1987881003834165e-5 η[x]=1.0 η[σ]=0.75 η[B]=0.03571428571428571 |tr(ln_B)|=6.938893903907228e-17 |path|=1.8090124372351684 speed=0.9959342556529976\n",
      "420.76 secs, 740 evals, 185 steps, fitness=0.000000000\n",
      "σ=6.929500592987579e-5 η[x]=1.0 η[σ]=1.0 η[B]=0.07142857142857142 |tr(ln_B)|=6.591949208711867e-17 |path|=1.9191875080325287 speed=1.0565900725327249\n",
      "423.04 secs, 744 evals, 186 steps, fitness=0.000000000\n",
      "σ=7.542710512742739e-5 η[x]=1.0 η[σ]=1.0 η[B]=0.07142857142857142 |tr(ln_B)|=6.938893903907228e-17 |path|=2.2183168983956905 speed=1.2212728577935\n",
      "425.31 secs, 748 evals, 187 steps, fitness=0.000000000\n",
      "σ=7.463874159892532e-5 η[x]=1.0 η[σ]=1.0 η[B]=0.07142857142857142 |tr(ln_B)|=6.938893903907228e-17 |path|=2.1690986096531373 speed=1.1941762061871424\n",
      "427.59 secs, 752 evals, 188 steps, fitness=0.000000000\n",
      "σ=7.350429969300408e-5 η[x]=1.0 η[σ]=0.75 η[B]=0.03571428571428571 |tr(ln_B)|=6.938893903907228e-17 |path|=1.416421989939771 speed=0.7797973917731665\n",
      "429.87 secs, 756 evals, 189 steps, fitness=0.000000000\n",
      "σ=0.0001569726709534073 η[x]=1.0 η[σ]=1.0 η[B]=0.07142857142857142 |tr(ln_B)|=6.938893903907228e-17 |path|=2.259258902408053 speed=1.243813081095289\n",
      "432.15 secs, 760 evals, 190 steps, fitness=0.000000000\n",
      "σ=0.00021009232903026033 η[x]=1.0 η[σ]=0.75 η[B]=0.03571428571428571 |tr(ln_B)|=7.28583859910259e-17 |path|=1.5434923894445087 speed=0.8497547680417898\n",
      "434.42 secs, 764 evals, 191 steps, fitness=0.000000000\n",
      "σ=0.00017844801714790476 η[x]=1.0 η[σ]=0.75 η[B]=0.03571428571428571 |tr(ln_B)|=7.28583859910259e-17 |path|=0.8495833671513102 speed=0.4677298845287111\n",
      "436.70 secs, 768 evals, 192 steps, fitness=0.000000000\n",
      "σ=0.0001575199629525471 η[x]=1.0 η[σ]=0.75 η[B]=0.03571428571428571 |tr(ln_B)|=7.28583859910259e-17 |path|=0.8755635243145082 speed=0.4820330081300188\n",
      "438.98 secs, 772 evals, 193 steps, fitness=0.000000000\n",
      "σ=0.00016714262326106616 η[x]=1.0 η[σ]=0.75 η[B]=0.03571428571428571 |tr(ln_B)|=7.28583859910259e-17 |path|=0.47093878493009567 speed=0.259270781434937\n",
      "441.25 secs, 776 evals, 194 steps, fitness=0.000000000\n",
      "σ=7.045489186493725e-5 η[x]=1.0 η[σ]=0.75 η[B]=0.03571428571428571 |tr(ln_B)|=6.245004513516506e-17 |path|=0.4337109512644984 speed=0.2387753586019206\n",
      "443.53 secs, 780 evals, 195 steps, fitness=0.000000000\n",
      "σ=7.585336506388161e-5 η[x]=1.0 η[σ]=0.75 η[B]=0.03571428571428571 |tr(ln_B)|=6.245004513516506e-17 |path|=1.0797595185745592 speed=0.5944511327182195\n",
      "445.81 secs, 784 evals, 196 steps, fitness=0.000000000\n",
      "σ=8.678157419136909e-5 η[x]=1.0 η[σ]=1.5 η[B]=0.03571428571428571 |tr(ln_B)|=6.245004513516506e-17 |path|=0.10449858621771504 speed=0.05753068333824906\n",
      "448.09 secs, 788 evals, 197 steps, fitness=0.000000000\n",
      "σ=0.00010325801428731349 η[x]=1.0 η[σ]=0.75 η[B]=0.03571428571428571 |tr(ln_B)|=6.245004513516506e-17 |path|=0.7181609735777816 speed=0.3953765601260153\n",
      "450.37 secs, 792 evals, 198 steps, fitness=0.000000000\n",
      "σ=0.00017198040521804723 η[x]=1.0 η[σ]=1.0 η[B]=0.07142857142857142 |tr(ln_B)|=5.551115123125783e-17 |path|=2.5539331552815625 speed=1.4060431336117993\n",
      "452.64 secs, 796 evals, 199 steps, fitness=0.000000000\n",
      "σ=0.0001635856466831247 η[x]=1.0 η[σ]=1.0 η[B]=0.07142857142857142 |tr(ln_B)|=5.551115123125783e-17 |path|=1.9191746059500423 speed=1.0565829694163211\n",
      "454.92 secs, 800 evals, 200 steps, fitness=0.000000000\n",
      "σ=0.0001544768683854185 η[x]=1.0 η[σ]=0.75 η[B]=0.03571428571428571 |tr(ln_B)|=5.551115123125783e-17 |path|=1.3779285257071707 speed=0.7586051883040777\n",
      "457.20 secs, 804 evals, 201 steps, fitness=0.000000000\n",
      "σ=0.00012852867046651161 η[x]=1.0 η[σ]=0.75 η[B]=0.03571428571428571 |tr(ln_B)|=5.551115123125783e-17 |path|=0.9689236620319217 speed=0.5334315266539499\n"
     ]
    },
    {
     "name": "stdout",
     "output_type": "stream",
     "text": [
      "459.48 secs, 808 evals, 202 steps, fitness=0.000000000\n",
      "σ=0.0001381846850180292 η[x]=1.0 η[σ]=0.75 η[B]=0.03571428571428571 |tr(ln_B)|=5.551115123125783e-17 |path|=0.3390133849901434 speed=0.18664053175476847\n",
      "461.75 secs, 812 evals, 203 steps, fitness=0.000000000\n",
      "σ=0.00015585921783943947 η[x]=1.0 η[σ]=0.75 η[B]=0.03571428571428571 |tr(ln_B)|=5.551115123125783e-17 |path|=1.2585334096253187 speed=0.6928733648980872\n",
      "464.03 secs, 816 evals, 204 steps, fitness=0.000000000\n",
      "σ=0.00014661567262105044 η[x]=1.0 η[σ]=0.75 η[B]=0.03571428571428571 |tr(ln_B)|=5.551115123125783e-17 |path|=1.1803764573230942 speed=0.6498448126819457\n",
      "466.31 secs, 820 evals, 205 steps, fitness=0.000000000\n",
      "σ=0.00015259803464092006 η[x]=1.0 η[σ]=0.75 η[B]=0.03571428571428571 |tr(ln_B)|=5.551115123125783e-17 |path|=0.5810302532728044 speed=0.31988057179393364\n",
      "468.59 secs, 824 evals, 206 steps, fitness=0.000000000\n",
      "σ=0.00015766429284229117 η[x]=1.0 η[σ]=0.75 η[B]=0.03571428571428571 |tr(ln_B)|=5.551115123125783e-17 |path|=1.2010898862855952 speed=0.6612483901428717\n",
      "470.86 secs, 828 evals, 207 steps, fitness=0.000000000\n",
      "σ=9.61938256553884e-5 η[x]=1.0 η[σ]=0.75 η[B]=0.03571428571428571 |tr(ln_B)|=5.551115123125783e-17 |path|=0.6880214974393015 speed=0.3787835637950308\n",
      "473.14 secs, 832 evals, 208 steps, fitness=0.000000000\n",
      "σ=9.823795142624081e-5 η[x]=1.0 η[σ]=0.75 η[B]=0.03571428571428571 |tr(ln_B)|=5.551115123125783e-17 |path|=1.115927625009567 speed=0.6143631330004183\n",
      "475.42 secs, 836 evals, 209 steps, fitness=0.000000000\n",
      "σ=9.285050724422375e-5 η[x]=1.0 η[σ]=1.0 η[B]=0.07142857142857142 |tr(ln_B)|=5.551115123125783e-17 |path|=1.9811902665896495 speed=1.0907250900267982\n",
      "477.71 secs, 840 evals, 210 steps, fitness=0.000000000\n",
      "σ=0.00010269697273896419 η[x]=1.0 η[σ]=0.75 η[B]=0.03571428571428571 |tr(ln_B)|=5.551115123125783e-17 |path|=1.0074096615729342 speed=0.5546196205094689\n",
      "479.98 secs, 844 evals, 211 steps, fitness=0.000000000\n",
      "σ=0.00015338994376790668 η[x]=1.0 η[σ]=0.75 η[B]=0.03571428571428571 |tr(ln_B)|=5.551115123125783e-17 |path|=1.6944659959160997 speed=0.9328718231209342\n",
      "482.26 secs, 848 evals, 212 steps, fitness=0.000000000\n",
      "σ=0.00017248508468081333 η[x]=1.0 η[σ]=0.75 η[B]=0.03571428571428571 |tr(ln_B)|=4.85722573273506e-17 |path|=1.6602890536606687 speed=0.914056038969842\n",
      "484.54 secs, 852 evals, 213 steps, fitness=0.000000000\n",
      "σ=0.00018731414359358806 η[x]=1.0 η[σ]=1.0 η[B]=0.07142857142857142 |tr(ln_B)|=4.85722573273506e-17 |path|=2.64587474965886 speed=1.456660686855188\n",
      "486.81 secs, 856 evals, 214 steps, fitness=0.000000000\n",
      "σ=0.00018691240318301797 η[x]=1.0 η[σ]=0.75 η[B]=0.03571428571428571 |tr(ln_B)|=4.85722573273506e-17 |path|=1.472889405872095 speed=0.8108849800603755\n",
      "489.08 secs, 860 evals, 215 steps, fitness=0.000000000\n",
      "σ=0.00011488900802680698 η[x]=1.0 η[σ]=0.75 η[B]=0.03571428571428571 |tr(ln_B)|=5.551115123125783e-17 |path|=1.2890931459549444 speed=0.7096977314021198\n",
      "491.36 secs, 864 evals, 216 steps, fitness=0.000000000\n",
      "σ=0.00011624284044424273 η[x]=1.0 η[σ]=0.75 η[B]=0.03571428571428571 |tr(ln_B)|=5.551115123125783e-17 |path|=1.3985140093994932 speed=0.769938326737169\n",
      "493.64 secs, 868 evals, 217 steps, fitness=0.000000000\n",
      "σ=0.0001380063878957068 η[x]=1.0 η[σ]=0.75 η[B]=0.03571428571428571 |tr(ln_B)|=5.551115123125783e-17 |path|=0.35624139874826416 speed=0.19612524767236453\n",
      "495.91 secs, 872 evals, 218 steps, fitness=0.000000000\n",
      "σ=0.00015713936308707355 η[x]=1.0 η[σ]=0.75 η[B]=0.03571428571428571 |tr(ln_B)|=5.551115123125783e-17 |path|=1.0579560877335707 speed=0.5824474652926436\n",
      "498.19 secs, 876 evals, 219 steps, fitness=0.000000000\n",
      "σ=0.00015573032152115936 η[x]=1.0 η[σ]=0.75 η[B]=0.03571428571428571 |tr(ln_B)|=5.551115123125783e-17 |path|=0.3083913422136414 speed=0.16978186304058254\n",
      "500.46 secs, 880 evals, 220 steps, fitness=0.000000000\n",
      "σ=0.0001371342285658025 η[x]=1.0 η[σ]=0.75 η[B]=0.03571428571428571 |tr(ln_B)|=5.551115123125783e-17 |path|=1.3483580796693897 speed=0.742325465977251\n",
      "502.74 secs, 884 evals, 221 steps, fitness=0.000000000\n",
      "σ=0.00018056351424497629 η[x]=1.0 η[σ]=0.75 η[B]=0.03571428571428571 |tr(ln_B)|=5.551115123125783e-17 |path|=1.3195992157088363 speed=0.7264925522932771\n",
      "505.01 secs, 888 evals, 222 steps, fitness=0.000000000\n",
      "σ=0.00019570632646618996 η[x]=1.0 η[σ]=0.75 η[B]=0.03571428571428571 |tr(ln_B)|=5.551115123125783e-17 |path|=0.7316548864689304 speed=0.40280550302020146\n",
      "507.28 secs, 892 evals, 223 steps, fitness=0.000000000\n",
      "σ=0.00016632783064452096 η[x]=1.0 η[σ]=0.75 η[B]=0.03571428571428571 |tr(ln_B)|=5.551115123125783e-17 |path|=0.42044587000670014 speed=0.23147239674453654\n",
      "509.56 secs, 896 evals, 224 steps, fitness=0.000000000\n",
      "σ=0.0001679260880225129 η[x]=1.0 η[σ]=0.75 η[B]=0.03571428571428571 |tr(ln_B)|=5.551115123125783e-17 |path|=0.5819217136067678 speed=0.3203713566364674\n",
      "511.83 secs, 900 evals, 225 steps, fitness=0.000000000\n",
      "σ=0.0002480006390463011 η[x]=1.0 η[σ]=0.75 η[B]=0.03571428571428571 |tr(ln_B)|=5.551115123125783e-17 |path|=0.49372811169310477 speed=0.2718172243003267\n",
      "514.10 secs, 904 evals, 226 steps, fitness=0.000000000\n",
      "σ=0.00020484950163456391 η[x]=1.0 η[σ]=0.75 η[B]=0.03571428571428571 |tr(ln_B)|=5.551115123125783e-17 |path|=0.34444233630908705 speed=0.18962938825985265\n",
      "516.37 secs, 908 evals, 227 steps, fitness=0.000000000\n",
      "σ=0.0002754677526046537 η[x]=1.0 η[σ]=0.75 η[B]=0.03571428571428571 |tr(ln_B)|=5.551115123125783e-17 |path|=0.6183716849752109 speed=0.34043853492457565\n",
      "518.67 secs, 912 evals, 228 steps, fitness=0.000000000\n",
      "σ=0.0002990945634150188 η[x]=1.0 η[σ]=0.75 η[B]=0.03571428571428571 |tr(ln_B)|=5.551115123125783e-17 |path|=1.1410921865979686 speed=0.6282172383667047\n",
      "520.94 secs, 916 evals, 229 steps, fitness=0.000000000\n",
      "σ=0.00032614569549552214 η[x]=1.0 η[σ]=0.75 η[B]=0.03571428571428571 |tr(ln_B)|=5.551115123125783e-17 |path|=1.6108512851089287 speed=0.8868385548827927\n",
      "523.21 secs, 920 evals, 230 steps, fitness=0.000000000\n",
      "σ=0.0003454603872689056 η[x]=1.0 η[σ]=0.75 η[B]=0.03571428571428571 |tr(ln_B)|=5.551115123125783e-17 |path|=0.8197210611046749 speed=0.45128948150412346\n",
      "525.48 secs, 924 evals, 231 steps, fitness=0.000000000\n",
      "σ=0.00026954232366323895 η[x]=1.0 η[σ]=0.75 η[B]=0.03571428571428571 |tr(ln_B)|=5.551115123125783e-17 |path|=0.9187987839984297 speed=0.5058357611044986\n",
      "527.75 secs, 928 evals, 232 steps, fitness=0.000000000\n",
      "σ=0.00025755378434172307 η[x]=1.0 η[σ]=0.75 η[B]=0.03571428571428571 |tr(ln_B)|=5.551115123125783e-17 |path|=0.4469636269415814 speed=0.2460714906871366\n",
      "530.03 secs, 932 evals, 233 steps, fitness=0.000000000\n",
      "σ=0.00015328760744938785 η[x]=1.0 η[σ]=0.75 η[B]=0.03571428571428571 |tr(ln_B)|=5.551115123125783e-17 |path|=0.3094254261054867 speed=0.17035116789991328\n",
      "532.30 secs, 936 evals, 234 steps, fitness=0.000000000\n",
      "σ=0.00010848149672407866 η[x]=1.0 η[σ]=0.75 η[B]=0.03571428571428571 |tr(ln_B)|=5.551115123125783e-17 |path|=0.6821424134258007 speed=0.37554689109981365\n",
      "534.57 secs, 940 evals, 235 steps, fitness=0.000000000\n",
      "σ=0.0001112047126718511 η[x]=1.0 η[σ]=1.5 η[B]=0.03571428571428571 |tr(ln_B)|=5.551115123125783e-17 |path|=0.1630241852718116 speed=0.08975138438531993\n",
      "536.85 secs, 944 evals, 236 steps, fitness=0.000000000\n",
      "σ=0.00010542309610377648 η[x]=1.0 η[σ]=0.75 η[B]=0.03571428571428571 |tr(ln_B)|=5.551115123125783e-17 |path|=0.4029363178121427 speed=0.22183268257078764\n",
      "539.12 secs, 948 evals, 237 steps, fitness=0.000000000\n",
      "σ=0.00011085596611390416 η[x]=1.0 η[σ]=0.75 η[B]=0.03571428571428571 |tr(ln_B)|=5.551115123125783e-17 |path|=0.7755757935120747 speed=0.42698573249970284\n",
      "541.39 secs, 952 evals, 238 steps, fitness=0.000000000\n",
      "σ=0.0001752872968203717 η[x]=1.0 η[σ]=0.75 η[B]=0.03571428571428571 |tr(ln_B)|=6.938893903907228e-17 |path|=1.6811713464658766 speed=0.9255525827819281\n",
      "543.66 secs, 956 evals, 239 steps, fitness=0.000000000\n",
      "σ=0.00018721780820711304 η[x]=1.0 η[σ]=0.75 η[B]=0.03571428571428571 |tr(ln_B)|=6.938893903907228e-17 |path|=0.9235497544433141 speed=0.5084513618136275\n",
      "545.94 secs, 960 evals, 240 steps, fitness=0.000000000\n",
      "σ=0.0001744294348303202 η[x]=1.0 η[σ]=0.75 η[B]=0.03571428571428571 |tr(ln_B)|=6.938893903907228e-17 |path|=0.6614166706118217 speed=0.36413653436736165\n",
      "548.21 secs, 964 evals, 241 steps, fitness=0.000000000\n",
      "σ=0.0001644375215378216 η[x]=1.0 η[σ]=1.0 η[B]=0.07142857142857142 |tr(ln_B)|=6.938893903907228e-17 |path|=2.055120977553081 speed=1.131426926054966\n"
     ]
    },
    {
     "name": "stdout",
     "output_type": "stream",
     "text": [
      "550.48 secs, 968 evals, 242 steps, fitness=0.000000000\n",
      "σ=0.00019414001226527303 η[x]=1.0 η[σ]=1.0 η[B]=0.07142857142857142 |tr(ln_B)|=6.938893903907228e-17 |path|=2.2499389216527437 speed=1.2386820560646232\n",
      "552.75 secs, 972 evals, 243 steps, fitness=0.000000000\n",
      "σ=0.0001909777704826153 η[x]=1.0 η[σ]=0.75 η[B]=0.03571428571428571 |tr(ln_B)|=6.938893903907228e-17 |path|=1.733068167238071 speed=0.9541238742239633\n",
      "555.03 secs, 976 evals, 244 steps, fitness=0.000000000\n",
      "σ=0.00017465045916953775 η[x]=1.0 η[σ]=0.75 η[B]=0.03571428571428571 |tr(ln_B)|=6.938893903907228e-17 |path|=1.5419244471130717 speed=0.8488915525952708\n",
      "557.30 secs, 980 evals, 245 steps, fitness=0.000000000\n",
      "σ=0.00015627648245642074 η[x]=1.0 η[σ]=0.75 η[B]=0.03571428571428571 |tr(ln_B)|=6.938893903907228e-17 |path|=0.30862386548132387 speed=0.16990987647086903\n",
      "559.57 secs, 984 evals, 246 steps, fitness=0.000000000\n",
      "σ=0.00015903174619517473 η[x]=1.0 η[σ]=0.75 η[B]=0.03571428571428571 |tr(ln_B)|=6.938893903907228e-17 |path|=0.5673205504508169 speed=0.31233282784580013\n",
      "561.84 secs, 988 evals, 247 steps, fitness=0.000000000\n",
      "σ=0.0001756828746609819 η[x]=1.0 η[σ]=0.75 η[B]=0.03571428571428571 |tr(ln_B)|=6.938893903907228e-17 |path|=1.1800241265962506 speed=0.6496508404167693\n",
      "564.12 secs, 992 evals, 248 steps, fitness=0.000000000\n",
      "σ=0.0001810648286347782 η[x]=1.0 η[σ]=0.75 η[B]=0.03571428571428571 |tr(ln_B)|=6.938893903907228e-17 |path|=1.43906269544231 speed=0.7922620126447579\n",
      "566.39 secs, 996 evals, 249 steps, fitness=0.000000000\n",
      "σ=0.00017984315167096334 η[x]=1.0 η[σ]=0.75 η[B]=0.03571428571428571 |tr(ln_B)|=6.938893903907228e-17 |path|=0.7106291007619848 speed=0.3912299605824885\n",
      "568.66 secs, 1000 evals, 250 steps, fitness=0.000000000\n",
      "σ=0.00015764295567330787 η[x]=1.0 η[σ]=0.75 η[B]=0.03571428571428571 |tr(ln_B)|=6.938893903907228e-17 |path|=0.3198300021833032 speed=0.1760793063682604\n",
      "\n",
      "Optimization stopped after 251 steps and 570.9347720146179 seconds\n",
      "Termination reason: Max number of function evaluations (1000) reached\n",
      "Steps per second = 0.4396299057321622\n",
      "Function evals per second = 1.7585196229286488\n",
      "Improvements/step = NaN\n",
      "Total function evaluations = 1004\n",
      "\n",
      "\n",
      "Best candidate found: [1.00003, -0.999751]\n",
      "\n",
      "Fitness: 0.000000000\n",
      "\n"
     ]
    },
    {
     "name": "stderr",
     "output_type": "stream",
     "text": [
      "\u001b[1m\u001b[36mINFO: \u001b[39m\u001b[22m\u001b[36mBest Value: [1.00003, -0.999751]\n",
      "\u001b[39m\u001b[1m\u001b[36mINFO: \u001b[39m\u001b[22m\u001b[36mBest Fitness: 9.66569962306891e-11\n",
      "\u001b[39m"
     ]
    },
    {
     "name": "stdout",
     "output_type": "stream",
     "text": [
      "582.263748 seconds (9.15 M allocations: 299.983 GiB, 40.76% gc time)\n"
     ]
    },
    {
     "name": "stderr",
     "output_type": "stream",
     "text": [
      "\u001b[1m\u001b[36mINFO: \u001b[39m\u001b[22m\u001b[36mSaving optimisation to disk\n",
      "\u001b[39m\u001b[1m\u001b[36mINFO: \u001b[39m\u001b[22m\u001b[36mDone.\n",
      "\u001b[39m"
     ]
    },
    {
     "data": {
      "text/plain": [
       "(Any[9.6657e-11], Any[[1.00003, -0.999751]])"
      ]
     },
     "execution_count": 12,
     "metadata": {},
     "output_type": "execute_result"
    }
   ],
   "source": [
    "# Run the optimization\n",
    "# This function first modifies t.bbSetup\n",
    "# and then modifies t.bbResults\n",
    "@time smmoptimize!(myProblem, verbose = true)"
   ]
  },
  {
   "cell_type": "markdown",
   "metadata": {},
   "source": [
    "## Step 6. Analysing Results\n",
    "\n",
    "### A. Point estimates"
   ]
  },
  {
   "cell_type": "markdown",
   "metadata": {},
   "source": [
    "The parameter value that minimizes the distance between empirical and simulated moments can be accessed using \n",
    "the function `smm_minimizer` "
   ]
  },
  {
   "cell_type": "code",
   "execution_count": 13,
   "metadata": {},
   "outputs": [
    {
     "name": "stdout",
     "output_type": "stream",
     "text": [
      "1.0000291653369398\n",
      "-0.9997505123076722\n"
     ]
    }
   ],
   "source": [
    "minimizer = smm_minimizer(myProblem)\n",
    "println(minimizer[1])\n",
    "println(minimizer[2])"
   ]
  },
  {
   "cell_type": "markdown",
   "metadata": {},
   "source": [
    "### B. Standard errors\n",
    "\n",
    "[WORKINPROGRESS]"
   ]
  },
  {
   "cell_type": "markdown",
   "metadata": {},
   "source": [
    "### C. Slices\n",
    "\n",
    "Slices of the objective function around a certain parameter value using the function smm_slices(sMMProblem::SMMProblem, paramValues::Vector, nbPoints::Int64; showPlots::Bool = true)"
   ]
  },
  {
   "cell_type": "code",
   "execution_count": 17,
   "metadata": {
    "scrolled": true
   },
   "outputs": [
    {
     "data": {
      "image/svg+xml": [
       "<?xml version=\"1.0\" encoding=\"utf-8\"?>\n",
       "<svg xmlns=\"http://www.w3.org/2000/svg\" xmlns:xlink=\"http://www.w3.org/1999/xlink\" width=\"600\" height=\"400\" viewBox=\"0 0 600 400\">\n",
       "<defs>\n",
       "  <clipPath id=\"clip7300\">\n",
       "    <rect x=\"0\" y=\"0\" width=\"600\" height=\"400\"/>\n",
       "  </clipPath>\n",
       "</defs>\n",
       "<polygon clip-path=\"url(#clip7300)\" points=\"\n",
       "0,400 600,400 600,0 0,0 \n",
       "  \" fill=\"#ffffff\" fill-opacity=\"1\"/>\n",
       "<defs>\n",
       "  <clipPath id=\"clip7301\">\n",
       "    <rect x=\"120\" y=\"0\" width=\"421\" height=\"400\"/>\n",
       "  </clipPath>\n",
       "</defs>\n",
       "<polygon clip-path=\"url(#clip7300)\" points=\"\n",
       "37.0032,375.869 580.315,375.869 580.315,31.4961 37.0032,31.4961 \n",
       "  \" fill=\"#ffffff\" fill-opacity=\"1\"/>\n",
       "<defs>\n",
       "  <clipPath id=\"clip7302\">\n",
       "    <rect x=\"37\" y=\"31\" width=\"544\" height=\"345\"/>\n",
       "  </clipPath>\n",
       "</defs>\n",
       "<polyline clip-path=\"url(#clip7302)\" style=\"stroke:#000000; stroke-width:0.5; stroke-opacity:0.1; fill:none\" points=\"\n",
       "  103.636,375.869 103.636,31.4961 \n",
       "  \"/>\n",
       "<polyline clip-path=\"url(#clip7302)\" style=\"stroke:#000000; stroke-width:0.5; stroke-opacity:0.1; fill:none\" points=\"\n",
       "  206.147,375.869 206.147,31.4961 \n",
       "  \"/>\n",
       "<polyline clip-path=\"url(#clip7302)\" style=\"stroke:#000000; stroke-width:0.5; stroke-opacity:0.1; fill:none\" points=\"\n",
       "  308.659,375.869 308.659,31.4961 \n",
       "  \"/>\n",
       "<polyline clip-path=\"url(#clip7302)\" style=\"stroke:#000000; stroke-width:0.5; stroke-opacity:0.1; fill:none\" points=\"\n",
       "  411.171,375.869 411.171,31.4961 \n",
       "  \"/>\n",
       "<polyline clip-path=\"url(#clip7302)\" style=\"stroke:#000000; stroke-width:0.5; stroke-opacity:0.1; fill:none\" points=\"\n",
       "  513.682,375.869 513.682,31.4961 \n",
       "  \"/>\n",
       "<polyline clip-path=\"url(#clip7302)\" style=\"stroke:#000000; stroke-width:0.5; stroke-opacity:0.1; fill:none\" points=\"\n",
       "  37.0032,367.913 580.315,367.913 \n",
       "  \"/>\n",
       "<polyline clip-path=\"url(#clip7302)\" style=\"stroke:#000000; stroke-width:0.5; stroke-opacity:0.1; fill:none\" points=\"\n",
       "  37.0032,277.172 580.315,277.172 \n",
       "  \"/>\n",
       "<polyline clip-path=\"url(#clip7302)\" style=\"stroke:#000000; stroke-width:0.5; stroke-opacity:0.1; fill:none\" points=\"\n",
       "  37.0032,186.43 580.315,186.43 \n",
       "  \"/>\n",
       "<polyline clip-path=\"url(#clip7302)\" style=\"stroke:#000000; stroke-width:0.5; stroke-opacity:0.1; fill:none\" points=\"\n",
       "  37.0032,95.6888 580.315,95.6888 \n",
       "  \"/>\n",
       "<polyline clip-path=\"url(#clip7300)\" style=\"stroke:#000000; stroke-width:1; stroke-opacity:1; fill:none\" points=\"\n",
       "  37.0032,375.869 580.315,375.869 \n",
       "  \"/>\n",
       "<polyline clip-path=\"url(#clip7300)\" style=\"stroke:#000000; stroke-width:1; stroke-opacity:1; fill:none\" points=\"\n",
       "  37.0032,375.869 37.0032,31.4961 \n",
       "  \"/>\n",
       "<polyline clip-path=\"url(#clip7300)\" style=\"stroke:#000000; stroke-width:1; stroke-opacity:1; fill:none\" points=\"\n",
       "  103.636,375.869 103.636,370.703 \n",
       "  \"/>\n",
       "<polyline clip-path=\"url(#clip7300)\" style=\"stroke:#000000; stroke-width:1; stroke-opacity:1; fill:none\" points=\"\n",
       "  206.147,375.869 206.147,370.703 \n",
       "  \"/>\n",
       "<polyline clip-path=\"url(#clip7300)\" style=\"stroke:#000000; stroke-width:1; stroke-opacity:1; fill:none\" points=\"\n",
       "  308.659,375.869 308.659,370.703 \n",
       "  \"/>\n",
       "<polyline clip-path=\"url(#clip7300)\" style=\"stroke:#000000; stroke-width:1; stroke-opacity:1; fill:none\" points=\"\n",
       "  411.171,375.869 411.171,370.703 \n",
       "  \"/>\n",
       "<polyline clip-path=\"url(#clip7300)\" style=\"stroke:#000000; stroke-width:1; stroke-opacity:1; fill:none\" points=\"\n",
       "  513.682,375.869 513.682,370.703 \n",
       "  \"/>\n",
       "<polyline clip-path=\"url(#clip7300)\" style=\"stroke:#000000; stroke-width:1; stroke-opacity:1; fill:none\" points=\"\n",
       "  37.0032,367.913 45.1529,367.913 \n",
       "  \"/>\n",
       "<polyline clip-path=\"url(#clip7300)\" style=\"stroke:#000000; stroke-width:1; stroke-opacity:1; fill:none\" points=\"\n",
       "  37.0032,277.172 45.1529,277.172 \n",
       "  \"/>\n",
       "<polyline clip-path=\"url(#clip7300)\" style=\"stroke:#000000; stroke-width:1; stroke-opacity:1; fill:none\" points=\"\n",
       "  37.0032,186.43 45.1529,186.43 \n",
       "  \"/>\n",
       "<polyline clip-path=\"url(#clip7300)\" style=\"stroke:#000000; stroke-width:1; stroke-opacity:1; fill:none\" points=\"\n",
       "  37.0032,95.6888 45.1529,95.6888 \n",
       "  \"/>\n",
       "<g clip-path=\"url(#clip7300)\">\n",
       "<text style=\"fill:#000000; fill-opacity:1; font-family:Arial,Helvetica Neue,Helvetica,sans-serif; font-size:12; text-anchor:middle;\" transform=\"rotate(0, 103.636, 389.669)\" x=\"103.636\" y=\"389.669\">-4</text>\n",
       "</g>\n",
       "<g clip-path=\"url(#clip7300)\">\n",
       "<text style=\"fill:#000000; fill-opacity:1; font-family:Arial,Helvetica Neue,Helvetica,sans-serif; font-size:12; text-anchor:middle;\" transform=\"rotate(0, 206.147, 389.669)\" x=\"206.147\" y=\"389.669\">-2</text>\n",
       "</g>\n",
       "<g clip-path=\"url(#clip7300)\">\n",
       "<text style=\"fill:#000000; fill-opacity:1; font-family:Arial,Helvetica Neue,Helvetica,sans-serif; font-size:12; text-anchor:middle;\" transform=\"rotate(0, 308.659, 389.669)\" x=\"308.659\" y=\"389.669\">0</text>\n",
       "</g>\n",
       "<g clip-path=\"url(#clip7300)\">\n",
       "<text style=\"fill:#000000; fill-opacity:1; font-family:Arial,Helvetica Neue,Helvetica,sans-serif; font-size:12; text-anchor:middle;\" transform=\"rotate(0, 411.171, 389.669)\" x=\"411.171\" y=\"389.669\">2</text>\n",
       "</g>\n",
       "<g clip-path=\"url(#clip7300)\">\n",
       "<text style=\"fill:#000000; fill-opacity:1; font-family:Arial,Helvetica Neue,Helvetica,sans-serif; font-size:12; text-anchor:middle;\" transform=\"rotate(0, 513.682, 389.669)\" x=\"513.682\" y=\"389.669\">4</text>\n",
       "</g>\n",
       "<g clip-path=\"url(#clip7300)\">\n",
       "<text style=\"fill:#000000; fill-opacity:1; font-family:Arial,Helvetica Neue,Helvetica,sans-serif; font-size:12; text-anchor:end;\" transform=\"rotate(0, 31.0032, 372.413)\" x=\"31.0032\" y=\"372.413\">0</text>\n",
       "</g>\n",
       "<g clip-path=\"url(#clip7300)\">\n",
       "<text style=\"fill:#000000; fill-opacity:1; font-family:Arial,Helvetica Neue,Helvetica,sans-serif; font-size:12; text-anchor:end;\" transform=\"rotate(0, 31.0032, 281.672)\" x=\"31.0032\" y=\"281.672\">5</text>\n",
       "</g>\n",
       "<g clip-path=\"url(#clip7300)\">\n",
       "<text style=\"fill:#000000; fill-opacity:1; font-family:Arial,Helvetica Neue,Helvetica,sans-serif; font-size:12; text-anchor:end;\" transform=\"rotate(0, 31.0032, 190.93)\" x=\"31.0032\" y=\"190.93\">10</text>\n",
       "</g>\n",
       "<g clip-path=\"url(#clip7300)\">\n",
       "<text style=\"fill:#000000; fill-opacity:1; font-family:Arial,Helvetica Neue,Helvetica,sans-serif; font-size:12; text-anchor:end;\" transform=\"rotate(0, 31.0032, 100.189)\" x=\"31.0032\" y=\"100.189\">15</text>\n",
       "</g>\n",
       "<g clip-path=\"url(#clip7300)\">\n",
       "<text style=\"fill:#000000; fill-opacity:1; font-family:Arial,Helvetica Neue,Helvetica,sans-serif; font-size:21; text-anchor:middle;\" transform=\"rotate(0, 308.659, 18)\" x=\"308.659\" y=\"18\">mu1</text>\n",
       "</g>\n",
       "<polyline clip-path=\"url(#clip7302)\" style=\"stroke:#009af9; stroke-width:1; stroke-opacity:1; fill:none\" points=\"\n",
       "  52.38,41.2425 109.331,151.018 166.282,238.392 223.233,303.376 280.184,345.957 337.135,366.122 394.085,363.879 451.036,339.228 507.987,292.176 564.938,222.739 \n",
       "  \n",
       "  \"/>\n",
       "<polygon clip-path=\"url(#clip7300)\" points=\"\n",
       "489.608,82.6161 562.315,82.6161 562.315,52.3761 489.608,52.3761 \n",
       "  \" fill=\"#ffffff\" fill-opacity=\"1\"/>\n",
       "<polyline clip-path=\"url(#clip7300)\" style=\"stroke:#000000; stroke-width:1; stroke-opacity:1; fill:none\" points=\"\n",
       "  489.608,82.6161 562.315,82.6161 562.315,52.3761 489.608,52.3761 489.608,82.6161 \n",
       "  \"/>\n",
       "<polyline clip-path=\"url(#clip7300)\" style=\"stroke:#009af9; stroke-width:1; stroke-opacity:1; fill:none\" points=\"\n",
       "  495.608,67.4961 531.608,67.4961 \n",
       "  \"/>\n",
       "<g clip-path=\"url(#clip7300)\">\n",
       "<text style=\"fill:#000000; fill-opacity:1; font-family:Arial,Helvetica Neue,Helvetica,sans-serif; font-size:12; text-anchor:start;\" transform=\"rotate(0, 537.608, 71.9961)\" x=\"537.608\" y=\"71.9961\">y1</text>\n",
       "</g>\n",
       "</svg>\n"
      ]
     },
     "metadata": {},
     "output_type": "display_data"
    },
    {
     "name": "stderr",
     "output_type": "stream",
     "text": [
      "\u001b[1m\u001b[36mINFO: \u001b[39m\u001b[22m\u001b[36mslicing along mu1\n",
      "\u001b[39m"
     ]
    },
    {
     "data": {
      "image/svg+xml": [
       "<?xml version=\"1.0\" encoding=\"utf-8\"?>\n",
       "<svg xmlns=\"http://www.w3.org/2000/svg\" xmlns:xlink=\"http://www.w3.org/1999/xlink\" width=\"600\" height=\"400\" viewBox=\"0 0 600 400\">\n",
       "<defs>\n",
       "  <clipPath id=\"clip7500\">\n",
       "    <rect x=\"0\" y=\"0\" width=\"600\" height=\"400\"/>\n",
       "  </clipPath>\n",
       "</defs>\n",
       "<polygon clip-path=\"url(#clip7500)\" points=\"\n",
       "0,400 600,400 600,0 0,0 \n",
       "  \" fill=\"#ffffff\" fill-opacity=\"1\"/>\n",
       "<defs>\n",
       "  <clipPath id=\"clip7501\">\n",
       "    <rect x=\"120\" y=\"0\" width=\"421\" height=\"400\"/>\n",
       "  </clipPath>\n",
       "</defs>\n",
       "<polygon clip-path=\"url(#clip7500)\" points=\"\n",
       "37.0032,375.869 580.315,375.869 580.315,31.4961 37.0032,31.4961 \n",
       "  \" fill=\"#ffffff\" fill-opacity=\"1\"/>\n",
       "<defs>\n",
       "  <clipPath id=\"clip7502\">\n",
       "    <rect x=\"37\" y=\"31\" width=\"544\" height=\"345\"/>\n",
       "  </clipPath>\n",
       "</defs>\n",
       "<polyline clip-path=\"url(#clip7502)\" style=\"stroke:#000000; stroke-width:0.5; stroke-opacity:0.1; fill:none\" points=\"\n",
       "  103.636,375.869 103.636,31.4961 \n",
       "  \"/>\n",
       "<polyline clip-path=\"url(#clip7502)\" style=\"stroke:#000000; stroke-width:0.5; stroke-opacity:0.1; fill:none\" points=\"\n",
       "  206.147,375.869 206.147,31.4961 \n",
       "  \"/>\n",
       "<polyline clip-path=\"url(#clip7502)\" style=\"stroke:#000000; stroke-width:0.5; stroke-opacity:0.1; fill:none\" points=\"\n",
       "  308.659,375.869 308.659,31.4961 \n",
       "  \"/>\n",
       "<polyline clip-path=\"url(#clip7502)\" style=\"stroke:#000000; stroke-width:0.5; stroke-opacity:0.1; fill:none\" points=\"\n",
       "  411.171,375.869 411.171,31.4961 \n",
       "  \"/>\n",
       "<polyline clip-path=\"url(#clip7502)\" style=\"stroke:#000000; stroke-width:0.5; stroke-opacity:0.1; fill:none\" points=\"\n",
       "  513.682,375.869 513.682,31.4961 \n",
       "  \"/>\n",
       "<polyline clip-path=\"url(#clip7502)\" style=\"stroke:#000000; stroke-width:0.5; stroke-opacity:0.1; fill:none\" points=\"\n",
       "  37.0032,367.916 580.315,367.916 \n",
       "  \"/>\n",
       "<polyline clip-path=\"url(#clip7502)\" style=\"stroke:#000000; stroke-width:0.5; stroke-opacity:0.1; fill:none\" points=\"\n",
       "  37.0032,277.175 580.315,277.175 \n",
       "  \"/>\n",
       "<polyline clip-path=\"url(#clip7502)\" style=\"stroke:#000000; stroke-width:0.5; stroke-opacity:0.1; fill:none\" points=\"\n",
       "  37.0032,186.433 580.315,186.433 \n",
       "  \"/>\n",
       "<polyline clip-path=\"url(#clip7502)\" style=\"stroke:#000000; stroke-width:0.5; stroke-opacity:0.1; fill:none\" points=\"\n",
       "  37.0032,95.6912 580.315,95.6912 \n",
       "  \"/>\n",
       "<polyline clip-path=\"url(#clip7500)\" style=\"stroke:#000000; stroke-width:1; stroke-opacity:1; fill:none\" points=\"\n",
       "  37.0032,375.869 580.315,375.869 \n",
       "  \"/>\n",
       "<polyline clip-path=\"url(#clip7500)\" style=\"stroke:#000000; stroke-width:1; stroke-opacity:1; fill:none\" points=\"\n",
       "  37.0032,375.869 37.0032,31.4961 \n",
       "  \"/>\n",
       "<polyline clip-path=\"url(#clip7500)\" style=\"stroke:#000000; stroke-width:1; stroke-opacity:1; fill:none\" points=\"\n",
       "  103.636,375.869 103.636,370.703 \n",
       "  \"/>\n",
       "<polyline clip-path=\"url(#clip7500)\" style=\"stroke:#000000; stroke-width:1; stroke-opacity:1; fill:none\" points=\"\n",
       "  206.147,375.869 206.147,370.703 \n",
       "  \"/>\n",
       "<polyline clip-path=\"url(#clip7500)\" style=\"stroke:#000000; stroke-width:1; stroke-opacity:1; fill:none\" points=\"\n",
       "  308.659,375.869 308.659,370.703 \n",
       "  \"/>\n",
       "<polyline clip-path=\"url(#clip7500)\" style=\"stroke:#000000; stroke-width:1; stroke-opacity:1; fill:none\" points=\"\n",
       "  411.171,375.869 411.171,370.703 \n",
       "  \"/>\n",
       "<polyline clip-path=\"url(#clip7500)\" style=\"stroke:#000000; stroke-width:1; stroke-opacity:1; fill:none\" points=\"\n",
       "  513.682,375.869 513.682,370.703 \n",
       "  \"/>\n",
       "<polyline clip-path=\"url(#clip7500)\" style=\"stroke:#000000; stroke-width:1; stroke-opacity:1; fill:none\" points=\"\n",
       "  37.0032,367.916 45.1529,367.916 \n",
       "  \"/>\n",
       "<polyline clip-path=\"url(#clip7500)\" style=\"stroke:#000000; stroke-width:1; stroke-opacity:1; fill:none\" points=\"\n",
       "  37.0032,277.175 45.1529,277.175 \n",
       "  \"/>\n",
       "<polyline clip-path=\"url(#clip7500)\" style=\"stroke:#000000; stroke-width:1; stroke-opacity:1; fill:none\" points=\"\n",
       "  37.0032,186.433 45.1529,186.433 \n",
       "  \"/>\n",
       "<polyline clip-path=\"url(#clip7500)\" style=\"stroke:#000000; stroke-width:1; stroke-opacity:1; fill:none\" points=\"\n",
       "  37.0032,95.6912 45.1529,95.6912 \n",
       "  \"/>\n",
       "<g clip-path=\"url(#clip7500)\">\n",
       "<text style=\"fill:#000000; fill-opacity:1; font-family:Arial,Helvetica Neue,Helvetica,sans-serif; font-size:12; text-anchor:middle;\" transform=\"rotate(0, 103.636, 389.669)\" x=\"103.636\" y=\"389.669\">-4</text>\n",
       "</g>\n",
       "<g clip-path=\"url(#clip7500)\">\n",
       "<text style=\"fill:#000000; fill-opacity:1; font-family:Arial,Helvetica Neue,Helvetica,sans-serif; font-size:12; text-anchor:middle;\" transform=\"rotate(0, 206.147, 389.669)\" x=\"206.147\" y=\"389.669\">-2</text>\n",
       "</g>\n",
       "<g clip-path=\"url(#clip7500)\">\n",
       "<text style=\"fill:#000000; fill-opacity:1; font-family:Arial,Helvetica Neue,Helvetica,sans-serif; font-size:12; text-anchor:middle;\" transform=\"rotate(0, 308.659, 389.669)\" x=\"308.659\" y=\"389.669\">0</text>\n",
       "</g>\n",
       "<g clip-path=\"url(#clip7500)\">\n",
       "<text style=\"fill:#000000; fill-opacity:1; font-family:Arial,Helvetica Neue,Helvetica,sans-serif; font-size:12; text-anchor:middle;\" transform=\"rotate(0, 411.171, 389.669)\" x=\"411.171\" y=\"389.669\">2</text>\n",
       "</g>\n",
       "<g clip-path=\"url(#clip7500)\">\n",
       "<text style=\"fill:#000000; fill-opacity:1; font-family:Arial,Helvetica Neue,Helvetica,sans-serif; font-size:12; text-anchor:middle;\" transform=\"rotate(0, 513.682, 389.669)\" x=\"513.682\" y=\"389.669\">4</text>\n",
       "</g>\n",
       "<g clip-path=\"url(#clip7500)\">\n",
       "<text style=\"fill:#000000; fill-opacity:1; font-family:Arial,Helvetica Neue,Helvetica,sans-serif; font-size:12; text-anchor:end;\" transform=\"rotate(0, 31.0032, 372.416)\" x=\"31.0032\" y=\"372.416\">0</text>\n",
       "</g>\n",
       "<g clip-path=\"url(#clip7500)\">\n",
       "<text style=\"fill:#000000; fill-opacity:1; font-family:Arial,Helvetica Neue,Helvetica,sans-serif; font-size:12; text-anchor:end;\" transform=\"rotate(0, 31.0032, 281.675)\" x=\"31.0032\" y=\"281.675\">5</text>\n",
       "</g>\n",
       "<g clip-path=\"url(#clip7500)\">\n",
       "<text style=\"fill:#000000; fill-opacity:1; font-family:Arial,Helvetica Neue,Helvetica,sans-serif; font-size:12; text-anchor:end;\" transform=\"rotate(0, 31.0032, 190.933)\" x=\"31.0032\" y=\"190.933\">10</text>\n",
       "</g>\n",
       "<g clip-path=\"url(#clip7500)\">\n",
       "<text style=\"fill:#000000; fill-opacity:1; font-family:Arial,Helvetica Neue,Helvetica,sans-serif; font-size:12; text-anchor:end;\" transform=\"rotate(0, 31.0032, 100.191)\" x=\"31.0032\" y=\"100.191\">15</text>\n",
       "</g>\n",
       "<g clip-path=\"url(#clip7500)\">\n",
       "<text style=\"fill:#000000; fill-opacity:1; font-family:Arial,Helvetica Neue,Helvetica,sans-serif; font-size:21; text-anchor:middle;\" transform=\"rotate(0, 308.659, 18)\" x=\"308.659\" y=\"18\">mu2</text>\n",
       "</g>\n",
       "<polyline clip-path=\"url(#clip7502)\" style=\"stroke:#009af9; stroke-width:1; stroke-opacity:1; fill:none\" points=\"\n",
       "  52.38,222.738 109.331,292.197 166.282,339.248 223.233,363.881 280.184,366.122 337.135,345.971 394.085,303.381 451.036,238.388 507.987,151.048 564.938,41.2425 \n",
       "  \n",
       "  \"/>\n",
       "<polygon clip-path=\"url(#clip7500)\" points=\"\n",
       "489.608,82.6161 562.315,82.6161 562.315,52.3761 489.608,52.3761 \n",
       "  \" fill=\"#ffffff\" fill-opacity=\"1\"/>\n",
       "<polyline clip-path=\"url(#clip7500)\" style=\"stroke:#000000; stroke-width:1; stroke-opacity:1; fill:none\" points=\"\n",
       "  489.608,82.6161 562.315,82.6161 562.315,52.3761 489.608,52.3761 489.608,82.6161 \n",
       "  \"/>\n",
       "<polyline clip-path=\"url(#clip7500)\" style=\"stroke:#009af9; stroke-width:1; stroke-opacity:1; fill:none\" points=\"\n",
       "  495.608,67.4961 531.608,67.4961 \n",
       "  \"/>\n",
       "<g clip-path=\"url(#clip7500)\">\n",
       "<text style=\"fill:#000000; fill-opacity:1; font-family:Arial,Helvetica Neue,Helvetica,sans-serif; font-size:12; text-anchor:start;\" transform=\"rotate(0, 537.608, 71.9961)\" x=\"537.608\" y=\"71.9961\">y1</text>\n",
       "</g>\n",
       "</svg>\n"
      ]
     },
     "metadata": {},
     "output_type": "display_data"
    },
    {
     "name": "stderr",
     "output_type": "stream",
     "text": [
      "\u001b[1m\u001b[36mINFO: \u001b[39m\u001b[22m\u001b[36mslicing along mu2\n",
      "\u001b[39m"
     ]
    },
    {
     "name": "stdout",
     "output_type": "stream",
     "text": [
      " 22.724871 seconds (6.21 M allocations: 6.259 GiB, 24.63% gc time)\n"
     ]
    },
    {
     "data": {
      "text/plain": [
       "2-element Array{Any,1}:\n",
       " Plot{Plots.GRBackend() n=1}\n",
       " Plot{Plots.GRBackend() n=1}"
      ]
     },
     "execution_count": 17,
     "metadata": {},
     "output_type": "execute_result"
    }
   ],
   "source": [
    "Plots.gr()\n",
    "@time listPlots = smm_slices(myProblem, minimizer, 10)"
   ]
  },
  {
   "cell_type": "markdown",
   "metadata": {},
   "source": [
    "You can combine the several plots created into a single one:"
   ]
  },
  {
   "cell_type": "code",
   "execution_count": 18,
   "metadata": {
    "scrolled": false
   },
   "outputs": [
    {
     "data": {
      "image/svg+xml": [
       "<?xml version=\"1.0\" encoding=\"utf-8\"?>\n",
       "<svg xmlns=\"http://www.w3.org/2000/svg\" xmlns:xlink=\"http://www.w3.org/1999/xlink\" width=\"600\" height=\"400\" viewBox=\"0 0 600 400\">\n",
       "<defs>\n",
       "  <clipPath id=\"clip7700\">\n",
       "    <rect x=\"0\" y=\"0\" width=\"600\" height=\"400\"/>\n",
       "  </clipPath>\n",
       "</defs>\n",
       "<polygon clip-path=\"url(#clip7700)\" points=\"\n",
       "0,400 600,400 600,0 0,0 \n",
       "  \" fill=\"#ffffff\" fill-opacity=\"1\"/>\n",
       "<defs>\n",
       "  <clipPath id=\"clip7701\">\n",
       "    <rect x=\"120\" y=\"0\" width=\"421\" height=\"400\"/>\n",
       "  </clipPath>\n",
       "</defs>\n",
       "<polygon clip-path=\"url(#clip7700)\" points=\"\n",
       "37.0032,375.869 280.315,375.869 280.315,31.4961 37.0032,31.4961 \n",
       "  \" fill=\"#ffffff\" fill-opacity=\"1\"/>\n",
       "<defs>\n",
       "  <clipPath id=\"clip7702\">\n",
       "    <rect x=\"37\" y=\"31\" width=\"244\" height=\"345\"/>\n",
       "  </clipPath>\n",
       "</defs>\n",
       "<polyline clip-path=\"url(#clip7702)\" style=\"stroke:#000000; stroke-width:0.5; stroke-opacity:0.1; fill:none\" points=\"\n",
       "  66.8433,375.869 66.8433,31.4961 \n",
       "  \"/>\n",
       "<polyline clip-path=\"url(#clip7702)\" style=\"stroke:#000000; stroke-width:0.5; stroke-opacity:0.1; fill:none\" points=\"\n",
       "  112.751,375.869 112.751,31.4961 \n",
       "  \"/>\n",
       "<polyline clip-path=\"url(#clip7702)\" style=\"stroke:#000000; stroke-width:0.5; stroke-opacity:0.1; fill:none\" points=\"\n",
       "  158.659,375.869 158.659,31.4961 \n",
       "  \"/>\n",
       "<polyline clip-path=\"url(#clip7702)\" style=\"stroke:#000000; stroke-width:0.5; stroke-opacity:0.1; fill:none\" points=\"\n",
       "  204.567,375.869 204.567,31.4961 \n",
       "  \"/>\n",
       "<polyline clip-path=\"url(#clip7702)\" style=\"stroke:#000000; stroke-width:0.5; stroke-opacity:0.1; fill:none\" points=\"\n",
       "  250.475,375.869 250.475,31.4961 \n",
       "  \"/>\n",
       "<polyline clip-path=\"url(#clip7702)\" style=\"stroke:#000000; stroke-width:0.5; stroke-opacity:0.1; fill:none\" points=\"\n",
       "  37.0032,367.913 280.315,367.913 \n",
       "  \"/>\n",
       "<polyline clip-path=\"url(#clip7702)\" style=\"stroke:#000000; stroke-width:0.5; stroke-opacity:0.1; fill:none\" points=\"\n",
       "  37.0032,277.172 280.315,277.172 \n",
       "  \"/>\n",
       "<polyline clip-path=\"url(#clip7702)\" style=\"stroke:#000000; stroke-width:0.5; stroke-opacity:0.1; fill:none\" points=\"\n",
       "  37.0032,186.43 280.315,186.43 \n",
       "  \"/>\n",
       "<polyline clip-path=\"url(#clip7702)\" style=\"stroke:#000000; stroke-width:0.5; stroke-opacity:0.1; fill:none\" points=\"\n",
       "  37.0032,95.6888 280.315,95.6888 \n",
       "  \"/>\n",
       "<polyline clip-path=\"url(#clip7700)\" style=\"stroke:#000000; stroke-width:1; stroke-opacity:1; fill:none\" points=\"\n",
       "  37.0032,375.869 280.315,375.869 \n",
       "  \"/>\n",
       "<polyline clip-path=\"url(#clip7700)\" style=\"stroke:#000000; stroke-width:1; stroke-opacity:1; fill:none\" points=\"\n",
       "  37.0032,375.869 37.0032,31.4961 \n",
       "  \"/>\n",
       "<polyline clip-path=\"url(#clip7700)\" style=\"stroke:#000000; stroke-width:1; stroke-opacity:1; fill:none\" points=\"\n",
       "  66.8433,375.869 66.8433,370.703 \n",
       "  \"/>\n",
       "<polyline clip-path=\"url(#clip7700)\" style=\"stroke:#000000; stroke-width:1; stroke-opacity:1; fill:none\" points=\"\n",
       "  112.751,375.869 112.751,370.703 \n",
       "  \"/>\n",
       "<polyline clip-path=\"url(#clip7700)\" style=\"stroke:#000000; stroke-width:1; stroke-opacity:1; fill:none\" points=\"\n",
       "  158.659,375.869 158.659,370.703 \n",
       "  \"/>\n",
       "<polyline clip-path=\"url(#clip7700)\" style=\"stroke:#000000; stroke-width:1; stroke-opacity:1; fill:none\" points=\"\n",
       "  204.567,375.869 204.567,370.703 \n",
       "  \"/>\n",
       "<polyline clip-path=\"url(#clip7700)\" style=\"stroke:#000000; stroke-width:1; stroke-opacity:1; fill:none\" points=\"\n",
       "  250.475,375.869 250.475,370.703 \n",
       "  \"/>\n",
       "<polyline clip-path=\"url(#clip7700)\" style=\"stroke:#000000; stroke-width:1; stroke-opacity:1; fill:none\" points=\"\n",
       "  37.0032,367.913 40.6529,367.913 \n",
       "  \"/>\n",
       "<polyline clip-path=\"url(#clip7700)\" style=\"stroke:#000000; stroke-width:1; stroke-opacity:1; fill:none\" points=\"\n",
       "  37.0032,277.172 40.6529,277.172 \n",
       "  \"/>\n",
       "<polyline clip-path=\"url(#clip7700)\" style=\"stroke:#000000; stroke-width:1; stroke-opacity:1; fill:none\" points=\"\n",
       "  37.0032,186.43 40.6529,186.43 \n",
       "  \"/>\n",
       "<polyline clip-path=\"url(#clip7700)\" style=\"stroke:#000000; stroke-width:1; stroke-opacity:1; fill:none\" points=\"\n",
       "  37.0032,95.6888 40.6529,95.6888 \n",
       "  \"/>\n",
       "<g clip-path=\"url(#clip7700)\">\n",
       "<text style=\"fill:#000000; fill-opacity:1; font-family:Arial,Helvetica Neue,Helvetica,sans-serif; font-size:12; text-anchor:middle;\" transform=\"rotate(0, 66.8433, 389.669)\" x=\"66.8433\" y=\"389.669\">-4</text>\n",
       "</g>\n",
       "<g clip-path=\"url(#clip7700)\">\n",
       "<text style=\"fill:#000000; fill-opacity:1; font-family:Arial,Helvetica Neue,Helvetica,sans-serif; font-size:12; text-anchor:middle;\" transform=\"rotate(0, 112.751, 389.669)\" x=\"112.751\" y=\"389.669\">-2</text>\n",
       "</g>\n",
       "<g clip-path=\"url(#clip7700)\">\n",
       "<text style=\"fill:#000000; fill-opacity:1; font-family:Arial,Helvetica Neue,Helvetica,sans-serif; font-size:12; text-anchor:middle;\" transform=\"rotate(0, 158.659, 389.669)\" x=\"158.659\" y=\"389.669\">0</text>\n",
       "</g>\n",
       "<g clip-path=\"url(#clip7700)\">\n",
       "<text style=\"fill:#000000; fill-opacity:1; font-family:Arial,Helvetica Neue,Helvetica,sans-serif; font-size:12; text-anchor:middle;\" transform=\"rotate(0, 204.567, 389.669)\" x=\"204.567\" y=\"389.669\">2</text>\n",
       "</g>\n",
       "<g clip-path=\"url(#clip7700)\">\n",
       "<text style=\"fill:#000000; fill-opacity:1; font-family:Arial,Helvetica Neue,Helvetica,sans-serif; font-size:12; text-anchor:middle;\" transform=\"rotate(0, 250.475, 389.669)\" x=\"250.475\" y=\"389.669\">4</text>\n",
       "</g>\n",
       "<g clip-path=\"url(#clip7700)\">\n",
       "<text style=\"fill:#000000; fill-opacity:1; font-family:Arial,Helvetica Neue,Helvetica,sans-serif; font-size:12; text-anchor:end;\" transform=\"rotate(0, 31.0032, 372.413)\" x=\"31.0032\" y=\"372.413\">0</text>\n",
       "</g>\n",
       "<g clip-path=\"url(#clip7700)\">\n",
       "<text style=\"fill:#000000; fill-opacity:1; font-family:Arial,Helvetica Neue,Helvetica,sans-serif; font-size:12; text-anchor:end;\" transform=\"rotate(0, 31.0032, 281.672)\" x=\"31.0032\" y=\"281.672\">5</text>\n",
       "</g>\n",
       "<g clip-path=\"url(#clip7700)\">\n",
       "<text style=\"fill:#000000; fill-opacity:1; font-family:Arial,Helvetica Neue,Helvetica,sans-serif; font-size:12; text-anchor:end;\" transform=\"rotate(0, 31.0032, 190.93)\" x=\"31.0032\" y=\"190.93\">10</text>\n",
       "</g>\n",
       "<g clip-path=\"url(#clip7700)\">\n",
       "<text style=\"fill:#000000; fill-opacity:1; font-family:Arial,Helvetica Neue,Helvetica,sans-serif; font-size:12; text-anchor:end;\" transform=\"rotate(0, 31.0032, 100.189)\" x=\"31.0032\" y=\"100.189\">15</text>\n",
       "</g>\n",
       "<g clip-path=\"url(#clip7700)\">\n",
       "<text style=\"fill:#000000; fill-opacity:1; font-family:Arial,Helvetica Neue,Helvetica,sans-serif; font-size:21; text-anchor:middle;\" transform=\"rotate(0, 158.659, 18)\" x=\"158.659\" y=\"18\">mu1</text>\n",
       "</g>\n",
       "<polyline clip-path=\"url(#clip7702)\" style=\"stroke:#009af9; stroke-width:1; stroke-opacity:1; fill:none\" points=\"\n",
       "  43.8894,41.2425 69.3938,151.018 94.8981,238.392 120.403,303.376 145.907,345.957 171.411,366.122 196.916,363.879 222.42,339.228 247.924,292.176 273.429,222.739 \n",
       "  \n",
       "  \"/>\n",
       "<polygon clip-path=\"url(#clip7700)\" points=\"\n",
       "337.003,375.869 580.315,375.869 580.315,31.4961 337.003,31.4961 \n",
       "  \" fill=\"#ffffff\" fill-opacity=\"1\"/>\n",
       "<defs>\n",
       "  <clipPath id=\"clip7703\">\n",
       "    <rect x=\"337\" y=\"31\" width=\"244\" height=\"345\"/>\n",
       "  </clipPath>\n",
       "</defs>\n",
       "<polyline clip-path=\"url(#clip7703)\" style=\"stroke:#000000; stroke-width:0.5; stroke-opacity:0.1; fill:none\" points=\"\n",
       "  366.843,375.869 366.843,31.4961 \n",
       "  \"/>\n",
       "<polyline clip-path=\"url(#clip7703)\" style=\"stroke:#000000; stroke-width:0.5; stroke-opacity:0.1; fill:none\" points=\"\n",
       "  412.751,375.869 412.751,31.4961 \n",
       "  \"/>\n",
       "<polyline clip-path=\"url(#clip7703)\" style=\"stroke:#000000; stroke-width:0.5; stroke-opacity:0.1; fill:none\" points=\"\n",
       "  458.659,375.869 458.659,31.4961 \n",
       "  \"/>\n",
       "<polyline clip-path=\"url(#clip7703)\" style=\"stroke:#000000; stroke-width:0.5; stroke-opacity:0.1; fill:none\" points=\"\n",
       "  504.567,375.869 504.567,31.4961 \n",
       "  \"/>\n",
       "<polyline clip-path=\"url(#clip7703)\" style=\"stroke:#000000; stroke-width:0.5; stroke-opacity:0.1; fill:none\" points=\"\n",
       "  550.475,375.869 550.475,31.4961 \n",
       "  \"/>\n",
       "<polyline clip-path=\"url(#clip7703)\" style=\"stroke:#000000; stroke-width:0.5; stroke-opacity:0.1; fill:none\" points=\"\n",
       "  337.003,367.916 580.315,367.916 \n",
       "  \"/>\n",
       "<polyline clip-path=\"url(#clip7703)\" style=\"stroke:#000000; stroke-width:0.5; stroke-opacity:0.1; fill:none\" points=\"\n",
       "  337.003,277.175 580.315,277.175 \n",
       "  \"/>\n",
       "<polyline clip-path=\"url(#clip7703)\" style=\"stroke:#000000; stroke-width:0.5; stroke-opacity:0.1; fill:none\" points=\"\n",
       "  337.003,186.433 580.315,186.433 \n",
       "  \"/>\n",
       "<polyline clip-path=\"url(#clip7703)\" style=\"stroke:#000000; stroke-width:0.5; stroke-opacity:0.1; fill:none\" points=\"\n",
       "  337.003,95.6912 580.315,95.6912 \n",
       "  \"/>\n",
       "<polyline clip-path=\"url(#clip7700)\" style=\"stroke:#000000; stroke-width:1; stroke-opacity:1; fill:none\" points=\"\n",
       "  337.003,375.869 580.315,375.869 \n",
       "  \"/>\n",
       "<polyline clip-path=\"url(#clip7700)\" style=\"stroke:#000000; stroke-width:1; stroke-opacity:1; fill:none\" points=\"\n",
       "  337.003,375.869 337.003,31.4961 \n",
       "  \"/>\n",
       "<polyline clip-path=\"url(#clip7700)\" style=\"stroke:#000000; stroke-width:1; stroke-opacity:1; fill:none\" points=\"\n",
       "  366.843,375.869 366.843,370.703 \n",
       "  \"/>\n",
       "<polyline clip-path=\"url(#clip7700)\" style=\"stroke:#000000; stroke-width:1; stroke-opacity:1; fill:none\" points=\"\n",
       "  412.751,375.869 412.751,370.703 \n",
       "  \"/>\n",
       "<polyline clip-path=\"url(#clip7700)\" style=\"stroke:#000000; stroke-width:1; stroke-opacity:1; fill:none\" points=\"\n",
       "  458.659,375.869 458.659,370.703 \n",
       "  \"/>\n",
       "<polyline clip-path=\"url(#clip7700)\" style=\"stroke:#000000; stroke-width:1; stroke-opacity:1; fill:none\" points=\"\n",
       "  504.567,375.869 504.567,370.703 \n",
       "  \"/>\n",
       "<polyline clip-path=\"url(#clip7700)\" style=\"stroke:#000000; stroke-width:1; stroke-opacity:1; fill:none\" points=\"\n",
       "  550.475,375.869 550.475,370.703 \n",
       "  \"/>\n",
       "<polyline clip-path=\"url(#clip7700)\" style=\"stroke:#000000; stroke-width:1; stroke-opacity:1; fill:none\" points=\"\n",
       "  337.003,367.916 340.653,367.916 \n",
       "  \"/>\n",
       "<polyline clip-path=\"url(#clip7700)\" style=\"stroke:#000000; stroke-width:1; stroke-opacity:1; fill:none\" points=\"\n",
       "  337.003,277.175 340.653,277.175 \n",
       "  \"/>\n",
       "<polyline clip-path=\"url(#clip7700)\" style=\"stroke:#000000; stroke-width:1; stroke-opacity:1; fill:none\" points=\"\n",
       "  337.003,186.433 340.653,186.433 \n",
       "  \"/>\n",
       "<polyline clip-path=\"url(#clip7700)\" style=\"stroke:#000000; stroke-width:1; stroke-opacity:1; fill:none\" points=\"\n",
       "  337.003,95.6912 340.653,95.6912 \n",
       "  \"/>\n",
       "<g clip-path=\"url(#clip7700)\">\n",
       "<text style=\"fill:#000000; fill-opacity:1; font-family:Arial,Helvetica Neue,Helvetica,sans-serif; font-size:12; text-anchor:middle;\" transform=\"rotate(0, 366.843, 389.669)\" x=\"366.843\" y=\"389.669\">-4</text>\n",
       "</g>\n",
       "<g clip-path=\"url(#clip7700)\">\n",
       "<text style=\"fill:#000000; fill-opacity:1; font-family:Arial,Helvetica Neue,Helvetica,sans-serif; font-size:12; text-anchor:middle;\" transform=\"rotate(0, 412.751, 389.669)\" x=\"412.751\" y=\"389.669\">-2</text>\n",
       "</g>\n",
       "<g clip-path=\"url(#clip7700)\">\n",
       "<text style=\"fill:#000000; fill-opacity:1; font-family:Arial,Helvetica Neue,Helvetica,sans-serif; font-size:12; text-anchor:middle;\" transform=\"rotate(0, 458.659, 389.669)\" x=\"458.659\" y=\"389.669\">0</text>\n",
       "</g>\n",
       "<g clip-path=\"url(#clip7700)\">\n",
       "<text style=\"fill:#000000; fill-opacity:1; font-family:Arial,Helvetica Neue,Helvetica,sans-serif; font-size:12; text-anchor:middle;\" transform=\"rotate(0, 504.567, 389.669)\" x=\"504.567\" y=\"389.669\">2</text>\n",
       "</g>\n",
       "<g clip-path=\"url(#clip7700)\">\n",
       "<text style=\"fill:#000000; fill-opacity:1; font-family:Arial,Helvetica Neue,Helvetica,sans-serif; font-size:12; text-anchor:middle;\" transform=\"rotate(0, 550.475, 389.669)\" x=\"550.475\" y=\"389.669\">4</text>\n",
       "</g>\n",
       "<g clip-path=\"url(#clip7700)\">\n",
       "<text style=\"fill:#000000; fill-opacity:1; font-family:Arial,Helvetica Neue,Helvetica,sans-serif; font-size:12; text-anchor:end;\" transform=\"rotate(0, 331.003, 372.416)\" x=\"331.003\" y=\"372.416\">0</text>\n",
       "</g>\n",
       "<g clip-path=\"url(#clip7700)\">\n",
       "<text style=\"fill:#000000; fill-opacity:1; font-family:Arial,Helvetica Neue,Helvetica,sans-serif; font-size:12; text-anchor:end;\" transform=\"rotate(0, 331.003, 281.675)\" x=\"331.003\" y=\"281.675\">5</text>\n",
       "</g>\n",
       "<g clip-path=\"url(#clip7700)\">\n",
       "<text style=\"fill:#000000; fill-opacity:1; font-family:Arial,Helvetica Neue,Helvetica,sans-serif; font-size:12; text-anchor:end;\" transform=\"rotate(0, 331.003, 190.933)\" x=\"331.003\" y=\"190.933\">10</text>\n",
       "</g>\n",
       "<g clip-path=\"url(#clip7700)\">\n",
       "<text style=\"fill:#000000; fill-opacity:1; font-family:Arial,Helvetica Neue,Helvetica,sans-serif; font-size:12; text-anchor:end;\" transform=\"rotate(0, 331.003, 100.191)\" x=\"331.003\" y=\"100.191\">15</text>\n",
       "</g>\n",
       "<g clip-path=\"url(#clip7700)\">\n",
       "<text style=\"fill:#000000; fill-opacity:1; font-family:Arial,Helvetica Neue,Helvetica,sans-serif; font-size:21; text-anchor:middle;\" transform=\"rotate(0, 458.659, 18)\" x=\"458.659\" y=\"18\">mu2</text>\n",
       "</g>\n",
       "<polyline clip-path=\"url(#clip7703)\" style=\"stroke:#009af9; stroke-width:1; stroke-opacity:1; fill:none\" points=\"\n",
       "  343.889,222.738 369.394,292.197 394.898,339.248 420.403,363.881 445.907,366.122 471.411,345.971 496.916,303.381 522.42,238.388 547.924,151.048 573.429,41.2425 \n",
       "  \n",
       "  \"/>\n",
       "</svg>\n"
      ]
     },
     "execution_count": 18,
     "metadata": {},
     "output_type": "execute_result"
    }
   ],
   "source": [
    "Plots.plot(listPlots[1], listPlots[2], leg = false)"
   ]
  }
 ],
 "metadata": {
  "kernelspec": {
   "display_name": "Julia 0.6.3",
   "language": "julia",
   "name": "julia-0.6"
  },
  "language_info": {
   "file_extension": ".jl",
   "mimetype": "application/julia",
   "name": "julia",
   "version": "0.6.3"
  }
 },
 "nbformat": 4,
 "nbformat_minor": 2
}
