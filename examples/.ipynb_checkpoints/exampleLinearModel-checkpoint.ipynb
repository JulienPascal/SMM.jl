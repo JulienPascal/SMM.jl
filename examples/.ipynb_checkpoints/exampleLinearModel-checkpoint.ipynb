{
 "cells": [
  {
   "cell_type": "markdown",
   "metadata": {},
   "source": [
    "# Example Linear Model\n",
    "\n",
    "This notebook shows how to estimate the linear model using the simulated method of moments.\n",
    "The econometrician observes a dependent variable $y_{t}$ and a set of independent variables $\\boldsymbol{x_{1}}$, ..., $\\boldsymbol{x_{t}}$, ... $\\boldsymbol{x_{T}}$. The econometrician aims at estimating the intercept $\\alpha$ and the slope coefficients $\\boldsymbol{\\beta}$ :\n",
    "\n",
    "$$ y_{t} = \\alpha + \\boldsymbol{x_{t}}\\boldsymbol{{\\beta}} + e_{t} $$\n",
    "\n",
    "where $e_{t}$ are error terms, potentially serially correlated. "
   ]
  },
  {
   "cell_type": "markdown",
   "metadata": {},
   "source": [
    "## Step 0: Simulating data\n",
    "\n",
    "Let's fix the value of $\\boldsymbol{\\beta} = \\boldsymbol{\\beta_{0}}$ and simulate a sample according to the linear model described above. Our goal is to recover the true value of $\\boldsymbol{\\beta}$ using moment conditions and simulated data."
   ]
  },
  {
   "cell_type": "markdown",
   "metadata": {},
   "source": [
    "Let's start by simulating error terms:"
   ]
  },
  {
   "cell_type": "code",
   "execution_count": 1,
   "metadata": {
    "scrolled": false
   },
   "outputs": [
    {
     "name": "stdout",
     "output_type": "stream",
     "text": [
      "True intercept = 0.5662374165061859\n",
      "True coefficient beta0 = [0.590845, 0.766797]\n",
      "Serial correlation coefficient theta0 = 0.0\n"
     ]
    }
   ],
   "source": [
    "using Distributions\n",
    "srand(1234)         #for replicability reasons\n",
    "T = 100000          #number of periods\n",
    "P = 2               #number of dependent variables\n",
    "beta0 = rand(P)     #choose true coefficients by drawing from a uniform distribution on [0,1]\n",
    "alpha0 = rand(1)[]  #intercept\n",
    "theta0 = 0.0        #coefficient to create serial correlation in the error terms\n",
    "println(\"True intercept = $(alpha0)\")\n",
    "println(\"True coefficient beta0 = $(beta0)\")\n",
    "println(\"Serial correlation coefficient theta0 = $(theta0)\")\n",
    "\n",
    "# Generation of error terms\n",
    "# row = individual dimension\n",
    "# column = time dimension \n",
    "U = zeros(T)\n",
    "d = Normal()\n",
    "U[1] = rand(d, 1)[] #first error term\n",
    "# loop over time periods\n",
    "for t = 2:T\n",
    "    U[t] = rand(d, 1)[] + theta0*U[t-1]\n",
    "end"
   ]
  },
  {
   "cell_type": "markdown",
   "metadata": {},
   "source": [
    "Using the error terms, we can simulate the $y_t$ implied by the model:"
   ]
  },
  {
   "cell_type": "code",
   "execution_count": 2,
   "metadata": {
    "collapsed": true
   },
   "outputs": [],
   "source": [
    "# Let's simulate x_t\n",
    "using Distributions\n",
    "x = zeros(T, P)\n",
    "\n",
    "d = Uniform(0, 5)\n",
    "for p = 1:P  \n",
    "        x[:,p] = rand(d, T)\n",
    "end\n",
    "\n",
    "# Let's calculate the resulting y_t\n",
    "y = zeros(T)\n",
    "\n",
    "for t=1:T\n",
    "    y[t] = alpha0 + x[t,1]*beta0[1] + x[t,2]*beta0[2] + U[t]\n",
    "end"
   ]
  },
  {
   "cell_type": "markdown",
   "metadata": {},
   "source": [
    "## Step 1: Initializing a SMMProblem"
   ]
  },
  {
   "cell_type": "code",
   "execution_count": 3,
   "metadata": {
    "scrolled": true
   },
   "outputs": [
    {
     "name": "stdout",
     "output_type": "stream",
     "text": [
      "Nb processes = 1\n"
     ]
    }
   ],
   "source": [
    "#Uncomment to use several workers\n",
    "#=\n",
    "if nworkers() < 4\n",
    "    addprocs(3)\n",
    "end\n",
    "=#\n",
    "\n",
    "println(\"Nb processes = $(nprocs())\")\n",
    "@everywhere using SMM\n",
    "@everywhere using Distributions\n",
    "@everywhere using DataStructures\n",
    "@everywhere using StatsBase\n",
    "# Because of this issue (https://github.com/JuliaIO/JLD2.jl/issues/107)\n",
    "# you also need to import BlackBoxOptim to save and load\n",
    "#----------------------------------------------------------------------\n",
    "if VERSION > v\"0.6.4\"\n",
    "    using BlackBoxOptim\n",
    "end"
   ]
  },
  {
   "cell_type": "code",
   "execution_count": 4,
   "metadata": {
    "scrolled": false
   },
   "outputs": [
    {
     "name": "stderr",
     "output_type": "stream",
     "text": [
      "\u001b[1m\u001b[36mINFO: \u001b[39m\u001b[22m\u001b[36mWARNING. When maxFuncEvals/saveSteps < 6 using BlackBoxOptim, the performance\n",
      "\t\t\t\t\t\tof the global maximizer may deteriorate.\n",
      "\u001b[39m"
     ]
    }
   ],
   "source": [
    "myProblem = SMMProblem(options = SMMOptions(maxFuncEvals=500, saveSteps = 500, globalOptimizer = :dxnes, localOptimizer = :LBFGS, minBox = false, showDistance = false));"
   ]
  },
  {
   "cell_type": "markdown",
   "metadata": {},
   "source": [
    "## Step 2: Set emprical moments and subjective weights"
   ]
  },
  {
   "cell_type": "markdown",
   "metadata": {},
   "source": [
    "We aim at estimating $3$ parameters. So we should at least have $3$ moment conditions. \n",
    "Here, let's use the following 5 moment conditions:"
   ]
  },
  {
   "cell_type": "code",
   "execution_count": 5,
   "metadata": {
    "scrolled": true
   },
   "outputs": [
    {
     "data": {
      "text/plain": [
       "2-element Array{Float64,1}:\n",
       " 219.249\n",
       " 219.249"
      ]
     },
     "execution_count": 5,
     "metadata": {},
     "output_type": "execute_result"
    }
   ],
   "source": [
    "dictEmpiricalMoments = OrderedDict{String,Array{Float64,1}}()\n",
    "dictEmpiricalMoments[\"mean\"] = [mean(y); mean(y)] #informative on the intercept\n",
    "dictEmpiricalMoments[\"mean_x1y\"] = [mean(x[:,1] .* y); mean(x[:,1] .* y)] #informative on betas\n",
    "dictEmpiricalMoments[\"mean_x2y\"] = [mean(x[:,2] .* y); mean(x[:,2] .* y)] #informative on betas\n",
    "dictEmpiricalMoments[\"mean_x1y^2\"] = [mean((x[:,1] .* y).^2); mean((x[:,1] .* y).^2)] #informative on betas\n",
    "dictEmpiricalMoments[\"mean_x2y^2\"] = [mean((x[:,2] .* y).^2); mean((x[:,2] .* y).^2)] #informative on betas"
   ]
  },
  {
   "cell_type": "code",
   "execution_count": 6,
   "metadata": {
    "scrolled": true
   },
   "outputs": [
    {
     "data": {
      "text/plain": [
       "DataStructures.OrderedDict{String,Array{Float64,1}} with 5 entries:\n",
       "  \"mean\"       => [3.95288, 3.95288]\n",
       "  \"mean_x1y\"   => [11.0611, 11.0611]\n",
       "  \"mean_x2y\"   => [11.4634, 11.4634]\n",
       "  \"mean_x1y^2\" => [203.361, 203.361]\n",
       "  \"mean_x2y^2\" => [219.249, 219.249]"
      ]
     },
     "execution_count": 6,
     "metadata": {},
     "output_type": "execute_result"
    }
   ],
   "source": [
    "set_empirical_moments!(myProblem, dictEmpiricalMoments)"
   ]
  },
  {
   "cell_type": "markdown",
   "metadata": {},
   "source": [
    "## Step 3. Set priors"
   ]
  },
  {
   "cell_type": "markdown",
   "metadata": {},
   "source": [
    "One has to attach priors values the `SMMProblem` we are going to use.\n",
    "This is achieved using the function  `set_priors!()`"
   ]
  },
  {
   "cell_type": "code",
   "execution_count": 7,
   "metadata": {
    "scrolled": true
   },
   "outputs": [
    {
     "data": {
      "text/plain": [
       "3-element Array{Float64,1}:\n",
       " 0.5  \n",
       " 0.001\n",
       " 1.0  "
      ]
     },
     "execution_count": 7,
     "metadata": {},
     "output_type": "execute_result"
    }
   ],
   "source": [
    "dictPriors = OrderedDict{String,Array{Float64,1}}()\n",
    "dictPriors[\"alpha\"] = [0.5, 0.001, 1.0]\n",
    "dictPriors[\"beta1\"] = [0.5, 0.001, 1.0]\n",
    "dictPriors[\"beta2\"] = [0.5, 0.001, 1.0]"
   ]
  },
  {
   "cell_type": "code",
   "execution_count": 8,
   "metadata": {
    "scrolled": true
   },
   "outputs": [
    {
     "data": {
      "text/plain": [
       "DataStructures.OrderedDict{String,Array{Float64,1}} with 3 entries:\n",
       "  \"alpha\" => [0.5, 0.001, 1.0]\n",
       "  \"beta1\" => [0.5, 0.001, 1.0]\n",
       "  \"beta2\" => [0.5, 0.001, 1.0]"
      ]
     },
     "execution_count": 8,
     "metadata": {},
     "output_type": "execute_result"
    }
   ],
   "source": [
    "set_priors!(myProblem, dictPriors)"
   ]
  },
  {
   "cell_type": "markdown",
   "metadata": {},
   "source": [
    "## Step 4: Specifying the function generating simulated moments using parameter values\n"
   ]
  },
  {
   "cell_type": "code",
   "execution_count": 9,
   "metadata": {
    "collapsed": true
   },
   "outputs": [],
   "source": [
    "# x[1] corresponds to the intercept\n",
    "# x[1] corresponds to beta1\n",
    "# x[3] corresponds to beta2\n",
    "@everywhere function functionLinearModel(x; nbDraws::Int64 = 1000000, burnInPerc::Int64 = 10)\n",
    "\n",
    "    # Structural Model\n",
    "    #-----------------\n",
    "    srand(1234) #for replicability reasons\n",
    "    T = nbDraws \n",
    "    P = 2       #number of dependent variables\n",
    "    \n",
    "    alpha = x[1]\n",
    "    beta = x[2:end]    \n",
    "    theta = 0.0     #coefficient to create serial correlation in the error terms\n",
    "    \n",
    "    \n",
    "    # Creation of error terms\n",
    "    # row = individual dimension\n",
    "    # column = time dimension \n",
    "    U = zeros(T)\n",
    "    d = Normal()\n",
    "    U[1] = rand(d, 1)[] #first error term\n",
    "    # loop over time periods\n",
    "    for t = 2:T\n",
    "        U[t] = rand(d, 1)[] + theta*U[t-1]\n",
    "    end\n",
    "\n",
    "    simX = zeros(T, P)\n",
    "    d = Uniform(0, 5)\n",
    "    for p = 1:P  \n",
    "            simX[:,p] = rand(d, T)\n",
    "    end\n",
    "\n",
    "    # Let's calculate the resulting y_t\n",
    "    y = zeros(T)\n",
    "\n",
    "    for t=1:T\n",
    "        y[t] = alpha + simX[t,1]*beta[1] + simX[t,2]*beta[2] + U[t]\n",
    "    end\n",
    "    \n",
    "    # Get rid of the burn-in phase:\n",
    "    #------------------------------\n",
    "    startT = div(nbDraws, burnInPerc)\n",
    "    \n",
    "    # Moments:\n",
    "    #---------\n",
    "    output = OrderedDict{String,Float64}()\n",
    "    output[\"mean\"] = mean(y[startT:nbDraws])\n",
    "    output[\"mean_x1y\"] = mean(simX[startT:nbDraws,1] .* y[startT:nbDraws])\n",
    "    output[\"mean_x2y\"] = mean(simX[startT:nbDraws,2] .* y[startT:nbDraws])\n",
    "    output[\"mean_x1y^2\"] = mean((simX[startT:nbDraws,1] .* y[startT:nbDraws]).^2)\n",
    "    output[\"mean_x2y^2\"] = mean(simX[startT:nbDraws,2] .* y[startT:nbDraws]).^2)\n",
    "\n",
    "    return output\n",
    "end"
   ]
  },
  {
   "cell_type": "code",
   "execution_count": 10,
   "metadata": {},
   "outputs": [
    {
     "data": {
      "text/plain": [
       "(::simulate_empirical_moments_array) (generic function with 1 method)"
      ]
     },
     "execution_count": 10,
     "metadata": {},
     "output_type": "execute_result"
    }
   ],
   "source": [
    "set_simulate_empirical_moments!(myProblem, functionLinearModel)"
   ]
  },
  {
   "cell_type": "markdown",
   "metadata": {},
   "source": [
    "## Step 5. Constructing the objective function"
   ]
  },
  {
   "cell_type": "code",
   "execution_count": 11,
   "metadata": {},
   "outputs": [
    {
     "data": {
      "text/plain": [
       "(::objective_function_percent) (generic function with 1 method)"
      ]
     },
     "execution_count": 11,
     "metadata": {},
     "output_type": "execute_result"
    }
   ],
   "source": [
    "# Construct the objective function using: \n",
    "#* the function: parameter -> simulated moments\n",
    "#* emprical moments values\n",
    "#* emprical moments weights\n",
    "construct_objective_function!(myProblem)"
   ]
  },
  {
   "cell_type": "markdown",
   "metadata": {},
   "source": [
    "## Step 6. Running the optimization"
   ]
  },
  {
   "cell_type": "code",
   "execution_count": 12,
   "metadata": {},
   "outputs": [
    {
     "name": "stderr",
     "output_type": "stream",
     "text": [
      "\u001b[1m\u001b[36mINFO: \u001b[39m\u001b[22m\u001b[36mSearching for 1 valid starting values\n",
      "\u001b[39m\u001b[1m\u001b[36mINFO: \u001b[39m\u001b[22m\u001b[36mCreating 1000 potential grids\n",
      "\u001b[39m\u001b[1m\u001b[36mINFO: \u001b[39m\u001b[22m\u001b[36mValid starting value = [0.466814, 0.488987, 0.190517]\n",
      "\u001b[39m\u001b[1m\u001b[36mINFO: \u001b[39m\u001b[22m\u001b[36mFound 1 valid starting values\n",
      "\u001b[39m\u001b[1m\u001b[36mINFO: \u001b[39m\u001b[22m\u001b[36mStarting value = [0.466814, 0.488987, 0.190517]\n",
      "\u001b[39m\u001b[1m\u001b[36mINFO: \u001b[39m\u001b[22m\u001b[36mUsing Fminbox = false\n",
      "\u001b[39m\u001b[1m\u001b[36mINFO: \u001b[39m\u001b[22m\u001b[36mConvergence reached for 1 worker(s).\n",
      "\u001b[39m\u001b[1m\u001b[36mINFO: \u001b[39m\u001b[22m\u001b[36mMinimum value found with worker 1\n",
      "\u001b[39m\u001b[1m\u001b[36mINFO: \u001b[39m\u001b[22m\u001b[36mBest value found with starting values = [0.466814, 0.488987, 0.190517].\n",
      "\u001b[39m\u001b[1m\u001b[36mINFO: \u001b[39m\u001b[22m\u001b[36mBest value = 8.550472861372375e-7.\n",
      "\u001b[39m\u001b[1m\u001b[36mINFO: \u001b[39m\u001b[22m\u001b[36mMinimizer = [0.587603, 0.58141, 0.762668]\n",
      "\u001b[39m"
     ]
    },
    {
     "name": "stdout",
     "output_type": "stream",
     "text": [
      " 67.708742 seconds (236.31 M allocations: 50.348 GiB, 52.94% gc time)\n"
     ]
    },
    {
     "data": {
      "text/plain": [
       "1-element Array{Any,1}:\n",
       " Results of Optimization Algorithm\n",
       " * Algorithm: L-BFGS\n",
       " * Starting Point: [0.46681397199050684,0.4889868243238663, ...]\n",
       " * Minimizer: [0.5876034719028441,0.5814096282416821, ...]\n",
       " * Minimum: 8.550473e-07\n",
       " * Iterations: 10\n",
       " * Convergence: true\n",
       "   * |x - x'| ≤ 1.0e-32: false \n",
       "     |x - x'| = 7.25e-06 \n",
       "   * |f(x) - f(x')| ≤ 1.0e-32 |f(x)|: false\n",
       "     |f(x) - f(x')| = 1.94e-07 |f(x)|\n",
       "   * |g(x)| ≤ 1.0e-08: true \n",
       "     |g(x)| = 3.18e-10 \n",
       "   * Stopped by an increasing objective: false\n",
       "   * Reached Maximum Number of Iterations: false\n",
       " * Objective Calls: 32\n",
       " * Gradient Calls: 32"
      ]
     },
     "execution_count": 12,
     "metadata": {},
     "output_type": "execute_result"
    }
   ],
   "source": [
    "# Run the optimization in parallel using n different starting values\n",
    "# where n is equal to the number of available workers\n",
    "#--------------------------------------------------------------------\n",
    "@time listOptimResults = local_to_global!(myProblem, verbose = true)"
   ]
  },
  {
   "cell_type": "markdown",
   "metadata": {},
   "source": [
    "## Step 7. Analysing Results\n",
    "\n",
    "### A. Point estimates"
   ]
  },
  {
   "cell_type": "markdown",
   "metadata": {},
   "source": [
    "The parameter value that minimizes the distance between empirical and simulated moments can be accessed using \n",
    "the function `smm_minimizer` "
   ]
  },
  {
   "cell_type": "code",
   "execution_count": 13,
   "metadata": {},
   "outputs": [
    {
     "name": "stdout",
     "output_type": "stream",
     "text": [
      "Estimated value for alpha = 0.5876034719028441\n",
      "True value for alpha = 0.5662374165061859 \n",
      "\n",
      "Estimated value for beta1 = 0.5814096282416821\n",
      "True value for beta1 = 0.5908446386657102 \n",
      "\n",
      "Estimated value for beta2 = 0.7626676498310252\n",
      "True value for beta2 = 0.7667970365022592 \n",
      "\n"
     ]
    }
   ],
   "source": [
    "minimizer = smm_local_minimizer(myProblem)\n",
    "\n",
    "println(\"Estimated value for alpha = $(minimizer[1])\")\n",
    "println(\"True value for alpha = $(alpha0[1]) \\n\")\n",
    "\n",
    "println(\"Estimated value for beta1 = $(minimizer[2])\")\n",
    "println(\"True value for beta1 = $(beta0[1]) \\n\")\n",
    "\n",
    "println(\"Estimated value for beta2 = $(minimizer[3])\")\n",
    "println(\"True value for beta2 = $(beta0[2]) \\n\")"
   ]
  },
  {
   "cell_type": "markdown",
   "metadata": {},
   "source": [
    "### B. Inference"
   ]
  },
  {
   "cell_type": "markdown",
   "metadata": {},
   "source": [
    "### Estimation of the distance matrix $\\Sigma_0$\n",
    "\n",
    "Let's calculate the variance-covariance matrix of the \"distance matrix\" (using the terminolgy of Duffie and Singleton (1993)). Here we know that errors are not correlated (the serial correlationcoefficient is set to 0 in the code above). in the presence of serial correlation, an HAC estimation would be needed (see the package [CovarianceMatrices](https://github.com/gragusa/CovarianceMatrices.jl) for instance)"
   ]
  },
  {
   "cell_type": "code",
   "execution_count": 14,
   "metadata": {
    "scrolled": true
   },
   "outputs": [
    {
     "data": {
      "text/plain": [
       "5×5 Array{Float64,2}:\n",
       "   2.942     12.1631    13.6279    346.754    392.581\n",
       "  12.1631    81.0139    47.795    2369.6     1503.16 \n",
       "  13.6279    47.795     87.8405   1490.87    2622.29 \n",
       " 346.754   2369.6     1490.87    77664.1    50175.4  \n",
       " 392.581   1503.16    2622.29    50175.4    87292.2  "
      ]
     },
     "execution_count": 14,
     "metadata": {},
     "output_type": "execute_result"
    }
   ],
   "source": [
    "# Empirical Series\n",
    "#-----------------\n",
    "X = zeros(T, 5)\n",
    "\n",
    "X[:,1] = y\n",
    "X[:,2] = (x[:,1] .* y)\n",
    "X[:,3] = (x[:,2] .* y)\n",
    "X[:,4] = (x[:,1] .* y).^2\n",
    "X[:,5] = (x[:,2] .* y).^2\n",
    "\n",
    "Sigma0 = cov(X)"
   ]
  },
  {
   "cell_type": "markdown",
   "metadata": {},
   "source": [
    "### Asymptotic variance"
   ]
  },
  {
   "cell_type": "markdown",
   "metadata": {},
   "source": [
    "The asymptotic variance of the SMM estimate is calculated using the usual GMM sandwich formula, corrected to take\n",
    "into account simulation noise. See Duffie and Singleton (1993) and Gouriéroux and Montfort (1996). Calculating the \n",
    "asymptotic variance using SMM.jl is done in two steps:\n",
    "* setting the value of of the distance matrix using the function `set_Sigma0!`\n",
    "* calculating the asymptotic variance using the function `calculate_Avar!`"
   ]
  },
  {
   "cell_type": "code",
   "execution_count": 15,
   "metadata": {},
   "outputs": [
    {
     "data": {
      "text/plain": [
       "5×5 Array{Float64,2}:\n",
       "   2.942     12.1631    13.6279    346.754    392.581\n",
       "  12.1631    81.0139    47.795    2369.6     1503.16 \n",
       "  13.6279    47.795     87.8405   1490.87    2622.29 \n",
       " 346.754   2369.6     1490.87    77664.1    50175.4  \n",
       " 392.581   1503.16    2622.29    50175.4    87292.2  "
      ]
     },
     "execution_count": 15,
     "metadata": {},
     "output_type": "execute_result"
    }
   ],
   "source": [
    "set_Sigma0!(myProblem, Sigma0)"
   ]
  },
  {
   "cell_type": "code",
   "execution_count": 27,
   "metadata": {
    "scrolled": true
   },
   "outputs": [
    {
     "data": {
      "text/plain": [
       "3×3 Array{Float64,2}:\n",
       " 34.698    -6.38318  -4.75213\n",
       " -6.38318   3.75906  -1.2148 \n",
       " -4.75213  -1.2148    3.25637"
      ]
     },
     "execution_count": 27,
     "metadata": {},
     "output_type": "execute_result"
    }
   ],
   "source": [
    "nbDraws = 1000000 #number of draws in the simulated data\n",
    "calculate_Avar!(myProblem, minimizer, T, nbDraws)"
   ]
  },
  {
   "cell_type": "markdown",
   "metadata": {},
   "source": [
    "Once the asymptotic variance has been calculated, a summary table can be obtained using the\n",
    "function `summary_table`"
   ]
  },
  {
   "cell_type": "code",
   "execution_count": 32,
   "metadata": {
    "scrolled": true
   },
   "outputs": [
    {
     "ename": "LoadError",
     "evalue": "\u001b[91mArgumentError: Length of iterable does not match DataFrame column count.\u001b[39m",
     "output_type": "error",
     "traceback": [
      "\u001b[91mArgumentError: Length of iterable does not match DataFrame column count.\u001b[39m",
      "",
      "Stacktrace:",
      " [1] \u001b[1mpush!\u001b[22m\u001b[22m\u001b[1m(\u001b[22m\u001b[22m::DataFrames.DataFrame, ::Array{Float64,1}\u001b[1m)\u001b[22m\u001b[22m at \u001b[1m/home/julien/.julia/v0.6/DataFrames/src/dataframe/dataframe.jl:1028\u001b[22m\u001b[22m",
      " [2] \u001b[1msummary_table\u001b[22m\u001b[22m\u001b[1m(\u001b[22m\u001b[22m::SMM.SMMProblem, ::Array{Float64,1}, ::Int64, ::Float64\u001b[1m)\u001b[22m\u001b[22m at \u001b[1m/home/julien/.julia/v0.6/SMM/src/econometrics.jl:154\u001b[22m\u001b[22m",
      " [3] \u001b[1minclude_string\u001b[22m\u001b[22m\u001b[1m(\u001b[22m\u001b[22m::String, ::String\u001b[1m)\u001b[22m\u001b[22m at \u001b[1m./loading.jl:522\u001b[22m\u001b[22m"
     ]
    }
   ],
   "source": [
    "summary_table(myProblem, minimizer, T, alpha)"
   ]
  },
  {
   "cell_type": "markdown",
   "metadata": {},
   "source": [
    "### Comparison with OLS"
   ]
  },
  {
   "cell_type": "markdown",
   "metadata": {},
   "source": [
    "Let's compare the SMM results to the one obtained using OLS:"
   ]
  },
  {
   "cell_type": "code",
   "execution_count": 22,
   "metadata": {
    "collapsed": true
   },
   "outputs": [],
   "source": [
    "using DataFrames, GLM\n",
    "data = DataFrame(x1=x[:,1], x2=x[:,2], y= y[:]);"
   ]
  },
  {
   "cell_type": "code",
   "execution_count": null,
   "metadata": {
    "collapsed": true
   },
   "outputs": [],
   "source": [
    "ols = lm(@formula(y ~ x1 + x2), data)"
   ]
  },
  {
   "cell_type": "markdown",
   "metadata": {},
   "source": [
    "In terms of point estimates, SMM and OLS estimates are rather close. Regarding standard errors, the OLS estimates are more precisely estimated. This is not surprising given that:\n",
    "* simulation noise impacts the accuracy of the SMM estimate\n",
    "* OLS uses much more information than SMM"
   ]
  },
  {
   "cell_type": "markdown",
   "metadata": {},
   "source": [
    "### C. Slices\n"
   ]
  },
  {
   "cell_type": "code",
   "execution_count": 25,
   "metadata": {
    "scrolled": true
   },
   "outputs": [
    {
     "name": "stderr",
     "output_type": "stream",
     "text": [
      "\u001b[1m\u001b[36mINFO: \u001b[39m\u001b[22m\u001b[36mslicing along alpha\n",
      "\u001b[39m"
     ]
    },
    {
     "data": {
      "image/png": "[encoded data removed]"
     },
     "metadata": {},
     "output_type": "display_data"
    },
    {
     "data": {
      "image/png": "[encoded data removed]"
     },
     "metadata": {},
     "output_type": "display_data"
    },
    {
     "name": "stderr",
     "output_type": "stream",
     "text": [
      "\u001b[1m\u001b[36mINFO: \u001b[39m\u001b[22m\u001b[36mslicing along beta1\n",
      "\u001b[39m"
     ]
    },
    {
     "data": {
      "image/png": "[encoded data removed]"
     },
     "metadata": {},
     "output_type": "display_data"
    },
    {
     "name": "stderr",
     "output_type": "stream",
     "text": [
      "\u001b[1m\u001b[36mINFO: \u001b[39m\u001b[22m\u001b[36mslicing along beta2\n",
      "\u001b[39m"
     ]
    },
    {
     "name": "stdout",
     "output_type": "stream",
     "text": [
      " 41.372656 seconds (72.39 M allocations: 13.920 GiB, 30.75% gc time)\n"
     ]
    },
    {
     "data": {
      "text/plain": [
       "3-element Array{Any,1}:\n",
       " Plot{Plots.PyPlotBackend() n=1}\n",
       " Plot{Plots.PyPlotBackend() n=1}\n",
       " Plot{Plots.PyPlotBackend() n=1}"
      ]
     },
     "execution_count": 25,
     "metadata": {},
     "output_type": "execute_result"
    }
   ],
   "source": [
    "Plots.pyplot()\n",
    "@time listPlots = smm_slices(myProblem, minimizer, 20)"
   ]
  },
  {
   "cell_type": "markdown",
   "metadata": {},
   "source": [
    "You can combine the several plots created into a single one:"
   ]
  },
  {
   "cell_type": "code",
   "execution_count": 26,
   "metadata": {
    "scrolled": false
   },
   "outputs": [
    {
     "data": {
      "image/png": "[encoded data removed]"
     },
     "execution_count": 26,
     "metadata": {},
     "output_type": "execute_result"
    }
   ],
   "source": [
    "Plots.plot(listPlots[1], listPlots[2], listPlots[3], leg = false)"
   ]
  }
 ],
 "metadata": {
  "kernelspec": {
   "display_name": "Julia 0.6.4",
   "language": "julia",
   "name": "julia-0.6"
  },
  "language_info": {
   "file_extension": ".jl",
   "mimetype": "application/julia",
   "name": "julia",
   "version": "0.6.4"
  }
 },
 "nbformat": 4,
 "nbformat_minor": 2
}
