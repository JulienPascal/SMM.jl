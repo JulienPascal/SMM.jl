{
 "cells": [
  {
   "cell_type": "markdown",
   "metadata": {},
   "source": [
    "# Example Notebook\n",
    "\n",
    "This notebook describes an easy 2d problem, serially estimated."
   ]
  },
  {
   "cell_type": "code",
   "execution_count": 1,
   "metadata": {
    "scrolled": true
   },
   "outputs": [],
   "source": [
    "using SMM\n",
    "using Distributions\n",
    "using DataStructures"
   ]
  },
  {
   "cell_type": "markdown",
   "metadata": {},
   "source": [
    "## Step 1: Initializing a SMMProblem"
   ]
  },
  {
   "cell_type": "markdown",
   "metadata": {},
   "source": [
    "Let's initialize a SMMProblem. Options are to be passsed via `SMMOptions()`. Here we specify the we want to run the optimizer for 1000 iterations and that we want to save the optimization every 1000 steps (that is, only once; when the estimation is complete)."
   ]
  },
  {
   "cell_type": "code",
   "execution_count": 2,
   "metadata": {
    "scrolled": false
   },
   "outputs": [],
   "source": [
    "myProblem = SMMProblem(options = SMMOptions(maxFuncEvals=1000, saveSteps = 1000));"
   ]
  },
  {
   "cell_type": "markdown",
   "metadata": {},
   "source": [
    "## Options\n",
    "\n",
    "[TOBECOMPLETED]"
   ]
  },
  {
   "cell_type": "markdown",
   "metadata": {},
   "source": [
    "## Step 2: Set emprical moments"
   ]
  },
  {
   "cell_type": "markdown",
   "metadata": {},
   "source": [
    "Empirical moments can be loaded from a .csv file using the function `read_empirical_moments(path::String)`.\n",
    "The .csv file should should contain at least three columns:\n",
    "* `name`: empirical moments' names\n",
    "* `value`: empirical moments' values\n",
    "* `weights`: weight associated with each parameter value\n",
    "\n",
    "If, for each moment, `weight` is set to be equal to `value`, the objective funtion to be minimized will be \n",
    "the mean percentage deviation of simulated moments from their empirical counterparts. "
   ]
  },
  {
   "cell_type": "code",
   "execution_count": 3,
   "metadata": {
    "scrolled": true
   },
   "outputs": [
    {
     "data": {
      "text/plain": [
       "DataStructures.OrderedDict{String,Array{Float64,1}} with 2 entries:\n",
       "  \"mean1\" => [1.0, 1.0]\n",
       "  \"mean2\" => [-1.0, -1.0]"
      ]
     },
     "execution_count": 3,
     "metadata": {},
     "output_type": "execute_result"
    }
   ],
   "source": [
    "dictEmpiricalMoments = read_empirical_moments(joinpath(Pkg.dir(\"SMM\"), \"test/empiricalMomentsTest2d.csv\"))"
   ]
  },
  {
   "cell_type": "markdown",
   "metadata": {},
   "source": [
    "Alternatively, one may construct \"manually\" empirically directly from Julia:"
   ]
  },
  {
   "cell_type": "code",
   "execution_count": 4,
   "metadata": {
    "scrolled": true
   },
   "outputs": [
    {
     "data": {
      "text/plain": [
       "2-element Array{Float64,1}:\n",
       " -1.0\n",
       " -1.0"
      ]
     },
     "execution_count": 4,
     "metadata": {},
     "output_type": "execute_result"
    },
    {
     "name": "stdout",
     "output_type": "stream",
     "text": [
      "2 moments found.\n"
     ]
    }
   ],
   "source": [
    "dictEmpiricalMoments = OrderedDict{String,Array{Float64,1}}()\n",
    "dictEmpiricalMoments[\"mean1\"] = [1.0; 1.0]\n",
    "dictEmpiricalMoments[\"mean2\"] = [-1.0; -1.0]"
   ]
  },
  {
   "cell_type": "markdown",
   "metadata": {},
   "source": [
    "One has to let SMM.jl know that we are going to use the empirical moments stored in `dictEmpiricalMoments`.\n",
    "Use the function `set_empirical_moments!()` for that purpose:"
   ]
  },
  {
   "cell_type": "code",
   "execution_count": 5,
   "metadata": {
    "scrolled": true
   },
   "outputs": [
    {
     "data": {
      "text/plain": [
       "DataStructures.OrderedDict{String,Array{Float64,1}} with 2 entries:\n",
       "  \"mean1\" => [1.0, 1.0]\n",
       "  \"mean2\" => [-1.0, -1.0]"
      ]
     },
     "execution_count": 5,
     "metadata": {},
     "output_type": "execute_result"
    }
   ],
   "source": [
    "set_empirical_moments!(myProblem, dictEmpiricalMoments)"
   ]
  },
  {
   "cell_type": "markdown",
   "metadata": {},
   "source": [
    "## Step 3. Set priors"
   ]
  },
  {
   "attachments": {},
   "cell_type": "markdown",
   "metadata": {},
   "source": [
    "Priors for parameter values can be loaded from a .csv file using the function `read_priors(path::String)`. The .csv file should contain at least four columns:\n",
    "* `name` : name for each parameter\n",
    "* `value` : initial guess\n",
    "* `lower_bound` : lower bound for this parameter\n",
    "* `upper_bound`: upper bound for this parameter"
   ]
  },
  {
   "cell_type": "code",
   "execution_count": 6,
   "metadata": {
    "scrolled": true
   },
   "outputs": [
    {
     "data": {
      "text/plain": [
       "DataStructures.OrderedDict{String,Array{Float64,1}} with 2 entries:\n",
       "  \"mu1\" => [0.5, -5.0, 5.0]\n",
       "  \"mu2\" => [0.1, -5.0, 5.0]"
      ]
     },
     "execution_count": 6,
     "metadata": {},
     "output_type": "execute_result"
    }
   ],
   "source": [
    "read_priors(joinpath(Pkg.dir(\"SMM\"), \"test/priorsTest2d.csv\"))"
   ]
  },
  {
   "cell_type": "markdown",
   "metadata": {},
   "source": [
    "It is also possible to specify priors manually:"
   ]
  },
  {
   "cell_type": "code",
   "execution_count": 7,
   "metadata": {
    "scrolled": true
   },
   "outputs": [
    {
     "data": {
      "text/plain": [
       "3-element Array{Float64,1}:\n",
       "  0.0\n",
       " -5.0\n",
       "  5.0"
      ]
     },
     "execution_count": 7,
     "metadata": {},
     "output_type": "execute_result"
    }
   ],
   "source": [
    "dictPriors = OrderedDict{String,Array{Float64,1}}()\n",
    "dictPriors[\"mu1\"] = [0., -5.0, 5.0]\n",
    "dictPriors[\"mu2\"] = [0., -5.0, 5.0]"
   ]
  },
  {
   "cell_type": "markdown",
   "metadata": {},
   "source": [
    "One has to attach priors values the `SMMProblem` we are going to use.\n",
    "This is achieved using the function  `set_priors!()`"
   ]
  },
  {
   "cell_type": "code",
   "execution_count": 8,
   "metadata": {
    "scrolled": true
   },
   "outputs": [
    {
     "data": {
      "text/plain": [
       "DataStructures.OrderedDict{String,Array{Float64,1}} with 2 entries:\n",
       "  \"mu1\" => [0.0, -5.0, 5.0]\n",
       "  \"mu2\" => [0.0, -5.0, 5.0]"
      ]
     },
     "execution_count": 8,
     "metadata": {},
     "output_type": "execute_result"
    }
   ],
   "source": [
    "set_priors!(myProblem, dictPriors)"
   ]
  },
  {
   "cell_type": "markdown",
   "metadata": {},
   "source": [
    "## Step 3: Specifying the function that generate simulated moments using parameter values\n",
    "\n",
    "This function has two constraints:\n",
    "* it should take as an argument a vector (the vector of parameters)\n",
    "* it should return an OrderedDict containing the same moments as the ones contained in the OrderedDict \n",
    "containing empirical moments (`dictEmpiricalMoments`)\n",
    "\n",
    "In this example, we simulate draws from a mutlivariate normal with unit variance:"
   ]
  },
  {
   "cell_type": "code",
   "execution_count": 9,
   "metadata": {},
   "outputs": [
    {
     "data": {
      "text/plain": [
       "functionTest2d (generic function with 1 method)"
      ]
     },
     "execution_count": 9,
     "metadata": {},
     "output_type": "execute_result"
    },
    {
     "name": "stdout",
     "output_type": "stream",
     "text": [
      "2 prior values found\n"
     ]
    }
   ],
   "source": [
    "function functionTest2d(x)\n",
    "\n",
    "    d = MvNormal([x[1]; x[2]], eye(2))\n",
    "    output = OrderedDict{String,Float64}()\n",
    "\n",
    "    draws = rand(d, 1000000)\n",
    "    output[\"mean1\"] = mean(draws[1,:])\n",
    "    output[\"mean2\"] = mean(draws[2,:])\n",
    "\n",
    "    return output\n",
    "end"
   ]
  },
  {
   "cell_type": "markdown",
   "metadata": {},
   "source": [
    "Let's attach the function `functionTest2d(x)` to our SMMProblem using the function `set_simulate_empirical_moments!()`"
   ]
  },
  {
   "cell_type": "code",
   "execution_count": 10,
   "metadata": {},
   "outputs": [
    {
     "data": {
      "text/plain": [
       "functionTest2d (generic function with 1 method)"
      ]
     },
     "execution_count": 10,
     "metadata": {},
     "output_type": "execute_result"
    }
   ],
   "source": [
    "set_simulate_empirical_moments!(myProblem, functionTest2d)"
   ]
  },
  {
   "cell_type": "markdown",
   "metadata": {},
   "source": [
    "## Step 4. Constructing the objective function"
   ]
  },
  {
   "cell_type": "markdown",
   "metadata": {},
   "source": [
    "Having completed steps 1 - 3, it is now time to build the function that the solver will be \n",
    "minimizing. This is achieved with the function `construct_objective_function!`"
   ]
  },
  {
   "cell_type": "code",
   "execution_count": 11,
   "metadata": {},
   "outputs": [
    {
     "data": {
      "text/plain": [
       "(::objective_function_percent) (generic function with 1 method)"
      ]
     },
     "execution_count": 11,
     "metadata": {},
     "output_type": "execute_result"
    }
   ],
   "source": [
    "# Construct the objective function using: \n",
    "#* the function: parameter -> simulated moments\n",
    "#* emprical moments values\n",
    "#* emprical moments weights\n",
    "    \n",
    "construct_objective_function!(myProblem)"
   ]
  },
  {
   "cell_type": "markdown",
   "metadata": {},
   "source": [
    "## Step 5. Running the optimization"
   ]
  },
  {
   "cell_type": "markdown",
   "metadata": {},
   "source": [
    "It is now time to call the minimization algorithm using the function `smmoptimize!()`.\n",
    "The optimization is done by `BlackBoxOptim.jl`. By default, the optimizer is `:adaptive_de_rand_1_bin_radiuslimited`."
   ]
  },
  {
   "cell_type": "code",
   "execution_count": 16,
   "metadata": {},
   "outputs": [
    {
     "name": "stdout",
     "output_type": "stream",
     "text": [
      "1 worker(s) detected\n",
      "-------------------------------------\n",
      "Batch 1.0 / 1.0\n",
      "------------------------------------- \n",
      "\n",
      "Starting optimization with optimizer BlackBoxOptim.DiffEvoOpt{BlackBoxOptim.FitPopulation{Float64},BlackBoxOptim.RadiusLimitedSelector,BlackBoxOptim.AdaptiveDiffEvoRandBin{3},BlackBoxOptim.RandomBound{BlackBoxOptim.RangePerDimSearchSpace}}\n",
      "0.00 secs, 0 evals, 0 steps\n",
      "DE modify state:\n",
      "0.56 secs, 16 evals, 8 steps, improv/step: 0.625 (last = 0.6250), fitness=0.508505600\n",
      "DE modify state:\n",
      "1.09 secs, 32 evals, 17 steps, improv/step: 0.471 (last = 0.3333), fitness=0.259643169\n",
      "DE modify state:\n",
      "1.62 secs, 48 evals, 26 steps, improv/step: 0.500 (last = 0.5556), fitness=0.179299763\n",
      "DE modify state:\n",
      "2.14 secs, 64 evals, 36 steps, improv/step: 0.472 (last = 0.4000), fitness=0.138079265\n",
      "DE modify state:\n",
      "2.69 secs, 80 evals, 45 steps, improv/step: 0.444 (last = 0.3333), fitness=0.138079265\n",
      "DE modify state:\n",
      "3.22 secs, 95 evals, 55 steps, improv/step: 0.418 (last = 0.3000), fitness=0.138079265\n",
      "DE modify state:\n",
      "3.74 secs, 111 evals, 67 steps, improv/step: 0.388 (last = 0.2500), fitness=0.138079265\n",
      "DE modify state:\n",
      "4.30 secs, 128 evals, 78 steps, improv/step: 0.346 (last = 0.0909), fitness=0.138079265\n",
      "DE modify state:\n",
      "4.83 secs, 144 evals, 88 steps, improv/step: 0.364 (last = 0.5000), fitness=0.138079265\n",
      "DE modify state:\n",
      "5.39 secs, 161 evals, 99 steps, improv/step: 0.364 (last = 0.3636), fitness=0.138079265\n",
      "DE modify state:\n",
      "5.92 secs, 177 evals, 109 steps, improv/step: 0.349 (last = 0.2000), fitness=0.138079265\n",
      "DE modify state:\n",
      "6.45 secs, 193 evals, 120 steps, improv/step: 0.350 (last = 0.3636), fitness=0.138079265\n",
      "DE modify state:\n",
      "6.97 secs, 209 evals, 131 steps, improv/step: 0.366 (last = 0.5455), fitness=0.138079265\n",
      "DE modify state:\n",
      "7.53 secs, 226 evals, 144 steps, improv/step: 0.389 (last = 0.6154), fitness=0.088390607\n",
      "DE modify state:\n",
      "8.05 secs, 242 evals, 157 steps, improv/step: 0.382 (last = 0.3077), fitness=0.088390607\n",
      "DE modify state:\n",
      "8.59 secs, 258 evals, 172 steps, improv/step: 0.384 (last = 0.4000), fitness=0.088390607\n",
      "DE modify state:\n",
      "9.10 secs, 272 evals, 184 steps, improv/step: 0.380 (last = 0.3333), fitness=0.088390607\n",
      "DE modify state:\n",
      "9.63 secs, 288 evals, 196 steps, improv/step: 0.378 (last = 0.3333), fitness=0.088390607\n",
      "DE modify state:\n",
      "10.15 secs, 304 evals, 211 steps, improv/step: 0.384 (last = 0.4667), fitness=0.088390607\n",
      "DE modify state:\n",
      "10.68 secs, 320 evals, 226 steps, improv/step: 0.372 (last = 0.2000), fitness=0.088390607\n",
      "DE modify state:\n",
      "11.19 secs, 335 evals, 239 steps, improv/step: 0.381 (last = 0.5385), fitness=0.088390607\n",
      "DE modify state:\n",
      "11.69 secs, 349 evals, 252 steps, improv/step: 0.381 (last = 0.3846), fitness=0.088390607\n",
      "DE modify state:\n",
      "12.23 secs, 365 evals, 268 steps, improv/step: 0.399 (last = 0.6875), fitness=0.088390607\n",
      "DE modify state:\n",
      "12.74 secs, 378 evals, 280 steps, improv/step: 0.396 (last = 0.3333), fitness=0.088390607\n",
      "DE modify state:\n",
      "13.26 secs, 393 evals, 293 steps, improv/step: 0.396 (last = 0.3846), fitness=0.088390607\n",
      "DE modify state:\n",
      "13.79 secs, 409 evals, 307 steps, improv/step: 0.404 (last = 0.5714), fitness=0.088390607\n",
      "DE modify state:\n",
      "14.30 secs, 424 evals, 322 steps, improv/step: 0.407 (last = 0.4667), fitness=0.003613401\n",
      "DE modify state:\n",
      "14.81 secs, 439 evals, 336 steps, improv/step: 0.399 (last = 0.2143), fitness=0.003613401\n",
      "DE modify state:\n",
      "15.32 secs, 454 evals, 351 steps, improv/step: 0.393 (last = 0.2667), fitness=0.003613401\n",
      "DE modify state:\n",
      "15.83 secs, 467 evals, 364 steps, improv/step: 0.390 (last = 0.3077), fitness=0.003613401\n",
      "DE modify state:\n",
      "16.35 secs, 483 evals, 380 steps, improv/step: 0.387 (last = 0.3125), fitness=0.003613401\n",
      "DE modify state:\n",
      "16.86 secs, 498 evals, 395 steps, improv/step: 0.387 (last = 0.4000), fitness=0.003613401\n",
      "DE modify state:\n",
      "17.36 secs, 513 evals, 409 steps, improv/step: 0.391 (last = 0.5000), fitness=0.003613401\n",
      "DE modify state:\n",
      "17.89 secs, 529 evals, 424 steps, improv/step: 0.384 (last = 0.2000), fitness=0.003613401\n",
      "DE modify state:\n",
      "18.40 secs, 542 evals, 437 steps, improv/step: 0.384 (last = 0.3846), fitness=0.003613401\n",
      "DE modify state:\n",
      "18.94 secs, 558 evals, 453 steps, improv/step: 0.389 (last = 0.5000), fitness=0.002030839\n",
      "DE modify state:\n",
      "19.47 secs, 574 evals, 469 steps, improv/step: 0.386 (last = 0.3125), fitness=0.002030839\n",
      "DE modify state:\n",
      "19.98 secs, 589 evals, 484 steps, improv/step: 0.388 (last = 0.4667), fitness=0.002030839\n",
      "DE modify state:\n",
      "20.50 secs, 604 evals, 499 steps, improv/step: 0.391 (last = 0.4667), fitness=0.002030839\n",
      "DE modify state:\n",
      "21.02 secs, 619 evals, 514 steps, improv/step: 0.389 (last = 0.3333), fitness=0.002030839\n",
      "DE modify state:\n",
      "21.55 secs, 634 evals, 529 steps, improv/step: 0.384 (last = 0.2000), fitness=0.002030839\n",
      "DE modify state:\n",
      "22.06 secs, 649 evals, 544 steps, improv/step: 0.381 (last = 0.2667), fitness=0.002030839\n",
      "DE modify state:\n",
      "22.56 secs, 664 evals, 559 steps, improv/step: 0.381 (last = 0.4000), fitness=0.002030839\n",
      "DE modify state:\n",
      "23.08 secs, 679 evals, 574 steps, improv/step: 0.380 (last = 0.3333), fitness=0.002030839\n",
      "DE modify state:\n",
      "23.59 secs, 694 evals, 589 steps, improv/step: 0.375 (last = 0.2000), fitness=0.002030839\n",
      "DE modify state:\n",
      "24.10 secs, 709 evals, 604 steps, improv/step: 0.374 (last = 0.3333), fitness=0.000024182\n",
      "DE modify state:\n",
      "24.61 secs, 724 evals, 619 steps, improv/step: 0.372 (last = 0.2667), fitness=0.000024182\n",
      "DE modify state:\n",
      "25.12 secs, 739 evals, 634 steps, improv/step: 0.366 (last = 0.1333), fitness=0.000024182\n",
      "DE modify state:\n",
      "25.62 secs, 754 evals, 649 steps, improv/step: 0.370 (last = 0.5333), fitness=0.000024182\n",
      "DE modify state:\n",
      "26.14 secs, 769 evals, 664 steps, improv/step: 0.370 (last = 0.4000), fitness=0.000024182\n",
      "DE modify state:\n",
      "26.66 secs, 784 evals, 679 steps, improv/step: 0.373 (last = 0.4667), fitness=0.000024182\n",
      "DE modify state:\n",
      "27.18 secs, 800 evals, 695 steps, improv/step: 0.374 (last = 0.4375), fitness=0.000024182\n",
      "DE modify state:\n",
      "27.69 secs, 815 evals, 710 steps, improv/step: 0.375 (last = 0.4000), fitness=0.000024182\n",
      "DE modify state:\n",
      "28.21 secs, 831 evals, 726 steps, improv/step: 0.376 (last = 0.4375), fitness=0.000022822\n",
      "DE modify state:\n",
      "28.74 secs, 847 evals, 742 steps, improv/step: 0.376 (last = 0.3750), fitness=0.000022822\n",
      "DE modify state:\n",
      "29.26 secs, 863 evals, 758 steps, improv/step: 0.384 (last = 0.7500), fitness=0.000022822\n",
      "DE modify state:\n",
      "29.78 secs, 879 evals, 774 steps, improv/step: 0.384 (last = 0.3750), fitness=0.000022822\n",
      "DE modify state:\n",
      "30.30 secs, 895 evals, 790 steps, improv/step: 0.377 (last = 0.0625), fitness=0.000022822\n",
      "DE modify state:\n",
      "30.83 secs, 911 evals, 806 steps, improv/step: 0.376 (last = 0.3125), fitness=0.000022822\n",
      "DE modify state:\n",
      "31.36 secs, 927 evals, 822 steps, improv/step: 0.380 (last = 0.5625), fitness=0.000022822\n",
      "DE modify state:\n",
      "31.88 secs, 943 evals, 838 steps, improv/step: 0.377 (last = 0.2500), fitness=0.000022822\n",
      "DE modify state:\n",
      "32.41 secs, 959 evals, 854 steps, improv/step: 0.377 (last = 0.3750), fitness=0.000022822\n",
      "DE modify state:\n",
      "32.91 secs, 974 evals, 869 steps, improv/step: 0.377 (last = 0.4000), fitness=0.000022822\n",
      "DE modify state:\n",
      "33.44 secs, 990 evals, 885 steps, improv/step: 0.380 (last = 0.5000), fitness=0.000022822\n",
      "DE modify state:\n",
      "\n",
      "Optimization stopped after 896 steps and 33.80364108085632 seconds\n",
      "Termination reason: Max number of function evaluations (1000) reached\n",
      "Steps per second = 26.50602039753116\n",
      "Function evals per second = 29.612194662866845\n",
      "Improvements/step = Inf\n",
      "Total function evaluations = 1001\n",
      "\n",
      "\n",
      "Best candidate found: [0.997929, -0.993436]\n",
      "\n",
      "Fitness: 0.000022822\n",
      "\n",
      "Best Value: [0.997929, -0.993436]\n",
      "Best Fitness: 2.2822068289250498e-5\n",
      "Saving optimisation to disk\n",
      "Done.\n",
      " "
     ]
    },
    {
     "data": {
      "text/plain": [
       "(Any[2.28221e-5], Any[[0.997929, -0.993436]])"
      ]
     },
     "execution_count": 16,
     "metadata": {},
     "output_type": "execute_result"
    },
    {
     "name": "stdout",
     "output_type": "stream",
     "text": [
      "33.943860 seconds (136.84 k allocations: 29.872 GiB, 4.40% gc time)\n"
     ]
    }
   ],
   "source": [
    "# Run the optimization\n",
    "# This function first modifies t.bbSetup\n",
    "# and then modifies t.bbResults\n",
    "@time smmoptimize!(myProblem, verbose = true)"
   ]
  },
  {
   "cell_type": "markdown",
   "metadata": {},
   "source": [
    "## Step 6. Analysing Results\n",
    "\n",
    "### A. Point estimates"
   ]
  },
  {
   "cell_type": "markdown",
   "metadata": {},
   "source": [
    "The parameter value that minimizes the distance between empirical and simulated moments can be accessed using \n",
    "the function `smm_minimizer` "
   ]
  },
  {
   "cell_type": "code",
   "execution_count": 15,
   "metadata": {},
   "outputs": [
    {
     "name": "stdout",
     "output_type": "stream",
     "text": [
      "1.0062686679725348\n",
      "-0.9950763952944425\n"
     ]
    }
   ],
   "source": [
    "minimizer = smm_minimizer(myProblem)\n",
    "println(minimizer[1])\n",
    "println(minimizer[2])"
   ]
  },
  {
   "cell_type": "markdown",
   "metadata": {},
   "source": [
    "### B. Standard errors\n",
    "\n",
    "[WORKINPROGRESS]"
   ]
  },
  {
   "cell_type": "markdown",
   "metadata": {},
   "source": [
    "### C. Slices\n",
    "\n",
    "[WORKINPROGRESS]"
   ]
  }
 ],
 "metadata": {
  "kernelspec": {
   "display_name": "Julia 0.6.3",
   "language": "julia",
   "name": "julia-0.6"
  },
  "language_info": {
   "file_extension": ".jl",
   "mimetype": "application/julia",
   "name": "julia",
   "version": "0.6.3"
  }
 },
 "nbformat": 4,
 "nbformat_minor": 2
}
