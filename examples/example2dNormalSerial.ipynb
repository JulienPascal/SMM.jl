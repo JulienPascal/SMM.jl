{
 "cells": [
  {
   "cell_type": "markdown",
   "metadata": {},
   "source": [
    "# Example Notebook\n",
    "\n",
    "This notebook describes an easy 2d problem, serially estimated."
   ]
  },
  {
   "cell_type": "code",
   "execution_count": 1,
   "metadata": {
    "collapsed": true,
    "scrolled": true
   },
   "outputs": [],
   "source": [
    "using SMM\n",
    "using Distributions\n",
    "using DataStructures"
   ]
  },
  {
   "cell_type": "markdown",
   "metadata": {},
   "source": [
    "## Step 1: Initializing a SMMProblem"
   ]
  },
  {
   "cell_type": "markdown",
   "metadata": {},
   "source": [
    "Let's initialize a SMMProblem. Options are to be passsed via `SMMOptions()`. Here we specify the we want to run the optimizer for 1000 iterations and that we want to save the optimization every 1000 steps (that is, only once; when the estimation is complete)."
   ]
  },
  {
   "cell_type": "code",
   "execution_count": 2,
   "metadata": {
    "collapsed": true,
    "scrolled": false
   },
   "outputs": [],
   "source": [
    "myProblem = SMMProblem(options = SMMOptions(maxFuncEvals=1000, saveSteps = 1000, bbOptimizer = :dxnes));"
   ]
  },
  {
   "cell_type": "markdown",
   "metadata": {},
   "source": [
    "## Options\n",
    "\n",
    "[TOBECOMPLETED]"
   ]
  },
  {
   "cell_type": "markdown",
   "metadata": {},
   "source": [
    "## Step 2: Set emprical moments"
   ]
  },
  {
   "cell_type": "markdown",
   "metadata": {},
   "source": [
    "Empirical moments can be loaded from a .csv file using the function `read_empirical_moments(path::String)`.\n",
    "The .csv file should should contain at least three columns:\n",
    "* `name`: empirical moments' names\n",
    "* `value`: empirical moments' values\n",
    "* `weights`: weight associated with each parameter value\n",
    "\n",
    "If, for each moment, `weight` is set to be equal to `value`, the objective funtion to be minimized will be \n",
    "the mean percentage deviation of simulated moments from their empirical counterparts. "
   ]
  },
  {
   "cell_type": "code",
   "execution_count": 3,
   "metadata": {
    "scrolled": true
   },
   "outputs": [
    {
     "data": {
      "text/plain": [
       "DataStructures.OrderedDict{String,Array{Float64,1}} with 2 entries:\n",
       "  \"mean1\" => [1.0, 1.0]\n",
       "  \"mean2\" => [-1.0, -1.0]"
      ]
     },
     "execution_count": 3,
     "metadata": {},
     "output_type": "execute_result"
    },
    {
     "name": "stderr",
     "output_type": "stream",
     "text": [
      "\u001b[1m\u001b[36mINFO: \u001b[39m\u001b[22m\u001b[36m2 moment(s) found.\n",
      "\u001b[39m"
     ]
    }
   ],
   "source": [
    "dictEmpiricalMoments = read_empirical_moments(joinpath(Pkg.dir(\"SMM\"), \"test/empiricalMomentsTest2d.csv\"))"
   ]
  },
  {
   "cell_type": "markdown",
   "metadata": {},
   "source": [
    "Alternatively, one may construct \"manually\" empirically directly from Julia:"
   ]
  },
  {
   "cell_type": "code",
   "execution_count": 4,
   "metadata": {
    "scrolled": true
   },
   "outputs": [
    {
     "data": {
      "text/plain": [
       "2-element Array{Float64,1}:\n",
       " -1.0\n",
       " -1.0"
      ]
     },
     "execution_count": 4,
     "metadata": {},
     "output_type": "execute_result"
    }
   ],
   "source": [
    "dictEmpiricalMoments = OrderedDict{String,Array{Float64,1}}()\n",
    "dictEmpiricalMoments[\"mean1\"] = [1.0; 1.0]\n",
    "dictEmpiricalMoments[\"mean2\"] = [-1.0; -1.0]"
   ]
  },
  {
   "cell_type": "markdown",
   "metadata": {},
   "source": [
    "One has to let SMM.jl know that we are going to use the empirical moments stored in `dictEmpiricalMoments`.\n",
    "Use the function `set_empirical_moments!()` for that purpose:"
   ]
  },
  {
   "cell_type": "code",
   "execution_count": 5,
   "metadata": {
    "scrolled": true
   },
   "outputs": [
    {
     "data": {
      "text/plain": [
       "DataStructures.OrderedDict{String,Array{Float64,1}} with 2 entries:\n",
       "  \"mean1\" => [1.0, 1.0]\n",
       "  \"mean2\" => [-1.0, -1.0]"
      ]
     },
     "execution_count": 5,
     "metadata": {},
     "output_type": "execute_result"
    }
   ],
   "source": [
    "set_empirical_moments!(myProblem, dictEmpiricalMoments)"
   ]
  },
  {
   "cell_type": "markdown",
   "metadata": {},
   "source": [
    "## Step 3. Set priors"
   ]
  },
  {
   "cell_type": "markdown",
   "metadata": {},
   "source": [
    "Priors for parameter values can be loaded from a .csv file using the function `read_priors(path::String)`. The .csv file should contain at least four columns:\n",
    "* `name` : name for each parameter\n",
    "* `value` : initial guess\n",
    "* `lower_bound` : lower bound for this parameter\n",
    "* `upper_bound`: upper bound for this parameter"
   ]
  },
  {
   "cell_type": "code",
   "execution_count": 6,
   "metadata": {
    "scrolled": true
   },
   "outputs": [
    {
     "data": {
      "text/plain": [
       "DataStructures.OrderedDict{String,Array{Float64,1}} with 2 entries:\n",
       "  \"mu1\" => [0.5, -5.0, 5.0]\n",
       "  \"mu2\" => [0.1, -5.0, 5.0]"
      ]
     },
     "execution_count": 6,
     "metadata": {},
     "output_type": "execute_result"
    }
   ],
   "source": [
    "read_priors(joinpath(Pkg.dir(\"SMM\"), \"test/priorsTest2d.csv\"))"
   ]
  },
  {
   "cell_type": "markdown",
   "metadata": {},
   "source": [
    "It is also possible to specify priors manually:"
   ]
  },
  {
   "cell_type": "code",
   "execution_count": 7,
   "metadata": {
    "scrolled": true
   },
   "outputs": [
    {
     "data": {
      "text/plain": [
       "3-element Array{Float64,1}:\n",
       "  0.0\n",
       " -5.0\n",
       "  5.0"
      ]
     },
     "execution_count": 7,
     "metadata": {},
     "output_type": "execute_result"
    }
   ],
   "source": [
    "dictPriors = OrderedDict{String,Array{Float64,1}}()\n",
    "dictPriors[\"mu1\"] = [0., -5.0, 5.0]\n",
    "dictPriors[\"mu2\"] = [0., -5.0, 5.0]"
   ]
  },
  {
   "cell_type": "markdown",
   "metadata": {},
   "source": [
    "One has to attach priors values the `SMMProblem` we are going to use.\n",
    "This is achieved using the function  `set_priors!()`"
   ]
  },
  {
   "cell_type": "code",
   "execution_count": 8,
   "metadata": {
    "scrolled": true
   },
   "outputs": [
    {
     "data": {
      "text/plain": [
       "DataStructures.OrderedDict{String,Array{Float64,1}} with 2 entries:\n",
       "  \"mu1\" => [0.0, -5.0, 5.0]\n",
       "  \"mu2\" => [0.0, -5.0, 5.0]"
      ]
     },
     "execution_count": 8,
     "metadata": {},
     "output_type": "execute_result"
    }
   ],
   "source": [
    "set_priors!(myProblem, dictPriors)"
   ]
  },
  {
   "cell_type": "markdown",
   "metadata": {},
   "source": [
    "## Step 3: Specifying the function that generate simulated moments using parameter values\n",
    "\n",
    "This function has two constraints:\n",
    "* it should take as an argument a vector (the vector of parameters)\n",
    "* it should return an OrderedDict containing the same moments as the ones contained in the OrderedDict \n",
    "containing empirical moments (`dictEmpiricalMoments`)\n",
    "\n",
    "In this example, we simulate draws from a mutlivariate normal with unit variance:"
   ]
  },
  {
   "cell_type": "code",
   "execution_count": 9,
   "metadata": {},
   "outputs": [
    {
     "data": {
      "text/plain": [
       "functionTest2d (generic function with 1 method)"
      ]
     },
     "execution_count": 9,
     "metadata": {},
     "output_type": "execute_result"
    },
    {
     "name": "stderr",
     "output_type": "stream",
     "text": [
      "\u001b[1m\u001b[36mINFO: \u001b[39m\u001b[22m\u001b[36m2 prior(s) values found\n",
      "\u001b[39m"
     ]
    }
   ],
   "source": [
    "function functionTest2d(x)\n",
    "\n",
    "    d = MvNormal([x[1]; x[2]], eye(2))\n",
    "    output = OrderedDict{String,Float64}()\n",
    "\n",
    "    draws = rand(d, 1000000)\n",
    "    output[\"mean1\"] = mean(draws[1,:])\n",
    "    output[\"mean2\"] = mean(draws[2,:])\n",
    "\n",
    "    return output\n",
    "end"
   ]
  },
  {
   "cell_type": "markdown",
   "metadata": {},
   "source": [
    "Let's attach the function `functionTest2d(x)` to our SMMProblem using the function `set_simulate_empirical_moments!()`"
   ]
  },
  {
   "cell_type": "code",
   "execution_count": 10,
   "metadata": {},
   "outputs": [
    {
     "data": {
      "text/plain": [
       "functionTest2d (generic function with 1 method)"
      ]
     },
     "execution_count": 10,
     "metadata": {},
     "output_type": "execute_result"
    }
   ],
   "source": [
    "set_simulate_empirical_moments!(myProblem, functionTest2d)"
   ]
  },
  {
   "cell_type": "markdown",
   "metadata": {},
   "source": [
    "## Step 4. Constructing the objective function"
   ]
  },
  {
   "cell_type": "markdown",
   "metadata": {},
   "source": [
    "Having completed steps 1 - 3, it is now time to build the function that the solver will be \n",
    "minimizing. This is achieved with the function `construct_objective_function!`"
   ]
  },
  {
   "cell_type": "code",
   "execution_count": 11,
   "metadata": {},
   "outputs": [
    {
     "data": {
      "text/plain": [
       "(::objective_function_percent) (generic function with 1 method)"
      ]
     },
     "execution_count": 11,
     "metadata": {},
     "output_type": "execute_result"
    }
   ],
   "source": [
    "# Construct the objective function using: \n",
    "#* the function: parameter -> simulated moments\n",
    "#* emprical moments values\n",
    "#* emprical moments weights\n",
    "    \n",
    "construct_objective_function!(myProblem)"
   ]
  },
  {
   "cell_type": "markdown",
   "metadata": {},
   "source": [
    "## Step 5. Running the optimization"
   ]
  },
  {
   "cell_type": "markdown",
   "metadata": {},
   "source": [
    "It is now time to call the minimization algorithm using the function `smmoptimize!()`.\n",
    "The optimization is done by `BlackBoxOptim.jl`. By default, the optimizer is `:adaptive_de_rand_1_bin_radiuslimited`."
   ]
  },
  {
   "cell_type": "code",
   "execution_count": 12,
   "metadata": {},
   "outputs": [
    {
     "name": "stderr",
     "output_type": "stream",
     "text": [
      "\u001b[1m\u001b[36mINFO: \u001b[39m\u001b[22m\u001b[36m1 worker(s) detected\n",
      "\u001b[39m\u001b[1m\u001b[36mINFO: \u001b[39m\u001b[22m\u001b[36mStarting optimization in serial\n",
      "\u001b[39m"
     ]
    },
    {
     "name": "stdout",
     "output_type": "stream",
     "text": [
      "-------------------------------------\n",
      "Batch 1.0 / 1.0\n",
      "------------------------------------- \n",
      "\n",
      "Starting optimization with optimizer BlackBoxOptim.DXNESOpt{Float64,BlackBoxOptim.RandomBound{BlackBoxOptim.RangePerDimSearchSpace}}\n",
      "0.00 secs, 0 evals, 0 steps\n",
      "σ=1.0 η[x]=1.0 η[σ]=0.0 η[B]=0.0 |tr(ln_B)|=0.0 |path|=0.0 speed=0.0\n",
      "0.59 secs, 16 evals, 4 steps, fitness=7.684763035\n",
      "σ=1.0186052316272427 η[x]=1.0 η[σ]=0.75 η[B]=0.03571428571428571 |tr(ln_B)|=0.0 |path|=0.8499758645082098 speed=0.4679459701425762\n",
      "1.23 secs, 32 evals, 8 steps, fitness=0.111752309\n",
      "σ=1.1972231882797792 η[x]=1.0 η[σ]=1.0 η[B]=0.07142857142857142 |tr(ln_B)|=8.673617379884035e-19 |path|=1.9596791080075253 speed=1.0788823302592285\n",
      "1.79 secs, 48 evals, 12 steps, fitness=0.012168469\n",
      "σ=0.6453241983200481 η[x]=1.0 η[σ]=0.75 η[B]=0.03571428571428571 |tr(ln_B)|=3.469446951953614e-18 |path|=0.46322441967604977 speed=0.25502371244912836\n",
      "2.41 secs, 68 evals, 17 steps, fitness=0.012168469\n",
      "σ=0.11288445941893673 η[x]=1.0 η[σ]=0.75 η[B]=0.03571428571428571 |tr(ln_B)|=2.0816681711721685e-17 |path|=1.186198459111522 speed=0.653050059311665\n",
      "3.02 secs, 88 evals, 22 steps, fitness=0.002190359\n",
      "σ=0.07450162216756696 η[x]=1.0 η[σ]=0.75 η[B]=0.03571428571428571 |tr(ln_B)|=1.3877787807814457e-17 |path|=0.5192730383125123 speed=0.28588073594610247\n",
      "3.64 secs, 108 evals, 27 steps, fitness=0.000199175\n",
      "σ=0.04660969222396838 η[x]=1.0 η[σ]=1.5 η[B]=0.03571428571428571 |tr(ln_B)|=1.3877787807814457e-17 |path|=0.14687252823379648 speed=0.08085924622274139\n",
      "4.25 secs, 128 evals, 32 steps, fitness=0.000089569\n",
      "σ=0.026443610998305774 η[x]=1.0 η[σ]=0.75 η[B]=0.03571428571428571 |tr(ln_B)|=2.7755575615628914e-17 |path|=1.1157815715051915 speed=0.6142827246598388\n",
      "4.77 secs, 144 evals, 36 steps, fitness=0.000032864\n",
      "σ=0.01715372015630241 η[x]=1.0 η[σ]=0.75 η[B]=0.03571428571428571 |tr(ln_B)|=2.7755575615628914e-17 |path|=0.9715797032030017 speed=0.5348937843655365\n",
      "5.38 secs, 164 evals, 41 steps, fitness=0.000000118\n",
      "σ=0.0017747398990205655 η[x]=1.0 η[σ]=0.75 η[B]=0.03571428571428571 |tr(ln_B)|=2.7755575615628914e-17 |path|=0.25230222084753035 speed=0.13890254115854808\n",
      "5.99 secs, 184 evals, 46 steps, fitness=0.000000043\n",
      "σ=0.0008247780002236737 η[x]=1.0 η[σ]=0.75 η[B]=0.03571428571428571 |tr(ln_B)|=2.6020852139652106e-17 |path|=0.4652183426808947 speed=0.2561214474247345\n",
      "6.60 secs, 204 evals, 51 steps, fitness=0.000000009\n",
      "σ=0.0004950471402486215 η[x]=1.0 η[σ]=0.75 η[B]=0.03571428571428571 |tr(ln_B)|=2.7755575615628914e-17 |path|=0.27410259704491585 speed=0.1509045268797087\n",
      "7.21 secs, 224 evals, 56 steps, fitness=0.000000009\n",
      "σ=0.0005199990972239182 η[x]=1.0 η[σ]=0.75 η[B]=0.03571428571428571 |tr(ln_B)|=2.7755575615628914e-17 |path|=0.3064663253777102 speed=0.16872206368810114\n",
      "7.82 secs, 244 evals, 61 steps, fitness=0.000000009\n",
      "σ=0.0007919665534542192 η[x]=1.0 η[σ]=0.75 η[B]=0.03571428571428571 |tr(ln_B)|=2.7755575615628914e-17 |path|=1.441125024912903 speed=0.7933974081367566\n",
      "8.43 secs, 264 evals, 66 steps, fitness=0.000000009\n",
      "σ=0.001056544719186661 η[x]=1.0 η[σ]=0.75 η[B]=0.03571428571428571 |tr(ln_B)|=2.7755575615628914e-17 |path|=1.1465152860487084 speed=0.6312028731824938\n",
      "9.04 secs, 284 evals, 71 steps, fitness=0.000000009\n",
      "σ=0.0010729917861146646 η[x]=1.0 η[σ]=0.75 η[B]=0.03571428571428571 |tr(ln_B)|=2.7755575615628914e-17 |path|=1.5891237101789586 speed=0.874876649193467\n",
      "9.57 secs, 300 evals, 75 steps, fitness=0.000000009\n",
      "σ=0.00053529996066702 η[x]=1.0 η[σ]=0.75 η[B]=0.03571428571428571 |tr(ln_B)|=2.7755575615628914e-17 |path|=0.20327578823271114 speed=0.11191151408292031\n",
      "10.08 secs, 316 evals, 79 steps, fitness=0.000000009\n",
      "σ=0.00036570851764837183 η[x]=1.0 η[σ]=1.0 η[B]=0.07142857142857142 |tr(ln_B)|=2.7755575615628914e-17 |path|=2.105086848034122 speed=1.1589351515382829\n",
      "10.62 secs, 332 evals, 83 steps, fitness=0.000000009\n",
      "σ=0.00032756688163499423 η[x]=1.0 η[σ]=0.75 η[B]=0.03571428571428571 |tr(ln_B)|=2.7755575615628914e-17 |path|=0.9861029211788623 speed=0.5428894011931253\n",
      "11.24 secs, 348 evals, 87 steps, fitness=0.000000009\n",
      "σ=0.0003717266011338001 η[x]=1.0 η[σ]=0.75 η[B]=0.03571428571428571 |tr(ln_B)|=2.7755575615628914e-17 |path|=1.5297078427112552 speed=0.8421658195040568\n",
      "11.87 secs, 364 evals, 91 steps, fitness=0.000000009\n",
      "σ=0.0010306689826907985 η[x]=1.0 η[σ]=1.0 η[B]=0.07142857142857142 |tr(ln_B)|=2.7755575615628914e-17 |path|=2.3669145267671077 speed=1.303081841169024\n",
      "12.37 secs, 376 evals, 94 steps, fitness=0.000000009\n",
      "σ=0.0006796346777540998 η[x]=1.0 η[σ]=0.75 η[B]=0.03571428571428571 |tr(ln_B)|=2.7755575615628914e-17 |path|=0.4970815429506157 speed=0.27366342336153215\n",
      "12.89 secs, 388 evals, 97 steps, fitness=0.000000009\n",
      "σ=0.0009240171350548188 η[x]=1.0 η[σ]=0.75 η[B]=0.03571428571428571 |tr(ln_B)|=2.7755575615628914e-17 |path|=1.1660529317744677 speed=0.6419591345837893\n",
      "13.53 secs, 404 evals, 101 steps, fitness=0.000000009\n",
      "σ=0.0005673727192078936 η[x]=1.0 η[σ]=0.75 η[B]=0.03571428571428571 |tr(ln_B)|=2.7755575615628914e-17 |path|=1.4092140253716847 speed=0.775829116774537\n",
      "14.15 secs, 424 evals, 106 steps, fitness=0.000000009\n",
      "σ=0.00043005056443747475 η[x]=1.0 η[σ]=0.75 η[B]=0.03571428571428571 |tr(ln_B)|=2.7755575615628914e-17 |path|=0.33406260325645803 speed=0.18391492687812416\n",
      "14.76 secs, 444 evals, 111 steps, fitness=0.000000009\n",
      "σ=0.00037276150391278963 η[x]=1.0 η[σ]=0.75 η[B]=0.03571428571428571 |tr(ln_B)|=2.7755575615628914e-17 |path|=1.1821425963429821 speed=0.650817143393414\n",
      "15.37 secs, 464 evals, 116 steps, fitness=0.000000009\n",
      "σ=0.0010330464202271395 η[x]=1.0 η[σ]=1.5 η[B]=0.03571428571428571 |tr(ln_B)|=2.7755575615628914e-17 |path|=0.15694506915697753 speed=0.08640458595638888\n",
      "15.89 secs, 480 evals, 120 steps, fitness=0.000000009\n",
      "σ=0.001210791597539807 η[x]=1.0 η[σ]=1.0 η[B]=0.07142857142857142 |tr(ln_B)|=0.0 |path|=2.109897044855492 speed=1.1615833587546784\n",
      "16.40 secs, 496 evals, 124 steps, fitness=0.000000009\n",
      "σ=0.0014489628376426293 η[x]=1.0 η[σ]=0.75 η[B]=0.03571428571428571 |tr(ln_B)|=0.0 |path|=0.5631954193055471 speed=0.3100617768944234\n",
      "16.90 secs, 512 evals, 128 steps, fitness=0.000000004\n",
      "σ=0.0008484611676804738 η[x]=1.0 η[σ]=0.75 η[B]=0.03571428571428571 |tr(ln_B)|=0.0 |path|=1.0462661276584815 speed=0.5760116711287343\n",
      "17.46 secs, 528 evals, 132 steps, fitness=0.000000002\n",
      "σ=0.0008920946435550733 η[x]=1.0 η[σ]=0.75 η[B]=0.03571428571428571 |tr(ln_B)|=0.0 |path|=0.7601573903093884 speed=0.4184972801259346\n",
      "18.08 secs, 548 evals, 137 steps, fitness=0.000000002\n",
      "σ=0.0005492243250981921 η[x]=1.0 η[σ]=0.75 η[B]=0.03571428571428571 |tr(ln_B)|=0.0 |path|=0.4091358881053861 speed=0.22524579587961954\n",
      "18.59 secs, 564 evals, 141 steps, fitness=0.000000002\n",
      "σ=0.0007974803860793989 η[x]=1.0 η[σ]=0.75 η[B]=0.03571428571428571 |tr(ln_B)|=0.0 |path|=1.2881540392729725 speed=0.7091807153247079\n",
      "19.20 secs, 584 evals, 146 steps, fitness=0.000000002\n",
      "σ=0.001081004928409549 η[x]=1.0 η[σ]=0.75 η[B]=0.03571428571428571 |tr(ln_B)|=0.0 |path|=0.8390894221264266 speed=0.4619525448531507\n",
      "19.81 secs, 604 evals, 151 steps, fitness=0.000000002\n",
      "σ=0.0012510671980401138 η[x]=1.0 η[σ]=0.75 η[B]=0.03571428571428571 |tr(ln_B)|=0.0 |path|=0.5206030859193826 speed=0.28661298075883357\n",
      "20.35 secs, 620 evals, 155 steps, fitness=0.000000002\n",
      "σ=0.0007056084858436919 η[x]=1.0 η[σ]=0.75 η[B]=0.03571428571428571 |tr(ln_B)|=0.0 |path|=1.244062224969846 speed=0.6849063945104803\n",
      "20.99 secs, 636 evals, 159 steps, fitness=0.000000002\n",
      "σ=0.0005194648848853226 η[x]=1.0 η[σ]=0.75 η[B]=0.03571428571428571 |tr(ln_B)|=0.0 |path|=1.2174836564669775 speed=0.6702738213488036\n",
      "21.53 secs, 652 evals, 163 steps, fitness=0.000000002\n",
      "σ=0.0002946762232900562 η[x]=1.0 η[σ]=0.75 η[B]=0.03571428571428571 |tr(ln_B)|=0.0 |path|=1.113497830449516 speed=0.6130254331666611\n",
      "22.05 secs, 668 evals, 167 steps, fitness=0.000000002\n",
      "σ=0.0004866973473299621 η[x]=1.0 η[σ]=0.75 η[B]=0.03571428571428571 |tr(ln_B)|=5.551115123125783e-17 |path|=0.3127066167898569 speed=0.17215759561407995\n",
      "22.63 secs, 684 evals, 171 steps, fitness=0.000000002\n",
      "σ=0.00044200561472871415 η[x]=1.0 η[σ]=0.75 η[B]=0.03571428571428571 |tr(ln_B)|=5.551115123125783e-17 |path|=0.37730393846469296 speed=0.20772102467360148\n",
      "23.17 secs, 700 evals, 175 steps, fitness=0.000000002\n",
      "σ=0.0003517366184739527 η[x]=1.0 η[σ]=0.75 η[B]=0.03571428571428571 |tr(ln_B)|=5.551115123125783e-17 |path|=0.5904110063516901 speed=0.32504505443804604\n"
     ]
    },
    {
     "name": "stdout",
     "output_type": "stream",
     "text": [
      "23.82 secs, 716 evals, 179 steps, fitness=0.000000002\n",
      "σ=0.0008239140959754637 η[x]=1.0 η[σ]=0.75 η[B]=0.03571428571428571 |tr(ln_B)|=5.551115123125783e-17 |path|=0.48997264395616114 speed=0.2697496879538446\n",
      "24.35 secs, 732 evals, 183 steps, fitness=0.000000002\n",
      "σ=0.0004963966434174885 η[x]=1.0 η[σ]=0.75 η[B]=0.03571428571428571 |tr(ln_B)|=5.551115123125783e-17 |path|=1.19537633735805 speed=0.6581028511840635\n",
      "24.96 secs, 752 evals, 188 steps, fitness=0.000000002\n",
      "σ=0.0005046198232100505 η[x]=1.0 η[σ]=0.75 η[B]=0.03571428571428571 |tr(ln_B)|=5.551115123125783e-17 |path|=0.7815900683271734 speed=0.4302968331798189\n",
      "25.58 secs, 772 evals, 193 steps, fitness=0.000000002\n",
      "σ=0.0005971420399413115 η[x]=1.0 η[σ]=1.0 η[B]=0.07142857142857142 |tr(ln_B)|=5.551115123125783e-17 |path|=1.8376192676560954 speed=1.011683468745972\n",
      "26.19 secs, 792 evals, 198 steps, fitness=0.000000002\n",
      "σ=0.0007548972017532772 η[x]=1.0 η[σ]=0.75 η[B]=0.03571428571428571 |tr(ln_B)|=4.163336342344337e-17 |path|=1.7718298899979807 speed=0.9754637648240079\n",
      "26.71 secs, 808 evals, 202 steps, fitness=0.000000002\n",
      "σ=0.0005873398124651883 η[x]=1.0 η[σ]=0.75 η[B]=0.03571428571428571 |tr(ln_B)|=4.163336342344337e-17 |path|=0.9212243585879287 speed=0.5071711376743887\n",
      "27.23 secs, 824 evals, 206 steps, fitness=0.000000002\n",
      "σ=0.0005502439404926823 η[x]=1.0 η[σ]=0.75 η[B]=0.03571428571428571 |tr(ln_B)|=4.163336342344337e-17 |path|=1.2011750181569885 speed=0.6612952586691588\n",
      "27.74 secs, 840 evals, 210 steps, fitness=0.000000002\n",
      "σ=0.0004953443501849033 η[x]=1.0 η[σ]=0.75 η[B]=0.03571428571428571 |tr(ln_B)|=4.163336342344337e-17 |path|=1.1251553435705999 speed=0.6194433639746749\n",
      "28.29 secs, 856 evals, 214 steps, fitness=0.000000002\n",
      "σ=0.0006305690194423463 η[x]=1.0 η[σ]=0.75 η[B]=0.03571428571428571 |tr(ln_B)|=4.163336342344337e-17 |path|=1.4612961975769923 speed=0.8045024516507533\n",
      "28.85 secs, 872 evals, 218 steps, fitness=0.000000002\n",
      "σ=0.0006836765810517804 η[x]=1.0 η[σ]=0.75 η[B]=0.03571428571428571 |tr(ln_B)|=4.163336342344337e-17 |path|=0.981732394701918 speed=0.5404832502214494\n",
      "29.42 secs, 888 evals, 222 steps, fitness=0.000000002\n",
      "σ=0.0006970232975347129 η[x]=1.0 η[σ]=0.75 η[B]=0.03571428571428571 |tr(ln_B)|=4.163336342344337e-17 |path|=0.8759675361358124 speed=0.48225543292060813\n",
      "30.01 secs, 904 evals, 226 steps, fitness=0.000000002\n",
      "σ=0.0004821914474064026 η[x]=1.0 η[σ]=0.75 η[B]=0.03571428571428571 |tr(ln_B)|=2.7755575615628914e-17 |path|=0.2542794028717632 speed=0.13999105954961255\n",
      "30.58 secs, 920 evals, 230 steps, fitness=0.000000002\n",
      "σ=0.0004900483794736229 η[x]=1.0 η[σ]=0.75 η[B]=0.03571428571428571 |tr(ln_B)|=2.7755575615628914e-17 |path|=0.30460310981516464 speed=0.16769628842740644\n",
      "31.18 secs, 936 evals, 234 steps, fitness=0.000000002\n",
      "σ=0.0003098661884763283 η[x]=1.0 η[σ]=0.75 η[B]=0.03571428571428571 |tr(ln_B)|=2.7755575615628914e-17 |path|=0.3464641622302141 speed=0.1907424849154484\n",
      "31.79 secs, 952 evals, 238 steps, fitness=0.000000002\n",
      "σ=0.00022871820671886787 η[x]=1.0 η[σ]=0.75 η[B]=0.03571428571428571 |tr(ln_B)|=2.7755575615628914e-17 |path|=1.2900856207914393 speed=0.7102441287995028\n",
      "32.38 secs, 968 evals, 242 steps, fitness=0.000000002\n",
      "σ=0.000357977780587684 η[x]=1.0 η[σ]=0.75 η[B]=0.03571428571428571 |tr(ln_B)|=2.42861286636753e-17 |path|=0.5640782222693751 speed=0.31054779550577805\n",
      "32.92 secs, 984 evals, 246 steps, fitness=0.000000002\n",
      "σ=0.00019203063714928729 η[x]=1.0 η[σ]=0.75 η[B]=0.03571428571428571 |tr(ln_B)|=2.688821387764051e-17 |path|=0.5873464480055985 speed=0.32335789155707406\n",
      "\n",
      "Optimization stopped after 251 steps and 33.530961990356445 seconds\n",
      "Termination reason: Max number of function evaluations (1000) reached\n",
      "Steps per second = 7.485618816191076\n",
      "Function evals per second = 29.942475264764305\n",
      "Improvements/step = NaN\n",
      "Total function evaluations = 1004\n",
      "\n",
      "\n",
      "Best candidate found: [1.00072, -1.00033]\n",
      "\n",
      "Fitness: 0.000000002\n",
      "\n"
     ]
    },
    {
     "name": "stderr",
     "output_type": "stream",
     "text": [
      "\u001b[1m\u001b[36mINFO: \u001b[39m\u001b[22m\u001b[36mBest Value: [1.00072, -1.00033]\n",
      "\u001b[39m\u001b[1m\u001b[36mINFO: \u001b[39m\u001b[22m\u001b[36mBest Fitness: 2.068705173778004e-9\n",
      "\u001b[39m\u001b[1m\u001b[36mINFO: \u001b[39m\u001b[22m\u001b[36mSaving optimisation to disk\n",
      "\u001b[39m\u001b[1m\u001b[36mINFO: \u001b[39m\u001b[22m\u001b[36mDone.\n",
      "\u001b[39m"
     ]
    },
    {
     "data": {
      "text/plain": [
       "(Any[2.06871e-9], Any[[1.00072, -1.00033]])"
      ]
     },
     "execution_count": 12,
     "metadata": {},
     "output_type": "execute_result"
    }
   ],
   "source": [
    "# Run the optimization\n",
    "# This function first modifies t.bbSetup\n",
    "# and then modifies t.bbResults\n",
    "@time smmoptimize!(myProblem, verbose = true)"
   ]
  },
  {
   "cell_type": "markdown",
   "metadata": {},
   "source": [
    "## Step 6. Analysing Results\n",
    "\n",
    "### A. Point estimates"
   ]
  },
  {
   "cell_type": "markdown",
   "metadata": {},
   "source": [
    "The parameter value that minimizes the distance between empirical and simulated moments can be accessed using \n",
    "the function `smm_minimizer` "
   ]
  },
  {
   "cell_type": "code",
   "execution_count": 13,
   "metadata": {},
   "outputs": [
    {
     "name": "stdout",
     "output_type": "stream",
     "text": [
      " 47.187792 seconds (8.90 M allocations: 30.402 GiB, 3.21% gc time)\n"
     ]
    }
   ],
   "source": [
    "minimizer = smm_minimizer(myProblem)\n",
    "println(minimizer[1])\n",
    "println(minimizer[2])"
   ]
  },
  {
   "cell_type": "markdown",
   "metadata": {},
   "source": [
    "### B. Standard errors\n",
    "\n",
    "[WORKINPROGRESS]"
   ]
  },
  {
   "cell_type": "markdown",
   "metadata": {},
   "source": [
    "### C. Slices\n",
    "\n",
    "Slices of the objective function around a certain parameter value using the function smm_slices(sMMProblem::SMMProblem, paramValues::Vector, nbPoints::Int64; showPlots::Bool = true)"
   ]
  },
  {
   "cell_type": "code",
   "execution_count": 16,
   "metadata": {
    "scrolled": true
   },
   "outputs": [
    {
     "data": {
      "application/vnd.plotly.v1+json": {
       "data": [
        {
         "colorbar": {
          "title": ""
         },
         "hoverinfo": "text",
         "legendgroup": "y1",
         "line": {
          "color": "rgba(0, 154, 250, 1.000)",
          "dash": "solid",
          "shape": "linear",
          "width": 1
         },
         "mode": "lines",
         "name": "y1",
         "showlegend": true,
         "text": [
          null,
          null,
          null,
          null,
          null,
          null,
          null,
          null,
          null,
          null
         ],
         "type": "scatter",
         "x": [
          -5,
          -3.888888888888889,
          -2.7777777777777777,
          -1.6666666666666667,
          -0.5555555555555556,
          0.5555555555555556,
          1.6666666666666667,
          2.7777777777777777,
          3.888888888888889,
          5
         ],
         "xaxis": "x1",
         "y": [
          18.000090004217075,
          11.952350286280954,
          7.137443503315515,
          3.5558563349115158,
          1.2090662546635675,
          0.0987409819041433,
          0.22169663189877808,
          1.5809847749347552,
          4.1675736257664235,
          8.00373014784128
         ],
         "yaxis": "y1"
        }
       ],
       "layout": {
        "annotations": [
         {
          "font": {
           "color": "rgba(0, 0, 0, 1.000)",
           "family": "sans-serif",
           "size": 20
          },
          "rotation": 0,
          "showarrow": false,
          "text": "mu1",
          "x": 0.5148148148148148,
          "xanchor": "center",
          "xref": "paper",
          "y": 1,
          "yanchor": "top",
          "yref": "paper"
         }
        ],
        "height": 400,
        "legend": {
         "bgcolor": "rgba(255, 255, 255, 1.000)",
         "bordercolor": "rgba(0, 0, 0, 1.000)",
         "font": {
          "color": "rgba(0, 0, 0, 1.000)",
          "family": "sans-serif",
          "size": 11
         },
         "tracegroupgap": 0,
         "x": 1,
         "y": 1
        },
        "margin": {
         "b": 20,
         "l": 0,
         "r": 0,
         "t": 20
        },
        "paper_bgcolor": "rgba(255, 255, 255, 1.000)",
        "plot_bgcolor": "rgba(255, 255, 255, 1.000)",
        "showlegend": true,
        "width": 600,
        "xaxis": {
         "anchor": "y1",
         "domain": [
          0.03619130941965587,
          0.9934383202099738
         ],
         "gridcolor": "rgba(0, 0, 0, 0.100)",
         "gridwidth": 0.5,
         "linecolor": "rgba(0, 0, 0, 1.000)",
         "mirror": false,
         "range": [
          -5.3,
          5.3
         ],
         "showgrid": true,
         "showline": true,
         "showticklabels": true,
         "tickangle": 0,
         "tickcolor": "rgb(0, 0, 0)",
         "tickfont": {
          "color": "rgba(0, 0, 0, 1.000)",
          "family": "sans-serif",
          "size": 11
         },
         "tickmode": "array",
         "ticks": "inside",
         "ticktext": [
          "-4",
          "-2",
          "0",
          "2",
          "4"
         ],
         "tickvals": [
          -4,
          -2,
          0,
          2,
          4
         ],
         "title": "",
         "titlefont": {
          "color": "rgba(0, 0, 0, 1.000)",
          "family": "sans-serif",
          "size": 15
         },
         "type": "-",
         "visible": true,
         "zeroline": false,
         "zerolinecolor": "rgba(0, 0, 0, 1.000)"
        },
        "yaxis": {
         "anchor": "x1",
         "domain": [
          0.03762029746281716,
          0.9415463692038496
         ],
         "gridcolor": "rgba(0, 0, 0, 0.100)",
         "gridwidth": 0.5,
         "linecolor": "rgba(0, 0, 0, 1.000)",
         "mirror": false,
         "range": [
          -0.4382994887652447,
          18.537130474886464
         ],
         "showgrid": true,
         "showline": true,
         "showticklabels": true,
         "tickangle": 0,
         "tickcolor": "rgb(0, 0, 0)",
         "tickfont": {
          "color": "rgba(0, 0, 0, 1.000)",
          "family": "sans-serif",
          "size": 11
         },
         "tickmode": "array",
         "ticks": "inside",
         "ticktext": [
          "0",
          "5",
          "10",
          "15"
         ],
         "tickvals": [
          0,
          5,
          10,
          15
         ],
         "title": "",
         "titlefont": {
          "color": "rgba(0, 0, 0, 1.000)",
          "family": "sans-serif",
          "size": 15
         },
         "type": "-",
         "visible": true,
         "zeroline": false,
         "zerolinecolor": "rgba(0, 0, 0, 1.000)"
        }
       }
      },
      "text/html": [
       "<div id=\"fbd02629-7380-46d1-a686-57247fa11308\" class=\"plotly-graph-div\"></div>\n",
       "\n",
       "<script>\n",
       "    (function() {\n",
       "        var data_fbd02629 = [{\"xaxis\":\"x1\",\"colorbar\":{\"title\":\"\"},\"yaxis\":\"y1\",\"text\":[null,null,null,null,null,null,null,null,null,null],\"x\":[-5.0,-3.888888888888889,-2.7777777777777777,-1.6666666666666667,-0.5555555555555556,0.5555555555555556,1.6666666666666667,2.7777777777777777,3.888888888888889,5.0],\"showlegend\":true,\"mode\":\"lines\",\"name\":\"y1\",\"legendgroup\":\"y1\",\"line\":{\"color\":\"rgba(0, 154, 250, 1.000)\",\"width\":1,\"dash\":\"solid\",\"shape\":\"linear\"},\"y\":[18.000090004217075,11.952350286280954,7.137443503315515,3.5558563349115158,1.2090662546635675,0.0987409819041433,0.22169663189877808,1.5809847749347552,4.1675736257664235,8.00373014784128],\"type\":\"scatter\",\"hoverinfo\":\"text\"}];\n",
       "var layout_fbd02629 = {\"showlegend\":true,\"xaxis\":{\"showticklabels\":true,\"gridwidth\":0.5,\"tickvals\":[-4.0,-2.0,0.0,2.0,4.0],\"visible\":true,\"ticks\":\"inside\",\"range\":[-5.3,5.3],\"domain\":[0.03619130941965587,0.9934383202099738],\"tickmode\":\"array\",\"linecolor\":\"rgba(0, 0, 0, 1.000)\",\"showgrid\":true,\"title\":\"\",\"mirror\":false,\"tickangle\":0,\"showline\":true,\"gridcolor\":\"rgba(0, 0, 0, 0.100)\",\"titlefont\":{\"color\":\"rgba(0, 0, 0, 1.000)\",\"family\":\"sans-serif\",\"size\":15},\"tickcolor\":\"rgb(0, 0, 0)\",\"ticktext\":[\"-4\",\"-2\",\"0\",\"2\",\"4\"],\"zeroline\":false,\"type\":\"-\",\"tickfont\":{\"color\":\"rgba(0, 0, 0, 1.000)\",\"family\":\"sans-serif\",\"size\":11},\"zerolinecolor\":\"rgba(0, 0, 0, 1.000)\",\"anchor\":\"y1\"},\"paper_bgcolor\":\"rgba(255, 255, 255, 1.000)\",\"annotations\":[{\"yanchor\":\"top\",\"xanchor\":\"center\",\"rotation\":-0.0,\"y\":1.0,\"font\":{\"color\":\"rgba(0, 0, 0, 1.000)\",\"family\":\"sans-serif\",\"size\":20},\"yref\":\"paper\",\"showarrow\":false,\"text\":\"mu1\",\"xref\":\"paper\",\"x\":0.5148148148148148}],\"height\":400,\"margin\":{\"l\":0,\"b\":20,\"r\":0,\"t\":20},\"plot_bgcolor\":\"rgba(255, 255, 255, 1.000)\",\"yaxis\":{\"showticklabels\":true,\"gridwidth\":0.5,\"tickvals\":[0.0,5.0,10.0,15.0],\"visible\":true,\"ticks\":\"inside\",\"range\":[-0.4382994887652447,18.537130474886464],\"domain\":[0.03762029746281716,0.9415463692038496],\"tickmode\":\"array\",\"linecolor\":\"rgba(0, 0, 0, 1.000)\",\"showgrid\":true,\"title\":\"\",\"mirror\":false,\"tickangle\":0,\"showline\":true,\"gridcolor\":\"rgba(0, 0, 0, 0.100)\",\"titlefont\":{\"color\":\"rgba(0, 0, 0, 1.000)\",\"family\":\"sans-serif\",\"size\":15},\"tickcolor\":\"rgb(0, 0, 0)\",\"ticktext\":[\"0\",\"5\",\"10\",\"15\"],\"zeroline\":false,\"type\":\"-\",\"tickfont\":{\"color\":\"rgba(0, 0, 0, 1.000)\",\"family\":\"sans-serif\",\"size\":11},\"zerolinecolor\":\"rgba(0, 0, 0, 1.000)\",\"anchor\":\"x1\"},\"legend\":{\"tracegroupgap\":0,\"bordercolor\":\"rgba(0, 0, 0, 1.000)\",\"bgcolor\":\"rgba(255, 255, 255, 1.000)\",\"font\":{\"color\":\"rgba(0, 0, 0, 1.000)\",\"family\":\"sans-serif\",\"size\":11},\"y\":1.0,\"x\":1.0},\"width\":600};\n",
       "\n",
       "        if (!requirejs.specified('plotly')) {\n",
       "          requirejs.config({\n",
       "            paths: {\n",
       "              'plotly_cdn': ['https://cdn.plot.ly/plotly-latest.min']\n",
       "            },\n",
       "          });\n",
       "          require(['plotly_cdn'], function(Plotly) {\n",
       "            Plotly.newPlot('fbd02629-7380-46d1-a686-57247fa11308',\n",
       "    data_fbd02629, layout_fbd02629,\n",
       "    {showLink: false}\n",
       ");\n",
       "\n",
       "          });\n",
       "        } else {\n",
       "          require(['plotly'], function(Plotly) {\n",
       "            Plotly.newPlot('fbd02629-7380-46d1-a686-57247fa11308',\n",
       "    data_fbd02629, layout_fbd02629,\n",
       "    {showLink: false}\n",
       ");\n",
       "\n",
       "            if (window.Plotly == undefined) {\n",
       "                window.Plotly = Plotly;\n",
       "            }\n",
       "          });\n",
       "        }\n",
       "    })();\n",
       " </script>\n"
      ]
     },
     "metadata": {},
     "output_type": "display_data"
    },
    {
     "name": "stderr",
     "output_type": "stream",
     "text": [
      "\u001b[1m\u001b[36mINFO: \u001b[39m\u001b[22m\u001b[36mslicing along mu1\n",
      "\u001b[39m"
     ]
    },
    {
     "data": {
      "application/vnd.plotly.v1+json": {
       "data": [
        {
         "colorbar": {
          "title": ""
         },
         "hoverinfo": "text",
         "legendgroup": "y1",
         "line": {
          "color": "rgba(0, 154, 250, 1.000)",
          "dash": "solid",
          "shape": "linear",
          "width": 1
         },
         "mode": "lines",
         "name": "y1",
         "showlegend": true,
         "text": [
          null,
          null,
          null,
          null,
          null,
          null,
          null,
          null,
          null,
          null
         ],
         "type": "scatter",
         "x": [
          -5,
          -3.888888888888889,
          -2.7777777777777777,
          -1.6666666666666667,
          -0.5555555555555556,
          0.5555555555555556,
          1.6666666666666667,
          2.7777777777777777,
          3.888888888888889,
          5
         ],
         "xaxis": "x1",
         "y": [
          7.993186815728885,
          4.174469371089621,
          1.5813813606440792,
          0.22162957256906124,
          0.09862003397392623,
          1.2109749389735989,
          3.558224899291287,
          7.131565594947463,
          11.950525393526096,
          17.99750482335963
         ],
         "yaxis": "y1"
        }
       ],
       "layout": {
        "annotations": [
         {
          "font": {
           "color": "rgba(0, 0, 0, 1.000)",
           "family": "sans-serif",
           "size": 20
          },
          "rotation": 0,
          "showarrow": false,
          "text": "mu2",
          "x": 0.5148148148148148,
          "xanchor": "center",
          "xref": "paper",
          "y": 1,
          "yanchor": "top",
          "yref": "paper"
         }
        ],
        "height": 400,
        "legend": {
         "bgcolor": "rgba(255, 255, 255, 1.000)",
         "bordercolor": "rgba(0, 0, 0, 1.000)",
         "font": {
          "color": "rgba(0, 0, 0, 1.000)",
          "family": "sans-serif",
          "size": 11
         },
         "tracegroupgap": 0,
         "x": 1,
         "y": 1
        },
        "margin": {
         "b": 20,
         "l": 0,
         "r": 0,
         "t": 20
        },
        "paper_bgcolor": "rgba(255, 255, 255, 1.000)",
        "plot_bgcolor": "rgba(255, 255, 255, 1.000)",
        "showlegend": true,
        "width": 600,
        "xaxis": {
         "anchor": "y1",
         "domain": [
          0.03619130941965587,
          0.9934383202099738
         ],
         "gridcolor": "rgba(0, 0, 0, 0.100)",
         "gridwidth": 0.5,
         "linecolor": "rgba(0, 0, 0, 1.000)",
         "mirror": false,
         "range": [
          -5.3,
          5.3
         ],
         "showgrid": true,
         "showline": true,
         "showticklabels": true,
         "tickangle": 0,
         "tickcolor": "rgb(0, 0, 0)",
         "tickfont": {
          "color": "rgba(0, 0, 0, 1.000)",
          "family": "sans-serif",
          "size": 11
         },
         "tickmode": "array",
         "ticks": "inside",
         "ticktext": [
          "-4",
          "-2",
          "0",
          "2",
          "4"
         ],
         "tickvals": [
          -4,
          -2,
          0,
          2,
          4
         ],
         "title": "",
         "titlefont": {
          "color": "rgba(0, 0, 0, 1.000)",
          "family": "sans-serif",
          "size": 15
         },
         "type": "-",
         "visible": true,
         "zeroline": false,
         "zerolinecolor": "rgba(0, 0, 0, 1.000)"
        },
        "yaxis": {
         "anchor": "x1",
         "domain": [
          0.03762029746281716,
          0.9415463692038496
         ],
         "gridcolor": "rgba(0, 0, 0, 0.100)",
         "gridwidth": 0.5,
         "linecolor": "rgba(0, 0, 0, 1.000)",
         "mirror": false,
         "range": [
          -0.43834650970764494,
          18.534471367041203
         ],
         "showgrid": true,
         "showline": true,
         "showticklabels": true,
         "tickangle": 0,
         "tickcolor": "rgb(0, 0, 0)",
         "tickfont": {
          "color": "rgba(0, 0, 0, 1.000)",
          "family": "sans-serif",
          "size": 11
         },
         "tickmode": "array",
         "ticks": "inside",
         "ticktext": [
          "0",
          "5",
          "10",
          "15"
         ],
         "tickvals": [
          0,
          5,
          10,
          15
         ],
         "title": "",
         "titlefont": {
          "color": "rgba(0, 0, 0, 1.000)",
          "family": "sans-serif",
          "size": 15
         },
         "type": "-",
         "visible": true,
         "zeroline": false,
         "zerolinecolor": "rgba(0, 0, 0, 1.000)"
        }
       }
      },
      "text/html": [
       "<div id=\"cb9a5a27-c08f-4f7d-b660-4d8f34724170\" class=\"plotly-graph-div\"></div>\n",
       "\n",
       "<script>\n",
       "    (function() {\n",
       "        var data_cb9a5a27 = [{\"xaxis\":\"x1\",\"colorbar\":{\"title\":\"\"},\"yaxis\":\"y1\",\"text\":[null,null,null,null,null,null,null,null,null,null],\"x\":[-5.0,-3.888888888888889,-2.7777777777777777,-1.6666666666666667,-0.5555555555555556,0.5555555555555556,1.6666666666666667,2.7777777777777777,3.888888888888889,5.0],\"showlegend\":true,\"mode\":\"lines\",\"name\":\"y1\",\"legendgroup\":\"y1\",\"line\":{\"color\":\"rgba(0, 154, 250, 1.000)\",\"width\":1,\"dash\":\"solid\",\"shape\":\"linear\"},\"y\":[7.993186815728885,4.174469371089621,1.5813813606440792,0.22162957256906124,0.09862003397392623,1.2109749389735989,3.558224899291287,7.131565594947463,11.950525393526096,17.99750482335963],\"type\":\"scatter\",\"hoverinfo\":\"text\"}];\n",
       "var layout_cb9a5a27 = {\"showlegend\":true,\"xaxis\":{\"showticklabels\":true,\"gridwidth\":0.5,\"tickvals\":[-4.0,-2.0,0.0,2.0,4.0],\"visible\":true,\"ticks\":\"inside\",\"range\":[-5.3,5.3],\"domain\":[0.03619130941965587,0.9934383202099738],\"tickmode\":\"array\",\"linecolor\":\"rgba(0, 0, 0, 1.000)\",\"showgrid\":true,\"title\":\"\",\"mirror\":false,\"tickangle\":0,\"showline\":true,\"gridcolor\":\"rgba(0, 0, 0, 0.100)\",\"titlefont\":{\"color\":\"rgba(0, 0, 0, 1.000)\",\"family\":\"sans-serif\",\"size\":15},\"tickcolor\":\"rgb(0, 0, 0)\",\"ticktext\":[\"-4\",\"-2\",\"0\",\"2\",\"4\"],\"zeroline\":false,\"type\":\"-\",\"tickfont\":{\"color\":\"rgba(0, 0, 0, 1.000)\",\"family\":\"sans-serif\",\"size\":11},\"zerolinecolor\":\"rgba(0, 0, 0, 1.000)\",\"anchor\":\"y1\"},\"paper_bgcolor\":\"rgba(255, 255, 255, 1.000)\",\"annotations\":[{\"yanchor\":\"top\",\"xanchor\":\"center\",\"rotation\":-0.0,\"y\":1.0,\"font\":{\"color\":\"rgba(0, 0, 0, 1.000)\",\"family\":\"sans-serif\",\"size\":20},\"yref\":\"paper\",\"showarrow\":false,\"text\":\"mu2\",\"xref\":\"paper\",\"x\":0.5148148148148148}],\"height\":400,\"margin\":{\"l\":0,\"b\":20,\"r\":0,\"t\":20},\"plot_bgcolor\":\"rgba(255, 255, 255, 1.000)\",\"yaxis\":{\"showticklabels\":true,\"gridwidth\":0.5,\"tickvals\":[0.0,5.0,10.0,15.0],\"visible\":true,\"ticks\":\"inside\",\"range\":[-0.43834650970764494,18.534471367041203],\"domain\":[0.03762029746281716,0.9415463692038496],\"tickmode\":\"array\",\"linecolor\":\"rgba(0, 0, 0, 1.000)\",\"showgrid\":true,\"title\":\"\",\"mirror\":false,\"tickangle\":0,\"showline\":true,\"gridcolor\":\"rgba(0, 0, 0, 0.100)\",\"titlefont\":{\"color\":\"rgba(0, 0, 0, 1.000)\",\"family\":\"sans-serif\",\"size\":15},\"tickcolor\":\"rgb(0, 0, 0)\",\"ticktext\":[\"0\",\"5\",\"10\",\"15\"],\"zeroline\":false,\"type\":\"-\",\"tickfont\":{\"color\":\"rgba(0, 0, 0, 1.000)\",\"family\":\"sans-serif\",\"size\":11},\"zerolinecolor\":\"rgba(0, 0, 0, 1.000)\",\"anchor\":\"x1\"},\"legend\":{\"tracegroupgap\":0,\"bordercolor\":\"rgba(0, 0, 0, 1.000)\",\"bgcolor\":\"rgba(255, 255, 255, 1.000)\",\"font\":{\"color\":\"rgba(0, 0, 0, 1.000)\",\"family\":\"sans-serif\",\"size\":11},\"y\":1.0,\"x\":1.0},\"width\":600};\n",
       "\n",
       "        if (!requirejs.specified('plotly')) {\n",
       "          requirejs.config({\n",
       "            paths: {\n",
       "              'plotly_cdn': ['https://cdn.plot.ly/plotly-latest.min']\n",
       "            },\n",
       "          });\n",
       "          require(['plotly_cdn'], function(Plotly) {\n",
       "            Plotly.newPlot('cb9a5a27-c08f-4f7d-b660-4d8f34724170',\n",
       "    data_cb9a5a27, layout_cb9a5a27,\n",
       "    {showLink: false}\n",
       ");\n",
       "\n",
       "          });\n",
       "        } else {\n",
       "          require(['plotly'], function(Plotly) {\n",
       "            Plotly.newPlot('cb9a5a27-c08f-4f7d-b660-4d8f34724170',\n",
       "    data_cb9a5a27, layout_cb9a5a27,\n",
       "    {showLink: false}\n",
       ");\n",
       "\n",
       "            if (window.Plotly == undefined) {\n",
       "                window.Plotly = Plotly;\n",
       "            }\n",
       "          });\n",
       "        }\n",
       "    })();\n",
       " </script>\n"
      ]
     },
     "metadata": {},
     "output_type": "display_data"
    },
    {
     "name": "stderr",
     "output_type": "stream",
     "text": [
      "\u001b[1m\u001b[36mINFO: \u001b[39m\u001b[22m\u001b[36mslicing along mu2\n",
      "\u001b[39m"
     ]
    },
    {
     "data": {
      "text/plain": [
       "2-element Array{Any,1}:\n",
       " Plot{Plots.PlotlyJSBackend() n=1}\n",
       " Plot{Plots.PlotlyJSBackend() n=1}"
      ]
     },
     "execution_count": 16,
     "metadata": {},
     "output_type": "execute_result"
    }
   ],
   "source": [
    "Plots.plotlyjs()\n",
    "@time listPlots = smm_slices(myProblem, minimizer, 10)"
   ]
  },
  {
   "cell_type": "markdown",
   "metadata": {},
   "source": [
    "You can combine the several plots created into a single one:"
   ]
  },
  {
   "cell_type": "code",
   "execution_count": 17,
   "metadata": {
    "scrolled": false
   },
   "outputs": [
    {
     "data": {
      "application/vnd.plotly.v1+json": {
       "data": [
        {
         "colorbar": {
          "title": ""
         },
         "hoverinfo": "text",
         "legendgroup": "y1",
         "line": {
          "color": "rgba(0, 154, 250, 1.000)",
          "dash": "solid",
          "shape": "linear",
          "width": 1
         },
         "mode": "lines",
         "name": "y1",
         "showlegend": true,
         "text": [
          null,
          null,
          null,
          null,
          null,
          null,
          null,
          null,
          null,
          null
         ],
         "type": "scatter",
         "x": [
          -5,
          -3.888888888888889,
          -2.7777777777777777,
          -1.6666666666666667,
          -0.5555555555555556,
          0.5555555555555556,
          1.6666666666666667,
          2.7777777777777777,
          3.888888888888889,
          5
         ],
         "xaxis": "x1",
         "y": [
          18.000090004217075,
          11.952350286280954,
          7.137443503315515,
          3.5558563349115158,
          1.2090662546635675,
          0.0987409819041433,
          0.22169663189877808,
          1.5809847749347552,
          4.1675736257664235,
          8.00373014784128
         ],
         "yaxis": "y1"
        },
        {
         "colorbar": {
          "title": ""
         },
         "hoverinfo": "text",
         "legendgroup": "y1",
         "line": {
          "color": "rgba(0, 154, 250, 1.000)",
          "dash": "solid",
          "shape": "linear",
          "width": 1
         },
         "mode": "lines",
         "name": "y1",
         "showlegend": true,
         "text": [
          null,
          null,
          null,
          null,
          null,
          null,
          null,
          null,
          null,
          null
         ],
         "type": "scatter",
         "x": [
          -5,
          -3.888888888888889,
          -2.7777777777777777,
          -1.6666666666666667,
          -0.5555555555555556,
          0.5555555555555556,
          1.6666666666666667,
          2.7777777777777777,
          3.888888888888889,
          5
         ],
         "xaxis": "x2",
         "y": [
          7.993186815728885,
          4.174469371089621,
          1.5813813606440792,
          0.22162957256906124,
          0.09862003397392623,
          1.2109749389735989,
          3.558224899291287,
          7.131565594947463,
          11.950525393526096,
          17.99750482335963
         ],
         "yaxis": "y2"
        }
       ],
       "layout": {
        "annotations": [
         {
          "font": {
           "color": "rgba(0, 0, 0, 1.000)",
           "family": "sans-serif",
           "size": 20
          },
          "rotation": 0,
          "showarrow": false,
          "text": "mu1",
          "x": 0.2648148148148148,
          "xanchor": "center",
          "xref": "paper",
          "y": 1,
          "yanchor": "top",
          "yref": "paper"
         },
         {
          "font": {
           "color": "rgba(0, 0, 0, 1.000)",
           "family": "sans-serif",
           "size": 20
          },
          "rotation": 0,
          "showarrow": false,
          "text": "mu2",
          "x": 0.7648148148148147,
          "xanchor": "center",
          "xref": "paper",
          "y": 1,
          "yanchor": "top",
          "yref": "paper"
         }
        ],
        "height": 400,
        "legend": {
         "bgcolor": "rgba(255, 255, 255, 1.000)",
         "bordercolor": "rgba(0, 0, 0, 1.000)",
         "font": {
          "color": "rgba(0, 0, 0, 1.000)",
          "family": "sans-serif",
          "size": 11
         },
         "tracegroupgap": 0,
         "x": 1,
         "y": 1
        },
        "margin": {
         "b": 20,
         "l": 0,
         "r": 0,
         "t": 20
        },
        "paper_bgcolor": "rgba(255, 255, 255, 1.000)",
        "plot_bgcolor": "rgba(255, 255, 255, 1.000)",
        "showlegend": true,
        "width": 600,
        "xaxis1": {
         "anchor": "y1",
         "domain": [
          0.03619130941965587,
          0.4934383202099738
         ],
         "gridcolor": "rgba(0, 0, 0, 0.100)",
         "gridwidth": 0.5,
         "linecolor": "rgba(0, 0, 0, 1.000)",
         "mirror": false,
         "range": [
          -5.3,
          5.3
         ],
         "showgrid": true,
         "showline": true,
         "showticklabels": true,
         "tickangle": 0,
         "tickcolor": "rgb(0, 0, 0)",
         "tickfont": {
          "color": "rgba(0, 0, 0, 1.000)",
          "family": "sans-serif",
          "size": 11
         },
         "tickmode": "array",
         "ticks": "inside",
         "ticktext": [
          "-4",
          "-2",
          "0",
          "2",
          "4"
         ],
         "tickvals": [
          -4,
          -2,
          0,
          2,
          4
         ],
         "title": "",
         "titlefont": {
          "color": "rgba(0, 0, 0, 1.000)",
          "family": "sans-serif",
          "size": 15
         },
         "type": "-",
         "visible": true,
         "zeroline": false,
         "zerolinecolor": "rgba(0, 0, 0, 1.000)"
        },
        "xaxis2": {
         "anchor": "y2",
         "domain": [
          0.5361913094196559,
          0.9934383202099738
         ],
         "gridcolor": "rgba(0, 0, 0, 0.100)",
         "gridwidth": 0.5,
         "linecolor": "rgba(0, 0, 0, 1.000)",
         "mirror": false,
         "range": [
          -5.3,
          5.3
         ],
         "showgrid": true,
         "showline": true,
         "showticklabels": true,
         "tickangle": 0,
         "tickcolor": "rgb(0, 0, 0)",
         "tickfont": {
          "color": "rgba(0, 0, 0, 1.000)",
          "family": "sans-serif",
          "size": 11
         },
         "tickmode": "array",
         "ticks": "inside",
         "ticktext": [
          "-4",
          "-2",
          "0",
          "2",
          "4"
         ],
         "tickvals": [
          -4,
          -2,
          0,
          2,
          4
         ],
         "title": "",
         "titlefont": {
          "color": "rgba(0, 0, 0, 1.000)",
          "family": "sans-serif",
          "size": 15
         },
         "type": "-",
         "visible": true,
         "zeroline": false,
         "zerolinecolor": "rgba(0, 0, 0, 1.000)"
        },
        "yaxis1": {
         "anchor": "x1",
         "domain": [
          0.03762029746281716,
          0.9415463692038496
         ],
         "gridcolor": "rgba(0, 0, 0, 0.100)",
         "gridwidth": 0.5,
         "linecolor": "rgba(0, 0, 0, 1.000)",
         "mirror": false,
         "range": [
          -0.4382994887652447,
          18.537130474886464
         ],
         "showgrid": true,
         "showline": true,
         "showticklabels": true,
         "tickangle": 0,
         "tickcolor": "rgb(0, 0, 0)",
         "tickfont": {
          "color": "rgba(0, 0, 0, 1.000)",
          "family": "sans-serif",
          "size": 11
         },
         "tickmode": "array",
         "ticks": "inside",
         "ticktext": [
          "0",
          "5",
          "10",
          "15"
         ],
         "tickvals": [
          0,
          5,
          10,
          15
         ],
         "title": "",
         "titlefont": {
          "color": "rgba(0, 0, 0, 1.000)",
          "family": "sans-serif",
          "size": 15
         },
         "type": "-",
         "visible": true,
         "zeroline": false,
         "zerolinecolor": "rgba(0, 0, 0, 1.000)"
        },
        "yaxis2": {
         "anchor": "x2",
         "domain": [
          0.03762029746281716,
          0.9415463692038496
         ],
         "gridcolor": "rgba(0, 0, 0, 0.100)",
         "gridwidth": 0.5,
         "linecolor": "rgba(0, 0, 0, 1.000)",
         "mirror": false,
         "range": [
          -0.43834650970764494,
          18.534471367041203
         ],
         "showgrid": true,
         "showline": true,
         "showticklabels": true,
         "tickangle": 0,
         "tickcolor": "rgb(0, 0, 0)",
         "tickfont": {
          "color": "rgba(0, 0, 0, 1.000)",
          "family": "sans-serif",
          "size": 11
         },
         "tickmode": "array",
         "ticks": "inside",
         "ticktext": [
          "0",
          "5",
          "10",
          "15"
         ],
         "tickvals": [
          0,
          5,
          10,
          15
         ],
         "title": "",
         "titlefont": {
          "color": "rgba(0, 0, 0, 1.000)",
          "family": "sans-serif",
          "size": 15
         },
         "type": "-",
         "visible": true,
         "zeroline": false,
         "zerolinecolor": "rgba(0, 0, 0, 1.000)"
        }
       }
      },
      "text/html": [
       "<div id=\"d2200d33-abf0-43ab-bb41-e24ca643f6af\" class=\"plotly-graph-div\"></div>\n",
       "\n",
       "<script>\n",
       "    (function() {\n",
       "        var data_d2200d33 = [{\"xaxis\":\"x1\",\"colorbar\":{\"title\":\"\"},\"yaxis\":\"y1\",\"text\":[null,null,null,null,null,null,null,null,null,null],\"x\":[-5.0,-3.888888888888889,-2.7777777777777777,-1.6666666666666667,-0.5555555555555556,0.5555555555555556,1.6666666666666667,2.7777777777777777,3.888888888888889,5.0],\"showlegend\":true,\"mode\":\"lines\",\"name\":\"y1\",\"legendgroup\":\"y1\",\"line\":{\"color\":\"rgba(0, 154, 250, 1.000)\",\"width\":1,\"dash\":\"solid\",\"shape\":\"linear\"},\"y\":[18.000090004217075,11.952350286280954,7.137443503315515,3.5558563349115158,1.2090662546635675,0.0987409819041433,0.22169663189877808,1.5809847749347552,4.1675736257664235,8.00373014784128],\"type\":\"scatter\",\"hoverinfo\":\"text\"},{\"xaxis\":\"x2\",\"colorbar\":{\"title\":\"\"},\"yaxis\":\"y2\",\"text\":[null,null,null,null,null,null,null,null,null,null],\"x\":[-5.0,-3.888888888888889,-2.7777777777777777,-1.6666666666666667,-0.5555555555555556,0.5555555555555556,1.6666666666666667,2.7777777777777777,3.888888888888889,5.0],\"showlegend\":true,\"mode\":\"lines\",\"name\":\"y1\",\"legendgroup\":\"y1\",\"line\":{\"color\":\"rgba(0, 154, 250, 1.000)\",\"width\":1,\"dash\":\"solid\",\"shape\":\"linear\"},\"y\":[7.993186815728885,4.174469371089621,1.5813813606440792,0.22162957256906124,0.09862003397392623,1.2109749389735989,3.558224899291287,7.131565594947463,11.950525393526096,17.99750482335963],\"type\":\"scatter\",\"hoverinfo\":\"text\"}];\n",
       "var layout_d2200d33 = {\"paper_bgcolor\":\"rgba(255, 255, 255, 1.000)\",\"height\":400,\"yaxis2\":{\"showticklabels\":true,\"gridwidth\":0.5,\"tickvals\":[0.0,5.0,10.0,15.0],\"visible\":true,\"ticks\":\"inside\",\"range\":[-0.43834650970764494,18.534471367041203],\"domain\":[0.03762029746281716,0.9415463692038496],\"tickmode\":\"array\",\"linecolor\":\"rgba(0, 0, 0, 1.000)\",\"showgrid\":true,\"title\":\"\",\"mirror\":false,\"tickangle\":0,\"showline\":true,\"gridcolor\":\"rgba(0, 0, 0, 0.100)\",\"titlefont\":{\"color\":\"rgba(0, 0, 0, 1.000)\",\"family\":\"sans-serif\",\"size\":15},\"tickcolor\":\"rgb(0, 0, 0)\",\"ticktext\":[\"0\",\"5\",\"10\",\"15\"],\"zeroline\":false,\"type\":\"-\",\"tickfont\":{\"color\":\"rgba(0, 0, 0, 1.000)\",\"family\":\"sans-serif\",\"size\":11},\"zerolinecolor\":\"rgba(0, 0, 0, 1.000)\",\"anchor\":\"x2\"},\"yaxis1\":{\"showticklabels\":true,\"gridwidth\":0.5,\"tickvals\":[0.0,5.0,10.0,15.0],\"visible\":true,\"ticks\":\"inside\",\"range\":[-0.4382994887652447,18.537130474886464],\"domain\":[0.03762029746281716,0.9415463692038496],\"tickmode\":\"array\",\"linecolor\":\"rgba(0, 0, 0, 1.000)\",\"showgrid\":true,\"title\":\"\",\"mirror\":false,\"tickangle\":0,\"showline\":true,\"gridcolor\":\"rgba(0, 0, 0, 0.100)\",\"titlefont\":{\"color\":\"rgba(0, 0, 0, 1.000)\",\"family\":\"sans-serif\",\"size\":15},\"tickcolor\":\"rgb(0, 0, 0)\",\"ticktext\":[\"0\",\"5\",\"10\",\"15\"],\"zeroline\":false,\"type\":\"-\",\"tickfont\":{\"color\":\"rgba(0, 0, 0, 1.000)\",\"family\":\"sans-serif\",\"size\":11},\"zerolinecolor\":\"rgba(0, 0, 0, 1.000)\",\"anchor\":\"x1\"},\"annotations\":[{\"yanchor\":\"top\",\"xanchor\":\"center\",\"rotation\":-0.0,\"y\":1.0,\"font\":{\"color\":\"rgba(0, 0, 0, 1.000)\",\"family\":\"sans-serif\",\"size\":20},\"yref\":\"paper\",\"showarrow\":false,\"text\":\"mu1\",\"xref\":\"paper\",\"x\":0.2648148148148148},{\"yanchor\":\"top\",\"xanchor\":\"center\",\"rotation\":-0.0,\"y\":1.0,\"font\":{\"color\":\"rgba(0, 0, 0, 1.000)\",\"family\":\"sans-serif\",\"size\":20},\"yref\":\"paper\",\"showarrow\":false,\"text\":\"mu2\",\"xref\":\"paper\",\"x\":0.7648148148148147}],\"plot_bgcolor\":\"rgba(255, 255, 255, 1.000)\",\"showlegend\":true,\"xaxis1\":{\"showticklabels\":true,\"gridwidth\":0.5,\"tickvals\":[-4.0,-2.0,0.0,2.0,4.0],\"visible\":true,\"ticks\":\"inside\",\"range\":[-5.3,5.3],\"domain\":[0.03619130941965587,0.4934383202099738],\"tickmode\":\"array\",\"linecolor\":\"rgba(0, 0, 0, 1.000)\",\"showgrid\":true,\"title\":\"\",\"mirror\":false,\"tickangle\":0,\"showline\":true,\"gridcolor\":\"rgba(0, 0, 0, 0.100)\",\"titlefont\":{\"color\":\"rgba(0, 0, 0, 1.000)\",\"family\":\"sans-serif\",\"size\":15},\"tickcolor\":\"rgb(0, 0, 0)\",\"ticktext\":[\"-4\",\"-2\",\"0\",\"2\",\"4\"],\"zeroline\":false,\"type\":\"-\",\"tickfont\":{\"color\":\"rgba(0, 0, 0, 1.000)\",\"family\":\"sans-serif\",\"size\":11},\"zerolinecolor\":\"rgba(0, 0, 0, 1.000)\",\"anchor\":\"y1\"},\"legend\":{\"tracegroupgap\":0,\"bordercolor\":\"rgba(0, 0, 0, 1.000)\",\"bgcolor\":\"rgba(255, 255, 255, 1.000)\",\"font\":{\"color\":\"rgba(0, 0, 0, 1.000)\",\"family\":\"sans-serif\",\"size\":11},\"y\":1.0,\"x\":1.0},\"xaxis2\":{\"showticklabels\":true,\"gridwidth\":0.5,\"tickvals\":[-4.0,-2.0,0.0,2.0,4.0],\"visible\":true,\"ticks\":\"inside\",\"range\":[-5.3,5.3],\"domain\":[0.5361913094196559,0.9934383202099738],\"tickmode\":\"array\",\"linecolor\":\"rgba(0, 0, 0, 1.000)\",\"showgrid\":true,\"title\":\"\",\"mirror\":false,\"tickangle\":0,\"showline\":true,\"gridcolor\":\"rgba(0, 0, 0, 0.100)\",\"titlefont\":{\"color\":\"rgba(0, 0, 0, 1.000)\",\"family\":\"sans-serif\",\"size\":15},\"tickcolor\":\"rgb(0, 0, 0)\",\"ticktext\":[\"-4\",\"-2\",\"0\",\"2\",\"4\"],\"zeroline\":false,\"type\":\"-\",\"tickfont\":{\"color\":\"rgba(0, 0, 0, 1.000)\",\"family\":\"sans-serif\",\"size\":11},\"zerolinecolor\":\"rgba(0, 0, 0, 1.000)\",\"anchor\":\"y2\"},\"margin\":{\"l\":0,\"b\":20,\"r\":0,\"t\":20},\"width\":600};\n",
       "\n",
       "        if (!requirejs.specified('plotly')) {\n",
       "          requirejs.config({\n",
       "            paths: {\n",
       "              'plotly_cdn': ['https://cdn.plot.ly/plotly-latest.min']\n",
       "            },\n",
       "          });\n",
       "          require(['plotly_cdn'], function(Plotly) {\n",
       "            Plotly.newPlot('d2200d33-abf0-43ab-bb41-e24ca643f6af',\n",
       "    data_d2200d33, layout_d2200d33,\n",
       "    {showLink: false}\n",
       ");\n",
       "\n",
       "          });\n",
       "        } else {\n",
       "          require(['plotly'], function(Plotly) {\n",
       "            Plotly.newPlot('d2200d33-abf0-43ab-bb41-e24ca643f6af',\n",
       "    data_d2200d33, layout_d2200d33,\n",
       "    {showLink: false}\n",
       ");\n",
       "\n",
       "            if (window.Plotly == undefined) {\n",
       "                window.Plotly = Plotly;\n",
       "            }\n",
       "          });\n",
       "        }\n",
       "    })();\n",
       " </script>\n"
      ]
     },
     "execution_count": 17,
     "metadata": {},
     "output_type": "execute_result"
    },
    {
     "name": "stdout",
     "output_type": "stream",
     "text": [
      "  9.223128 seconds (4.84 M allocations: 861.348 MiB, 2.06% gc time)\n"
     ]
    }
   ],
   "source": [
    "Plots.plot(listPlots[1], listPlots[2])"
   ]
  }
 ],
 "metadata": {
  "kernelspec": {
   "display_name": "Julia 0.6.3",
   "language": "julia",
   "name": "julia-0.6"
  },
  "language_info": {
   "file_extension": ".jl",
   "mimetype": "application/julia",
   "name": "julia",
   "version": "0.6.3"
  }
 },
 "nbformat": 4,
 "nbformat_minor": 2
}
