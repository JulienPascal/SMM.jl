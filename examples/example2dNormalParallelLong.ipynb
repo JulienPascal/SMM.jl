{
 "cells": [
  {
   "cell_type": "markdown",
   "metadata": {},
   "source": [
    "# Example Notebook\n",
    "\n",
    "This notebook describes an easy 2d problem in parallel.\n",
    "\n",
    "The difference with the notebook example2dNormalParallel.ipynb is that I make the evaluation of simulated moments longer by increasing the number of draws from the multivariate normal.\n",
    "\n",
    "## Results\n",
    "\n",
    "I run this notebook on AWS EC2, using the instance `c5.18xlarge`\n",
    "\n",
    "### runntime \n",
    "\n",
    "* serial : 570.9347720146179 seconds\n",
    "* 4 workers: 154.74501013755798 seconds\n",
    "* 16 workers: 152.819402217865 seconds\n",
    "* 71 workers : 154.44332098960876 seconds\n"
   ]
  },
  {
   "cell_type": "code",
   "execution_count": 1,
   "metadata": {
    "scrolled": true
   },
   "outputs": [
    {
     "data": {
      "text/plain": [
       "71-element Array{Int64,1}:\n",
       "  2\n",
       "  3\n",
       "  4\n",
       "  5\n",
       "  6\n",
       "  7\n",
       "  8\n",
       "  9\n",
       " 10\n",
       " 11\n",
       " 12\n",
       " 13\n",
       " 14\n",
       "  ⋮\n",
       " 61\n",
       " 62\n",
       " 63\n",
       " 64\n",
       " 65\n",
       " 66\n",
       " 67\n",
       " 68\n",
       " 69\n",
       " 70\n",
       " 71\n",
       " 72"
      ]
     },
     "execution_count": 1,
     "metadata": {},
     "output_type": "execute_result"
    }
   ],
   "source": [
    "addprocs(71)"
   ]
  },
  {
   "cell_type": "code",
   "execution_count": 2,
   "metadata": {
    "scrolled": true
   },
   "outputs": [],
   "source": [
    "@everywhere using SMM\n",
    "@everywhere using Distributions\n",
    "@everywhere using DataStructures"
   ]
  },
  {
   "cell_type": "markdown",
   "metadata": {},
   "source": [
    "## Step 1: Initializing a SMMProblem"
   ]
  },
  {
   "cell_type": "markdown",
   "metadata": {},
   "source": [
    "Let's initialize a SMMProblem. Options are to be passsed via `SMMOptions()`. Here we specify the we want to run the optimizer for 1000 iterations and that we want to save the optimization every 1000 steps (that is, only once; when the estimation is complete). \n",
    "\n",
    "We set the optimizer to `:dxnes` because it supports parallel estimation. See the page https://github.com/robertfeldt/BlackBoxOptim.jl to see which optimizer supports parallelization. "
   ]
  },
  {
   "cell_type": "code",
   "execution_count": 3,
   "metadata": {
    "scrolled": false
   },
   "outputs": [],
   "source": [
    "myProblem = SMMProblem(options = SMMOptions(maxFuncEvals=1000, saveSteps = 1000, bbOptimizer = :dxnes));"
   ]
  },
  {
   "cell_type": "markdown",
   "metadata": {},
   "source": [
    "## Options\n",
    "\n",
    "[TOBECOMPLETED]"
   ]
  },
  {
   "cell_type": "markdown",
   "metadata": {},
   "source": [
    "## Step 2: Set emprical moments"
   ]
  },
  {
   "cell_type": "markdown",
   "metadata": {},
   "source": [
    "Empirical moments can be loaded from a .csv file using the function `read_empirical_moments(path::String)`.\n",
    "The .csv file should should contain at least three columns:\n",
    "* `name`: empirical moments' names\n",
    "* `value`: empirical moments' values\n",
    "* `weights`: weight associated with each parameter value\n",
    "\n",
    "If, for each moment, `weight` is set to be equal to `value`, the objective funtion to be minimized will be \n",
    "the mean percentage deviation of simulated moments from their empirical counterparts. "
   ]
  },
  {
   "cell_type": "code",
   "execution_count": 4,
   "metadata": {
    "scrolled": true
   },
   "outputs": [
    {
     "name": "stderr",
     "output_type": "stream",
     "text": [
      "\u001b[1m\u001b[36mINFO: \u001b[39m\u001b[22m\u001b[36m2 moment(s) found.\n",
      "\u001b[39m"
     ]
    },
    {
     "data": {
      "text/plain": [
       "DataStructures.OrderedDict{String,Array{Float64,1}} with 2 entries:\n",
       "  \"mean1\" => [1.0, 1.0]\n",
       "  \"mean2\" => [-1.0, -1.0]"
      ]
     },
     "execution_count": 4,
     "metadata": {},
     "output_type": "execute_result"
    }
   ],
   "source": [
    "dictEmpiricalMoments = read_empirical_moments(joinpath(Pkg.dir(\"SMM\"), \"test/empiricalMomentsTest2d.csv\"))"
   ]
  },
  {
   "cell_type": "markdown",
   "metadata": {},
   "source": [
    "Alternatively, one may construct \"manually\" empirically directly from Julia:"
   ]
  },
  {
   "cell_type": "code",
   "execution_count": 5,
   "metadata": {
    "scrolled": true
   },
   "outputs": [
    {
     "data": {
      "text/plain": [
       "2-element Array{Float64,1}:\n",
       " -1.0\n",
       " -1.0"
      ]
     },
     "execution_count": 5,
     "metadata": {},
     "output_type": "execute_result"
    }
   ],
   "source": [
    "dictEmpiricalMoments = OrderedDict{String,Array{Float64,1}}()\n",
    "dictEmpiricalMoments[\"mean1\"] = [1.0; 1.0]\n",
    "dictEmpiricalMoments[\"mean2\"] = [-1.0; -1.0]"
   ]
  },
  {
   "cell_type": "markdown",
   "metadata": {},
   "source": [
    "One has to let SMM.jl know that we are going to use the empirical moments stored in `dictEmpiricalMoments`.\n",
    "Use the function `set_empirical_moments!()` for that purpose:"
   ]
  },
  {
   "cell_type": "code",
   "execution_count": 6,
   "metadata": {
    "scrolled": true
   },
   "outputs": [
    {
     "data": {
      "text/plain": [
       "DataStructures.OrderedDict{String,Array{Float64,1}} with 2 entries:\n",
       "  \"mean1\" => [1.0, 1.0]\n",
       "  \"mean2\" => [-1.0, -1.0]"
      ]
     },
     "execution_count": 6,
     "metadata": {},
     "output_type": "execute_result"
    }
   ],
   "source": [
    "set_empirical_moments!(myProblem, dictEmpiricalMoments)"
   ]
  },
  {
   "cell_type": "markdown",
   "metadata": {},
   "source": [
    "## Step 3. Set priors"
   ]
  },
  {
   "cell_type": "markdown",
   "metadata": {},
   "source": [
    "Priors for parameter values can be loaded from a .csv file using the function `read_priors(path::String)`. The .csv file should contain at least four columns:\n",
    "* `name` : name for each parameter\n",
    "* `value` : initial guess\n",
    "* `lower_bound` : lower bound for this parameter\n",
    "* `upper_bound`: upper bound for this parameter"
   ]
  },
  {
   "cell_type": "code",
   "execution_count": 7,
   "metadata": {
    "scrolled": true
   },
   "outputs": [
    {
     "name": "stderr",
     "output_type": "stream",
     "text": [
      "\u001b[1m\u001b[36mINFO: \u001b[39m\u001b[22m\u001b[36m2 prior(s) values found\n",
      "\u001b[39m"
     ]
    },
    {
     "data": {
      "text/plain": [
       "DataStructures.OrderedDict{String,Array{Float64,1}} with 2 entries:\n",
       "  \"mu1\" => [0.5, -5.0, 5.0]\n",
       "  \"mu2\" => [0.1, -5.0, 5.0]"
      ]
     },
     "execution_count": 7,
     "metadata": {},
     "output_type": "execute_result"
    }
   ],
   "source": [
    "read_priors(joinpath(Pkg.dir(\"SMM\"), \"test/priorsTest2d.csv\"))"
   ]
  },
  {
   "cell_type": "markdown",
   "metadata": {},
   "source": [
    "It is also possible to specify priors manually:"
   ]
  },
  {
   "cell_type": "code",
   "execution_count": 8,
   "metadata": {
    "scrolled": true
   },
   "outputs": [
    {
     "data": {
      "text/plain": [
       "3-element Array{Float64,1}:\n",
       "  0.0\n",
       " -5.0\n",
       "  5.0"
      ]
     },
     "execution_count": 8,
     "metadata": {},
     "output_type": "execute_result"
    }
   ],
   "source": [
    "dictPriors = OrderedDict{String,Array{Float64,1}}()\n",
    "dictPriors[\"mu1\"] = [0., -5.0, 5.0]\n",
    "dictPriors[\"mu2\"] = [0., -5.0, 5.0]"
   ]
  },
  {
   "cell_type": "markdown",
   "metadata": {},
   "source": [
    "One has to attach priors values the `SMMProblem` we are going to use.\n",
    "This is achieved using the function  `set_priors!()`"
   ]
  },
  {
   "cell_type": "code",
   "execution_count": 9,
   "metadata": {
    "scrolled": true
   },
   "outputs": [
    {
     "data": {
      "text/plain": [
       "DataStructures.OrderedDict{String,Array{Float64,1}} with 2 entries:\n",
       "  \"mu1\" => [0.0, -5.0, 5.0]\n",
       "  \"mu2\" => [0.0, -5.0, 5.0]"
      ]
     },
     "execution_count": 9,
     "metadata": {},
     "output_type": "execute_result"
    }
   ],
   "source": [
    "set_priors!(myProblem, dictPriors)"
   ]
  },
  {
   "cell_type": "markdown",
   "metadata": {},
   "source": [
    "## Step 3: Specifying the function that generate simulated moments using parameter values\n",
    "\n",
    "When running in parallel, this function has now three constraints:\n",
    "* it should take as an argument a vector (the vector of parameters)\n",
    "* it should return an OrderedDict containing the same moments as the ones contained in the OrderedDict \n",
    "containing empirical moments (`dictEmpiricalMoments`)\n",
    "* it should be preceded by `@everywhere`\n",
    "\n",
    "In this example, we simulate draws from a mutlivariate normal with unit variance:"
   ]
  },
  {
   "cell_type": "code",
   "execution_count": 10,
   "metadata": {},
   "outputs": [],
   "source": [
    "@everywhere function functionTest2d(x)\n",
    "\n",
    "    d = MvNormal([x[1]; x[2]], eye(2))\n",
    "    output = OrderedDict{String,Float64}()\n",
    "\n",
    "    draws = rand(d, 10000000)\n",
    "    output[\"mean1\"] = mean(draws[1,:])\n",
    "    output[\"mean2\"] = mean(draws[2,:])\n",
    "\n",
    "    return output\n",
    "end"
   ]
  },
  {
   "cell_type": "code",
   "execution_count": 11,
   "metadata": {},
   "outputs": [
    {
     "name": "stdout",
     "output_type": "stream",
     "text": [
      "  0.856839 seconds (152.69 k allocations: 313.035 MiB, 27.64% gc time)\n"
     ]
    },
    {
     "data": {
      "text/plain": [
       "DataStructures.OrderedDict{String,Float64} with 2 entries:\n",
       "  \"mean1\" => -3.28192e-5\n",
       "  \"mean2\" => 0.000398531"
      ]
     },
     "execution_count": 11,
     "metadata": {},
     "output_type": "execute_result"
    }
   ],
   "source": [
    "@time functionTest2d([0.; 0.])"
   ]
  },
  {
   "cell_type": "markdown",
   "metadata": {},
   "source": [
    "Let's attach the function `functionTest2d(x)` to our SMMProblem using the function `set_simulate_empirical_moments!()`"
   ]
  },
  {
   "cell_type": "code",
   "execution_count": 12,
   "metadata": {},
   "outputs": [
    {
     "data": {
      "text/plain": [
       "functionTest2d (generic function with 1 method)"
      ]
     },
     "execution_count": 12,
     "metadata": {},
     "output_type": "execute_result"
    }
   ],
   "source": [
    "set_simulate_empirical_moments!(myProblem, functionTest2d)"
   ]
  },
  {
   "cell_type": "markdown",
   "metadata": {},
   "source": [
    "## Step 4. Constructing the objective function"
   ]
  },
  {
   "cell_type": "markdown",
   "metadata": {},
   "source": [
    "Having completed steps 1 - 3, it is now time to build the function that the solver will be \n",
    "minimizing. This is achieved with the function `construct_objective_function!`"
   ]
  },
  {
   "cell_type": "code",
   "execution_count": 13,
   "metadata": {},
   "outputs": [
    {
     "data": {
      "text/plain": [
       "(::objective_function_percent) (generic function with 1 method)"
      ]
     },
     "execution_count": 13,
     "metadata": {},
     "output_type": "execute_result"
    }
   ],
   "source": [
    "# Construct the objective function using: \n",
    "#* the function: parameter -> simulated moments\n",
    "#* emprical moments values\n",
    "#* emprical moments weights\n",
    "    \n",
    "construct_objective_function!(myProblem)"
   ]
  },
  {
   "cell_type": "markdown",
   "metadata": {},
   "source": [
    "## Step 5. Running the optimization"
   ]
  },
  {
   "cell_type": "markdown",
   "metadata": {},
   "source": [
    "It is now time to call the minimization algorithm using the function `smmoptimize!()`.\n",
    "The optimization is done by `BlackBoxOptim.jl`. By default, the optimizer is `:adaptive_de_rand_1_bin_radiuslimited`."
   ]
  },
  {
   "cell_type": "code",
   "execution_count": 14,
   "metadata": {},
   "outputs": [
    {
     "name": "stderr",
     "output_type": "stream",
     "text": [
      "\u001b[1m\u001b[36mINFO: \u001b[39m\u001b[22m\u001b[36m71 worker(s) detected\n",
      "\u001b[39m\u001b[1m\u001b[36mINFO: \u001b[39m\u001b[22m\u001b[36mStarting optimization in parallel\n",
      "\u001b[39m"
     ]
    },
    {
     "name": "stdout",
     "output_type": "stream",
     "text": [
      "-------------------------------------\n",
      "Batch 1.0 / 1.0\n",
      "------------------------------------- \n",
      "\n",
      "Starting optimization with optimizer BlackBoxOptim.XNESOpt{Float64,BlackBoxOptim.RandomBound{BlackBoxOptim.RangePerDimSearchSpace}}\n",
      "0.00 secs, 0 evals, 0 steps\n",
      "sigma=1.0 |trace(ln_B)|=0.0\n",
      "1.38 secs, 4 evals, 1 steps, fitness=5.292639312\n",
      "sigma=0.973258266541932 |trace(ln_B)|=2.7755575615628914e-17\n",
      "2.03 secs, 8 evals, 2 steps, fitness=4.308712105\n",
      "sigma=0.9949048636247245 |trace(ln_B)|=2.7755575615628914e-17\n",
      "2.67 secs, 12 evals, 3 steps, fitness=4.308712105\n",
      "sigma=0.9695788117771211 |trace(ln_B)|=2.7755575615628914e-17\n",
      "3.30 secs, 16 evals, 4 steps, fitness=0.924361460\n",
      "sigma=0.9981746325342928 |trace(ln_B)|=2.7755575615628914e-17\n",
      "3.97 secs, 20 evals, 5 steps, fitness=0.483880492\n",
      "sigma=1.0143147792731884 |trace(ln_B)|=2.7755575615628914e-17\n",
      "4.64 secs, 24 evals, 6 steps, fitness=0.483880492\n",
      "sigma=0.9914147319980863 |trace(ln_B)|=5.551115123125783e-17\n",
      "5.27 secs, 28 evals, 7 steps, fitness=0.081326043\n",
      "sigma=0.9747585711409734 |trace(ln_B)|=8.326672684688674e-17\n",
      "5.90 secs, 32 evals, 8 steps, fitness=0.081326043\n",
      "sigma=0.9587845804728158 |trace(ln_B)|=1.1102230246251565e-16\n",
      "6.53 secs, 36 evals, 9 steps, fitness=0.081326043\n",
      "sigma=0.940260124069305 |trace(ln_B)|=8.326672684688674e-17\n",
      "7.17 secs, 40 evals, 10 steps, fitness=0.081326043\n",
      "sigma=0.9172592707709458 |trace(ln_B)|=8.326672684688674e-17\n",
      "7.80 secs, 44 evals, 11 steps, fitness=0.081326043\n",
      "sigma=0.8348519543901598 |trace(ln_B)|=1.942890293094024e-16\n",
      "8.43 secs, 48 evals, 12 steps, fitness=0.081326043\n",
      "sigma=0.8096680211709956 |trace(ln_B)|=1.3877787807814457e-16\n",
      "9.09 secs, 52 evals, 13 steps, fitness=0.081326043\n",
      "sigma=0.8279879741132962 |trace(ln_B)|=1.3877787807814457e-16\n",
      "9.76 secs, 56 evals, 14 steps, fitness=0.062771810\n",
      "sigma=0.8045619662547693 |trace(ln_B)|=1.3877787807814457e-16\n",
      "10.39 secs, 60 evals, 15 steps, fitness=0.062771810\n",
      "sigma=0.7694215414258231 |trace(ln_B)|=1.1102230246251565e-16\n",
      "11.01 secs, 64 evals, 16 steps, fitness=0.062771810\n",
      "sigma=0.7738172681498935 |trace(ln_B)|=1.1102230246251565e-16\n",
      "11.66 secs, 68 evals, 17 steps, fitness=0.062771810\n",
      "sigma=0.7234371269330915 |trace(ln_B)|=1.1102230246251565e-16\n",
      "12.26 secs, 72 evals, 18 steps, fitness=0.062771810\n",
      "sigma=0.6977421733720871 |trace(ln_B)|=5.551115123125783e-17\n",
      "12.85 secs, 76 evals, 19 steps, fitness=0.062771810\n",
      "sigma=0.7104408406447611 |trace(ln_B)|=2.7755575615628914e-17\n",
      "13.50 secs, 80 evals, 20 steps, fitness=0.062771810\n",
      "sigma=0.7365281862787644 |trace(ln_B)|=2.7755575615628914e-17\n",
      "14.14 secs, 84 evals, 21 steps, fitness=0.062771810\n",
      "sigma=0.7101539660386921 |trace(ln_B)|=2.7755575615628914e-17\n",
      "14.79 secs, 88 evals, 22 steps, fitness=0.006929550\n",
      "sigma=0.7005489505115519 |trace(ln_B)|=4.163336342344337e-17\n",
      "15.38 secs, 92 evals, 23 steps, fitness=0.006929550\n",
      "sigma=0.6825712835580793 |trace(ln_B)|=5.551115123125783e-17\n",
      "16.06 secs, 96 evals, 24 steps, fitness=0.006929550\n",
      "sigma=0.6769565788032433 |trace(ln_B)|=5.551115123125783e-17\n",
      "16.63 secs, 100 evals, 25 steps, fitness=0.006929550\n",
      "sigma=0.6458037872481536 |trace(ln_B)|=5.551115123125783e-17\n",
      "17.26 secs, 104 evals, 26 steps, fitness=0.006929550\n",
      "sigma=0.6281804841676122 |trace(ln_B)|=5.551115123125783e-17\n",
      "17.91 secs, 108 evals, 27 steps, fitness=0.006929550\n",
      "sigma=0.5837975123053863 |trace(ln_B)|=5.551115123125783e-17\n",
      "18.55 secs, 112 evals, 28 steps, fitness=0.006929550\n",
      "sigma=0.559428261217391 |trace(ln_B)|=1.1102230246251565e-16\n",
      "19.22 secs, 116 evals, 29 steps, fitness=0.001476576\n",
      "sigma=0.5510371582517579 |trace(ln_B)|=1.1102230246251565e-16\n",
      "19.80 secs, 120 evals, 30 steps, fitness=0.001476576\n",
      "sigma=0.5273422538223942 |trace(ln_B)|=2.220446049250313e-16\n",
      "20.35 secs, 124 evals, 31 steps, fitness=0.001476576\n",
      "sigma=0.5160656664684187 |trace(ln_B)|=1.942890293094024e-16\n",
      "20.93 secs, 128 evals, 32 steps, fitness=0.001476576\n",
      "sigma=0.49253811397076186 |trace(ln_B)|=1.6653345369377348e-16\n",
      "21.56 secs, 132 evals, 33 steps, fitness=0.001476576\n",
      "sigma=0.48145752507055656 |trace(ln_B)|=1.6653345369377348e-16\n",
      "22.19 secs, 136 evals, 34 steps, fitness=0.001476576\n",
      "sigma=0.47063107927625003 |trace(ln_B)|=1.6653345369377348e-16\n",
      "22.79 secs, 140 evals, 35 steps, fitness=0.001476576\n",
      "sigma=0.4649015408307074 |trace(ln_B)|=1.5959455978986625e-16\n",
      "23.43 secs, 144 evals, 36 steps, fitness=0.001476576\n",
      "sigma=0.4696794688259371 |trace(ln_B)|=1.6653345369377348e-16\n",
      "24.00 secs, 148 evals, 37 steps, fitness=0.001476576\n",
      "sigma=0.4645015931067279 |trace(ln_B)|=1.6653345369377348e-16\n",
      "24.64 secs, 152 evals, 38 steps, fitness=0.001476576\n",
      "sigma=0.4444161986415389 |trace(ln_B)|=1.6653345369377348e-16\n",
      "25.27 secs, 156 evals, 39 steps, fitness=0.001476576\n",
      "sigma=0.4514599235511755 |trace(ln_B)|=1.3877787807814457e-16\n",
      "25.87 secs, 160 evals, 40 steps, fitness=0.001476576\n",
      "sigma=0.4275183297793338 |trace(ln_B)|=2.220446049250313e-16\n",
      "26.51 secs, 164 evals, 41 steps, fitness=0.001476576\n",
      "sigma=0.4210426562455707 |trace(ln_B)|=2.220446049250313e-16\n",
      "27.12 secs, 168 evals, 42 steps, fitness=0.001476576\n",
      "sigma=0.4246043613637175 |trace(ln_B)|=2.220446049250313e-16\n",
      "27.76 secs, 172 evals, 43 steps, fitness=0.001476576\n",
      "sigma=0.4077387386949417 |trace(ln_B)|=2.220446049250313e-16\n",
      "28.42 secs, 176 evals, 44 steps, fitness=0.001476576\n",
      "sigma=0.3920151148326776 |trace(ln_B)|=2.220446049250313e-16\n",
      "28.99 secs, 180 evals, 45 steps, fitness=0.001476576\n",
      "sigma=0.37773103232180144 |trace(ln_B)|=2.220446049250313e-16\n",
      "29.61 secs, 184 evals, 46 steps, fitness=0.001476576\n",
      "sigma=0.37149956054889083 |trace(ln_B)|=2.220446049250313e-16\n",
      "30.17 secs, 188 evals, 47 steps, fitness=0.001476576\n",
      "sigma=0.3799164255246134 |trace(ln_B)|=2.220446049250313e-16\n",
      "30.75 secs, 192 evals, 48 steps, fitness=0.001476576\n",
      "sigma=0.36994572567988726 |trace(ln_B)|=2.220446049250313e-16\n",
      "31.40 secs, 196 evals, 49 steps, fitness=0.001476576\n",
      "sigma=0.37212876055344873 |trace(ln_B)|=2.220446049250313e-16\n",
      "32.00 secs, 200 evals, 50 steps, fitness=0.001476576\n",
      "sigma=0.3712443230156331 |trace(ln_B)|=2.220446049250313e-16\n",
      "32.64 secs, 204 evals, 51 steps, fitness=0.001476576\n",
      "sigma=0.3424348220851495 |trace(ln_B)|=2.220446049250313e-16\n",
      "33.24 secs, 208 evals, 52 steps, fitness=0.001476576\n",
      "sigma=0.3207958249227039 |trace(ln_B)|=2.220446049250313e-16\n",
      "33.83 secs, 212 evals, 53 steps, fitness=0.001476576\n",
      "sigma=0.31351197873021813 |trace(ln_B)|=2.498001805406602e-16\n",
      "34.49 secs, 216 evals, 54 steps, fitness=0.001476576\n",
      "sigma=0.3225568465613664 |trace(ln_B)|=2.7755575615628914e-16\n",
      "35.08 secs, 220 evals, 55 steps, fitness=0.001476576\n",
      "sigma=0.3216568604792561 |trace(ln_B)|=2.7755575615628914e-16\n",
      "35.68 secs, 224 evals, 56 steps, fitness=0.001476576\n",
      "sigma=0.3141012180873817 |trace(ln_B)|=3.3306690738754696e-16\n",
      "36.32 secs, 228 evals, 57 steps, fitness=0.001476576\n",
      "sigma=0.3347685805605027 |trace(ln_B)|=4.440892098500626e-16\n",
      "36.93 secs, 232 evals, 58 steps, fitness=0.001476576\n",
      "sigma=0.3249569920903548 |trace(ln_B)|=4.440892098500626e-16\n",
      "37.52 secs, 236 evals, 59 steps, fitness=0.001476576\n",
      "sigma=0.31044421953885776 |trace(ln_B)|=4.440892098500626e-16\n",
      "38.17 secs, 240 evals, 60 steps, fitness=0.001476576\n",
      "sigma=0.29252273300514714 |trace(ln_B)|=4.440892098500626e-16\n",
      "38.76 secs, 244 evals, 61 steps, fitness=0.001476576\n",
      "sigma=0.2849237483597605 |trace(ln_B)|=4.440892098500626e-16\n",
      "39.36 secs, 248 evals, 62 steps, fitness=0.001476576\n",
      "sigma=0.2799941645804267 |trace(ln_B)|=4.440892098500626e-16\n",
      "40.01 secs, 252 evals, 63 steps, fitness=0.001476576\n",
      "sigma=0.2669926164067828 |trace(ln_B)|=4.440892098500626e-16\n",
      "40.61 secs, 256 evals, 64 steps, fitness=0.001476576\n",
      "sigma=0.26191293191951753 |trace(ln_B)|=4.440892098500626e-16\n",
      "41.21 secs, 260 evals, 65 steps, fitness=0.001476576\n",
      "sigma=0.274708343272276 |trace(ln_B)|=4.440892098500626e-16\n",
      "41.87 secs, 264 evals, 66 steps, fitness=0.001476576\n",
      "sigma=0.2593760105259752 |trace(ln_B)|=4.440892098500626e-16\n",
      "42.46 secs, 268 evals, 67 steps, fitness=0.001476576\n",
      "sigma=0.25181387085216 |trace(ln_B)|=4.440892098500626e-16\n",
      "43.08 secs, 272 evals, 68 steps, fitness=0.001476576\n",
      "sigma=0.2465614146391351 |trace(ln_B)|=4.440892098500626e-16\n",
      "43.72 secs, 276 evals, 69 steps, fitness=0.001476576\n",
      "sigma=0.24312997772556916 |trace(ln_B)|=4.440892098500626e-16\n",
      "44.30 secs, 280 evals, 70 steps, fitness=0.001476576\n",
      "sigma=0.23607824517732753 |trace(ln_B)|=4.440892098500626e-16\n"
     ]
    },
    {
     "name": "stdout",
     "output_type": "stream",
     "text": [
      "44.94 secs, 284 evals, 71 steps, fitness=0.001476576\n",
      "sigma=0.22826975111664935 |trace(ln_B)|=4.996003610813204e-16\n",
      "45.57 secs, 288 evals, 72 steps, fitness=0.000335384\n",
      "sigma=0.2349112036944117 |trace(ln_B)|=4.996003610813204e-16\n",
      "46.19 secs, 292 evals, 73 steps, fitness=0.000335384\n",
      "sigma=0.21743522826039127 |trace(ln_B)|=4.440892098500626e-16\n",
      "46.78 secs, 296 evals, 74 steps, fitness=0.000335384\n",
      "sigma=0.21667882069679012 |trace(ln_B)|=4.440892098500626e-16\n",
      "47.43 secs, 300 evals, 75 steps, fitness=0.000335384\n",
      "sigma=0.21168412170907885 |trace(ln_B)|=4.440892098500626e-16\n",
      "48.01 secs, 304 evals, 76 steps, fitness=0.000335384\n",
      "sigma=0.2108313383124977 |trace(ln_B)|=4.440892098500626e-16\n",
      "48.59 secs, 308 evals, 77 steps, fitness=0.000335384\n",
      "sigma=0.20068659722252966 |trace(ln_B)|=4.440892098500626e-16\n",
      "49.26 secs, 312 evals, 78 steps, fitness=0.000335384\n",
      "sigma=0.1849819191937335 |trace(ln_B)|=5.551115123125783e-16\n",
      "49.85 secs, 316 evals, 79 steps, fitness=0.000335384\n",
      "sigma=0.187438224405794 |trace(ln_B)|=5.551115123125783e-16\n",
      "50.43 secs, 320 evals, 80 steps, fitness=0.000335384\n",
      "sigma=0.1844160563176354 |trace(ln_B)|=5.551115123125783e-16\n",
      "51.07 secs, 324 evals, 81 steps, fitness=0.000335384\n",
      "sigma=0.1818339216254654 |trace(ln_B)|=5.273559366969494e-16\n",
      "51.68 secs, 328 evals, 82 steps, fitness=0.000335384\n",
      "sigma=0.1822603464795574 |trace(ln_B)|=5.551115123125783e-16\n",
      "52.27 secs, 332 evals, 83 steps, fitness=0.000335384\n",
      "sigma=0.1791986541431656 |trace(ln_B)|=5.828670879282072e-16\n",
      "52.95 secs, 336 evals, 84 steps, fitness=0.000335384\n",
      "sigma=0.18052677422647861 |trace(ln_B)|=5.551115123125783e-16\n",
      "53.52 secs, 340 evals, 85 steps, fitness=0.000335384\n",
      "sigma=0.17534868653572294 |trace(ln_B)|=5.551115123125783e-16\n",
      "54.13 secs, 344 evals, 86 steps, fitness=0.000335384\n",
      "sigma=0.1670599093701315 |trace(ln_B)|=5.551115123125783e-16\n",
      "54.78 secs, 348 evals, 87 steps, fitness=0.000335384\n",
      "sigma=0.1664242743885941 |trace(ln_B)|=5.551115123125783e-16\n",
      "55.35 secs, 352 evals, 88 steps, fitness=0.000335384\n",
      "sigma=0.16153425511156394 |trace(ln_B)|=5.551115123125783e-16\n",
      "56.02 secs, 356 evals, 89 steps, fitness=0.000335384\n",
      "sigma=0.15597847757758018 |trace(ln_B)|=5.551115123125783e-16\n",
      "56.61 secs, 360 evals, 90 steps, fitness=0.000335384\n",
      "sigma=0.14740703659393758 |trace(ln_B)|=5.551115123125783e-16\n",
      "57.19 secs, 364 evals, 91 steps, fitness=0.000335384\n",
      "sigma=0.14069278133899085 |trace(ln_B)|=5.551115123125783e-16\n",
      "57.74 secs, 368 evals, 92 steps, fitness=0.000335384\n",
      "sigma=0.13888475252854557 |trace(ln_B)|=5.551115123125783e-16\n",
      "58.32 secs, 372 evals, 93 steps, fitness=0.000335384\n",
      "sigma=0.1351824008039087 |trace(ln_B)|=5.689893001203927e-16\n",
      "58.96 secs, 376 evals, 94 steps, fitness=0.000335384\n",
      "sigma=0.12962208943481363 |trace(ln_B)|=5.551115123125783e-16\n",
      "59.53 secs, 380 evals, 95 steps, fitness=0.000335384\n",
      "sigma=0.12881307896425645 |trace(ln_B)|=5.551115123125783e-16\n",
      "60.13 secs, 384 evals, 96 steps, fitness=0.000335384\n",
      "sigma=0.12665738453079636 |trace(ln_B)|=5.551115123125783e-16\n",
      "60.70 secs, 388 evals, 97 steps, fitness=0.000335384\n",
      "sigma=0.1249187674231511 |trace(ln_B)|=5.551115123125783e-16\n",
      "61.35 secs, 392 evals, 98 steps, fitness=0.000335384\n",
      "sigma=0.12356565624289127 |trace(ln_B)|=5.551115123125783e-16\n",
      "62.00 secs, 396 evals, 99 steps, fitness=0.000335384\n",
      "sigma=0.11803559139545913 |trace(ln_B)|=5.551115123125783e-16\n",
      "62.60 secs, 400 evals, 100 steps, fitness=0.000335384\n",
      "sigma=0.1165993744912 |trace(ln_B)|=5.551115123125783e-16\n",
      "63.26 secs, 404 evals, 101 steps, fitness=0.000335384\n",
      "sigma=0.11193753295346041 |trace(ln_B)|=4.440892098500626e-16\n",
      "63.90 secs, 408 evals, 102 steps, fitness=0.000335384\n",
      "sigma=0.12155013722944331 |trace(ln_B)|=3.885780586188048e-16\n",
      "64.52 secs, 412 evals, 103 steps, fitness=0.000335384\n",
      "sigma=0.1125477753693858 |trace(ln_B)|=3.3306690738754696e-16\n",
      "65.16 secs, 416 evals, 104 steps, fitness=0.000335384\n",
      "sigma=0.12181928286612327 |trace(ln_B)|=2.220446049250313e-16\n",
      "65.75 secs, 420 evals, 105 steps, fitness=0.000335384\n",
      "sigma=0.11905594397918184 |trace(ln_B)|=2.220446049250313e-16\n",
      "66.40 secs, 424 evals, 106 steps, fitness=0.000335384\n",
      "sigma=0.11356982520342614 |trace(ln_B)|=2.220446049250313e-16\n",
      "66.99 secs, 428 evals, 107 steps, fitness=0.000335384\n",
      "sigma=0.1066410877118031 |trace(ln_B)|=2.220446049250313e-16\n",
      "67.59 secs, 432 evals, 108 steps, fitness=0.000335384\n",
      "sigma=0.1072252971650909 |trace(ln_B)|=2.220446049250313e-16\n",
      "68.23 secs, 436 evals, 109 steps, fitness=0.000335384\n",
      "sigma=0.10166862933261984 |trace(ln_B)|=2.220446049250313e-16\n",
      "68.84 secs, 440 evals, 110 steps, fitness=0.000335384\n",
      "sigma=0.10006537787618126 |trace(ln_B)|=2.220446049250313e-16\n",
      "69.43 secs, 444 evals, 111 steps, fitness=0.000335384\n",
      "sigma=0.09927661480923916 |trace(ln_B)|=2.220446049250313e-16\n",
      "70.11 secs, 448 evals, 112 steps, fitness=0.000335384\n",
      "sigma=0.09597289534172192 |trace(ln_B)|=2.220446049250313e-16\n",
      "70.70 secs, 452 evals, 113 steps, fitness=0.000335384\n",
      "sigma=0.09714694276638544 |trace(ln_B)|=2.220446049250313e-16\n",
      "71.30 secs, 456 evals, 114 steps, fitness=0.000335384\n",
      "sigma=0.08966223554147285 |trace(ln_B)|=2.220446049250313e-16\n",
      "71.94 secs, 460 evals, 115 steps, fitness=0.000335384\n",
      "sigma=0.09033165572174875 |trace(ln_B)|=2.220446049250313e-16\n",
      "72.53 secs, 464 evals, 116 steps, fitness=0.000335384\n",
      "sigma=0.09904160963407373 |trace(ln_B)|=2.7755575615628914e-16\n",
      "73.17 secs, 468 evals, 117 steps, fitness=0.000335384\n",
      "sigma=0.09796043322358977 |trace(ln_B)|=2.636779683484747e-16\n",
      "73.77 secs, 472 evals, 118 steps, fitness=0.000335384\n",
      "sigma=0.09206773815881922 |trace(ln_B)|=2.498001805406602e-16\n",
      "74.40 secs, 476 evals, 119 steps, fitness=0.000335384\n",
      "sigma=0.08875255253184466 |trace(ln_B)|=2.498001805406602e-16\n",
      "74.98 secs, 480 evals, 120 steps, fitness=0.000335384\n",
      "sigma=0.08724004017857769 |trace(ln_B)|=2.7755575615628914e-16\n",
      "75.63 secs, 484 evals, 121 steps, fitness=0.000335384\n",
      "sigma=0.08593850021435673 |trace(ln_B)|=2.7755575615628914e-16\n",
      "76.18 secs, 488 evals, 122 steps, fitness=0.000335384\n",
      "sigma=0.08063481174979198 |trace(ln_B)|=2.220446049250313e-16\n",
      "76.78 secs, 492 evals, 123 steps, fitness=0.000335384\n",
      "sigma=0.08033818127211116 |trace(ln_B)|=2.220446049250313e-16\n",
      "77.42 secs, 496 evals, 124 steps, fitness=0.000335384\n",
      "sigma=0.07959299806386186 |trace(ln_B)|=2.220446049250313e-16\n",
      "78.00 secs, 500 evals, 125 steps, fitness=0.000335384\n",
      "sigma=0.06731961093967245 |trace(ln_B)|=2.220446049250313e-16\n",
      "78.60 secs, 504 evals, 126 steps, fitness=0.000335384\n",
      "sigma=0.0632378380375215 |trace(ln_B)|=3.3306690738754696e-16\n",
      "79.24 secs, 508 evals, 127 steps, fitness=0.000131525\n",
      "sigma=0.06239022449615833 |trace(ln_B)|=3.3306690738754696e-16\n",
      "79.87 secs, 512 evals, 128 steps, fitness=0.000013673\n",
      "sigma=0.059211903972278046 |trace(ln_B)|=3.3306690738754696e-16\n",
      "80.46 secs, 516 evals, 129 steps, fitness=0.000013673\n",
      "sigma=0.058087145251732725 |trace(ln_B)|=3.3306690738754696e-16\n",
      "81.06 secs, 520 evals, 130 steps, fitness=0.000013673\n",
      "sigma=0.05741648353573339 |trace(ln_B)|=3.3306690738754696e-16\n",
      "81.69 secs, 524 evals, 131 steps, fitness=0.000013673\n",
      "sigma=0.05418783154843843 |trace(ln_B)|=2.220446049250313e-16\n",
      "82.25 secs, 528 evals, 132 steps, fitness=0.000013673\n",
      "sigma=0.05327892539472529 |trace(ln_B)|=2.220446049250313e-16\n",
      "82.84 secs, 532 evals, 133 steps, fitness=0.000013673\n",
      "sigma=0.05310997520371374 |trace(ln_B)|=2.220446049250313e-16\n",
      "83.45 secs, 536 evals, 134 steps, fitness=0.000013673\n",
      "sigma=0.052523125367611834 |trace(ln_B)|=2.220446049250313e-16\n",
      "84.01 secs, 540 evals, 135 steps, fitness=0.000013673\n",
      "sigma=0.05125486515155554 |trace(ln_B)|=2.220446049250313e-16\n",
      "84.65 secs, 544 evals, 136 steps, fitness=0.000013673\n",
      "sigma=0.050987752174482384 |trace(ln_B)|=2.220446049250313e-16\n",
      "85.22 secs, 548 evals, 137 steps, fitness=0.000013673\n",
      "sigma=0.04995894821622558 |trace(ln_B)|=2.498001805406602e-16\n",
      "85.81 secs, 552 evals, 138 steps, fitness=0.000013673\n",
      "sigma=0.04912862801184313 |trace(ln_B)|=2.498001805406602e-16\n",
      "86.47 secs, 556 evals, 139 steps, fitness=0.000013673\n",
      "sigma=0.04988504557908602 |trace(ln_B)|=2.498001805406602e-16\n",
      "87.10 secs, 560 evals, 140 steps, fitness=0.000013673\n",
      "sigma=0.047676772261379896 |trace(ln_B)|=2.498001805406602e-16\n",
      "87.74 secs, 564 evals, 141 steps, fitness=0.000013673\n",
      "sigma=0.04510195489258904 |trace(ln_B)|=2.498001805406602e-16\n"
     ]
    },
    {
     "name": "stdout",
     "output_type": "stream",
     "text": [
      "88.33 secs, 568 evals, 142 steps, fitness=0.000013673\n",
      "sigma=0.044761159962501705 |trace(ln_B)|=2.498001805406602e-16\n",
      "88.88 secs, 572 evals, 143 steps, fitness=0.000013673\n",
      "sigma=0.043787507969337475 |trace(ln_B)|=2.7755575615628914e-16\n",
      "89.46 secs, 576 evals, 144 steps, fitness=0.000013673\n",
      "sigma=0.0429366705836079 |trace(ln_B)|=2.7755575615628914e-16\n",
      "90.04 secs, 580 evals, 145 steps, fitness=0.000013673\n",
      "sigma=0.04203030328718659 |trace(ln_B)|=3.0531133177191805e-16\n",
      "90.70 secs, 584 evals, 146 steps, fitness=0.000013673\n",
      "sigma=0.041103202424603184 |trace(ln_B)|=3.3306690738754696e-16\n",
      "91.35 secs, 588 evals, 147 steps, fitness=0.000013673\n",
      "sigma=0.03753404031599326 |trace(ln_B)|=4.440892098500626e-16\n",
      "91.94 secs, 592 evals, 148 steps, fitness=0.000013673\n",
      "sigma=0.03705264599936943 |trace(ln_B)|=4.440892098500626e-16\n",
      "92.62 secs, 596 evals, 149 steps, fitness=0.000013673\n",
      "sigma=0.03666096097133155 |trace(ln_B)|=4.163336342344337e-16\n",
      "93.20 secs, 600 evals, 150 steps, fitness=0.000013673\n",
      "sigma=0.036206627931044344 |trace(ln_B)|=4.163336342344337e-16\n",
      "93.81 secs, 604 evals, 151 steps, fitness=0.000013673\n",
      "sigma=0.035715855568609074 |trace(ln_B)|=4.163336342344337e-16\n",
      "94.43 secs, 608 evals, 152 steps, fitness=0.000013673\n",
      "sigma=0.03503926518570903 |trace(ln_B)|=4.440892098500626e-16\n",
      "94.99 secs, 612 evals, 153 steps, fitness=0.000013673\n",
      "sigma=0.03358350497556191 |trace(ln_B)|=3.885780586188048e-16\n",
      "95.59 secs, 616 evals, 154 steps, fitness=0.000013673\n",
      "sigma=0.03265788532271347 |trace(ln_B)|=4.440892098500626e-16\n",
      "96.17 secs, 620 evals, 155 steps, fitness=0.000013673\n",
      "sigma=0.03187362986091905 |trace(ln_B)|=4.718447854656915e-16\n",
      "96.82 secs, 624 evals, 156 steps, fitness=0.000013673\n",
      "sigma=0.031629125171232564 |trace(ln_B)|=4.440892098500626e-16\n",
      "97.43 secs, 628 evals, 157 steps, fitness=0.000005591\n",
      "sigma=0.03115615201286175 |trace(ln_B)|=4.718447854656915e-16\n",
      "98.07 secs, 632 evals, 158 steps, fitness=0.000005591\n",
      "sigma=0.03172975611114044 |trace(ln_B)|=4.996003610813204e-16\n",
      "98.68 secs, 636 evals, 159 steps, fitness=0.000005591\n",
      "sigma=0.031348348509520355 |trace(ln_B)|=4.996003610813204e-16\n",
      "99.27 secs, 640 evals, 160 steps, fitness=0.000005591\n",
      "sigma=0.030492302754007956 |trace(ln_B)|=4.718447854656915e-16\n",
      "99.95 secs, 644 evals, 161 steps, fitness=0.000005591\n",
      "sigma=0.02857137418038139 |trace(ln_B)|=4.718447854656915e-16\n",
      "100.55 secs, 648 evals, 162 steps, fitness=0.000005591\n",
      "sigma=0.02750621699412403 |trace(ln_B)|=5.273559366969494e-16\n",
      "101.11 secs, 652 evals, 163 steps, fitness=0.000005591\n",
      "sigma=0.02647588895193687 |trace(ln_B)|=5.273559366969494e-16\n",
      "101.75 secs, 656 evals, 164 steps, fitness=0.000005591\n",
      "sigma=0.02678637385587265 |trace(ln_B)|=5.273559366969494e-16\n",
      "102.34 secs, 660 evals, 165 steps, fitness=0.000005591\n",
      "sigma=0.025924976856761015 |trace(ln_B)|=5.273559366969494e-16\n",
      "102.90 secs, 664 evals, 166 steps, fitness=0.000005591\n",
      "sigma=0.024430285533374847 |trace(ln_B)|=5.551115123125783e-16\n",
      "103.52 secs, 668 evals, 167 steps, fitness=0.000005591\n",
      "sigma=0.023154409062742475 |trace(ln_B)|=5.551115123125783e-16\n",
      "104.17 secs, 672 evals, 168 steps, fitness=0.000005591\n",
      "sigma=0.022930757561790735 |trace(ln_B)|=5.551115123125783e-16\n",
      "104.73 secs, 676 evals, 169 steps, fitness=0.000005591\n",
      "sigma=0.022011360776679798 |trace(ln_B)|=5.828670879282072e-16\n",
      "105.38 secs, 680 evals, 170 steps, fitness=0.000005591\n",
      "sigma=0.021688406865448553 |trace(ln_B)|=5.828670879282072e-16\n",
      "105.96 secs, 684 evals, 171 steps, fitness=0.000005591\n",
      "sigma=0.021309849440531544 |trace(ln_B)|=5.828670879282072e-16\n",
      "106.61 secs, 688 evals, 172 steps, fitness=0.000005591\n",
      "sigma=0.01939955448920009 |trace(ln_B)|=5.828670879282072e-16\n",
      "107.25 secs, 692 evals, 173 steps, fitness=0.000005591\n",
      "sigma=0.018907499552412343 |trace(ln_B)|=5.828670879282072e-16\n",
      "107.86 secs, 696 evals, 174 steps, fitness=0.000005591\n",
      "sigma=0.018941852770593293 |trace(ln_B)|=5.828670879282072e-16\n",
      "108.50 secs, 700 evals, 175 steps, fitness=0.000005591\n",
      "sigma=0.018816815755413774 |trace(ln_B)|=5.898059818321144e-16\n",
      "109.09 secs, 704 evals, 176 steps, fitness=0.000005591\n",
      "sigma=0.018209006796708418 |trace(ln_B)|=5.620504062164855e-16\n",
      "109.68 secs, 708 evals, 177 steps, fitness=0.000005591\n",
      "sigma=0.017345638909925135 |trace(ln_B)|=5.551115123125783e-16\n",
      "110.29 secs, 712 evals, 178 steps, fitness=0.000005591\n",
      "sigma=0.01689231832349172 |trace(ln_B)|=5.551115123125783e-16\n",
      "110.94 secs, 716 evals, 179 steps, fitness=0.000005591\n",
      "sigma=0.015742337263840757 |trace(ln_B)|=6.38378239159465e-16\n",
      "111.52 secs, 720 evals, 180 steps, fitness=0.000005591\n",
      "sigma=0.015550791984084402 |trace(ln_B)|=6.661338147750939e-16\n",
      "112.18 secs, 724 evals, 181 steps, fitness=0.000005591\n",
      "sigma=0.015534280172582807 |trace(ln_B)|=6.661338147750939e-16\n",
      "112.76 secs, 728 evals, 182 steps, fitness=0.000005591\n",
      "sigma=0.017713203153669886 |trace(ln_B)|=4.440892098500626e-16\n",
      "113.32 secs, 732 evals, 183 steps, fitness=0.000005591\n",
      "sigma=0.01716160996465367 |trace(ln_B)|=5.551115123125783e-16\n",
      "113.96 secs, 736 evals, 184 steps, fitness=0.000005591\n",
      "sigma=0.016788143139003585 |trace(ln_B)|=4.440892098500626e-16\n",
      "114.60 secs, 740 evals, 185 steps, fitness=0.000005591\n",
      "sigma=0.016713556983633606 |trace(ln_B)|=4.440892098500626e-16\n",
      "115.15 secs, 744 evals, 186 steps, fitness=0.000005591\n",
      "sigma=0.017283620991957224 |trace(ln_B)|=4.440892098500626e-16\n",
      "115.69 secs, 748 evals, 187 steps, fitness=0.000005591\n",
      "sigma=0.017063811132755645 |trace(ln_B)|=4.440892098500626e-16\n",
      "116.34 secs, 752 evals, 188 steps, fitness=0.000005591\n",
      "sigma=0.016278752601211716 |trace(ln_B)|=4.440892098500626e-16\n",
      "116.97 secs, 756 evals, 189 steps, fitness=0.000005591\n",
      "sigma=0.016194262630328 |trace(ln_B)|=4.440892098500626e-16\n",
      "117.57 secs, 760 evals, 190 steps, fitness=0.000005591\n",
      "sigma=0.016060544583054934 |trace(ln_B)|=4.440892098500626e-16\n",
      "118.24 secs, 764 evals, 191 steps, fitness=0.000005591\n",
      "sigma=0.01557153873299014 |trace(ln_B)|=4.718447854656915e-16\n",
      "118.79 secs, 768 evals, 192 steps, fitness=0.000005591\n",
      "sigma=0.014661729077700643 |trace(ln_B)|=4.440892098500626e-16\n",
      "119.44 secs, 772 evals, 193 steps, fitness=0.000005591\n",
      "sigma=0.013804246981438076 |trace(ln_B)|=4.996003610813204e-16\n",
      "120.03 secs, 776 evals, 194 steps, fitness=0.000005591\n",
      "sigma=0.013591685591723952 |trace(ln_B)|=4.996003610813204e-16\n",
      "120.58 secs, 780 evals, 195 steps, fitness=0.000005591\n",
      "sigma=0.012828376466283209 |trace(ln_B)|=5.551115123125783e-16\n",
      "121.22 secs, 784 evals, 196 steps, fitness=0.000005591\n",
      "sigma=0.012608652209125997 |trace(ln_B)|=5.551115123125783e-16\n",
      "121.86 secs, 788 evals, 197 steps, fitness=0.000005591\n",
      "sigma=0.012658000840159202 |trace(ln_B)|=5.551115123125783e-16\n",
      "122.45 secs, 792 evals, 198 steps, fitness=0.000005591\n",
      "sigma=0.01316574913427806 |trace(ln_B)|=5.551115123125783e-16\n",
      "122.99 secs, 796 evals, 199 steps, fitness=0.000005591\n",
      "sigma=0.012502576516921198 |trace(ln_B)|=6.106226635438361e-16\n",
      "123.55 secs, 800 evals, 200 steps, fitness=0.000005591\n",
      "sigma=0.011799218868019282 |trace(ln_B)|=6.106226635438361e-16\n",
      "124.11 secs, 804 evals, 201 steps, fitness=0.000005591\n",
      "sigma=0.011310262663425271 |trace(ln_B)|=6.106226635438361e-16\n",
      "124.75 secs, 808 evals, 202 steps, fitness=0.000005591\n",
      "sigma=0.010945776706907084 |trace(ln_B)|=5.828670879282072e-16\n",
      "125.39 secs, 812 evals, 203 steps, fitness=0.000005591\n",
      "sigma=0.010331582348837475 |trace(ln_B)|=5.828670879282072e-16\n",
      "126.03 secs, 816 evals, 204 steps, fitness=0.000005591\n",
      "sigma=0.00994882401498695 |trace(ln_B)|=6.106226635438361e-16\n",
      "126.68 secs, 820 evals, 205 steps, fitness=0.000005591\n",
      "sigma=0.009282125357025101 |trace(ln_B)|=7.771561172376096e-16\n",
      "127.35 secs, 824 evals, 206 steps, fitness=0.000005591\n",
      "sigma=0.00896268651164668 |trace(ln_B)|=7.771561172376096e-16\n",
      "127.90 secs, 828 evals, 207 steps, fitness=0.000005591\n",
      "sigma=0.008728594721367054 |trace(ln_B)|=7.771561172376096e-16\n",
      "128.54 secs, 832 evals, 208 steps, fitness=0.000005591\n",
      "sigma=0.008517687178820635 |trace(ln_B)|=7.494005416219807e-16\n",
      "129.19 secs, 836 evals, 209 steps, fitness=0.000005591\n",
      "sigma=0.008193917618217477 |trace(ln_B)|=7.494005416219807e-16\n",
      "129.78 secs, 840 evals, 210 steps, fitness=0.000005591\n",
      "sigma=0.008089196064955485 |trace(ln_B)|=7.494005416219807e-16\n",
      "130.43 secs, 844 evals, 211 steps, fitness=0.000005591\n",
      "sigma=0.007750049981595851 |trace(ln_B)|=7.771561172376096e-16\n"
     ]
    },
    {
     "name": "stdout",
     "output_type": "stream",
     "text": [
      "131.07 secs, 848 evals, 212 steps, fitness=0.000005591\n",
      "sigma=0.007956020414138882 |trace(ln_B)|=7.771561172376096e-16\n",
      "131.68 secs, 852 evals, 213 steps, fitness=0.000005591\n",
      "sigma=0.008149042972244301 |trace(ln_B)|=7.216449660063518e-16\n",
      "132.32 secs, 856 evals, 214 steps, fitness=0.000005591\n",
      "sigma=0.007520229986092499 |trace(ln_B)|=6.938893903907228e-16\n",
      "132.89 secs, 860 evals, 215 steps, fitness=0.000005591\n",
      "sigma=0.007402535758068457 |trace(ln_B)|=7.216449660063518e-16\n",
      "133.54 secs, 864 evals, 216 steps, fitness=0.000000606\n",
      "sigma=0.007099601706373302 |trace(ln_B)|=7.771561172376096e-16\n",
      "134.18 secs, 868 evals, 217 steps, fitness=0.000000606\n",
      "sigma=0.007105284837348068 |trace(ln_B)|=7.771561172376096e-16\n",
      "134.73 secs, 872 evals, 218 steps, fitness=0.000000606\n",
      "sigma=0.006833496836634788 |trace(ln_B)|=7.91033905045424e-16\n",
      "135.37 secs, 876 evals, 219 steps, fitness=0.000000096\n",
      "sigma=0.00674015317417614 |trace(ln_B)|=7.91033905045424e-16\n",
      "136.00 secs, 880 evals, 220 steps, fitness=0.000000096\n",
      "sigma=0.006445880712559814 |trace(ln_B)|=7.91033905045424e-16\n",
      "136.59 secs, 884 evals, 221 steps, fitness=0.000000096\n",
      "sigma=0.00638216646428595 |trace(ln_B)|=7.806255641895632e-16\n",
      "137.24 secs, 888 evals, 222 steps, fitness=0.000000096\n",
      "sigma=0.0062229967674587265 |trace(ln_B)|=7.771561172376096e-16\n",
      "137.83 secs, 892 evals, 223 steps, fitness=0.000000096\n",
      "sigma=0.0057565735585765904 |trace(ln_B)|=7.771561172376096e-16\n",
      "138.47 secs, 896 evals, 224 steps, fitness=0.000000096\n",
      "sigma=0.00555477676016082 |trace(ln_B)|=7.771561172376096e-16\n",
      "139.11 secs, 900 evals, 225 steps, fitness=0.000000096\n",
      "sigma=0.005484732479934763 |trace(ln_B)|=7.771561172376096e-16\n",
      "139.69 secs, 904 evals, 226 steps, fitness=0.000000096\n",
      "sigma=0.005308285328120317 |trace(ln_B)|=7.216449660063518e-16\n",
      "140.36 secs, 908 evals, 227 steps, fitness=0.000000096\n",
      "sigma=0.005370336652038523 |trace(ln_B)|=7.771561172376096e-16\n",
      "140.96 secs, 912 evals, 228 steps, fitness=0.000000096\n",
      "sigma=0.005126972482822749 |trace(ln_B)|=7.771561172376096e-16\n",
      "141.61 secs, 916 evals, 229 steps, fitness=0.000000096\n",
      "sigma=0.005531891425062882 |trace(ln_B)|=7.771561172376096e-16\n",
      "142.20 secs, 920 evals, 230 steps, fitness=0.000000096\n",
      "sigma=0.005227884493711966 |trace(ln_B)|=6.661338147750939e-16\n",
      "142.81 secs, 924 evals, 231 steps, fitness=0.000000096\n",
      "sigma=0.005052930273091536 |trace(ln_B)|=6.661338147750939e-16\n",
      "143.44 secs, 928 evals, 232 steps, fitness=0.000000096\n",
      "sigma=0.004920479701329897 |trace(ln_B)|=6.661338147750939e-16\n",
      "144.02 secs, 932 evals, 233 steps, fitness=0.000000096\n",
      "sigma=0.004888598707585507 |trace(ln_B)|=6.661338147750939e-16\n",
      "144.59 secs, 936 evals, 234 steps, fitness=0.000000096\n",
      "sigma=0.00471995044305902 |trace(ln_B)|=6.661338147750939e-16\n",
      "145.24 secs, 940 evals, 235 steps, fitness=0.000000096\n",
      "sigma=0.0045257721815604 |trace(ln_B)|=6.661338147750939e-16\n",
      "145.80 secs, 944 evals, 236 steps, fitness=0.000000096\n",
      "sigma=0.004266937406579074 |trace(ln_B)|=6.106226635438361e-16\n",
      "146.39 secs, 948 evals, 237 steps, fitness=0.000000096\n",
      "sigma=0.004254525513942965 |trace(ln_B)|=6.106226635438361e-16\n",
      "147.04 secs, 952 evals, 238 steps, fitness=0.000000096\n",
      "sigma=0.004274864801555791 |trace(ln_B)|=5.551115123125783e-16\n",
      "147.67 secs, 956 evals, 239 steps, fitness=0.000000096\n",
      "sigma=0.0042487088759607826 |trace(ln_B)|=5.551115123125783e-16\n",
      "148.31 secs, 960 evals, 240 steps, fitness=0.000000096\n",
      "sigma=0.003964004120712636 |trace(ln_B)|=6.661338147750939e-16\n",
      "148.90 secs, 964 evals, 241 steps, fitness=0.000000096\n",
      "sigma=0.0038583313401004717 |trace(ln_B)|=7.771561172376096e-16\n",
      "149.56 secs, 968 evals, 242 steps, fitness=0.000000096\n",
      "sigma=0.003879792558883352 |trace(ln_B)|=7.771561172376096e-16\n",
      "150.18 secs, 972 evals, 243 steps, fitness=0.000000096\n",
      "sigma=0.003728031996330696 |trace(ln_B)|=7.771561172376096e-16\n",
      "150.73 secs, 976 evals, 244 steps, fitness=0.000000096\n",
      "sigma=0.0036802331660192346 |trace(ln_B)|=7.771561172376096e-16\n",
      "151.33 secs, 980 evals, 245 steps, fitness=0.000000096\n",
      "sigma=0.0033527043208249267 |trace(ln_B)|=7.771561172376096e-16\n",
      "151.98 secs, 984 evals, 246 steps, fitness=0.000000096\n",
      "sigma=0.003310806214567448 |trace(ln_B)|=7.771561172376096e-16\n",
      "152.56 secs, 988 evals, 247 steps, fitness=0.000000096\n",
      "sigma=0.003087836801160398 |trace(ln_B)|=6.938893903907228e-16\n",
      "153.18 secs, 992 evals, 248 steps, fitness=0.000000096\n",
      "sigma=0.002958630585056575 |trace(ln_B)|=6.938893903907228e-16\n",
      "153.83 secs, 996 evals, 249 steps, fitness=0.000000096\n",
      "sigma=0.002908817311462775 |trace(ln_B)|=6.938893903907228e-16\n",
      "154.42 secs, 1000 evals, 250 steps, fitness=0.000000096\n",
      "sigma=0.0029099637486874334 |trace(ln_B)|=6.661338147750939e-16\n",
      "\n",
      "Optimization stopped after 251 steps and 155.06066608428955 seconds\n",
      "Termination reason: Max number of function evaluations (1000) reached\n",
      "Steps per second = 1.6187212807634832\n",
      "Function evals per second = 6.474885123053933\n",
      "Improvements/step = NaN\n",
      "Total function evaluations = 1004\n",
      "\n",
      "\n",
      "Best candidate found: [0.999896, -1.0008]\n",
      "\n",
      "Fitness: 0.000000096\n",
      "\n"
     ]
    },
    {
     "name": "stderr",
     "output_type": "stream",
     "text": [
      "\u001b[1m\u001b[36mINFO: \u001b[39m\u001b[22m\u001b[36mBest Value: [0.999896, -1.0008]\n",
      "\u001b[39m\u001b[1m\u001b[36mINFO: \u001b[39m\u001b[22m\u001b[36mBest Fitness: 9.60107440082645e-8\n",
      "\u001b[39m"
     ]
    },
    {
     "name": "stdout",
     "output_type": "stream",
     "text": [
      "207.020198 seconds (10.08 M allocations: 901.771 MiB, 0.23% gc time)\n"
     ]
    },
    {
     "name": "stderr",
     "output_type": "stream",
     "text": [
      "\u001b[1m\u001b[36mINFO: \u001b[39m\u001b[22m\u001b[36mSaving optimisation to disk\n",
      "\u001b[39m\u001b[1m\u001b[36mINFO: \u001b[39m\u001b[22m\u001b[36mDone.\n",
      "\u001b[39m"
     ]
    },
    {
     "data": {
      "text/plain": [
       "(Any[9.60107e-8], Any[[0.999896, -1.0008]])"
      ]
     },
     "execution_count": 14,
     "metadata": {},
     "output_type": "execute_result"
    }
   ],
   "source": [
    "# Run the optimization\n",
    "# This function first modifies t.bbSetup\n",
    "# and then modifies t.bbResults\n",
    "@time smmoptimize!(myProblem, verbose = true)"
   ]
  },
  {
   "cell_type": "markdown",
   "metadata": {},
   "source": [
    "## Step 6. Analysing Results\n",
    "\n",
    "### A. Point estimates"
   ]
  },
  {
   "cell_type": "markdown",
   "metadata": {},
   "source": [
    "The parameter value that minimizes the distance between empirical and simulated moments can be accessed using \n",
    "the function `smm_minimizer` "
   ]
  },
  {
   "cell_type": "code",
   "execution_count": 15,
   "metadata": {},
   "outputs": [
    {
     "name": "stdout",
     "output_type": "stream",
     "text": [
      "0.9998961259529692\n",
      "-1.0008042783298716\n"
     ]
    }
   ],
   "source": [
    "minimizer = smm_minimizer(myProblem)\n",
    "println(minimizer[1])\n",
    "println(minimizer[2])"
   ]
  },
  {
   "cell_type": "markdown",
   "metadata": {},
   "source": [
    "### B. Standard errors\n",
    "\n",
    "[WORKINPROGRESS]"
   ]
  },
  {
   "cell_type": "markdown",
   "metadata": {},
   "source": [
    "### C. Slices\n",
    "\n",
    "Slices of the objective function around a certain parameter value using the function `smm_slices(sMMProblem::SMMProblem, paramValues::Vector, nbPoints::Int64; showPlots::Bool = true)`"
   ]
  },
  {
   "cell_type": "code",
   "execution_count": 16,
   "metadata": {
    "scrolled": false
   },
   "outputs": [
    {
     "name": "stderr",
     "output_type": "stream",
     "text": [
      "\u001b[1m\u001b[36mINFO: \u001b[39m\u001b[22m\u001b[36mslicing along mu1\n",
      "\u001b[39m"
     ]
    },
    {
     "data": {
      "image/svg+xml": [
       "<?xml version=\"1.0\" encoding=\"utf-8\"?>\n",
       "<svg xmlns=\"http://www.w3.org/2000/svg\" xmlns:xlink=\"http://www.w3.org/1999/xlink\" width=\"600\" height=\"400\" viewBox=\"0 0 600 400\">\n",
       "<defs>\n",
       "  <clipPath id=\"clip8600\">\n",
       "    <rect x=\"0\" y=\"0\" width=\"600\" height=\"400\"/>\n",
       "  </clipPath>\n",
       "</defs>\n",
       "<polygon clip-path=\"url(#clip8600)\" points=\"\n",
       "0,400 600,400 600,0 0,0 \n",
       "  \" fill=\"#ffffff\" fill-opacity=\"1\"/>\n",
       "<defs>\n",
       "  <clipPath id=\"clip8601\">\n",
       "    <rect x=\"120\" y=\"0\" width=\"421\" height=\"400\"/>\n",
       "  </clipPath>\n",
       "</defs>\n",
       "<polygon clip-path=\"url(#clip8600)\" points=\"\n",
       "37.0032,375.869 580.315,375.869 580.315,31.4961 37.0032,31.4961 \n",
       "  \" fill=\"#ffffff\" fill-opacity=\"1\"/>\n",
       "<defs>\n",
       "  <clipPath id=\"clip8602\">\n",
       "    <rect x=\"37\" y=\"31\" width=\"544\" height=\"345\"/>\n",
       "  </clipPath>\n",
       "</defs>\n",
       "<polyline clip-path=\"url(#clip8602)\" style=\"stroke:#000000; stroke-width:0.5; stroke-opacity:0.1; fill:none\" points=\"\n",
       "  103.636,375.869 103.636,31.4961 \n",
       "  \"/>\n",
       "<polyline clip-path=\"url(#clip8602)\" style=\"stroke:#000000; stroke-width:0.5; stroke-opacity:0.1; fill:none\" points=\"\n",
       "  206.147,375.869 206.147,31.4961 \n",
       "  \"/>\n",
       "<polyline clip-path=\"url(#clip8602)\" style=\"stroke:#000000; stroke-width:0.5; stroke-opacity:0.1; fill:none\" points=\"\n",
       "  308.659,375.869 308.659,31.4961 \n",
       "  \"/>\n",
       "<polyline clip-path=\"url(#clip8602)\" style=\"stroke:#000000; stroke-width:0.5; stroke-opacity:0.1; fill:none\" points=\"\n",
       "  411.171,375.869 411.171,31.4961 \n",
       "  \"/>\n",
       "<polyline clip-path=\"url(#clip8602)\" style=\"stroke:#000000; stroke-width:0.5; stroke-opacity:0.1; fill:none\" points=\"\n",
       "  513.682,375.869 513.682,31.4961 \n",
       "  \"/>\n",
       "<polyline clip-path=\"url(#clip8602)\" style=\"stroke:#000000; stroke-width:0.5; stroke-opacity:0.1; fill:none\" points=\"\n",
       "  37.0032,367.916 580.315,367.916 \n",
       "  \"/>\n",
       "<polyline clip-path=\"url(#clip8602)\" style=\"stroke:#000000; stroke-width:0.5; stroke-opacity:0.1; fill:none\" points=\"\n",
       "  37.0032,277.161 580.315,277.161 \n",
       "  \"/>\n",
       "<polyline clip-path=\"url(#clip8602)\" style=\"stroke:#000000; stroke-width:0.5; stroke-opacity:0.1; fill:none\" points=\"\n",
       "  37.0032,186.406 580.315,186.406 \n",
       "  \"/>\n",
       "<polyline clip-path=\"url(#clip8602)\" style=\"stroke:#000000; stroke-width:0.5; stroke-opacity:0.1; fill:none\" points=\"\n",
       "  37.0032,95.6503 580.315,95.6503 \n",
       "  \"/>\n",
       "<polyline clip-path=\"url(#clip8600)\" style=\"stroke:#000000; stroke-width:1; stroke-opacity:1; fill:none\" points=\"\n",
       "  37.0032,375.869 580.315,375.869 \n",
       "  \"/>\n",
       "<polyline clip-path=\"url(#clip8600)\" style=\"stroke:#000000; stroke-width:1; stroke-opacity:1; fill:none\" points=\"\n",
       "  37.0032,375.869 37.0032,31.4961 \n",
       "  \"/>\n",
       "<polyline clip-path=\"url(#clip8600)\" style=\"stroke:#000000; stroke-width:1; stroke-opacity:1; fill:none\" points=\"\n",
       "  103.636,375.869 103.636,370.703 \n",
       "  \"/>\n",
       "<polyline clip-path=\"url(#clip8600)\" style=\"stroke:#000000; stroke-width:1; stroke-opacity:1; fill:none\" points=\"\n",
       "  206.147,375.869 206.147,370.703 \n",
       "  \"/>\n",
       "<polyline clip-path=\"url(#clip8600)\" style=\"stroke:#000000; stroke-width:1; stroke-opacity:1; fill:none\" points=\"\n",
       "  308.659,375.869 308.659,370.703 \n",
       "  \"/>\n",
       "<polyline clip-path=\"url(#clip8600)\" style=\"stroke:#000000; stroke-width:1; stroke-opacity:1; fill:none\" points=\"\n",
       "  411.171,375.869 411.171,370.703 \n",
       "  \"/>\n",
       "<polyline clip-path=\"url(#clip8600)\" style=\"stroke:#000000; stroke-width:1; stroke-opacity:1; fill:none\" points=\"\n",
       "  513.682,375.869 513.682,370.703 \n",
       "  \"/>\n",
       "<polyline clip-path=\"url(#clip8600)\" style=\"stroke:#000000; stroke-width:1; stroke-opacity:1; fill:none\" points=\"\n",
       "  37.0032,367.916 45.1529,367.916 \n",
       "  \"/>\n",
       "<polyline clip-path=\"url(#clip8600)\" style=\"stroke:#000000; stroke-width:1; stroke-opacity:1; fill:none\" points=\"\n",
       "  37.0032,277.161 45.1529,277.161 \n",
       "  \"/>\n",
       "<polyline clip-path=\"url(#clip8600)\" style=\"stroke:#000000; stroke-width:1; stroke-opacity:1; fill:none\" points=\"\n",
       "  37.0032,186.406 45.1529,186.406 \n",
       "  \"/>\n",
       "<polyline clip-path=\"url(#clip8600)\" style=\"stroke:#000000; stroke-width:1; stroke-opacity:1; fill:none\" points=\"\n",
       "  37.0032,95.6503 45.1529,95.6503 \n",
       "  \"/>\n",
       "<g clip-path=\"url(#clip8600)\">\n",
       "<text style=\"fill:#000000; fill-opacity:1; font-family:Arial,Helvetica Neue,Helvetica,sans-serif; font-size:12; text-anchor:middle;\" transform=\"rotate(0, 103.636, 389.669)\" x=\"103.636\" y=\"389.669\">-4</text>\n",
       "</g>\n",
       "<g clip-path=\"url(#clip8600)\">\n",
       "<text style=\"fill:#000000; fill-opacity:1; font-family:Arial,Helvetica Neue,Helvetica,sans-serif; font-size:12; text-anchor:middle;\" transform=\"rotate(0, 206.147, 389.669)\" x=\"206.147\" y=\"389.669\">-2</text>\n",
       "</g>\n",
       "<g clip-path=\"url(#clip8600)\">\n",
       "<text style=\"fill:#000000; fill-opacity:1; font-family:Arial,Helvetica Neue,Helvetica,sans-serif; font-size:12; text-anchor:middle;\" transform=\"rotate(0, 308.659, 389.669)\" x=\"308.659\" y=\"389.669\">0</text>\n",
       "</g>\n",
       "<g clip-path=\"url(#clip8600)\">\n",
       "<text style=\"fill:#000000; fill-opacity:1; font-family:Arial,Helvetica Neue,Helvetica,sans-serif; font-size:12; text-anchor:middle;\" transform=\"rotate(0, 411.171, 389.669)\" x=\"411.171\" y=\"389.669\">2</text>\n",
       "</g>\n",
       "<g clip-path=\"url(#clip8600)\">\n",
       "<text style=\"fill:#000000; fill-opacity:1; font-family:Arial,Helvetica Neue,Helvetica,sans-serif; font-size:12; text-anchor:middle;\" transform=\"rotate(0, 513.682, 389.669)\" x=\"513.682\" y=\"389.669\">4</text>\n",
       "</g>\n",
       "<g clip-path=\"url(#clip8600)\">\n",
       "<text style=\"fill:#000000; fill-opacity:1; font-family:Arial,Helvetica Neue,Helvetica,sans-serif; font-size:12; text-anchor:end;\" transform=\"rotate(0, 31.0032, 372.416)\" x=\"31.0032\" y=\"372.416\">0</text>\n",
       "</g>\n",
       "<g clip-path=\"url(#clip8600)\">\n",
       "<text style=\"fill:#000000; fill-opacity:1; font-family:Arial,Helvetica Neue,Helvetica,sans-serif; font-size:12; text-anchor:end;\" transform=\"rotate(0, 31.0032, 281.661)\" x=\"31.0032\" y=\"281.661\">5</text>\n",
       "</g>\n",
       "<g clip-path=\"url(#clip8600)\">\n",
       "<text style=\"fill:#000000; fill-opacity:1; font-family:Arial,Helvetica Neue,Helvetica,sans-serif; font-size:12; text-anchor:end;\" transform=\"rotate(0, 31.0032, 190.906)\" x=\"31.0032\" y=\"190.906\">10</text>\n",
       "</g>\n",
       "<g clip-path=\"url(#clip8600)\">\n",
       "<text style=\"fill:#000000; fill-opacity:1; font-family:Arial,Helvetica Neue,Helvetica,sans-serif; font-size:12; text-anchor:end;\" transform=\"rotate(0, 31.0032, 100.15)\" x=\"31.0032\" y=\"100.15\">15</text>\n",
       "</g>\n",
       "<g clip-path=\"url(#clip8600)\">\n",
       "<text style=\"fill:#000000; fill-opacity:1; font-family:Arial,Helvetica Neue,Helvetica,sans-serif; font-size:21; text-anchor:middle;\" transform=\"rotate(0, 308.659, 18)\" x=\"308.659\" y=\"18\">mu1</text>\n",
       "</g>\n",
       "<polyline clip-path=\"url(#clip8602)\" style=\"stroke:#009af9; stroke-width:1; stroke-opacity:1; fill:none\" points=\"\n",
       "  52.38,41.2425 109.331,151.008 166.282,238.372 223.233,303.393 280.184,345.957 337.135,366.122 394.085,363.886 451.036,339.223 507.987,292.162 564.938,222.728 \n",
       "  \n",
       "  \"/>\n",
       "<polygon clip-path=\"url(#clip8600)\" points=\"\n",
       "489.608,82.6161 562.315,82.6161 562.315,52.3761 489.608,52.3761 \n",
       "  \" fill=\"#ffffff\" fill-opacity=\"1\"/>\n",
       "<polyline clip-path=\"url(#clip8600)\" style=\"stroke:#000000; stroke-width:1; stroke-opacity:1; fill:none\" points=\"\n",
       "  489.608,82.6161 562.315,82.6161 562.315,52.3761 489.608,52.3761 489.608,82.6161 \n",
       "  \"/>\n",
       "<polyline clip-path=\"url(#clip8600)\" style=\"stroke:#009af9; stroke-width:1; stroke-opacity:1; fill:none\" points=\"\n",
       "  495.608,67.4961 531.608,67.4961 \n",
       "  \"/>\n",
       "<g clip-path=\"url(#clip8600)\">\n",
       "<text style=\"fill:#000000; fill-opacity:1; font-family:Arial,Helvetica Neue,Helvetica,sans-serif; font-size:12; text-anchor:start;\" transform=\"rotate(0, 537.608, 71.9961)\" x=\"537.608\" y=\"71.9961\">y1</text>\n",
       "</g>\n",
       "</svg>\n"
      ]
     },
     "metadata": {},
     "output_type": "display_data"
    },
    {
     "name": "stderr",
     "output_type": "stream",
     "text": [
      "\u001b[1m\u001b[36mINFO: \u001b[39m\u001b[22m\u001b[36mslicing along mu2\n",
      "\u001b[39m"
     ]
    },
    {
     "data": {
      "image/svg+xml": [
       "<?xml version=\"1.0\" encoding=\"utf-8\"?>\n",
       "<svg xmlns=\"http://www.w3.org/2000/svg\" xmlns:xlink=\"http://www.w3.org/1999/xlink\" width=\"600\" height=\"400\" viewBox=\"0 0 600 400\">\n",
       "<defs>\n",
       "  <clipPath id=\"clip8800\">\n",
       "    <rect x=\"0\" y=\"0\" width=\"600\" height=\"400\"/>\n",
       "  </clipPath>\n",
       "</defs>\n",
       "<polygon clip-path=\"url(#clip8800)\" points=\"\n",
       "0,400 600,400 600,0 0,0 \n",
       "  \" fill=\"#ffffff\" fill-opacity=\"1\"/>\n",
       "<defs>\n",
       "  <clipPath id=\"clip8801\">\n",
       "    <rect x=\"120\" y=\"0\" width=\"421\" height=\"400\"/>\n",
       "  </clipPath>\n",
       "</defs>\n",
       "<polygon clip-path=\"url(#clip8800)\" points=\"\n",
       "37.0032,375.869 580.315,375.869 580.315,31.4961 37.0032,31.4961 \n",
       "  \" fill=\"#ffffff\" fill-opacity=\"1\"/>\n",
       "<defs>\n",
       "  <clipPath id=\"clip8802\">\n",
       "    <rect x=\"37\" y=\"31\" width=\"544\" height=\"345\"/>\n",
       "  </clipPath>\n",
       "</defs>\n",
       "<polyline clip-path=\"url(#clip8802)\" style=\"stroke:#000000; stroke-width:0.5; stroke-opacity:0.1; fill:none\" points=\"\n",
       "  103.636,375.869 103.636,31.4961 \n",
       "  \"/>\n",
       "<polyline clip-path=\"url(#clip8802)\" style=\"stroke:#000000; stroke-width:0.5; stroke-opacity:0.1; fill:none\" points=\"\n",
       "  206.147,375.869 206.147,31.4961 \n",
       "  \"/>\n",
       "<polyline clip-path=\"url(#clip8802)\" style=\"stroke:#000000; stroke-width:0.5; stroke-opacity:0.1; fill:none\" points=\"\n",
       "  308.659,375.869 308.659,31.4961 \n",
       "  \"/>\n",
       "<polyline clip-path=\"url(#clip8802)\" style=\"stroke:#000000; stroke-width:0.5; stroke-opacity:0.1; fill:none\" points=\"\n",
       "  411.171,375.869 411.171,31.4961 \n",
       "  \"/>\n",
       "<polyline clip-path=\"url(#clip8802)\" style=\"stroke:#000000; stroke-width:0.5; stroke-opacity:0.1; fill:none\" points=\"\n",
       "  513.682,375.869 513.682,31.4961 \n",
       "  \"/>\n",
       "<polyline clip-path=\"url(#clip8802)\" style=\"stroke:#000000; stroke-width:0.5; stroke-opacity:0.1; fill:none\" points=\"\n",
       "  37.0032,367.915 580.315,367.915 \n",
       "  \"/>\n",
       "<polyline clip-path=\"url(#clip8802)\" style=\"stroke:#000000; stroke-width:0.5; stroke-opacity:0.1; fill:none\" points=\"\n",
       "  37.0032,277.171 580.315,277.171 \n",
       "  \"/>\n",
       "<polyline clip-path=\"url(#clip8802)\" style=\"stroke:#000000; stroke-width:0.5; stroke-opacity:0.1; fill:none\" points=\"\n",
       "  37.0032,186.427 580.315,186.427 \n",
       "  \"/>\n",
       "<polyline clip-path=\"url(#clip8802)\" style=\"stroke:#000000; stroke-width:0.5; stroke-opacity:0.1; fill:none\" points=\"\n",
       "  37.0032,95.6824 580.315,95.6824 \n",
       "  \"/>\n",
       "<polyline clip-path=\"url(#clip8800)\" style=\"stroke:#000000; stroke-width:1; stroke-opacity:1; fill:none\" points=\"\n",
       "  37.0032,375.869 580.315,375.869 \n",
       "  \"/>\n",
       "<polyline clip-path=\"url(#clip8800)\" style=\"stroke:#000000; stroke-width:1; stroke-opacity:1; fill:none\" points=\"\n",
       "  37.0032,375.869 37.0032,31.4961 \n",
       "  \"/>\n",
       "<polyline clip-path=\"url(#clip8800)\" style=\"stroke:#000000; stroke-width:1; stroke-opacity:1; fill:none\" points=\"\n",
       "  103.636,375.869 103.636,370.703 \n",
       "  \"/>\n",
       "<polyline clip-path=\"url(#clip8800)\" style=\"stroke:#000000; stroke-width:1; stroke-opacity:1; fill:none\" points=\"\n",
       "  206.147,375.869 206.147,370.703 \n",
       "  \"/>\n",
       "<polyline clip-path=\"url(#clip8800)\" style=\"stroke:#000000; stroke-width:1; stroke-opacity:1; fill:none\" points=\"\n",
       "  308.659,375.869 308.659,370.703 \n",
       "  \"/>\n",
       "<polyline clip-path=\"url(#clip8800)\" style=\"stroke:#000000; stroke-width:1; stroke-opacity:1; fill:none\" points=\"\n",
       "  411.171,375.869 411.171,370.703 \n",
       "  \"/>\n",
       "<polyline clip-path=\"url(#clip8800)\" style=\"stroke:#000000; stroke-width:1; stroke-opacity:1; fill:none\" points=\"\n",
       "  513.682,375.869 513.682,370.703 \n",
       "  \"/>\n",
       "<polyline clip-path=\"url(#clip8800)\" style=\"stroke:#000000; stroke-width:1; stroke-opacity:1; fill:none\" points=\"\n",
       "  37.0032,367.915 45.1529,367.915 \n",
       "  \"/>\n",
       "<polyline clip-path=\"url(#clip8800)\" style=\"stroke:#000000; stroke-width:1; stroke-opacity:1; fill:none\" points=\"\n",
       "  37.0032,277.171 45.1529,277.171 \n",
       "  \"/>\n",
       "<polyline clip-path=\"url(#clip8800)\" style=\"stroke:#000000; stroke-width:1; stroke-opacity:1; fill:none\" points=\"\n",
       "  37.0032,186.427 45.1529,186.427 \n",
       "  \"/>\n",
       "<polyline clip-path=\"url(#clip8800)\" style=\"stroke:#000000; stroke-width:1; stroke-opacity:1; fill:none\" points=\"\n",
       "  37.0032,95.6824 45.1529,95.6824 \n",
       "  \"/>\n",
       "<g clip-path=\"url(#clip8800)\">\n",
       "<text style=\"fill:#000000; fill-opacity:1; font-family:Arial,Helvetica Neue,Helvetica,sans-serif; font-size:12; text-anchor:middle;\" transform=\"rotate(0, 103.636, 389.669)\" x=\"103.636\" y=\"389.669\">-4</text>\n",
       "</g>\n",
       "<g clip-path=\"url(#clip8800)\">\n",
       "<text style=\"fill:#000000; fill-opacity:1; font-family:Arial,Helvetica Neue,Helvetica,sans-serif; font-size:12; text-anchor:middle;\" transform=\"rotate(0, 206.147, 389.669)\" x=\"206.147\" y=\"389.669\">-2</text>\n",
       "</g>\n",
       "<g clip-path=\"url(#clip8800)\">\n",
       "<text style=\"fill:#000000; fill-opacity:1; font-family:Arial,Helvetica Neue,Helvetica,sans-serif; font-size:12; text-anchor:middle;\" transform=\"rotate(0, 308.659, 389.669)\" x=\"308.659\" y=\"389.669\">0</text>\n",
       "</g>\n",
       "<g clip-path=\"url(#clip8800)\">\n",
       "<text style=\"fill:#000000; fill-opacity:1; font-family:Arial,Helvetica Neue,Helvetica,sans-serif; font-size:12; text-anchor:middle;\" transform=\"rotate(0, 411.171, 389.669)\" x=\"411.171\" y=\"389.669\">2</text>\n",
       "</g>\n",
       "<g clip-path=\"url(#clip8800)\">\n",
       "<text style=\"fill:#000000; fill-opacity:1; font-family:Arial,Helvetica Neue,Helvetica,sans-serif; font-size:12; text-anchor:middle;\" transform=\"rotate(0, 513.682, 389.669)\" x=\"513.682\" y=\"389.669\">4</text>\n",
       "</g>\n",
       "<g clip-path=\"url(#clip8800)\">\n",
       "<text style=\"fill:#000000; fill-opacity:1; font-family:Arial,Helvetica Neue,Helvetica,sans-serif; font-size:12; text-anchor:end;\" transform=\"rotate(0, 31.0032, 372.415)\" x=\"31.0032\" y=\"372.415\">0</text>\n",
       "</g>\n",
       "<g clip-path=\"url(#clip8800)\">\n",
       "<text style=\"fill:#000000; fill-opacity:1; font-family:Arial,Helvetica Neue,Helvetica,sans-serif; font-size:12; text-anchor:end;\" transform=\"rotate(0, 31.0032, 281.671)\" x=\"31.0032\" y=\"281.671\">5</text>\n",
       "</g>\n",
       "<g clip-path=\"url(#clip8800)\">\n",
       "<text style=\"fill:#000000; fill-opacity:1; font-family:Arial,Helvetica Neue,Helvetica,sans-serif; font-size:12; text-anchor:end;\" transform=\"rotate(0, 31.0032, 190.927)\" x=\"31.0032\" y=\"190.927\">10</text>\n",
       "</g>\n",
       "<g clip-path=\"url(#clip8800)\">\n",
       "<text style=\"fill:#000000; fill-opacity:1; font-family:Arial,Helvetica Neue,Helvetica,sans-serif; font-size:12; text-anchor:end;\" transform=\"rotate(0, 31.0032, 100.182)\" x=\"31.0032\" y=\"100.182\">15</text>\n",
       "</g>\n",
       "<g clip-path=\"url(#clip8800)\">\n",
       "<text style=\"fill:#000000; fill-opacity:1; font-family:Arial,Helvetica Neue,Helvetica,sans-serif; font-size:21; text-anchor:middle;\" transform=\"rotate(0, 308.659, 18)\" x=\"308.659\" y=\"18\">mu2</text>\n",
       "</g>\n",
       "<polyline clip-path=\"url(#clip8802)\" style=\"stroke:#009af9; stroke-width:1; stroke-opacity:1; fill:none\" points=\"\n",
       "  52.38,222.747 109.331,292.183 166.282,339.225 223.233,363.881 280.184,366.122 337.135,345.957 394.085,303.376 451.036,238.407 507.987,151.03 564.938,41.2425 \n",
       "  \n",
       "  \"/>\n",
       "<polygon clip-path=\"url(#clip8800)\" points=\"\n",
       "489.608,82.6161 562.315,82.6161 562.315,52.3761 489.608,52.3761 \n",
       "  \" fill=\"#ffffff\" fill-opacity=\"1\"/>\n",
       "<polyline clip-path=\"url(#clip8800)\" style=\"stroke:#000000; stroke-width:1; stroke-opacity:1; fill:none\" points=\"\n",
       "  489.608,82.6161 562.315,82.6161 562.315,52.3761 489.608,52.3761 489.608,82.6161 \n",
       "  \"/>\n",
       "<polyline clip-path=\"url(#clip8800)\" style=\"stroke:#009af9; stroke-width:1; stroke-opacity:1; fill:none\" points=\"\n",
       "  495.608,67.4961 531.608,67.4961 \n",
       "  \"/>\n",
       "<g clip-path=\"url(#clip8800)\">\n",
       "<text style=\"fill:#000000; fill-opacity:1; font-family:Arial,Helvetica Neue,Helvetica,sans-serif; font-size:12; text-anchor:start;\" transform=\"rotate(0, 537.608, 71.9961)\" x=\"537.608\" y=\"71.9961\">y1</text>\n",
       "</g>\n",
       "</svg>\n"
      ]
     },
     "metadata": {},
     "output_type": "display_data"
    },
    {
     "name": "stdout",
     "output_type": "stream",
     "text": [
      " 18.421054 seconds (12.72 M allocations: 650.406 MiB, 2.39% gc time)\n"
     ]
    },
    {
     "data": {
      "text/plain": [
       "2-element Array{Any,1}:\n",
       " Plot{Plots.GRBackend() n=1}\n",
       " Plot{Plots.GRBackend() n=1}"
      ]
     },
     "execution_count": 16,
     "metadata": {},
     "output_type": "execute_result"
    }
   ],
   "source": [
    "Plots.gr()\n",
    "@time listPlots = smm_slices(myProblem, minimizer, 10)"
   ]
  },
  {
   "cell_type": "markdown",
   "metadata": {},
   "source": [
    "You can combine the several plots created into a single one:"
   ]
  },
  {
   "cell_type": "code",
   "execution_count": 17,
   "metadata": {
    "scrolled": true
   },
   "outputs": [
    {
     "data": {
      "image/svg+xml": [
       "<?xml version=\"1.0\" encoding=\"utf-8\"?>\n",
       "<svg xmlns=\"http://www.w3.org/2000/svg\" xmlns:xlink=\"http://www.w3.org/1999/xlink\" width=\"600\" height=\"400\" viewBox=\"0 0 600 400\">\n",
       "<defs>\n",
       "  <clipPath id=\"clip9000\">\n",
       "    <rect x=\"0\" y=\"0\" width=\"600\" height=\"400\"/>\n",
       "  </clipPath>\n",
       "</defs>\n",
       "<polygon clip-path=\"url(#clip9000)\" points=\"\n",
       "0,400 600,400 600,0 0,0 \n",
       "  \" fill=\"#ffffff\" fill-opacity=\"1\"/>\n",
       "<defs>\n",
       "  <clipPath id=\"clip9001\">\n",
       "    <rect x=\"120\" y=\"0\" width=\"421\" height=\"400\"/>\n",
       "  </clipPath>\n",
       "</defs>\n",
       "<polygon clip-path=\"url(#clip9000)\" points=\"\n",
       "37.0032,375.869 280.315,375.869 280.315,31.4961 37.0032,31.4961 \n",
       "  \" fill=\"#ffffff\" fill-opacity=\"1\"/>\n",
       "<defs>\n",
       "  <clipPath id=\"clip9002\">\n",
       "    <rect x=\"37\" y=\"31\" width=\"244\" height=\"345\"/>\n",
       "  </clipPath>\n",
       "</defs>\n",
       "<polyline clip-path=\"url(#clip9002)\" style=\"stroke:#000000; stroke-width:0.5; stroke-opacity:0.1; fill:none\" points=\"\n",
       "  66.8433,375.869 66.8433,31.4961 \n",
       "  \"/>\n",
       "<polyline clip-path=\"url(#clip9002)\" style=\"stroke:#000000; stroke-width:0.5; stroke-opacity:0.1; fill:none\" points=\"\n",
       "  112.751,375.869 112.751,31.4961 \n",
       "  \"/>\n",
       "<polyline clip-path=\"url(#clip9002)\" style=\"stroke:#000000; stroke-width:0.5; stroke-opacity:0.1; fill:none\" points=\"\n",
       "  158.659,375.869 158.659,31.4961 \n",
       "  \"/>\n",
       "<polyline clip-path=\"url(#clip9002)\" style=\"stroke:#000000; stroke-width:0.5; stroke-opacity:0.1; fill:none\" points=\"\n",
       "  204.567,375.869 204.567,31.4961 \n",
       "  \"/>\n",
       "<polyline clip-path=\"url(#clip9002)\" style=\"stroke:#000000; stroke-width:0.5; stroke-opacity:0.1; fill:none\" points=\"\n",
       "  250.475,375.869 250.475,31.4961 \n",
       "  \"/>\n",
       "<polyline clip-path=\"url(#clip9002)\" style=\"stroke:#000000; stroke-width:0.5; stroke-opacity:0.1; fill:none\" points=\"\n",
       "  37.0032,367.916 280.315,367.916 \n",
       "  \"/>\n",
       "<polyline clip-path=\"url(#clip9002)\" style=\"stroke:#000000; stroke-width:0.5; stroke-opacity:0.1; fill:none\" points=\"\n",
       "  37.0032,277.161 280.315,277.161 \n",
       "  \"/>\n",
       "<polyline clip-path=\"url(#clip9002)\" style=\"stroke:#000000; stroke-width:0.5; stroke-opacity:0.1; fill:none\" points=\"\n",
       "  37.0032,186.406 280.315,186.406 \n",
       "  \"/>\n",
       "<polyline clip-path=\"url(#clip9002)\" style=\"stroke:#000000; stroke-width:0.5; stroke-opacity:0.1; fill:none\" points=\"\n",
       "  37.0032,95.6503 280.315,95.6503 \n",
       "  \"/>\n",
       "<polyline clip-path=\"url(#clip9000)\" style=\"stroke:#000000; stroke-width:1; stroke-opacity:1; fill:none\" points=\"\n",
       "  37.0032,375.869 280.315,375.869 \n",
       "  \"/>\n",
       "<polyline clip-path=\"url(#clip9000)\" style=\"stroke:#000000; stroke-width:1; stroke-opacity:1; fill:none\" points=\"\n",
       "  37.0032,375.869 37.0032,31.4961 \n",
       "  \"/>\n",
       "<polyline clip-path=\"url(#clip9000)\" style=\"stroke:#000000; stroke-width:1; stroke-opacity:1; fill:none\" points=\"\n",
       "  66.8433,375.869 66.8433,370.703 \n",
       "  \"/>\n",
       "<polyline clip-path=\"url(#clip9000)\" style=\"stroke:#000000; stroke-width:1; stroke-opacity:1; fill:none\" points=\"\n",
       "  112.751,375.869 112.751,370.703 \n",
       "  \"/>\n",
       "<polyline clip-path=\"url(#clip9000)\" style=\"stroke:#000000; stroke-width:1; stroke-opacity:1; fill:none\" points=\"\n",
       "  158.659,375.869 158.659,370.703 \n",
       "  \"/>\n",
       "<polyline clip-path=\"url(#clip9000)\" style=\"stroke:#000000; stroke-width:1; stroke-opacity:1; fill:none\" points=\"\n",
       "  204.567,375.869 204.567,370.703 \n",
       "  \"/>\n",
       "<polyline clip-path=\"url(#clip9000)\" style=\"stroke:#000000; stroke-width:1; stroke-opacity:1; fill:none\" points=\"\n",
       "  250.475,375.869 250.475,370.703 \n",
       "  \"/>\n",
       "<polyline clip-path=\"url(#clip9000)\" style=\"stroke:#000000; stroke-width:1; stroke-opacity:1; fill:none\" points=\"\n",
       "  37.0032,367.916 40.6529,367.916 \n",
       "  \"/>\n",
       "<polyline clip-path=\"url(#clip9000)\" style=\"stroke:#000000; stroke-width:1; stroke-opacity:1; fill:none\" points=\"\n",
       "  37.0032,277.161 40.6529,277.161 \n",
       "  \"/>\n",
       "<polyline clip-path=\"url(#clip9000)\" style=\"stroke:#000000; stroke-width:1; stroke-opacity:1; fill:none\" points=\"\n",
       "  37.0032,186.406 40.6529,186.406 \n",
       "  \"/>\n",
       "<polyline clip-path=\"url(#clip9000)\" style=\"stroke:#000000; stroke-width:1; stroke-opacity:1; fill:none\" points=\"\n",
       "  37.0032,95.6503 40.6529,95.6503 \n",
       "  \"/>\n",
       "<g clip-path=\"url(#clip9000)\">\n",
       "<text style=\"fill:#000000; fill-opacity:1; font-family:Arial,Helvetica Neue,Helvetica,sans-serif; font-size:12; text-anchor:middle;\" transform=\"rotate(0, 66.8433, 389.669)\" x=\"66.8433\" y=\"389.669\">-4</text>\n",
       "</g>\n",
       "<g clip-path=\"url(#clip9000)\">\n",
       "<text style=\"fill:#000000; fill-opacity:1; font-family:Arial,Helvetica Neue,Helvetica,sans-serif; font-size:12; text-anchor:middle;\" transform=\"rotate(0, 112.751, 389.669)\" x=\"112.751\" y=\"389.669\">-2</text>\n",
       "</g>\n",
       "<g clip-path=\"url(#clip9000)\">\n",
       "<text style=\"fill:#000000; fill-opacity:1; font-family:Arial,Helvetica Neue,Helvetica,sans-serif; font-size:12; text-anchor:middle;\" transform=\"rotate(0, 158.659, 389.669)\" x=\"158.659\" y=\"389.669\">0</text>\n",
       "</g>\n",
       "<g clip-path=\"url(#clip9000)\">\n",
       "<text style=\"fill:#000000; fill-opacity:1; font-family:Arial,Helvetica Neue,Helvetica,sans-serif; font-size:12; text-anchor:middle;\" transform=\"rotate(0, 204.567, 389.669)\" x=\"204.567\" y=\"389.669\">2</text>\n",
       "</g>\n",
       "<g clip-path=\"url(#clip9000)\">\n",
       "<text style=\"fill:#000000; fill-opacity:1; font-family:Arial,Helvetica Neue,Helvetica,sans-serif; font-size:12; text-anchor:middle;\" transform=\"rotate(0, 250.475, 389.669)\" x=\"250.475\" y=\"389.669\">4</text>\n",
       "</g>\n",
       "<g clip-path=\"url(#clip9000)\">\n",
       "<text style=\"fill:#000000; fill-opacity:1; font-family:Arial,Helvetica Neue,Helvetica,sans-serif; font-size:12; text-anchor:end;\" transform=\"rotate(0, 31.0032, 372.416)\" x=\"31.0032\" y=\"372.416\">0</text>\n",
       "</g>\n",
       "<g clip-path=\"url(#clip9000)\">\n",
       "<text style=\"fill:#000000; fill-opacity:1; font-family:Arial,Helvetica Neue,Helvetica,sans-serif; font-size:12; text-anchor:end;\" transform=\"rotate(0, 31.0032, 281.661)\" x=\"31.0032\" y=\"281.661\">5</text>\n",
       "</g>\n",
       "<g clip-path=\"url(#clip9000)\">\n",
       "<text style=\"fill:#000000; fill-opacity:1; font-family:Arial,Helvetica Neue,Helvetica,sans-serif; font-size:12; text-anchor:end;\" transform=\"rotate(0, 31.0032, 190.906)\" x=\"31.0032\" y=\"190.906\">10</text>\n",
       "</g>\n",
       "<g clip-path=\"url(#clip9000)\">\n",
       "<text style=\"fill:#000000; fill-opacity:1; font-family:Arial,Helvetica Neue,Helvetica,sans-serif; font-size:12; text-anchor:end;\" transform=\"rotate(0, 31.0032, 100.15)\" x=\"31.0032\" y=\"100.15\">15</text>\n",
       "</g>\n",
       "<g clip-path=\"url(#clip9000)\">\n",
       "<text style=\"fill:#000000; fill-opacity:1; font-family:Arial,Helvetica Neue,Helvetica,sans-serif; font-size:21; text-anchor:middle;\" transform=\"rotate(0, 158.659, 18)\" x=\"158.659\" y=\"18\">mu1</text>\n",
       "</g>\n",
       "<polyline clip-path=\"url(#clip9002)\" style=\"stroke:#009af9; stroke-width:1; stroke-opacity:1; fill:none\" points=\"\n",
       "  43.8894,41.2425 69.3938,151.008 94.8981,238.372 120.403,303.393 145.907,345.957 171.411,366.122 196.916,363.886 222.42,339.223 247.924,292.162 273.429,222.728 \n",
       "  \n",
       "  \"/>\n",
       "<polygon clip-path=\"url(#clip9000)\" points=\"\n",
       "337.003,375.869 580.315,375.869 580.315,31.4961 337.003,31.4961 \n",
       "  \" fill=\"#ffffff\" fill-opacity=\"1\"/>\n",
       "<defs>\n",
       "  <clipPath id=\"clip9003\">\n",
       "    <rect x=\"337\" y=\"31\" width=\"244\" height=\"345\"/>\n",
       "  </clipPath>\n",
       "</defs>\n",
       "<polyline clip-path=\"url(#clip9003)\" style=\"stroke:#000000; stroke-width:0.5; stroke-opacity:0.1; fill:none\" points=\"\n",
       "  366.843,375.869 366.843,31.4961 \n",
       "  \"/>\n",
       "<polyline clip-path=\"url(#clip9003)\" style=\"stroke:#000000; stroke-width:0.5; stroke-opacity:0.1; fill:none\" points=\"\n",
       "  412.751,375.869 412.751,31.4961 \n",
       "  \"/>\n",
       "<polyline clip-path=\"url(#clip9003)\" style=\"stroke:#000000; stroke-width:0.5; stroke-opacity:0.1; fill:none\" points=\"\n",
       "  458.659,375.869 458.659,31.4961 \n",
       "  \"/>\n",
       "<polyline clip-path=\"url(#clip9003)\" style=\"stroke:#000000; stroke-width:0.5; stroke-opacity:0.1; fill:none\" points=\"\n",
       "  504.567,375.869 504.567,31.4961 \n",
       "  \"/>\n",
       "<polyline clip-path=\"url(#clip9003)\" style=\"stroke:#000000; stroke-width:0.5; stroke-opacity:0.1; fill:none\" points=\"\n",
       "  550.475,375.869 550.475,31.4961 \n",
       "  \"/>\n",
       "<polyline clip-path=\"url(#clip9003)\" style=\"stroke:#000000; stroke-width:0.5; stroke-opacity:0.1; fill:none\" points=\"\n",
       "  337.003,367.915 580.315,367.915 \n",
       "  \"/>\n",
       "<polyline clip-path=\"url(#clip9003)\" style=\"stroke:#000000; stroke-width:0.5; stroke-opacity:0.1; fill:none\" points=\"\n",
       "  337.003,277.171 580.315,277.171 \n",
       "  \"/>\n",
       "<polyline clip-path=\"url(#clip9003)\" style=\"stroke:#000000; stroke-width:0.5; stroke-opacity:0.1; fill:none\" points=\"\n",
       "  337.003,186.427 580.315,186.427 \n",
       "  \"/>\n",
       "<polyline clip-path=\"url(#clip9003)\" style=\"stroke:#000000; stroke-width:0.5; stroke-opacity:0.1; fill:none\" points=\"\n",
       "  337.003,95.6824 580.315,95.6824 \n",
       "  \"/>\n",
       "<polyline clip-path=\"url(#clip9000)\" style=\"stroke:#000000; stroke-width:1; stroke-opacity:1; fill:none\" points=\"\n",
       "  337.003,375.869 580.315,375.869 \n",
       "  \"/>\n",
       "<polyline clip-path=\"url(#clip9000)\" style=\"stroke:#000000; stroke-width:1; stroke-opacity:1; fill:none\" points=\"\n",
       "  337.003,375.869 337.003,31.4961 \n",
       "  \"/>\n",
       "<polyline clip-path=\"url(#clip9000)\" style=\"stroke:#000000; stroke-width:1; stroke-opacity:1; fill:none\" points=\"\n",
       "  366.843,375.869 366.843,370.703 \n",
       "  \"/>\n",
       "<polyline clip-path=\"url(#clip9000)\" style=\"stroke:#000000; stroke-width:1; stroke-opacity:1; fill:none\" points=\"\n",
       "  412.751,375.869 412.751,370.703 \n",
       "  \"/>\n",
       "<polyline clip-path=\"url(#clip9000)\" style=\"stroke:#000000; stroke-width:1; stroke-opacity:1; fill:none\" points=\"\n",
       "  458.659,375.869 458.659,370.703 \n",
       "  \"/>\n",
       "<polyline clip-path=\"url(#clip9000)\" style=\"stroke:#000000; stroke-width:1; stroke-opacity:1; fill:none\" points=\"\n",
       "  504.567,375.869 504.567,370.703 \n",
       "  \"/>\n",
       "<polyline clip-path=\"url(#clip9000)\" style=\"stroke:#000000; stroke-width:1; stroke-opacity:1; fill:none\" points=\"\n",
       "  550.475,375.869 550.475,370.703 \n",
       "  \"/>\n",
       "<polyline clip-path=\"url(#clip9000)\" style=\"stroke:#000000; stroke-width:1; stroke-opacity:1; fill:none\" points=\"\n",
       "  337.003,367.915 340.653,367.915 \n",
       "  \"/>\n",
       "<polyline clip-path=\"url(#clip9000)\" style=\"stroke:#000000; stroke-width:1; stroke-opacity:1; fill:none\" points=\"\n",
       "  337.003,277.171 340.653,277.171 \n",
       "  \"/>\n",
       "<polyline clip-path=\"url(#clip9000)\" style=\"stroke:#000000; stroke-width:1; stroke-opacity:1; fill:none\" points=\"\n",
       "  337.003,186.427 340.653,186.427 \n",
       "  \"/>\n",
       "<polyline clip-path=\"url(#clip9000)\" style=\"stroke:#000000; stroke-width:1; stroke-opacity:1; fill:none\" points=\"\n",
       "  337.003,95.6824 340.653,95.6824 \n",
       "  \"/>\n",
       "<g clip-path=\"url(#clip9000)\">\n",
       "<text style=\"fill:#000000; fill-opacity:1; font-family:Arial,Helvetica Neue,Helvetica,sans-serif; font-size:12; text-anchor:middle;\" transform=\"rotate(0, 366.843, 389.669)\" x=\"366.843\" y=\"389.669\">-4</text>\n",
       "</g>\n",
       "<g clip-path=\"url(#clip9000)\">\n",
       "<text style=\"fill:#000000; fill-opacity:1; font-family:Arial,Helvetica Neue,Helvetica,sans-serif; font-size:12; text-anchor:middle;\" transform=\"rotate(0, 412.751, 389.669)\" x=\"412.751\" y=\"389.669\">-2</text>\n",
       "</g>\n",
       "<g clip-path=\"url(#clip9000)\">\n",
       "<text style=\"fill:#000000; fill-opacity:1; font-family:Arial,Helvetica Neue,Helvetica,sans-serif; font-size:12; text-anchor:middle;\" transform=\"rotate(0, 458.659, 389.669)\" x=\"458.659\" y=\"389.669\">0</text>\n",
       "</g>\n",
       "<g clip-path=\"url(#clip9000)\">\n",
       "<text style=\"fill:#000000; fill-opacity:1; font-family:Arial,Helvetica Neue,Helvetica,sans-serif; font-size:12; text-anchor:middle;\" transform=\"rotate(0, 504.567, 389.669)\" x=\"504.567\" y=\"389.669\">2</text>\n",
       "</g>\n",
       "<g clip-path=\"url(#clip9000)\">\n",
       "<text style=\"fill:#000000; fill-opacity:1; font-family:Arial,Helvetica Neue,Helvetica,sans-serif; font-size:12; text-anchor:middle;\" transform=\"rotate(0, 550.475, 389.669)\" x=\"550.475\" y=\"389.669\">4</text>\n",
       "</g>\n",
       "<g clip-path=\"url(#clip9000)\">\n",
       "<text style=\"fill:#000000; fill-opacity:1; font-family:Arial,Helvetica Neue,Helvetica,sans-serif; font-size:12; text-anchor:end;\" transform=\"rotate(0, 331.003, 372.415)\" x=\"331.003\" y=\"372.415\">0</text>\n",
       "</g>\n",
       "<g clip-path=\"url(#clip9000)\">\n",
       "<text style=\"fill:#000000; fill-opacity:1; font-family:Arial,Helvetica Neue,Helvetica,sans-serif; font-size:12; text-anchor:end;\" transform=\"rotate(0, 331.003, 281.671)\" x=\"331.003\" y=\"281.671\">5</text>\n",
       "</g>\n",
       "<g clip-path=\"url(#clip9000)\">\n",
       "<text style=\"fill:#000000; fill-opacity:1; font-family:Arial,Helvetica Neue,Helvetica,sans-serif; font-size:12; text-anchor:end;\" transform=\"rotate(0, 331.003, 190.927)\" x=\"331.003\" y=\"190.927\">10</text>\n",
       "</g>\n",
       "<g clip-path=\"url(#clip9000)\">\n",
       "<text style=\"fill:#000000; fill-opacity:1; font-family:Arial,Helvetica Neue,Helvetica,sans-serif; font-size:12; text-anchor:end;\" transform=\"rotate(0, 331.003, 100.182)\" x=\"331.003\" y=\"100.182\">15</text>\n",
       "</g>\n",
       "<g clip-path=\"url(#clip9000)\">\n",
       "<text style=\"fill:#000000; fill-opacity:1; font-family:Arial,Helvetica Neue,Helvetica,sans-serif; font-size:21; text-anchor:middle;\" transform=\"rotate(0, 458.659, 18)\" x=\"458.659\" y=\"18\">mu2</text>\n",
       "</g>\n",
       "<polyline clip-path=\"url(#clip9003)\" style=\"stroke:#009af9; stroke-width:1; stroke-opacity:1; fill:none\" points=\"\n",
       "  343.889,222.747 369.394,292.183 394.898,339.225 420.403,363.881 445.907,366.122 471.411,345.957 496.916,303.376 522.42,238.407 547.924,151.03 573.429,41.2425 \n",
       "  \n",
       "  \"/>\n",
       "</svg>\n"
      ]
     },
     "execution_count": 17,
     "metadata": {},
     "output_type": "execute_result"
    }
   ],
   "source": [
    "Plots.plot(listPlots[1], listPlots[2], leg = false)"
   ]
  }
 ],
 "metadata": {
  "kernelspec": {
   "display_name": "Julia 0.6.3",
   "language": "julia",
   "name": "julia-0.6"
  },
  "language_info": {
   "file_extension": ".jl",
   "mimetype": "application/julia",
   "name": "julia",
   "version": "0.6.3"
  }
 },
 "nbformat": 4,
 "nbformat_minor": 2
}
