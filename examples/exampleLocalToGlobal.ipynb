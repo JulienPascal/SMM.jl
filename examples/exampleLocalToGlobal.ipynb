{
 "cells": [
  {
   "cell_type": "markdown",
   "metadata": {},
   "source": [
    "# Example Notebook : Local-to-Global Algorithm\n",
    "\n",
    "This notebook shows the estimation of the parameters of 1-d AR(1) process:\n",
    "\n",
    "$$ z_{t} = \\delta + \\rho z_{t-1} + \\sigma e_{t} $$\n",
    "\n",
    "We know that :\n",
    "* the mean of $\\{z_t\\}$ is $\\frac{\\delta}{1 - \\rho}$\n",
    "* its variance is $\\frac{\\sigma^2}{1 - \\rho^2}$\n",
    "* its first order autocorrelation is $\\rho$\n",
    "\n",
    "The econometrician observes the following empirical moments:\n",
    "* empirical mean of $z_{t} = 1.0$\n",
    "* empirical variance of $z_{t} = 5.0$\n",
    "* empirical autocorrelation of $z_{t} = \\sqrt{0.8}$\n",
    "\n",
    "The SMM estimated values should be very close to:\n",
    "* $\\hat{delta} = 1 - \\rho \\approx 0.1055$\n",
    "* $\\hat{rho} = \\sqrt{0.8} \\approx 0.8944 $\n",
    "* $\\hat{sigma} = \\sqrt{(1.0 - \\rho^2) \\times \\text{empirical variance of } z_t } = 1$\n",
    "\n",
    "## What is Local-to-Global Algorithm ?\n",
    "\n",
    "The package [Optim.jl](https://github.com/JuliaNLSolvers/Optim.jl) offers high quality implementations of several local minimization algorithms. Under some regularity conditions, these algorithms converge to a **local** minimum of the objective function. The local-to-global algorithm is a heuristic approach, which amounts to starting several local minimization procedures in parallel, and to take **the minimum of the local minima**. "
   ]
  },
  {
   "cell_type": "code",
   "execution_count": 1,
   "metadata": {
    "collapsed": true,
    "scrolled": true
   },
   "outputs": [],
   "source": [
    "addprocs(2)\n",
    "@everywhere using SMM\n",
    "@everywhere using Distributions\n",
    "@everywhere using DataStructures\n",
    "\n",
    "# Because of this issue (https://github.com/JuliaIO/JLD2.jl/issues/107)\n",
    "# you also need to import BlackBoxOptim to save and load\n",
    "#----------------------------------------------------------------------\n",
    "if VERSION > v\"0.6.4\"\n",
    "    using BlackBoxOptim\n",
    "end"
   ]
  },
  {
   "cell_type": "code",
   "execution_count": 2,
   "metadata": {},
   "outputs": [
    {
     "data": {
      "text/plain": [
       "2-element Array{Int64,1}:\n",
       " 2\n",
       " 3"
      ]
     },
     "execution_count": 2,
     "metadata": {},
     "output_type": "execute_result"
    }
   ],
   "source": [
    "workers()"
   ]
  },
  {
   "cell_type": "markdown",
   "metadata": {},
   "source": [
    "## Step 1: Initializing a SMMProblem"
   ]
  },
  {
   "cell_type": "markdown",
   "metadata": {},
   "source": [
    "Here, we specify that we want to run several `LBFGS` algorithms in parallel, with different starting values.\n",
    "By defaults, `n` different starting values will be generated, with `n` equal to the number of available workers.\n",
    "The number of iterations for each worker is given via the input `maxFuncEvals`. When using a local algorithm, the upper and lower bounds defined in the priors are not enforced. To make them binding, set the option `minBox = true`"
   ]
  },
  {
   "cell_type": "code",
   "execution_count": 3,
   "metadata": {
    "scrolled": false
   },
   "outputs": [
    {
     "name": "stderr",
     "output_type": "stream",
     "text": [
      "\u001b[1m\u001b[36mINFO: \u001b[39m\u001b[22m\u001b[36mWARNING. When maxFuncEvals/saveSteps < 6 using BlackBoxOptim, the performance\n",
      "\t\t\t\t\t\tof the global maximizer may deteriorate.\n",
      "\u001b[39m"
     ]
    }
   ],
   "source": [
    "myProblem = SMMProblem(options = SMMOptions(maxFuncEvals=500, localOptimizer = :LBFGS, minBox = true));"
   ]
  },
  {
   "cell_type": "markdown",
   "metadata": {},
   "source": [
    "## Step 2: Set emprical moments"
   ]
  },
  {
   "cell_type": "code",
   "execution_count": 4,
   "metadata": {
    "scrolled": true
   },
   "outputs": [
    {
     "data": {
      "text/plain": [
       "2-element Array{Float64,1}:\n",
       " 0.894427\n",
       " 0.894427"
      ]
     },
     "execution_count": 4,
     "metadata": {},
     "output_type": "execute_result"
    }
   ],
   "source": [
    "dictEmpiricalMoments = OrderedDict{String,Array{Float64,1}}()\n",
    "dictEmpiricalMoments[\"mean\"] = [1.0; 1.0]\n",
    "dictEmpiricalMoments[\"variance\"] = [5.0; 5.0]\n",
    "dictEmpiricalMoments[\"autocorr\"] = [sqrt(0.8); sqrt(0.8)]"
   ]
  },
  {
   "cell_type": "code",
   "execution_count": 5,
   "metadata": {
    "scrolled": true
   },
   "outputs": [
    {
     "data": {
      "text/plain": [
       "DataStructures.OrderedDict{String,Array{Float64,1}} with 3 entries:\n",
       "  \"mean\"     => [1.0, 1.0]\n",
       "  \"variance\" => [5.0, 5.0]\n",
       "  \"autocorr\" => [0.894427, 0.894427]"
      ]
     },
     "execution_count": 5,
     "metadata": {},
     "output_type": "execute_result"
    }
   ],
   "source": [
    "set_empirical_moments!(myProblem, dictEmpiricalMoments)"
   ]
  },
  {
   "cell_type": "markdown",
   "metadata": {},
   "source": [
    "## Step 3. Set priors"
   ]
  },
  {
   "cell_type": "code",
   "execution_count": 6,
   "metadata": {
    "scrolled": true
   },
   "outputs": [
    {
     "data": {
      "text/plain": [
       "3-element Array{Float64,1}:\n",
       " 1.0 \n",
       " 0.01\n",
       " 2.0 "
      ]
     },
     "execution_count": 6,
     "metadata": {},
     "output_type": "execute_result"
    }
   ],
   "source": [
    "dictPriors = OrderedDict{String,Array{Float64,1}}()\n",
    "dictPriors[\"delta\"] = [0., -5.0, 5.0]\n",
    "dictPriors[\"rho\"] = [0., 0.01, 0.95]\n",
    "dictPriors[\"sigma\"] = [1., 0.01, 2.0]"
   ]
  },
  {
   "cell_type": "markdown",
   "metadata": {},
   "source": [
    "One has to attach priors values the `SMMProblem` we are going to use.\n",
    "This is achieved using the function  `set_priors!()`"
   ]
  },
  {
   "cell_type": "code",
   "execution_count": 7,
   "metadata": {
    "scrolled": true
   },
   "outputs": [
    {
     "data": {
      "text/plain": [
       "DataStructures.OrderedDict{String,Array{Float64,1}} with 3 entries:\n",
       "  \"delta\" => [0.0, -5.0, 5.0]\n",
       "  \"rho\"   => [0.0, 0.01, 0.95]\n",
       "  \"sigma\" => [1.0, 0.01, 2.0]"
      ]
     },
     "execution_count": 7,
     "metadata": {},
     "output_type": "execute_result"
    }
   ],
   "source": [
    "set_priors!(myProblem, dictPriors)"
   ]
  },
  {
   "cell_type": "markdown",
   "metadata": {},
   "source": [
    "## Step 4: Specifying the function generating simulated moments using parameter values\n",
    "\n",
    "This function has three constraints:\n",
    "* it should take as an argument a vector (the vector of parameters)\n",
    "* it should return an OrderedDict containing the same moments as the ones contained in the OrderedDict \n",
    "containing empirical moments (`dictEmpiricalMoments`)\n",
    "* it should be preceded by `@everywhere`, as we are running the estimation in parallel\n",
    "\n",
    "In this example, we simulate draws from a mutlivariate normal with unit variance:"
   ]
  },
  {
   "cell_type": "code",
   "execution_count": 8,
   "metadata": {
    "collapsed": true
   },
   "outputs": [],
   "source": [
    "# x[1] corresponds to delta\n",
    "# x[1] corresponds to rho\n",
    "# x[3] corresponds to sigma\n",
    "@everywhere function functionAR1(x; nbDraws::Int64 = 1000000, burnInPerc::Int64 = 10)\n",
    "\n",
    "    # Draw from standard normal:\n",
    "    #--------------------------\n",
    "    d = Normal()\n",
    "    \n",
    "    # When using BlackBoxOptim, it is really a bad idea to \"keep random constant\" using srand, \n",
    "    # as it will interfer with the minimization algorithm. \n",
    "    #\n",
    "    # But here, if we use one of the deterministic algorithms of Optim, it is OK. \n",
    "    # Actually, it improves a lot the convergence of deterministic algorithms.\n",
    "    # (try commenting out srand)\n",
    "    #-------------------------------------------------------------\n",
    "    srand(1234)\n",
    "    StdNormalDraws = rand(d, nbDraws)\n",
    "    \n",
    "    # Construct the AR(1) process:\n",
    "    #-----------------------------\n",
    "    seriesAR1 = zeros(StdNormalDraws)\n",
    "    \n",
    "    for t = 2:nbDraws\n",
    "        seriesAR1[t] = x[1] + x[2]*seriesAR1[t-1] + x[3]*StdNormalDraws[t]\n",
    "    end\n",
    "    \n",
    "    # Get rid of the burn-in phase:\n",
    "    #------------------------------\n",
    "    startT = div(nbDraws, burnInPerc)\n",
    "    \n",
    "    # Moments:\n",
    "    #---------\n",
    "    output = OrderedDict{String,Float64}()\n",
    "    output[\"mean\"] = mean(seriesAR1[startT:nbDraws])\n",
    "    output[\"variance\"] = var(seriesAR1[startT:nbDraws])\n",
    "    output[\"autocorr\"] = StatsBase.autocor(seriesAR1[startT:nbDraws], [1])[]\n",
    "\n",
    "    return output\n",
    "end"
   ]
  },
  {
   "cell_type": "code",
   "execution_count": 9,
   "metadata": {},
   "outputs": [
    {
     "data": {
      "text/plain": [
       "DataStructures.OrderedDict{String,Float64} with 3 entries:\n",
       "  \"mean\"     => 1.00975\n",
       "  \"variance\" => 5.04215\n",
       "  \"autocorr\" => 0.895567"
      ]
     },
     "execution_count": 9,
     "metadata": {},
     "output_type": "execute_result"
    }
   ],
   "source": [
    "functionAR1([1- sqrt(0.8); sqrt(0.8); 1.0])"
   ]
  },
  {
   "cell_type": "code",
   "execution_count": 10,
   "metadata": {},
   "outputs": [
    {
     "data": {
      "text/plain": [
       "functionAR1 (generic function with 1 method)"
      ]
     },
     "execution_count": 10,
     "metadata": {},
     "output_type": "execute_result"
    }
   ],
   "source": [
    "set_simulate_empirical_moments!(myProblem, functionAR1)"
   ]
  },
  {
   "cell_type": "markdown",
   "metadata": {},
   "source": [
    "## Step 5. Constructing the objective function"
   ]
  },
  {
   "cell_type": "code",
   "execution_count": 11,
   "metadata": {},
   "outputs": [
    {
     "data": {
      "text/plain": [
       "(::objective_function_percent) (generic function with 1 method)"
      ]
     },
     "execution_count": 11,
     "metadata": {},
     "output_type": "execute_result"
    }
   ],
   "source": [
    "# Construct the objective function using: \n",
    "#* the function: parameter -> simulated moments\n",
    "#* emprical moments values\n",
    "#* emprical moments weights\n",
    "construct_objective_function!(myProblem)"
   ]
  },
  {
   "cell_type": "markdown",
   "metadata": {},
   "source": [
    "## Step 6. Running the optimization"
   ]
  },
  {
   "cell_type": "markdown",
   "metadata": {},
   "source": [
    "The function local_to_global! modifies `sMMProblem.optimResults`.\n",
    "But it also return a list of Optim results."
   ]
  },
  {
   "cell_type": "code",
   "execution_count": 12,
   "metadata": {
    "scrolled": true
   },
   "outputs": [
    {
     "name": "stderr",
     "output_type": "stream",
     "text": [
      "\u001b[1m\u001b[36mINFO: \u001b[39m\u001b[22m\u001b[36mSearching for 2 valid starting values\n",
      "\u001b[39m\u001b[1m\u001b[36mINFO: \u001b[39m\u001b[22m\u001b[36mCreating 1000 potential grids\n",
      "\u001b[39m\u001b[1m\u001b[36mINFO: \u001b[39m\u001b[22m\u001b[36mValid starting value = [0.287633, 0.138301, 1.8502]\n",
      "\u001b[39m\u001b[1m\u001b[36mINFO: \u001b[39m\u001b[22m\u001b[36mValid starting value = [3.05529, 0.489225, 1.87591]\n",
      "\u001b[39m\u001b[1m\u001b[36mINFO: \u001b[39m\u001b[22m\u001b[36mFound 2 valid starting values\n",
      "\u001b[39mINFO: Starting value = [3.05529, 0.489225, 1.87591]\n",
      "INFO: Using Fminbox = true\n",
      "INFO: Starting value = [0.287633, 0.138301, 1.8502]\n",
      "INFO: Using Fminbox = true\n"
     ]
    },
    {
     "data": {
      "text/plain": [
       "2-element Array{Any,1}:\n",
       " Results of Optimization Algorithm\n",
       " * Algorithm: Fminbox with L-BFGS\n",
       " * Starting Point: [0.28763322460521756,0.13830136532866744, ...]\n",
       " * Minimizer: [0.10568799733289568,0.8932816288377883, ...]\n",
       " * Minimum: 9.516550e-16\n",
       " * Iterations: 3\n",
       " * Convergence: true\n",
       "   * |x - x'| ≤ 1.0e-32: false \n",
       "     |x - x'| = 8.47e-06 \n",
       "   * |f(x) - f(x')| ≤ 1.0e-32 |f(x)|: false\n",
       "     |f(x) - f(x')| = 1.50e+03 |f(x)|\n",
       "   * |g(x)| ≤ 1.0e-08: true \n",
       "     |g(x)| = 5.68e-10 \n",
       "   * Stopped by an increasing objective: false\n",
       "   * Reached Maximum Number of Iterations: false\n",
       " * Objective Calls: 70\n",
       " * Gradient Calls: 70\n",
       " Results of Optimization Algorithm\n",
       " * Algorithm: Fminbox with L-BFGS\n",
       " * Starting Point: [3.055293517076505,0.48922504917870063, ...]\n",
       " * Minimizer: [0.10568799561217694,0.8932816305568227, ...]\n",
       " * Minimum: 8.847267e-16\n",
       " * Iterations: 4\n",
       " * Convergence: true\n",
       "   * |x - x'| ≤ 1.0e-32: false \n",
       "     |x - x'| = 3.14e-07 \n",
       "   * |f(x) - f(x')| ≤ 1.0e-32 |f(x)|: false\n",
       "     |f(x) - f(x')| = 5.01e+00 |f(x)|\n",
       "   * |g(x)| ≤ 1.0e-08: true \n",
       "     |g(x)| = 5.28e-11 \n",
       "   * Stopped by an increasing objective: false\n",
       "   * Reached Maximum Number of Iterations: false\n",
       " * Objective Calls: 143\n",
       " * Gradient Calls: 143"
      ]
     },
     "execution_count": 12,
     "metadata": {},
     "output_type": "execute_result"
    },
    {
     "name": "stderr",
     "output_type": "stream",
     "text": [
      "\u001b[1m\u001b[36mINFO: \u001b[39m\u001b[22m\u001b[36mConvergence reached for 2 worker(s).\n",
      "\u001b[39m\u001b[1m\u001b[36mINFO: \u001b[39m\u001b[22m\u001b[36mMinimum value found with worker 2\n",
      "\u001b[39m\u001b[1m\u001b[36mINFO: \u001b[39m\u001b[22m\u001b[36mBest value found with starting values = [3.05529, 0.489225, 1.87591].\n",
      "\u001b[39m\u001b[1m\u001b[36mINFO: \u001b[39m\u001b[22m\u001b[36mBest value = 8.847266882545711e-16.\n",
      "\u001b[39m\u001b[1m\u001b[36mINFO: \u001b[39m\u001b[22m\u001b[36mMinimizer = [0.105688, 0.893282, 1.00093]\n",
      "\u001b[39m"
     ]
    }
   ],
   "source": [
    "listOptimResults = local_to_global!(myProblem, verbose = true)"
   ]
  },
  {
   "cell_type": "markdown",
   "metadata": {},
   "source": [
    "## Step 7. Analysing Results\n",
    "\n",
    "### A. Point estimates"
   ]
  },
  {
   "cell_type": "markdown",
   "metadata": {},
   "source": [
    "#### Minimum value"
   ]
  },
  {
   "cell_type": "code",
   "execution_count": 13,
   "metadata": {},
   "outputs": [
    {
     "data": {
      "text/html": [
       "8.847266882545711e-16"
      ],
      "text/plain": [
       "8.847266882545711e-16"
      ]
     },
     "execution_count": 13,
     "metadata": {},
     "output_type": "execute_result"
    }
   ],
   "source": [
    "smm_local_minimum(myProblem)"
   ]
  },
  {
   "cell_type": "markdown",
   "metadata": {},
   "source": [
    "#### Minimizer"
   ]
  },
  {
   "cell_type": "code",
   "execution_count": 14,
   "metadata": {},
   "outputs": [
    {
     "data": {
      "text/plain": [
       "3-element Array{Float64,1}:\n",
       " 0.105688\n",
       " 0.893282\n",
       " 1.00093 "
      ]
     },
     "execution_count": 14,
     "metadata": {},
     "output_type": "execute_result"
    }
   ],
   "source": [
    "minimizer = smm_local_minimizer(myProblem)"
   ]
  },
  {
   "cell_type": "markdown",
   "metadata": {},
   "source": [
    "### B. Standard errors\n",
    "\n",
    "See the notebook `examples/exampleLinearModel.ipynb`"
   ]
  },
  {
   "cell_type": "markdown",
   "metadata": {},
   "source": [
    "### C. Slices\n"
   ]
  },
  {
   "cell_type": "code",
   "execution_count": null,
   "metadata": {
    "collapsed": true,
    "scrolled": true
   },
   "outputs": [],
   "source": [
    "Plots.plotly()\n",
    "@time listPlots = smm_slices(myProblem, minimizer, 20)"
   ]
  },
  {
   "cell_type": "markdown",
   "metadata": {},
   "source": [
    "You can combine the several plots created into a single one:"
   ]
  },
  {
   "cell_type": "code",
   "execution_count": null,
   "metadata": {
    "collapsed": true
   },
   "outputs": [],
   "source": [
    "Plots.plot(listPlots[1], listPlots[2], listPlots[3], leg = false)"
   ]
  },
  {
   "cell_type": "markdown",
   "metadata": {},
   "source": [
    "## Debugg"
   ]
  },
  {
   "cell_type": "code",
   "execution_count": null,
   "metadata": {
    "collapsed": true
   },
   "outputs": [],
   "source": [
    "sMMProblem = myProblem;"
   ]
  },
  {
   "cell_type": "code",
   "execution_count": null,
   "metadata": {
    "collapsed": true
   },
   "outputs": [],
   "source": [
    "lower = create_lower_bound(sMMProblem)\n",
    "upper = create_upper_bound(sMMProblem)\n",
    "x0 = [0.287633, 0.879239, 1.03879]"
   ]
  },
  {
   "cell_type": "code",
   "execution_count": null,
   "metadata": {
    "collapsed": true
   },
   "outputs": [],
   "source": [
    "Optim.optimize(sMMProblem.objective_function, x0, lower, upper,\n",
    "                                iterations = sMMProblem.options.maxFuncEvals,\n",
    "                                convert_to_fminbox(sMMProblem.options.localOptimizer))"
   ]
  }
 ],
 "metadata": {
  "kernelspec": {
   "display_name": "Julia 0.6.4",
   "language": "julia",
   "name": "julia-0.6"
  },
  "language_info": {
   "file_extension": ".jl",
   "mimetype": "application/julia",
   "name": "julia",
   "version": "0.6.4"
  }
 },
 "nbformat": 4,
 "nbformat_minor": 2
}
