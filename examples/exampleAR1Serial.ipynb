{
 "cells": [
  {
   "cell_type": "markdown",
   "metadata": {},
   "source": [
    "# Example Notebook\n",
    "\n",
    "This notebook shows the estimation of the parameters of 1-d AR(1) process:\n",
    "\n",
    "$$ z_{t} = \\delta + \\rho z_{t-1} + \\sigma e_{t} $$\n",
    "\n",
    "We know that :\n",
    "* the mean of $\\{z_t\\}$ is $\\frac{\\delta}{1 - \\rho}$\n",
    "* its variance is $\\frac{\\sigma^2}{1 - \\rho^2}$\n",
    "* its first order autocorrelation is $\\rho$\n",
    "\n",
    "The econometrician observes the following empirical moments:\n",
    "* empirical mean of $z_{t} = 1.0$\n",
    "* empirical variance of $z_{t} = 5.0$\n",
    "* empirical autocorrelation of $z_{t} = \\sqrt{0.8}$\n",
    "\n",
    "The SMM estimated values should be very close to:\n",
    "* $\\hat{delta} = 1 - \\rho \\approx 0.1055$\n",
    "* $\\hat{rho} = \\sqrt{0.8} \\approx 0.8944 $\n",
    "* $\\hat{sigma} = \\sqrt{(1.0 - \\rho^2) \\times \\text{empirical variance of } z_t } = 1$\n",
    "\n"
   ]
  },
  {
   "cell_type": "code",
   "execution_count": 1,
   "metadata": {
    "scrolled": true
   },
   "outputs": [],
   "source": [
    "using SMM\n",
    "using Distributions\n",
    "using DataStructures\n",
    "\n",
    "# Because of this issue (https://github.com/JuliaIO/JLD2.jl/issues/107)\n",
    "# you also need to import BlackBoxOptim to save and load\n",
    "#----------------------------------------------------------------------\n",
    "if VERSION > v\"0.6.4\"\n",
    "    using BlackBoxOptim\n",
    "end"
   ]
  },
  {
   "cell_type": "markdown",
   "metadata": {},
   "source": [
    "## Step 1: Initializing a SMMProblem"
   ]
  },
  {
   "cell_type": "code",
   "execution_count": null,
   "metadata": {
    "collapsed": true,
    "scrolled": false
   },
   "outputs": [],
   "source": [
    "myProblem = SMMProblem(options = SMMOptions(maxFuncEvals=1000, saveSteps = 1000, bbOptimizer = :dxnes));"
   ]
  },
  {
   "cell_type": "markdown",
   "metadata": {},
   "source": [
    "## Step 2: Set emprical moments"
   ]
  },
  {
   "cell_type": "code",
   "execution_count": null,
   "metadata": {
    "scrolled": true
   },
   "outputs": [],
   "source": [
    "dictEmpiricalMoments = OrderedDict{String,Array{Float64,1}}()\n",
    "dictEmpiricalMoments[\"mean\"] = [1.0; 1.0]\n",
    "dictEmpiricalMoments[\"variance\"] = [5.0; 5.0]\n",
    "dictEmpiricalMoments[\"autocorr\"] = [sqrt(0.8); sqrt(0.8)]"
   ]
  },
  {
   "cell_type": "code",
   "execution_count": null,
   "metadata": {
    "scrolled": true
   },
   "outputs": [],
   "source": [
    "set_empirical_moments!(myProblem, dictEmpiricalMoments)"
   ]
  },
  {
   "cell_type": "markdown",
   "metadata": {},
   "source": [
    "## Step 3. Set priors"
   ]
  },
  {
   "cell_type": "code",
   "execution_count": null,
   "metadata": {
    "scrolled": true
   },
   "outputs": [],
   "source": [
    "dictPriors = OrderedDict{String,Array{Float64,1}}()\n",
    "dictPriors[\"delta\"] = [0., -5.0, 5.0]\n",
    "dictPriors[\"rho\"] = [0., 0.01, 0.95]\n",
    "dictPriors[\"sigma\"] = [1., 0.01, 2.0]"
   ]
  },
  {
   "cell_type": "markdown",
   "metadata": {},
   "source": [
    "One has to attach priors values the `SMMProblem` we are going to use.\n",
    "This is achieved using the function  `set_priors!()`"
   ]
  },
  {
   "cell_type": "code",
   "execution_count": null,
   "metadata": {
    "scrolled": true
   },
   "outputs": [],
   "source": [
    "set_priors!(myProblem, dictPriors)"
   ]
  },
  {
   "cell_type": "markdown",
   "metadata": {},
   "source": [
    "## Step 3: Specifying the function that generate simulated moments using parameter values\n",
    "\n",
    "This function has two constraints:\n",
    "* it should take as an argument a vector (the vector of parameters)\n",
    "* it should return an OrderedDict containing the same moments as the ones contained in the OrderedDict \n",
    "containing empirical moments (`dictEmpiricalMoments`)\n",
    "\n",
    "In this example, we simulate draws from a mutlivariate normal with unit variance:"
   ]
  },
  {
   "cell_type": "code",
   "execution_count": null,
   "metadata": {},
   "outputs": [],
   "source": [
    "# x[1] corresponds to delta\n",
    "# x[1] corresponds to rho\n",
    "# x[3] corresponds to sigma\n",
    "function functionAR1(x; nbDraws::Int64 = 1000000, burnInPerc::Int64 = 10)\n",
    "\n",
    "    # Draw from standard normal:\n",
    "    #--------------------------\n",
    "    d = Normal()\n",
    "    StdNormalDraws = rand(d, nbDraws)\n",
    "    \n",
    "    # Construct the AR(1) process:\n",
    "    #-----------------------------\n",
    "    seriesAR1 = zeros(StdNormalDraws)\n",
    "    \n",
    "    for t = 2:nbDraws\n",
    "        seriesAR1[t] = x[1] + x[2]*seriesAR1[t-1] + x[3]*StdNormalDraws[t]\n",
    "    end\n",
    "    \n",
    "    # Get rid of the burn-in phase:\n",
    "    #------------------------------\n",
    "    startT = div(nbDraws, burnInPerc)\n",
    "    \n",
    "    # Moments:\n",
    "    #---------\n",
    "    output = OrderedDict{String,Float64}()\n",
    "    output[\"mean\"] = mean(seriesAR1[startT:nbDraws])\n",
    "    output[\"variance\"] = var(seriesAR1[startT:nbDraws])\n",
    "    output[\"autocorr\"] = StatsBase.autocor(seriesAR1[startT:nbDraws], [1])[]\n",
    "\n",
    "    return output\n",
    "end"
   ]
  },
  {
   "cell_type": "code",
   "execution_count": null,
   "metadata": {},
   "outputs": [],
   "source": [
    "functionAR1([1- sqrt(0.8); sqrt(0.8); 1.0])"
   ]
  },
  {
   "cell_type": "code",
   "execution_count": null,
   "metadata": {},
   "outputs": [],
   "source": [
    "set_simulate_empirical_moments!(myProblem, functionAR1)"
   ]
  },
  {
   "cell_type": "markdown",
   "metadata": {},
   "source": [
    "## Step 4. Constructing the objective function"
   ]
  },
  {
   "cell_type": "code",
   "execution_count": null,
   "metadata": {},
   "outputs": [],
   "source": [
    "# Construct the objective function using: \n",
    "#* the function: parameter -> simulated moments\n",
    "#* emprical moments values\n",
    "#* emprical moments weights\n",
    "construct_objective_function!(myProblem)"
   ]
  },
  {
   "cell_type": "markdown",
   "metadata": {},
   "source": [
    "## Step 5. Running the optimization"
   ]
  },
  {
   "cell_type": "code",
   "execution_count": null,
   "metadata": {},
   "outputs": [],
   "source": [
    "# Run the optimization\n",
    "# This function first modifies t.bbSetup\n",
    "# and then modifies t.bbResults\n",
    "@time smmoptimize!(myProblem, verbose = true)"
   ]
  },
  {
   "cell_type": "markdown",
   "metadata": {},
   "source": [
    "## Step 6. Analysing Results\n",
    "\n",
    "### A. Point estimates"
   ]
  },
  {
   "cell_type": "markdown",
   "metadata": {},
   "source": [
    "The parameter value that minimizes the distance between empirical and simulated moments can be accessed using \n",
    "the function `smm_minimizer` "
   ]
  },
  {
   "cell_type": "code",
   "execution_count": null,
   "metadata": {},
   "outputs": [],
   "source": [
    "minimizer = smm_minimizer(myProblem)\n",
    "println(\"Estimated value for delta = $(minimizer[1])\")\n",
    "println(\"Estimated value for rho = $(minimizer[2])\")\n",
    "println(\"Estimated value for sigma = $(minimizer[3])\")"
   ]
  },
  {
   "cell_type": "markdown",
   "metadata": {},
   "source": [
    "### B. Standard errors\n",
    "\n",
    "[WORKINPROGRESS]"
   ]
  },
  {
   "cell_type": "markdown",
   "metadata": {},
   "source": [
    "### C. Slices\n"
   ]
  },
  {
   "cell_type": "code",
   "execution_count": null,
   "metadata": {
    "scrolled": true
   },
   "outputs": [],
   "source": [
    "Plots.plotly()\n",
    "@time listPlots = smm_slices(myProblem, minimizer, 20)"
   ]
  },
  {
   "cell_type": "markdown",
   "metadata": {},
   "source": [
    "You can combine the several plots created into a single one:"
   ]
  },
  {
   "cell_type": "code",
   "execution_count": null,
   "metadata": {
    "scrolled": false
   },
   "outputs": [],
   "source": [
    "Plots.plot(listPlots[1], listPlots[2], listPlots[3], leg = false)"
   ]
  }
 ],
 "metadata": {
  "kernelspec": {
   "display_name": "Julia 0.6.3",
   "language": "julia",
   "name": "julia-0.6"
  },
  "language_info": {
   "file_extension": ".jl",
   "mimetype": "application/julia",
   "name": "julia",
   "version": "0.6.3"
  }
 },
 "nbformat": 4,
 "nbformat_minor": 2
}
